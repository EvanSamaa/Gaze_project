{
 "cells": [
  {
   "cell_type": "code",
   "execution_count": 1,
   "metadata": {},
   "outputs": [
    {
     "name": "stdout",
     "output_type": "stream",
     "text": [
      "Importing the dtw module. When using in academic works please cite:\n",
      "  T. Giorgino. Computing and Visualizing Dynamic Time Warping Alignments in R: The dtw Package.\n",
      "  J. Stat. Soft., doi:10.18637/jss.v031.i07.\n",
      "\n"
     ]
    }
   ],
   "source": [
    "import numpy as np\n",
    "import whisper_timestamped\n",
    "import librosa\n",
    "import python_speech_features as psf\n",
    "import os\n",
    "import json\n",
    "import sys\n",
    "import torch\n",
    "import torch.nn as nn\n",
    "from matplotlib import pyplot as plt\n",
    "import pickle as pkl\n",
    "from scipy.special import softmax\n",
    "from torchmetrics.classification import BinaryF1Score, F1Score\n",
    "from torchmetrics.classification import Accuracy, Precision, Recall\n",
    "from scipy.interpolate import interp1d\n",
    "sys.path.insert(0, '/Users/evanpan/Documents/GitHub/EvansToolBox/Utils')\n",
    "sys.path.insert(0, '/Users/evanpan/Desktop/openpose/python/')\n",
    "sys.path.insert(0, '/scratch/ondemand27/evanpan/EvansToolBox/Utils/')\n",
    "sys.path.insert(0, '/scratch/ondemand27/evanpan/Gaze_project/')\n",
    "\n",
    "from Signal_processing_utils import intensity_from_signal\n",
    "from prototypes.Gaze_aversion_prior.Evan_model import Aversion111Prior\n",
    "from Dataset_Util.dataloader import Aversion_SelfTap111"
   ]
  },
  {
   "cell_type": "code",
   "execution_count": 41,
   "metadata": {},
   "outputs": [
    {
     "name": "stdout",
     "output_type": "stream",
     "text": [
      "The autoreload extension is already loaded. To reload it, use:\n",
      "  %reload_ext autoreload\n"
     ]
    }
   ],
   "source": [
    "%load_ext autoreload\n",
    "%autoreload 1\n",
    "%aimport prototypes.Gaze_aversion_prior.Evan_model\n",
    "%aimport Signal_processing_utils"
   ]
  },
  {
   "cell_type": "code",
   "execution_count": 3,
   "metadata": {},
   "outputs": [],
   "source": [
    "class SentenceBaseline_GazePredictionModel(nn.Module):\n",
    "    def __init__(self, config):\n",
    "        torch.set_default_tensor_type(torch.DoubleTensor)\n",
    "        # initialize model\n",
    "        super(SentenceBaseline_GazePredictionModel, self).__init__()\n",
    "        self.device = torch.device('cuda' if torch.cuda.is_available() else 'cpu')\n",
    "        self.activation = nn.Sigmoid()\n",
    "        self.num_layers = config[\"num_layers\"]\n",
    "        self.config = config\n",
    "        # the feature of each speaker are encoded with a separate Linear Layer\n",
    "        self.input_layer_self = nn.Linear(int(config[\"input_dims\"]/2 - 6), config[\"input_layer_out\"])\n",
    "        self.input_layer_other = nn.Linear(int(config[\"input_dims\"]/2 - 6), config[\"input_layer_out\"])\n",
    "        \n",
    "        # the Recurrent Layer will take care of the next step\n",
    "        self.lstm_hidden_dims = config[\"lstm_output_feature_size\"]\n",
    "        self.num_lstm_layer = config[\"lstm_layer_num\"]\n",
    "        self.frames_ahead = config[\"frames_ahead\"]\n",
    "        self.frames_behind = config[\"frames_behind\"]\n",
    "        self.lstm = nn.LSTM(2 * (config[\"input_layer_out\"] + 6) * (self.frames_ahead + self.frames_behind + 1), \n",
    "                            self.lstm_hidden_dims, \n",
    "                            self.num_lstm_layer, \n",
    "                            batch_first=True)        \n",
    "        # output layers\n",
    "        self.output_layer_1 = nn.Linear(self.lstm_hidden_dims, config[\"output_layer_1_hidden\"])\n",
    "        self.output_layer_1 = nn.Sequential(self.output_layer_1, self.activation, nn.Dropout(self.config[\"dropout\"]))\n",
    "        self.output_layer_2 = nn.Linear(config[\"output_layer_1_hidden\"], config[\"output_layer_2_hidden\"])\n",
    "        self.output_layer_2 = nn.Sequential(self.output_layer_2, self.activation, nn.Dropout(self.config[\"dropout\"]))\n",
    "        self.output_layer_3 = nn.Linear(config[\"output_layer_2_hidden\"], config[\"output_layer_3_hidden\"])\n",
    "        self.output_layer_3 = nn.Sequential(self.output_layer_3)\n",
    "\n",
    "        # audio_filler = torch.tensor([[[-36.04365338911715,0.0,0.0,0.0,0.0,0.0,-3.432169450445466e-14,0.0,0.0,0.0,9.64028691651994e-15,0.0,0.0,-36.04365338911715,-36.04365338911715,-36.04365338911715,-36.04365338911715,-36.04365338911715,-36.04365338911715,-36.04365338911715,-36.04365338911715,-36.04365338911715,-36.04365338911715,-36.04365338911715,-36.04365338911715,-36.04365338911715,-36.04365338911715,-36.04365338911715,-36.04365338911715,-36.04365338911715,-36.04365338911715,-36.04365338911715,-36.04365338911715,-36.04365338911715,-36.04365338911715,-36.04365338911715,-36.04365338911715,-36.04365338911715,-36.04365338911715,-36.04365338911715,-36.04365338911715,-36.04365338911715,-36.04365338911715,-36.04365338911715,-36.04365338911715,-36.04365338911715,-36.04365338911715,-36.04365338911715,-36.04365338911715,-36.04365338911715,-36.04365338911715,-36.04365338911715,-36.04365338911715,-36.04365338911715,-36.04365338911715,-36.04365338911715,-36.04365338911715,-36.04365338911715,-36.04365338911715,-36.04365338911715,-36.04365338911715,-36.04365338911715,-36.04365338911715,-36.04365338911715,-36.04365338911715]]]).to(self.device)\n",
    "        # text_filler = torch.ones([1, 1, 772]).to(self.device) * -15\n",
    "        # text_filler[:, :, -4:] = 0\n",
    "        # self.filler = torch.concat([audio_filler, text_filler], axis=2)\n",
    "    def concate_frames(self, input_feature):\n",
    "        # here I expect the \n",
    "        padding_front = torch.zeros([input_feature.shape[0], self.frames_ahead, input_feature.shape[2]]).to(self.device)\n",
    "        padding_back = torch.zeros([input_feature.shape[0], self.frames_behind, input_feature.shape[2]]).to(self.device)\n",
    "        padded_input_audio = torch.cat([padding_front, input_feature, padding_back], dim=1)\n",
    "        window_audio = []\n",
    "        for i in range(0, input_feature.shape[1]):\n",
    "            window_count = i + self.frames_ahead\n",
    "            current_window = padded_input_audio[:, window_count-self.frames_ahead:window_count+self.frames_behind+1]\n",
    "            s = current_window.shape\n",
    "            current_window = current_window.view((s[0], s[1] * s[2]))\n",
    "            current_window = torch.unsqueeze(current_window, 1)\n",
    "            window_audio.append(current_window)\n",
    "        rtv = torch.cat(window_audio, dim=1)\n",
    "        return rtv\n",
    "    def forward(self, input_feature):\n",
    "        feature_size = int(input_feature.size()[2] / 2)\n",
    "        mod_audio_self = input_feature[:, :, :feature_size]\n",
    "        mod_audio_other = input_feature[:, :, feature_size:]\n",
    "        \n",
    "        text_feature_self = mod_audio_self[:, :, :6]\n",
    "        mod_audio_self = mod_audio_self[:, :, 6:]\n",
    "        text_feature_other = mod_audio_self[:, :, :6]\n",
    "        mod_audio_other = mod_audio_other[:, :, 6:]\n",
    "        x1 = self.activation(self.input_layer_self(mod_audio_self))\n",
    "        x2 = self.activation(self.input_layer_self(mod_audio_other))\n",
    "        x1_windowed = self.concate_frames(x1)\n",
    "        x2_windowed = self.concate_frames(x2)\n",
    "        x_combined = torch.concat([x1_windowed, text_feature_self, x2_windowed, text_feature_other], axis=2)\n",
    "        # here I'm assuming that the input_audio is of proper shape\n",
    "        out, hidden_state = self.lstm(x_combined)\n",
    "        # bn\n",
    "        # x = self.bn(out.permute(0, 2, 1)).permute(0, 2, 1)\n",
    "        x = self.activation(out)\n",
    "        x = self.output_layer_1(x)\n",
    "        x = self.output_layer_2(x)\n",
    "        x = self.output_layer_3(x)\n",
    "        return x\n",
    "    def load_weights(self, pretrained_dict):\n",
    "    #   not_copy = set(['fc.weight', 'fc.bias'])\n",
    "        model_dict = self.state_dict()\n",
    "        pretrained_dict = {k: v for k, v in pretrained_dict.items()}\n",
    "        model_dict.update(pretrained_dict)\n",
    "        self.load_state_dict(model_dict)\n"
   ]
  },
  {
   "attachments": {},
   "cell_type": "markdown",
   "metadata": {},
   "source": [
    "# Get dataset, model configs and etc."
   ]
  },
  {
   "cell_type": "code",
   "execution_count": 4,
   "metadata": {},
   "outputs": [],
   "source": [
    "dataset_location = \"/scratch/ondemand27/evanpan/data/deep_learning_processed_dataset\"\n",
    "shot_dataset_location = \"/scratch/ondemand27/evanpan/data/shot_processed_dataset\"\n",
    "model_save_location = \"/scratch/ondemand27/evanpan/data/Gaze_aversion_models\""
   ]
  },
  {
   "cell_type": "code",
   "execution_count": 5,
   "metadata": {},
   "outputs": [],
   "source": [
    "# do the training test split here:\n",
    "dataset_metadata = \"/scratch/ondemand27/evanpan/data/deep_learning_processed_dataset/video_to_window_metadata.json\"\n",
    "dataset_metadata = json.load(open(dataset_metadata, \"r\"))\n",
    "all_videos = list(dataset_metadata.keys())\n",
    "training_set = []\n",
    "testing_set = []\n",
    "# get the name of the videos (this ensures no contamination because the same shot is split)\n",
    "for i in range(0, len(all_videos)):\n",
    "    if i / len(all_videos) < 0.9:\n",
    "        training_set.append(all_videos[i])\n",
    "    else:\n",
    "        testing_set.append(all_videos[i])"
   ]
  },
  {
   "cell_type": "code",
   "execution_count": 6,
   "metadata": {},
   "outputs": [
    {
     "name": "stderr",
     "output_type": "stream",
     "text": [
      "/usr/bin/nvidia-modprobe: unrecognized option: \"-s\"\n",
      "\n",
      "ERROR: Invalid commandline, please run `/usr/bin/nvidia-modprobe --help`\n",
      "       for usage information.\n",
      "\n",
      "/usr/bin/nvidia-modprobe: unrecognized option: \"-s\"\n",
      "\n",
      "ERROR: Invalid commandline, please run `/usr/bin/nvidia-modprobe --help`\n",
      "       for usage information.\n",
      "\n"
     ]
    },
    {
     "data": {
      "text/plain": [
       "SentenceBaseline_GazePredictionModel(\n",
       "  (activation): Sigmoid()\n",
       "  (input_layer_self): Linear(in_features=71, out_features=16, bias=True)\n",
       "  (input_layer_other): Linear(in_features=71, out_features=16, bias=True)\n",
       "  (lstm): LSTM(44, 256, batch_first=True)\n",
       "  (output_layer_1): Sequential(\n",
       "    (0): Linear(in_features=256, out_features=64, bias=True)\n",
       "    (1): Sigmoid()\n",
       "    (2): Dropout(p=0.1, inplace=False)\n",
       "  )\n",
       "  (output_layer_2): Sequential(\n",
       "    (0): Linear(in_features=64, out_features=64, bias=True)\n",
       "    (1): Sigmoid()\n",
       "    (2): Dropout(p=0.1, inplace=False)\n",
       "  )\n",
       "  (output_layer_3): Sequential(\n",
       "    (0): Linear(in_features=64, out_features=2, bias=True)\n",
       "  )\n",
       ")"
      ]
     },
     "execution_count": 6,
     "metadata": {},
     "output_type": "execute_result"
    }
   ],
   "source": [
    "device = torch.device('cuda' if torch.cuda.is_available() else 'cpu')\n",
    "config = json.load(open(\"/scratch/ondemand27/evanpan/data/Gaze_aversion_models/sentence_and_words/config.json\", \"r\"))\n",
    "# obtain the dataset\n",
    "torch.set_default_tensor_type(torch.DoubleTensor)\n",
    "validation_dataset = Aversion_SelfTap111(dataset_location, testing_set, sentence_and_word_timing=True)\n",
    "train_dataset = Aversion_SelfTap111(dataset_location, training_set, sentence_and_word_timing=True)\n",
    "valid_dataloader = torch.utils.data.DataLoader(validation_dataset, config['batch_size'], True)\n",
    "train_dataloader = torch.utils.data.DataLoader(train_dataset, config['batch_size'], True)\n",
    "model = SentenceBaseline_GazePredictionModel(config)\n",
    "checkpoint_path = \"/scratch/ondemand27/evanpan/data/Gaze_aversion_models/sentence_and_words/best.pt\"\n",
    "pretrained_dict = torch.load(checkpoint_path, map_location=device)\n",
    "model.load_state_dict(pretrained_dict)\n",
    "model.to(device)\n",
    "# train_model(model, config, train_dataloader, valid_dataloader, run_obj, model_save_location)"
   ]
  },
  {
   "attachments": {},
   "cell_type": "markdown",
   "metadata": {},
   "source": [
    "# Evaluate Performance on short clips (10 second clips)"
   ]
  },
  {
   "cell_type": "code",
   "execution_count": 34,
   "metadata": {},
   "outputs": [],
   "source": [
    "f1_score = F1Score(task=\"multiclass\", num_classes=2, average=\"weighted\").to(device)\n",
    "accuracy = Accuracy(task=\"multiclass\", num_classes=2, average=\"weighted\").to(device)\n",
    "precision = Precision(task=\"multiclass\", num_classes=2, average=\"weighted\").to(device)\n",
    "recall = Recall(task=\"multiclass\", num_classes=2, average=\"weighted\").to(device)\n",
    "valid_batch_counter = 0\n",
    "total_valid_f1 = 0\n",
    "total_valid_acc = 0\n",
    "total_valid_precision = 0\n",
    "total_valid_recall = 0\n",
    "\n",
    "for _, (X, Y) in enumerate(valid_dataloader):\n",
    "    with torch.no_grad():\n",
    "        valid_batch_counter += X.size()[0]\n",
    "        X, Y = X.to(device), Y.to(device)\n",
    "        if \"Transformer\" in config[\"model_type\"]:\n",
    "            all_zero = torch.zeros(Y.shape).to(device)\n",
    "            pred = model(X, all_zero)\n",
    "        else:\n",
    "            pred = model(X)\n",
    "        # binary_pred = torch.round(pred)\n",
    "        binary_pred = torch.argmax(pred, axis=2, keepdim=True)\n",
    "        f1_valid = f1_score(binary_pred, torch.unsqueeze(Y, axis=2)).item()\n",
    "        accuracy_valid = accuracy(binary_pred, torch.unsqueeze(Y, axis=2)).item()\n",
    "        recall_valid = recall(binary_pred, torch.unsqueeze(Y, axis=2)).item()\n",
    "        precision_valid = precision(binary_pred, torch.unsqueeze(Y, axis=2)).item()\n",
    "        total_valid_f1 += f1_valid * X.size()[0]\n",
    "        total_valid_acc += accuracy_valid * X.size()[0]\n",
    "        total_valid_precision += precision_valid * X.size()[0]\n",
    "        total_valid_recall += recall_valid * X.size()[0]\n",
    "        del X, Y, pred\n",
    "        torch.cuda.empty_cache()"
   ]
  },
  {
   "cell_type": "code",
   "execution_count": 35,
   "metadata": {},
   "outputs": [
    {
     "name": "stdout",
     "output_type": "stream",
     "text": [
      "The f1 score is 0.9299975216986137\n",
      "The average accuracy is 0.9303207190669313\n",
      "The average precision is 0.9303354582703148\n",
      "The average recall is 0.9303207190669313\n"
     ]
    }
   ],
   "source": [
    "print(\"The f1 score is {}\".format(total_valid_f1/valid_batch_counter))\n",
    "print(\"The average accuracy is {}\".format(total_valid_acc/valid_batch_counter))\n",
    "print(\"The average precision is {}\".format(total_valid_precision/valid_batch_counter))\n",
    "print(\"The average recall is {}\".format(total_valid_recall/valid_batch_counter))"
   ]
  },
  {
   "attachments": {},
   "cell_type": "markdown",
   "metadata": {},
   "source": [
    "### See if uncertainty happens at the start of the video for the 10 second clips"
   ]
  },
  {
   "cell_type": "code",
   "execution_count": 33,
   "metadata": {},
   "outputs": [],
   "source": [
    "location_of_error_validation = []\n",
    "valid_batch_counter = 0\n",
    "for _, (X, Y) in enumerate(valid_dataloader):\n",
    "    with torch.no_grad():\n",
    "        valid_batch_counter += X.size()[0]\n",
    "        X, Y = X.to(device), Y.to(device)\n",
    "        if \"Transformer\" in config[\"model_type\"]:\n",
    "            all_zero = torch.zeros(Y.shape).to(device)\n",
    "            pred = model(X, all_zero)\n",
    "        else:\n",
    "            pred = model(X)\n",
    "        # binary_pred = torch.round(pred)\n",
    "        binary_pred = torch.argmax(pred, axis=2, keepdim=True)\n",
    "        binary_pred = binary_pred.cpu().detach().numpy()\n",
    "        Y = Y.cpu().detach().numpy()\n",
    "        for i in range(0, Y.shape[0]):\n",
    "            for j in range(0, Y.shape[1]):\n",
    "                if Y[i, j] != binary_pred[i, j, 0]:\n",
    "                    location_of_error_validation.append(j/25)\n",
    "        del X, Y, pred\n",
    "        torch.cuda.empty_cache()"
   ]
  },
  {
   "cell_type": "code",
   "execution_count": 26,
   "metadata": {},
   "outputs": [],
   "source": [
    "location_of_error_train = []\n",
    "valid_batch_counter = 0\n",
    "for _, (X, Y) in enumerate(train_dataloader):\n",
    "    with torch.no_grad():\n",
    "        valid_batch_counter += X.size()[0]\n",
    "        X, Y = X.to(device), Y.to(device)\n",
    "        if \"Transformer\" in config[\"model_type\"]:\n",
    "            all_zero = torch.zeros(Y.shape).to(device)\n",
    "            pred = model(X, all_zero)\n",
    "        else:\n",
    "            pred = model(X)\n",
    "        # binary_pred = torch.round(pred)\n",
    "        binary_pred = torch.argmax(pred, axis=2, keepdim=True)\n",
    "        binary_pred = binary_pred.cpu().detach().numpy()\n",
    "        Y = Y.cpu().detach().numpy()\n",
    "        for i in range(0, Y.shape[0]):\n",
    "            for j in range(0, Y.shape[1]):\n",
    "                if Y[i, j] != binary_pred[i, j, 0]:\n",
    "                    location_of_error_train.append(j/25)\n",
    "        del X, Y, pred\n",
    "        torch.cuda.empty_cache()"
   ]
  },
  {
   "cell_type": "code",
   "execution_count": 27,
   "metadata": {},
   "outputs": [],
   "source": [
    "location_of_error_validation = np.array(location_of_error_validation)\n",
    "location_of_error_train = np.array(location_of_error_train)"
   ]
  },
  {
   "cell_type": "code",
   "execution_count": 28,
   "metadata": {},
   "outputs": [
    {
     "data": {
      "text/plain": [
       "<matplotlib.legend.Legend at 0x7fd4101fdde0>"
      ]
     },
     "execution_count": 28,
     "metadata": {},
     "output_type": "execute_result"
    },
    {
     "data": {
      "image/png": "[encoded data removed]",
      "text/plain": [
       "<Figure size 640x480 with 1 Axes>"
      ]
     },
     "metadata": {},
     "output_type": "display_data"
    }
   ],
   "source": [
    "plt.title(\"Proportion of errors in the \")\n",
    "weights = np.ones_like(location_of_error_train)/len(location_of_error_train)\n",
    "plt.hist(location_of_error_train, 50,label = \"training set\", weights=weights)\n",
    "weights = np.ones_like(location_of_error_validation)/len(location_of_error_validation)\n",
    "plt.hist(location_of_error_validation, 50, label = \"validation set\", weights=weights)\n",
    "plt.legend()"
   ]
  },
  {
   "attachments": {},
   "cell_type": "markdown",
   "metadata": {},
   "source": [
    "# Longer Clips Performance"
   ]
  },
  {
   "attachments": {},
   "cell_type": "markdown",
   "metadata": {},
   "source": [
    "## See the model's performance on longer clips (f1, accuracy, precision recall)"
   ]
  },
  {
   "cell_type": "code",
   "execution_count": 7,
   "metadata": {},
   "outputs": [],
   "source": [
    "# do the training test split here:\n",
    "dataset_metadata = os.path.join(*[shot_dataset_location, \"metadata.json\"])\n",
    "dataset_metadata = json.load(open(dataset_metadata, \"r\"))[\"data\"]\n",
    "# all_videos = list(dataset_metadata.keys())\n",
    "training_set = []\n",
    "testing_set = []\n",
    "# get the name of the videos (this ensures no contamination because the same shot is split)\n",
    "for i in range(0, len(dataset_metadata)):\n",
    "    if i / len(dataset_metadata) < 0.9:\n",
    "        training_set.append(i)\n",
    "    else:\n",
    "        testing_set.append(i)"
   ]
  },
  {
   "cell_type": "code",
   "execution_count": 8,
   "metadata": {},
   "outputs": [],
   "source": [
    "k = Aversion111Prior()"
   ]
  },
  {
   "cell_type": "code",
   "execution_count": 9,
   "metadata": {},
   "outputs": [
    {
     "ename": "KeyboardInterrupt",
     "evalue": "",
     "output_type": "error",
     "traceback": [
      "\u001b[0;31m---------------------------------------------------------------------------\u001b[0m",
      "\u001b[0;31mKeyboardInterrupt\u001b[0m                         Traceback (most recent call last)",
      "Cell \u001b[0;32mIn[9], line 16\u001b[0m\n\u001b[1;32m     13\u001b[0m \u001b[39mfor\u001b[39;00m i \u001b[39min\u001b[39;00m \u001b[39mrange\u001b[39m(\u001b[39m0\u001b[39m, \u001b[39mlen\u001b[39m(training_set)):\n\u001b[1;32m     14\u001b[0m     \u001b[39m# get output\u001b[39;00m\n\u001b[1;32m     15\u001b[0m     input_file_name \u001b[39m=\u001b[39m dataset_metadata[training_set[i]][\u001b[39m\"\u001b[39m\u001b[39mname\u001b[39m\u001b[39m\"\u001b[39m]\n\u001b[0;32m---> 16\u001b[0m     out \u001b[39m=\u001b[39m k\u001b[39m.\u001b[39;49mpredict(temp_folder, input_folder, input_file_name, \u001b[39m0\u001b[39;49m)\n\u001b[1;32m     17\u001b[0m     valid_batch_counter \u001b[39m+\u001b[39m\u001b[39m=\u001b[39m out\u001b[39m.\u001b[39mshape[\u001b[39m0\u001b[39m]\n\u001b[1;32m     18\u001b[0m     \u001b[39m# get gaze data\u001b[39;00m\n",
      "File \u001b[0;32m/scratch/ondemand27/evanpan/Gaze_project/prototypes/Gaze_aversion_prior/Evan_model.py:259\u001b[0m, in \u001b[0;36mAversion111Prior.predict\u001b[0;34m(self, temp_folder, input_folder, input_file_name, speaker)\u001b[0m\n\u001b[1;32m    257\u001b[0m torch\u001b[39m.\u001b[39mset_default_tensor_type(torch\u001b[39m.\u001b[39mDoubleTensor)\n\u001b[1;32m    258\u001b[0m X \u001b[39m=\u001b[39m torch\u001b[39m.\u001b[39mfrom_numpy(np\u001b[39m.\u001b[39mexpand_dims(np\u001b[39m.\u001b[39mload(processed_input_vector_self_path), axis\u001b[39m=\u001b[39m\u001b[39m0\u001b[39m))\u001b[39m.\u001b[39mto(\u001b[39mself\u001b[39m\u001b[39m.\u001b[39mdevice)\n\u001b[0;32m--> 259\u001b[0m out \u001b[39m=\u001b[39m \u001b[39mself\u001b[39;49m\u001b[39m.\u001b[39;49mmodel(X)[\u001b[39m0\u001b[39m]\u001b[39m.\u001b[39mcpu()\u001b[39m.\u001b[39mdetach()\u001b[39m.\u001b[39mnumpy()\n\u001b[1;32m    260\u001b[0m out \u001b[39m=\u001b[39m softmax(out, axis\u001b[39m=\u001b[39m\u001b[39m1\u001b[39m)\n\u001b[1;32m    261\u001b[0m \u001b[39mreturn\u001b[39;00m out\n",
      "File \u001b[0;32m/scratch/ondemand27/evanpan/conda_env/.conda/envs/jaligaze/lib/python3.10/site-packages/torch/nn/modules/module.py:1501\u001b[0m, in \u001b[0;36mModule._call_impl\u001b[0;34m(self, *args, **kwargs)\u001b[0m\n\u001b[1;32m   1496\u001b[0m \u001b[39m# If we don't have any hooks, we want to skip the rest of the logic in\u001b[39;00m\n\u001b[1;32m   1497\u001b[0m \u001b[39m# this function, and just call forward.\u001b[39;00m\n\u001b[1;32m   1498\u001b[0m \u001b[39mif\u001b[39;00m \u001b[39mnot\u001b[39;00m (\u001b[39mself\u001b[39m\u001b[39m.\u001b[39m_backward_hooks \u001b[39mor\u001b[39;00m \u001b[39mself\u001b[39m\u001b[39m.\u001b[39m_backward_pre_hooks \u001b[39mor\u001b[39;00m \u001b[39mself\u001b[39m\u001b[39m.\u001b[39m_forward_hooks \u001b[39mor\u001b[39;00m \u001b[39mself\u001b[39m\u001b[39m.\u001b[39m_forward_pre_hooks\n\u001b[1;32m   1499\u001b[0m         \u001b[39mor\u001b[39;00m _global_backward_pre_hooks \u001b[39mor\u001b[39;00m _global_backward_hooks\n\u001b[1;32m   1500\u001b[0m         \u001b[39mor\u001b[39;00m _global_forward_hooks \u001b[39mor\u001b[39;00m _global_forward_pre_hooks):\n\u001b[0;32m-> 1501\u001b[0m     \u001b[39mreturn\u001b[39;00m forward_call(\u001b[39m*\u001b[39;49margs, \u001b[39m*\u001b[39;49m\u001b[39m*\u001b[39;49mkwargs)\n\u001b[1;32m   1502\u001b[0m \u001b[39m# Do not call functions when jit is used\u001b[39;00m\n\u001b[1;32m   1503\u001b[0m full_backward_hooks, non_full_backward_hooks \u001b[39m=\u001b[39m [], []\n",
      "File \u001b[0;32m/scratch/ondemand27/evanpan/Gaze_project/prototypes/Gaze_aversion_prior/Evan_model.py:161\u001b[0m, in \u001b[0;36mSentenceBaseline_GazePredictionModel.forward\u001b[0;34m(self, input_feature)\u001b[0m\n\u001b[1;32m    159\u001b[0m x1 \u001b[39m=\u001b[39m \u001b[39mself\u001b[39m\u001b[39m.\u001b[39mactivation(\u001b[39mself\u001b[39m\u001b[39m.\u001b[39minput_layer_self(mod_audio_self))\n\u001b[1;32m    160\u001b[0m x2 \u001b[39m=\u001b[39m \u001b[39mself\u001b[39m\u001b[39m.\u001b[39mactivation(\u001b[39mself\u001b[39m\u001b[39m.\u001b[39minput_layer_self(mod_audio_other))\n\u001b[0;32m--> 161\u001b[0m x1_windowed \u001b[39m=\u001b[39m \u001b[39mself\u001b[39;49m\u001b[39m.\u001b[39;49mconcate_frames(x1)\n\u001b[1;32m    162\u001b[0m x2_windowed \u001b[39m=\u001b[39m \u001b[39mself\u001b[39m\u001b[39m.\u001b[39mconcate_frames(x2)\n\u001b[1;32m    163\u001b[0m x_combined \u001b[39m=\u001b[39m torch\u001b[39m.\u001b[39mconcat([x1_windowed, text_feature_self, x2_windowed, text_feature_other], axis\u001b[39m=\u001b[39m\u001b[39m2\u001b[39m)\n",
      "File \u001b[0;32m/scratch/ondemand27/evanpan/Gaze_project/prototypes/Gaze_aversion_prior/Evan_model.py:145\u001b[0m, in \u001b[0;36mSentenceBaseline_GazePredictionModel.concate_frames\u001b[0;34m(self, input_feature)\u001b[0m\n\u001b[1;32m    143\u001b[0m current_window \u001b[39m=\u001b[39m padded_input_audio[:, window_count\u001b[39m-\u001b[39m\u001b[39mself\u001b[39m\u001b[39m.\u001b[39mframes_ahead:window_count\u001b[39m+\u001b[39m\u001b[39mself\u001b[39m\u001b[39m.\u001b[39mframes_behind\u001b[39m+\u001b[39m\u001b[39m1\u001b[39m]\n\u001b[1;32m    144\u001b[0m s \u001b[39m=\u001b[39m current_window\u001b[39m.\u001b[39mshape\n\u001b[0;32m--> 145\u001b[0m current_window \u001b[39m=\u001b[39m current_window\u001b[39m.\u001b[39;49mview((s[\u001b[39m0\u001b[39;49m], s[\u001b[39m1\u001b[39;49m] \u001b[39m*\u001b[39;49m s[\u001b[39m2\u001b[39;49m]))\n\u001b[1;32m    146\u001b[0m current_window \u001b[39m=\u001b[39m torch\u001b[39m.\u001b[39munsqueeze(current_window, \u001b[39m1\u001b[39m)\n\u001b[1;32m    147\u001b[0m window_audio\u001b[39m.\u001b[39mappend(current_window)\n",
      "\u001b[0;31mKeyboardInterrupt\u001b[0m: "
     ]
    }
   ],
   "source": [
    "input_folder = \"/scratch/ondemand27/evanpan/data/shot_processed_dataset\"\n",
    "temp_folder = \"/scratch/ondemand27/evanpan/data/temp\"\n",
    "# this will probably take forever to run in the first time (40 minutes ish)\n",
    "f1_score = F1Score(task=\"multiclass\", num_classes=2, average=\"weighted\").to(device)\n",
    "accuracy = Accuracy(task=\"multiclass\", num_classes=2, average=\"weighted\").to(device)\n",
    "precision = Precision(task=\"multiclass\", num_classes=2, average=\"weighted\").to(device)\n",
    "recall = Recall(task=\"multiclass\", num_classes=2, average=\"weighted\").to(device)\n",
    "valid_batch_counter = 0\n",
    "total_valid_f1 = 0\n",
    "total_valid_acc = 0\n",
    "total_valid_precision = 0\n",
    "total_valid_recall = 0\n",
    "for i in range(0, len(training_set)):\n",
    "    # get output\n",
    "    input_file_name = dataset_metadata[training_set[i]][\"name\"]\n",
    "    out = k.predict(temp_folder, input_folder, input_file_name, 0)\n",
    "    valid_batch_counter += out.shape[0]\n",
    "    # get gaze data\n",
    "    gaze_data_path = os.path.join(input_folder, \"aversion_label\", input_file_name+\".pkl\")\n",
    "    gaze_label = pkl.load(open(gaze_data_path, \"rb\"))\n",
    "    gaze_ts = np.arange(0, len(gaze_label))/dataset_metadata[training_set[i]][\"fps\"]\n",
    "    target_ts = np.arange(0, out.shape[0])/25\n",
    "    gaze_label_interp = interp1d(gaze_ts, gaze_label, bounds_error=False, kind='nearest', axis=0, fill_value=\"extrapolate\")\n",
    "    gaze_label_target = gaze_label_interp(target_ts)\n",
    "    out = np.where(out >= 0.5, 1, 0)[:, 1]\n",
    "    out = np.expand_dims(out, 0)\n",
    "    gaze_label_target = np.expand_dims(gaze_label_target, 0)\n",
    "    # gaze_label_target = np.expand_dims(gaze_label_target, axis=1)\n",
    "    f1_valid = f1_score(torch.from_numpy(out).type('torch.FloatTensor').to(device), torch.from_numpy(gaze_label_target).to(device))\n",
    "    accuracy_valid = accuracy(torch.from_numpy(out).type('torch.FloatTensor').to(device), torch.from_numpy(gaze_label_target).to(device)).item()\n",
    "    recall_valid = recall(torch.from_numpy(out).type('torch.FloatTensor').to(device), torch.from_numpy(gaze_label_target).to(device)).item()\n",
    "    precision_valid = precision(torch.from_numpy(out).type('torch.FloatTensor').to(device), torch.from_numpy(gaze_label_target).to(device)).item()\n",
    "    total_valid_f1 += f1_valid * out.shape[1]\n",
    "    total_valid_acc += accuracy_valid * out.shape[1]\n",
    "    total_valid_precision += precision_valid * out.shape[1]\n",
    "    total_valid_recall += recall_valid * out.shape[1]\n",
    "\n"
   ]
  },
  {
   "cell_type": "code",
   "execution_count": 18,
   "metadata": {},
   "outputs": [
    {
     "name": "stdout",
     "output_type": "stream",
     "text": [
      "The f1 score is 0.1127763485385685\n",
      "The average accuracy is 0.11187833369216435\n",
      "The average precision is 0.11642149720132305\n",
      "The average recall is 0.11187833369216435\n"
     ]
    }
   ],
   "source": [
    "print(\"The f1 score is {}\".format(total_valid_f1/valid_batch_counter))\n",
    "print(\"The average accuracy is {}\".format(total_valid_acc/valid_batch_counter))\n",
    "print(\"The average precision is {}\".format(total_valid_precision/valid_batch_counter))\n",
    "print(\"The average recall is {}\".format(total_valid_recall/valid_batch_counter))"
   ]
  },
  {
   "attachments": {},
   "cell_type": "markdown",
   "metadata": {},
   "source": [
    "## See this distribution of errors"
   ]
  },
  {
   "cell_type": "code",
   "execution_count": 10,
   "metadata": {},
   "outputs": [],
   "source": [
    "input_folder = \"/scratch/ondemand27/evanpan/data/shot_processed_dataset\"\n",
    "temp_folder = \"/scratch/ondemand27/evanpan/data/temp\"\n",
    "# this will probably take forever to run in the first time (40 minutes ish)\n",
    "error_distribution_in_time = []\n",
    "for i in range(0, len(training_set)):\n",
    "    # get output\n",
    "    input_file_name = dataset_metadata[training_set[i]][\"name\"]\n",
    "    out = k.predict(temp_folder, input_folder, input_file_name, 0)\n",
    "    valid_batch_counter += out.shape[0]\n",
    "    # get gaze data\n",
    "    gaze_data_path = os.path.join(input_folder, \"aversion_label\", input_file_name+\".pkl\")\n",
    "    gaze_label = pkl.load(open(gaze_data_path, \"rb\"))\n",
    "    gaze_ts = np.arange(0, len(gaze_label))/dataset_metadata[training_set[i]][\"fps\"]\n",
    "    target_ts = np.arange(0, out.shape[0])/25\n",
    "    gaze_label_interp = interp1d(gaze_ts, gaze_label, bounds_error=False, kind='nearest', axis=0, fill_value=\"extrapolate\")\n",
    "    gaze_label_target = gaze_label_interp(target_ts)\n",
    "    out = np.where(out[:, 1] >= 0.5, 1, 0)\n",
    "    for i in range(0, out.shape[0]):\n",
    "        if out[i] != gaze_label_target[i]:\n",
    "            error_distribution_in_time.append(i/25)\n",
    "\n",
    "\n"
   ]
  },
  {
   "cell_type": "code",
   "execution_count": 11,
   "metadata": {},
   "outputs": [
    {
     "name": "stderr",
     "output_type": "stream",
     "text": [
      "100%|██████████| 2358/2358 [00:02<00:00, 1017.77frames/s]\n",
      "100%|██████████| 14332/14332 [00:08<00:00, 1630.80frames/s]\n",
      "100%|██████████| 3146/3146 [00:02<00:00, 1509.11frames/s]\n",
      "100%|██████████| 162/162 [00:00<00:00, 798.90frames/s]\n",
      "100%|██████████| 968/968 [00:00<00:00, 1789.89frames/s]\n",
      "100%|██████████| 268/268 [00:00<00:00, 1632.69frames/s]\n",
      "100%|██████████| 759/759 [00:00<00:00, 1373.75frames/s]\n",
      "100%|██████████| 328/328 [00:00<00:00, 1549.79frames/s]\n",
      "100%|██████████| 5148/5148 [00:03<00:00, 1715.15frames/s]\n",
      "100%|██████████| 4239/4239 [00:02<00:00, 1520.92frames/s]\n",
      "100%|██████████| 104/104 [00:00<00:00, 704.85frames/s]\n",
      "100%|██████████| 224/224 [00:00<00:00, 729.25frames/s]\n",
      "100%|██████████| 1011/1011 [00:00<00:00, 7546.28frames/s]\n",
      "100%|██████████| 424/424 [00:00<00:00, 1935.23frames/s]\n",
      "100%|██████████| 1101/1101 [00:00<00:00, 8245.74frames/s]\n",
      "100%|██████████| 1017/1017 [00:00<00:00, 1467.58frames/s]\n",
      "100%|██████████| 643/643 [00:00<00:00, 1767.45frames/s]\n",
      "100%|██████████| 130/130 [00:00<00:00, 786.70frames/s]\n",
      "100%|██████████| 9604/9604 [00:05<00:00, 1753.53frames/s]\n",
      "100%|██████████| 685/685 [00:00<00:00, 4165.77frames/s]\n",
      "100%|██████████| 4279/4279 [00:02<00:00, 1450.55frames/s]\n",
      "100%|██████████| 14017/14017 [00:07<00:00, 1763.67frames/s]\n",
      "100%|██████████| 707/707 [00:00<00:00, 1722.28frames/s]\n",
      "100%|██████████| 6176/6176 [00:03<00:00, 1682.83frames/s]\n",
      "100%|██████████| 8270/8270 [00:06<00:00, 1332.00frames/s]\n",
      "100%|██████████| 7273/7273 [00:03<00:00, 1883.77frames/s]\n",
      "100%|██████████| 19174/19174 [00:09<00:00, 1969.14frames/s]\n",
      "100%|██████████| 5736/5736 [00:03<00:00, 1600.08frames/s]\n",
      "100%|██████████| 4744/4744 [00:04<00:00, 1168.85frames/s]\n",
      "  0%|          | 0/257 [00:00<?, ?frames/s]\n",
      "100%|██████████| 5175/5175 [00:04<00:00, 1282.79frames/s]\n",
      "100%|██████████| 4060/4060 [00:11<00:00, 353.42frames/s] \n",
      "100%|██████████| 4621/4621 [00:03<00:00, 1405.11frames/s]\n",
      "100%|██████████| 3729/3729 [00:01<00:00, 2060.65frames/s]\n",
      "100%|██████████| 7763/7763 [00:07<00:00, 1104.22frames/s]\n",
      "100%|██████████| 5191/5191 [00:03<00:00, 1437.94frames/s]\n"
     ]
    }
   ],
   "source": [
    "error_distribution_in_time_validation = []\n",
    "for i in range(0, len(testing_set)):\n",
    "    # get output\n",
    "    input_file_name = dataset_metadata[testing_set[i]][\"name\"]\n",
    "    out = k.predict(temp_folder, input_folder, input_file_name, 0)\n",
    "    valid_batch_counter += out.shape[0]\n",
    "    # get gaze data\n",
    "    gaze_data_path = os.path.join(input_folder, \"aversion_label\", input_file_name+\".pkl\")\n",
    "    gaze_label = pkl.load(open(gaze_data_path, \"rb\"))\n",
    "    gaze_ts = np.arange(0, len(gaze_label))/dataset_metadata[testing_set[i]][\"fps\"]\n",
    "    target_ts = np.arange(0, out.shape[0])/25\n",
    "    gaze_label_interp = interp1d(gaze_ts, gaze_label, bounds_error=False, kind='nearest', axis=0, fill_value=\"extrapolate\")\n",
    "    gaze_label_target = gaze_label_interp(target_ts)\n",
    "    out = np.where(out[:, 1] >= 0.5, 1, 0)\n",
    "    for i in range(0, out.shape[0]):\n",
    "        if out[i] != gaze_label_target[i]:\n",
    "            error_distribution_in_time_validation.append(i/25)"
   ]
  },
  {
   "cell_type": "code",
   "execution_count": 14,
   "metadata": {},
   "outputs": [
    {
     "data": {
      "text/plain": [
       "<matplotlib.legend.Legend at 0x7f04b98e9bd0>"
      ]
     },
     "execution_count": 14,
     "metadata": {},
     "output_type": "execute_result"
    },
    {
     "data": {
      "image/png": "[encoded data removed]",
      "text/plain": [
       "<Figure size 640x480 with 1 Axes>"
      ]
     },
     "metadata": {},
     "output_type": "display_data"
    }
   ],
   "source": [
    "plt.title(\"Proportion of errors over time\")\n",
    "weights = np.ones_like(error_distribution_in_time)/len(error_distribution_in_time)\n",
    "plt.hist(error_distribution_in_time, 100,label = \"training\", weights=weights)\n",
    "weights = np.ones_like(error_distribution_in_time_validation)/len(error_distribution_in_time_validation)\n",
    "plt.hist(error_distribution_in_time_validation, 100,label = \"validation\", weights=weights)\n",
    "plt.legend()\n"
   ]
  },
  {
   "attachments": {},
   "cell_type": "markdown",
   "metadata": {},
   "source": [
    "## See if a Divide and conquer strategy would improve the result"
   ]
  },
  {
   "cell_type": "code",
   "execution_count": 32,
   "metadata": {},
   "outputs": [],
   "source": [
    "input_folder = \"/scratch/ondemand27/evanpan/data/shot_processed_dataset\"\n",
    "temp_folder = \"/scratch/ondemand27/evanpan/data/temp\"\n",
    "# this will probably take forever to run in the first time (40 minutes ish)\n",
    "f1_score = F1Score(task=\"multiclass\", num_classes=2, average=\"weighted\").to(device)\n",
    "accuracy = Accuracy(task=\"multiclass\", num_classes=2, average=\"weighted\").to(device)\n",
    "precision = Precision(task=\"multiclass\", num_classes=2, average=\"weighted\").to(device)\n",
    "recall = Recall(task=\"multiclass\", num_classes=2, average=\"weighted\").to(device)\n",
    "valid_batch_counter = 0\n",
    "total_valid_f1 = 0\n",
    "total_valid_acc = 0\n",
    "total_valid_precision = 0\n",
    "total_valid_recall = 0\n",
    "k = Aversion111Prior()\n",
    "for i in range(0, len(training_set)):\n",
    "    # get output\n",
    "    input_file_name = dataset_metadata[training_set[i]][\"name\"]\n",
    "    out = k.predict(temp_folder, input_folder, input_file_name, 0, divide_and_conquer=True)\n",
    "    valid_batch_counter += out.shape[0]\n",
    "    # get gaze data\n",
    "    gaze_data_path = os.path.join(input_folder, \"aversion_label\", input_file_name+\".pkl\")\n",
    "    gaze_label = pkl.load(open(gaze_data_path, \"rb\"))\n",
    "    gaze_ts = np.arange(0, len(gaze_label))/dataset_metadata[training_set[i]][\"fps\"]\n",
    "    target_ts = np.arange(0, out.shape[0])/25\n",
    "    gaze_label_interp = interp1d(gaze_ts, gaze_label, bounds_error=False, kind='nearest', axis=0, fill_value=\"extrapolate\")\n",
    "    gaze_label_target = gaze_label_interp(target_ts)\n",
    "    out = np.where(out >= 0.5, 1, 0)[:, 1]\n",
    "    out = np.expand_dims(out, 0)\n",
    "    gaze_label_target = np.expand_dims(gaze_label_target, 0)\n",
    "    # gaze_label_target = np.expand_dims(gaze_label_target, axis=1)\n",
    "    f1_valid = f1_score(torch.from_numpy(out).type('torch.FloatTensor').to(device), torch.from_numpy(gaze_label_target).to(device))\n",
    "    accuracy_valid = accuracy(torch.from_numpy(out).type('torch.FloatTensor').to(device), torch.from_numpy(gaze_label_target).to(device)).item()\n",
    "    recall_valid = recall(torch.from_numpy(out).type('torch.FloatTensor').to(device), torch.from_numpy(gaze_label_target).to(device)).item()\n",
    "    precision_valid = precision(torch.from_numpy(out).type('torch.FloatTensor').to(device), torch.from_numpy(gaze_label_target).to(device)).item()\n",
    "    total_valid_f1 += f1_valid * out.shape[1]\n",
    "    total_valid_acc += accuracy_valid * out.shape[1]\n",
    "    total_valid_precision += precision_valid * out.shape[1]\n",
    "    total_valid_recall += recall_valid * out.shape[1]\n",
    "\n"
   ]
  },
  {
   "cell_type": "code",
   "execution_count": 33,
   "metadata": {},
   "outputs": [
    {
     "name": "stdout",
     "output_type": "stream",
     "text": [
      "The f1 score is 0.8054374882069837\n",
      "The average accuracy is 0.7962021562490547\n",
      "The average precision is 0.8429124332480613\n",
      "The average recall is 0.7962021562490547\n"
     ]
    }
   ],
   "source": [
    "print(\"The f1 score is {}\".format(total_valid_f1/valid_batch_counter))\n",
    "print(\"The average accuracy is {}\".format(total_valid_acc/valid_batch_counter))\n",
    "print(\"The average precision is {}\".format(total_valid_precision/valid_batch_counter))\n",
    "print(\"The average recall is {}\".format(total_valid_recall/valid_batch_counter))"
   ]
  },
  {
   "cell_type": "code",
   "execution_count": 34,
   "metadata": {},
   "outputs": [],
   "source": [
    "input_folder = \"/scratch/ondemand27/evanpan/data/shot_processed_dataset\"\n",
    "temp_folder = \"/scratch/ondemand27/evanpan/data/temp\"\n",
    "# this will probably take forever to run in the first time (40 minutes ish)\n",
    "error_distribution_in_time = []\n",
    "for i in range(0, len(training_set)):\n",
    "    # get output\n",
    "    input_file_name = dataset_metadata[training_set[i]][\"name\"]\n",
    "    out = k.predict(temp_folder, input_folder, input_file_name, 0, divide_and_conquer=True)\n",
    "    valid_batch_counter += out.shape[0]\n",
    "    # get gaze data\n",
    "    gaze_data_path = os.path.join(input_folder, \"aversion_label\", input_file_name+\".pkl\")\n",
    "    gaze_label = pkl.load(open(gaze_data_path, \"rb\"))\n",
    "    gaze_ts = np.arange(0, len(gaze_label))/dataset_metadata[training_set[i]][\"fps\"]\n",
    "    target_ts = np.arange(0, out.shape[0])/25\n",
    "    gaze_label_interp = interp1d(gaze_ts, gaze_label, bounds_error=False, kind='nearest', axis=0, fill_value=\"extrapolate\")\n",
    "    gaze_label_target = gaze_label_interp(target_ts)\n",
    "    out = np.where(out[:, 1] >= 0.5, 1, 0)\n",
    "    for i in range(0, out.shape[0]):\n",
    "        if out[i] != gaze_label_target[i]:\n",
    "            error_distribution_in_time.append(i/25)\n",
    "error_distribution_in_time_validation = []\n",
    "for i in range(0, len(testing_set)):\n",
    "    # get output\n",
    "    input_file_name = dataset_metadata[testing_set[i]][\"name\"]\n",
    "    out = k.predict(temp_folder, input_folder, input_file_name, 0, divide_and_conquer=True)\n",
    "    valid_batch_counter += out.shape[0]\n",
    "    # get gaze data\n",
    "    gaze_data_path = os.path.join(input_folder, \"aversion_label\", input_file_name+\".pkl\")\n",
    "    gaze_label = pkl.load(open(gaze_data_path, \"rb\"))\n",
    "    gaze_ts = np.arange(0, len(gaze_label))/dataset_metadata[testing_set[i]][\"fps\"]\n",
    "    target_ts = np.arange(0, out.shape[0])/25\n",
    "    gaze_label_interp = interp1d(gaze_ts, gaze_label, bounds_error=False, kind='nearest', axis=0, fill_value=\"extrapolate\")\n",
    "    gaze_label_target = gaze_label_interp(target_ts)\n",
    "    out = np.where(out[:, 1] >= 0.5, 1, 0)\n",
    "    for i in range(0, out.shape[0]):\n",
    "        if out[i] != gaze_label_target[i]:\n",
    "            error_distribution_in_time_validation.append(i/25)\n",
    "\n"
   ]
  },
  {
   "cell_type": "code",
   "execution_count": 35,
   "metadata": {},
   "outputs": [
    {
     "data": {
      "text/plain": [
       "<matplotlib.legend.Legend at 0x7f04b9d90c70>"
      ]
     },
     "execution_count": 35,
     "metadata": {},
     "output_type": "execute_result"
    },
    {
     "data": {
      "image/png": "[encoded data removed]",
      "text/plain": [
       "<Figure size 640x480 with 1 Axes>"
      ]
     },
     "metadata": {},
     "output_type": "display_data"
    }
   ],
   "source": [
    "plt.title(\"Proportion of errors over time\")\n",
    "weights = np.ones_like(error_distribution_in_time)/len(error_distribution_in_time)\n",
    "plt.hist(error_distribution_in_time, 100,label = \"training\", weights=weights)\n",
    "weights = np.ones_like(error_distribution_in_time_validation)/len(error_distribution_in_time_validation)\n",
    "plt.hist(error_distribution_in_time_validation, 100,label = \"validation\", weights=weights)\n",
    "plt.legend()\n"
   ]
  },
  {
   "attachments": {},
   "cell_type": "markdown",
   "metadata": {},
   "source": [
    "# Evaluate interval statistics"
   ]
  },
  {
   "attachments": {},
   "cell_type": "markdown",
   "metadata": {},
   "source": [
    "### Length of intervals"
   ]
  },
  {
   "cell_type": "code",
   "execution_count": 42,
   "metadata": {},
   "outputs": [],
   "source": [
    "from Signal_processing_utils import get_activity_interval, get_binary_intervals"
   ]
  },
  {
   "cell_type": "code",
   "execution_count": 54,
   "metadata": {},
   "outputs": [],
   "source": [
    "input_folder = \"/scratch/ondemand27/evanpan/data/shot_processed_dataset\"\n",
    "temp_folder = \"/scratch/ondemand27/evanpan/data/temp\"\n",
    "# this will probably take forever to run in the first time (40 minutes ish)\n",
    "length_of_fixation_prediction = []\n",
    "length_of_fixation_dataset = []\n",
    "for i in range(0, len(training_set)):\n",
    "    # get output\n",
    "    input_file_name = dataset_metadata[training_set[i]][\"name\"]\n",
    "    out = k.predict(temp_folder, input_folder, input_file_name, 0)\n",
    "    binary_out = np.where(out>0.5, 1, 0)[:, 1]\n",
    "    out_indexes = np.arange(0, binary_out.shape[0])/25\n",
    "    intervals = get_binary_intervals(binary_out, out_indexes)\n",
    "    for tim in intervals:\n",
    "        length_of_fixation_prediction.append(tim[2] - tim[1])\n",
    "    # get gaze data\n",
    "    gaze_data_path = os.path.join(input_folder, \"aversion_label\", input_file_name+\".pkl\")\n",
    "    gaze_label = pkl.load(open(gaze_data_path, \"rb\"))\n",
    "    gaze_ts = np.arange(0, len(gaze_label))/dataset_metadata[training_set[i]][\"fps\"]\n",
    "    target_ts = np.arange(0, out.shape[0])/25\n",
    "    gaze_label_interp = interp1d(gaze_ts, gaze_label, bounds_error=False, kind='nearest', axis=0, fill_value=\"extrapolate\")\n",
    "    gaze_label_target = gaze_label_interp(target_ts)\n",
    "    # print(i, gaze_label_target.shape, binary_out.shape)\n",
    "    intervals = get_binary_intervals(gaze_label_target, target_ts)\n",
    "    for tim in intervals:\n",
    "        length_of_fixation_dataset.append(tim[2] - tim[1])\n",
    "plt.title(\"Proportion of gaze_fixation_length\")\n",
    "weights = np.ones_like(length_of_fixation_dataset)/len(length_of_fixation_dataset)\n",
    "plt.hist(length_of_fixation_dataset, 100,label = \"dataset\", weights=weights, range=[0, 25])\n",
    "weights = np.ones_like(length_of_fixation_prediction)/len(length_of_fixation_prediction)\n",
    "plt.hist(length_of_fixation_prediction, 100,label = \"prediction\", weights=weights, range=[0, 25], alpha=0.5)\n",
    "plt.legend()\n",
    "\n",
    "\n"
   ]
  },
  {
   "cell_type": "code",
   "execution_count": 60,
   "metadata": {},
   "outputs": [
    {
     "data": {
      "text/plain": [
       "<matplotlib.legend.Legend at 0x7f04b8a84250>"
      ]
     },
     "execution_count": 60,
     "metadata": {},
     "output_type": "execute_result"
    },
    {
     "data": {
      "image/png": "[encoded data removed]",
      "text/plain": [
       "<Figure size 640x480 with 1 Axes>"
      ]
     },
     "metadata": {},
     "output_type": "display_data"
    }
   ],
   "source": [
    "input_folder = \"/scratch/ondemand27/evanpan/data/shot_processed_dataset\"\n",
    "temp_folder = \"/scratch/ondemand27/evanpan/data/temp\"\n",
    "# this will probably take forever to run in the first time (40 minutes ish)\n",
    "length_of_fixation_prediction = []\n",
    "length_of_fixation_dataset = []\n",
    "for i in range(0, len(testing_set)):\n",
    "    # get output\n",
    "    input_file_name = dataset_metadata[testing_set[i]][\"name\"]\n",
    "    out = k.predict(temp_folder, input_folder, input_file_name, 0)\n",
    "    binary_out = np.where(out>0.5, 1, 0)[:, 1]\n",
    "    out_indexes = np.arange(0, binary_out.shape[0])/25\n",
    "    intervals = get_binary_intervals(binary_out, out_indexes)\n",
    "    for tim in intervals:\n",
    "        length_of_fixation_prediction.append(tim[2] - tim[1])\n",
    "    # get gaze data\n",
    "    gaze_data_path = os.path.join(input_folder, \"aversion_label\", input_file_name+\".pkl\")\n",
    "    gaze_label = pkl.load(open(gaze_data_path, \"rb\"))\n",
    "    gaze_ts = np.arange(0, len(gaze_label))/dataset_metadata[testing_set[i]][\"fps\"]\n",
    "    target_ts = np.arange(0, out.shape[0])/25\n",
    "    gaze_label_interp = interp1d(gaze_ts, gaze_label, bounds_error=False, kind='nearest', axis=0, fill_value=\"extrapolate\")\n",
    "    gaze_label_target = gaze_label_interp(target_ts)\n",
    "    # print(i, gaze_label_target.shape, binary_out.shape)\n",
    "    intervals = get_binary_intervals(gaze_label_target, target_ts)\n",
    "    for tim in intervals:\n",
    "        length_of_fixation_dataset.append(tim[2] - tim[1])\n",
    "plt.title(\"Proportion of gaze_fixation_length\")\n",
    "weights = np.ones_like(length_of_fixation_dataset)/len(length_of_fixation_dataset)\n",
    "plt.hist(length_of_fixation_dataset, 100,label = \"dataset\", weights=weights, range=[0, 25])\n",
    "weights = np.ones_like(length_of_fixation_prediction)/len(length_of_fixation_prediction)\n",
    "plt.hist(length_of_fixation_prediction, 100,label = \"prediction\", weights=weights, range=[0, 25], alpha=0.5)\n",
    "plt.legend()\n",
    "\n"
   ]
  },
  {
   "attachments": {},
   "cell_type": "markdown",
   "metadata": {},
   "source": [
    "### Number of intervals"
   ]
  },
  {
   "cell_type": "code",
   "execution_count": null,
   "metadata": {},
   "outputs": [],
   "source": [
    "input_folder = \"/scratch/ondemand27/evanpan/data/shot_processed_dataset\"\n",
    "temp_folder = \"/scratch/ondemand27/evanpan/data/temp\"\n",
    "# this will probably take forever to run in the first time (40 minutes ish)\n",
    "count_of_fixation_prediction = []\n",
    "count_of_fixation_dataset = []\n",
    "for i in range(0, len(training_set)):\n",
    "    # get output\n",
    "    input_file_name = dataset_metadata[training_set[i]][\"name\"]\n",
    "    out = k.predict(temp_folder, input_folder, input_file_name, 0)\n",
    "    binary_out = np.where(out>0.5, 1, 0)[:, 1]\n",
    "    out_indexes = np.arange(0, binary_out.shape[0])/25\n",
    "    intervals = get_binary_intervals(binary_out, out_indexes)\n",
    "    count_of_fixation_prediction.append(len(intervals))\n",
    "    # get gaze data\n",
    "    gaze_data_path = os.path.join(input_folder, \"aversion_label\", input_file_name+\".pkl\")\n",
    "    gaze_label = pkl.load(open(gaze_data_path, \"rb\"))\n",
    "    gaze_ts = np.arange(0, len(gaze_label))/dataset_metadata[training_set[i]][\"fps\"]\n",
    "    target_ts = np.arange(0, out.shape[0])/25\n",
    "    gaze_label_interp = interp1d(gaze_ts, gaze_label, bounds_error=False, kind='nearest', axis=0, fill_value=\"extrapolate\")\n",
    "    gaze_label_target = gaze_label_interp(target_ts)\n",
    "    # print(i, gaze_label_target.shape, binary_out.shape)\n",
    "    intervals = get_binary_intervals(gaze_label_target, target_ts)\n",
    "    count_of_fixation_dataset.append(len(intervals))\n",
    "proportion = []\n",
    "for i in range(0, len(count_of_fixation_dataset)):\n",
    "    proportion.append(count_of_fixation_prediction[i]/count_of_fixation_dataset[i])\n",
    "plt.title(\"Proportion of gaze shifts in \")\n",
    "weights = np.ones_like(proportion)/len(proportion)\n",
    "plt.hist(proportion, 100,label = \"training\", weights=weights, range=[0, 25])\n",
    "plt.legend()\n",
    "\n"
   ]
  },
  {
   "cell_type": "code",
   "execution_count": null,
   "metadata": {},
   "outputs": [],
   "source": []
  }
 ],
 "metadata": {
  "kernelspec": {
   "display_name": "jaligaze",
   "language": "python",
   "name": "python3"
  },
  "language_info": {
   "codemirror_mode": {
    "name": "ipython",
    "version": 3
   },
   "file_extension": ".py",
   "mimetype": "text/x-python",
   "name": "python",
   "nbconvert_exporter": "python",
   "pygments_lexer": "ipython3",
   "version": "3.10.10"
  },
  "orig_nbformat": 4
 },
 "nbformat": 4,
 "nbformat_minor": 2
}
