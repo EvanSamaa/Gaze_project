{
 "cells": [
  {
   "cell_type": "code",
   "execution_count": 6,
   "metadata": {},
   "outputs": [],
   "source": [
    "import json\n",
    "import cv2 as cv\n",
    "import pickle as pkl\n",
    "from typing import Dict, List\n",
    "import numpy as np\n",
    "from matplotlib import pyplot as plt\n",
    "import os, sys\n",
    "import librosa\n",
    "import scipy.stats as ss\n",
    "from scipy import stats, spatial, ndimage\n",
    "\n",
    "sys.path.insert(0, '/Users/evanpan/Documents/GitHub/EvansToolBox/Utils')\n",
    "sys.path.insert(0, '/Users/evanpan/Documents/GitHub/Gaze_project')\n",
    "sys.path.insert(0, \"/Users/evanpan/Documents/GitHub/EvansToolBox/Utils\")\n",
    "\n",
    "from Speech_Data_util import Sentence_word_phone_parser\n",
    "from Signal_processing_utils import intensity_from_signal, pitch_from_signal, sparse_key_smoothing, laplacian_smoothing\n",
    "from prototypes.InputDataStructures import Dietic_Conversation_Gaze_Scene_Info\n",
    "from prototypes.MVP.MVP_static_saliency_list import ObjectBasedFixSaliency\n",
    "from prototypes.MVP.MVP_Aversion_saliency_list import AversionSignalDrivenSaliency, CTSAversionSignalDrivenSaliency\n",
    "from prototypes.MVP.MVP_look_at_point_planner import HabituationBasedPlanner, RandomPlanner, PartnerHabituationPlanner\n",
    "from prototypes.MVP.MVP_eye_head_driver import HeuristicGazeMotionGenerator\n",
    "from prototypes.MVP.MVP_Aversion_saliency_list import Base_Static_Saliency_List\n",
    "from prototypes.EyeCatch.Saccade_model_with_internal_model import *\n",
    "from prototypes.Gaze_aversion_prior.Heuristic_model import *\n",
    "from prototypes.Boccignone2020.Gaze_target_planner import Scavenger_based_planner\n",
    "from prototypes.Boccignone2020.Improved_gaze_target_planner import Scavenger_planner_with_nest, Scavenger_planner_simple \n",
    "from prototypes.JaliNeck.JaliNeck import NeckCurve\n",
    "from prototypes.Gaze_aversion_prior.Ribhav_model import predict_aversion\n",
    "from prototypes.InputDataStructures import AgentInfo, TurnTakingData\n",
    "from prototypes.MVP.MVP_gaze_path_planner import Responsive_planner_simple\n",
    "from Dataset_Util.dataloader import SegmentDataset_SelfTape111\n",
    "import pickle\n",
    "import math\n",
    "from datetime import datetime, timezone\n",
    "import scipy.stats as ss\n",
    "from Signal_processing_utils import interpolate1D, runEuro\n",
    "import numpy as np\n",
    "from scipy.interpolate import interp1d\n",
    "from sklearn.cluster import AffinityPropagation\n",
    "from sklearn.mixture import GaussianMixture"
   ]
  },
  {
   "cell_type": "code",
   "execution_count": 7,
   "metadata": {},
   "outputs": [],
   "source": [
    "%load_ext autoreload\n",
    "%autoreload 1\n",
    "%aimport prototypes.InputDataStructures\n",
    "%aimport Signal_processing_utils\n",
    "%aimport Dataset_Util.dataloader\n",
    "%aimport Speech_Data_util\n",
    "%aimport prototypes.MVP.MVP_static_saliency_list\n",
    "%aimport prototypes.EyeCatch.Saccade_model_with_internal_model\n",
    "%aimport prototypes.InputDataStructures\n",
    "%aimport prototypes.Jin2019.EyeHeadDecomposition\n",
    "%aimport prototypes.Optimization_based_head_eye_seperator.Baseline_optimization\n",
    "%aimport prototypes.Boccignone2020.Improved_gaze_target_planner\n",
    "%aimport prototypes.MVP.MVP_gaze_path_planner\n",
    "%aimport prototypes.JaliNeck.JaliNeck\n"
   ]
  },
  {
   "attachments": {},
   "cell_type": "markdown",
   "metadata": {},
   "source": [
    "# Input Block"
   ]
  },
  {
   "cell_type": "code",
   "execution_count": 9,
   "metadata": {},
   "outputs": [],
   "source": [
    "dataset_location = \"/Volumes/EVAN_DISK/MASC/shot_processed_dataset/\"\n",
    "base_dataset_location = \"/Volumes/EVAN_DISK/MASC/Ribhav_processed_dataset/\""
   ]
  },
  {
   "cell_type": "code",
   "execution_count": 10,
   "metadata": {},
   "outputs": [],
   "source": [
    "output_gaze_path = os.path.join(*[dataset_location, \"gaze\", \"_Emma_ Self Tape (2)_0.pkl\"]) \n",
    "gaze = pkl.load(open(output_gaze_path, \"rb\"))\n",
    "# plt.scatter(gaze[:, 0], gaze[:, 1])"
   ]
  },
  {
   "attachments": {},
   "cell_type": "markdown",
   "metadata": {},
   "source": [
    "# Determine Whether Gaze target is another speaker"
   ]
  },
  {
   "attachments": {},
   "cell_type": "markdown",
   "metadata": {},
   "source": [
    "## Relavent Functions for Clustering"
   ]
  },
  {
   "cell_type": "code",
   "execution_count": 11,
   "metadata": {},
   "outputs": [],
   "source": [
    "def dispersion_filtering(x, y, dispersion_threshold = 6, duraiton_threshold=0.3):\n",
    "    start = 0\n",
    "    window = []\n",
    "    fps = int(np.round(1/(x[1] - x[0])))\n",
    "    duration_threshold_frames = np.ceil(duraiton_threshold * fps)\n",
    "    \n",
    "    def dispersion(arr):\n",
    "        # input is a 2d array\n",
    "        disp = np.max(arr[:, 0]) - np.min(arr[:, 0]) + np.max(arr[:, 1]) - np.min(arr[:, 1])\n",
    "        return disp\n",
    "\n",
    "    fixations = []\n",
    "    fixations_intervals = []\n",
    "    \n",
    "    # while there are still points\n",
    "    while int(start+duration_threshold_frames) < y.shape[0]:\n",
    "        # initialize a window:\n",
    "        window = list(range(int(start), int(start+duration_threshold_frames)))\n",
    "        start = start + duration_threshold_frames\n",
    "        disp = dispersion(y[window])\n",
    "        while disp <= dispersion_threshold:\n",
    "            disp = dispersion(y[window])\n",
    "            if window[-1]+1 < y.shape[0]:\n",
    "                window.append(window[-1]+1)\n",
    "            start = start + 1\n",
    "            if start >= y.shape[0]:\n",
    "                break\n",
    "        # if the current set of points never fit the duration criteria\n",
    "        if len(window) <= duration_threshold_frames:\n",
    "            start = start + 1\n",
    "        # otherwise note it as fixations\n",
    "        else:\n",
    "            centroid = np.mean(y[window], axis=0)\n",
    "            duration = (window[-1] - window[0]) / fps\n",
    "            fixations.append([centroid[0], centroid[1], duration])\n",
    "            fixations_intervals.append([window[0], window[-1]])\n",
    "    fixations = np.array(fixations)\n",
    "    return fixations, fixations_intervals"
   ]
  },
  {
   "cell_type": "code",
   "execution_count": 12,
   "metadata": {},
   "outputs": [],
   "source": [
    "def switch_rate_distance(points, center, radius):\n",
    "    dist = np.linalg.norm(points - center, axis=1)\n",
    "    in_cluster = np.where(dist < radius, 1, 0)\n",
    "    # intracluster distance\n",
    "    total_in = np.sum(in_cluster)\n",
    "    # switch rate (we want to maximize the number of gaze shifts between in cluster and out of cluster)\n",
    "    # the rationale behind this is that gaze shifting outside the cluster \n",
    "    swtich = np.sum(np.abs(dx_dt(in_cluster)))/total_in\n",
    "    rtv = -swtich\n",
    "    return rtv, total_in\n",
    "def intra_cluster_distance(points, center, radius):\n",
    "    dist = np.linalg.norm(points - center, axis=1)\n",
    "    in_cluster = np.where(dist < radius, 1, 0)\n",
    "    # intracluster distance\n",
    "    rtv = np.sum(dist * in_cluster)\n",
    "    total_in = np.sum(in_cluster)\n",
    "    rtv = rtv / total_in\n",
    "    return rtv, total_in\n",
    "def radius_line_search(points, center, min_member, max_iter=7):\n",
    "    center = np.expand_dims(center, axis=0)\n",
    "    radius_max = 20\n",
    "    radius_min = 1\n",
    "    for i in range(0, max_iter):\n",
    "        clustering_goodness_max_r, total_in= switch_rate_distance(points, center, radius_max)\n",
    "        clustering_goodness_min_r, total_in= switch_rate_distance(points, center, radius_min)\n",
    "        if clustering_goodness_max_r <= clustering_goodness_min_r and total_in >= min_member:\n",
    "            radius_max = (radius_max + radius_min)/2\n",
    "        else:\n",
    "            radius_min = (radius_max + radius_min)/2\n",
    "        \n",
    "    return radius_min   \n",
    "def find_gaze_target(fixations, gaze_points, vertical_sensitivity=1):\n",
    "\n",
    "    fixations[:, 1] = fixations[:, 1] * vertical_sensitivity\n",
    "    gaze_points[:, 1] = gaze_points[:, 1] * vertical_sensitivity\n",
    "    if fixations.shape[0] <= 2:\n",
    "        return np.ones((fixations.shape[0], ))\n",
    "\n",
    "    mixture = GaussianMixture(int(np.minimum(8, fixations.shape[0]))).fit(fixations[:, :2], )\n",
    "    mix = mixture.predict_proba(fixations[:, :2])\n",
    "    # get cluster heads\n",
    "    mixture_centers = mixture.means_\n",
    "    # find the index of the most likely target\n",
    "    most_likely_target = np.argmax(np.sum(mix, axis=0))\n",
    "    most_likely_cluster_member_count = np.where(np.argmax(mix, axis=1) == most_likely_target, 1, 0).sum()\n",
    "    # find the most likely look at point\n",
    "    gaze_target = mixture_centers[most_likely_target]\n",
    "    distance_to_target = np.linalg.norm(gaze_points[:, :2] - np.expand_dims(gaze_target, axis=0), axis=1)\n",
    "    # use line search to find an appropriete radious of what to include\n",
    "    radius = radius_line_search(fixations[:, :2], gaze_target, most_likely_cluster_member_count, 7)\n",
    "    looked_at = np.where(distance_to_target < radius, 1, 0)\n",
    "    return looked_at"
   ]
  },
  {
   "attachments": {},
   "cell_type": "markdown",
   "metadata": {},
   "source": [
    "## Visualze with Video"
   ]
  },
  {
   "cell_type": "code",
   "execution_count": 8,
   "metadata": {},
   "outputs": [
    {
     "name": "stdout",
     "output_type": "stream",
     "text": [
      "/Volumes/EVAN_DISK/MASC/Ribhav_processed_dataset/video/Harrison Green self tape reel 2021.mp4\n"
     ]
    },
    {
     "data": {
      "image/png": "[encoded data removed]",
      "text/plain": [
       "<Figure size 640x480 with 1 Axes>"
      ]
     },
     "metadata": {},
     "output_type": "display_data"
    }
   ],
   "source": [
    "dataset = SegmentDataset_SelfTape111(dataset_location)\n",
    "shot_id=8\n",
    "[sr, audio_onscreen, audio_offscreen], [fps, gaze, head, blinks], [file_name, shot_range] = dataset.get_video(shot_id)\n",
    "# Get fixation \n",
    "ts = np.arange(0, gaze.shape[0]) / fps\n",
    "fixations, fixations_intervals = dispersion_filtering(ts, gaze, dispersion_threshold=6, duraiton_threshold=0.2)\n",
    "# get get a time series of fixations (i.e. filtered fixations)\n",
    "fixation_t = np.zeros(gaze.shape)\n",
    "for i in range(0, len(fixations_intervals)):\n",
    "    for k in range(fixations_intervals[i][0], fixations_intervals[i][1]+1):\n",
    "        fixation_t[k] = fixations[i, :2]\n",
    "    if i == 0:\n",
    "        for k in range(0, fixations_intervals[i][1]):\n",
    "            fixation_t[k] = fixations[i, :2]\n",
    "    else:\n",
    "        for k in range(fixations_intervals[i-1][1], fixations_intervals[0][0]):\n",
    "            fixation_t[k] = fixations[i, :2]\n",
    "    if i == (len(fixations_intervals) - 1):\n",
    "        for k in range(fixations_intervals[i][1], len(fixations_intervals)):\n",
    "            fixation_t[k] = fixations[i, :2]\n",
    "# cluster them by the method\n",
    "gaze_clustering = find_gaze_target(fixations, fixation_t[:, :2], 2.5)\n",
    "\n",
    "plt.scatter(fixation_t[:, 0], fixation_t[:, 1], c=gaze_clustering)\n",
    "# load the video\n",
    "video_path = os.path.join(*[base_dataset_location, \"video\", file_name[:-2]+\".mp4\"])\n",
    "output_video_path = \"/Users/evanpan/Desktop/test.mp4\"\n",
    "print(video_path)"
   ]
  },
  {
   "cell_type": "code",
   "execution_count": 9,
   "metadata": {},
   "outputs": [],
   "source": [
    "# Load video\n",
    "cap = cv.VideoCapture(video_path)\n",
    "\n",
    "# Get video properties\n",
    "fps = int(cap.get(cv.CAP_PROP_FPS))\n",
    "frame_width = int(cap.get(cv.CAP_PROP_FRAME_WIDTH))\n",
    "frame_height = int(cap.get(cv.CAP_PROP_FRAME_HEIGHT))\n",
    "\n",
    "# Define font for annotation\n",
    "font = cv.FONT_HERSHEY_SIMPLEX\n",
    "font_scale = 1\n",
    "font_color = (0, 255, 0)\n",
    "line_type = 2\n",
    "\n",
    "# Define array of gaze clustering labels\n",
    "# Define output video file\n",
    "fourcc = cv.VideoWriter_fourcc(*\"mp4v\")\n",
    "out = cv.VideoWriter(output_video_path, fourcc, fps, (frame_width, frame_height))\n",
    "\n",
    "# Loop through video frames\n",
    "frame_count = 0\n",
    "while cap.isOpened():\n",
    "    ret, frame = cap.read()\n",
    "\n",
    "    # Check if end of video\n",
    "    if not ret:\n",
    "        break\n",
    "    # Read frame from video\n",
    "    if frame_count >= shot_range[0] and frame_count < shot_range[1]:\n",
    "        # Add annotation to frame\n",
    "        label = \"direct gaze\"\n",
    "        font_color = (0, 255, 0)\n",
    "        if gaze_clustering[frame_count - shot_range[0]] == 0:\n",
    "            label = \"aversion\"\n",
    "            font_color = (255, 0, 0)\n",
    "        cv.putText(frame, label, (10, 30), font, font_scale, font_color, line_type)\n",
    "\n",
    "        # Write out frame with annotation to output video file\n",
    "        out.write(frame)\n",
    "\n",
    "    # Increment frame count\n",
    "    frame_count += 1\n",
    "\n",
    "# Release video capture and close output file\n",
    "cap.release()\n",
    "out.release()\n",
    "cv.destroyAllWindows()\n"
   ]
  },
  {
   "cell_type": "code",
   "execution_count": null,
   "metadata": {},
   "outputs": [],
   "source": []
  },
  {
   "attachments": {},
   "cell_type": "markdown",
   "metadata": {},
   "source": [
    "## Process Entire dataset"
   ]
  },
  {
   "cell_type": "code",
   "execution_count": 237,
   "metadata": {},
   "outputs": [
    {
     "name": "stdout",
     "output_type": "stream",
     "text": [
      "0\n",
      "1\n"
     ]
    },
    {
     "name": "stderr",
     "output_type": "stream",
     "text": [
      "/var/folders/dj/fb2zmgq93sv7xnbfzqj2n3pm0000gn/T/ipykernel_5032/1015476428.py:8: RuntimeWarning: invalid value encountered in double_scalars\n",
      "  swtich = np.sum(np.abs(dx_dt(in_cluster)))/total_in\n"
     ]
    },
    {
     "name": "stdout",
     "output_type": "stream",
     "text": [
      "2\n",
      "3\n",
      "4\n",
      "5\n",
      "6\n",
      "7\n",
      "8\n",
      "9\n",
      "10\n"
     ]
    },
    {
     "name": "stderr",
     "output_type": "stream",
     "text": [
      "/var/folders/dj/fb2zmgq93sv7xnbfzqj2n3pm0000gn/T/ipykernel_5032/1015476428.py:8: RuntimeWarning: invalid value encountered in double_scalars\n",
      "  swtich = np.sum(np.abs(dx_dt(in_cluster)))/total_in\n",
      "/var/folders/dj/fb2zmgq93sv7xnbfzqj2n3pm0000gn/T/ipykernel_5032/1015476428.py:8: RuntimeWarning: invalid value encountered in double_scalars\n",
      "  swtich = np.sum(np.abs(dx_dt(in_cluster)))/total_in\n"
     ]
    },
    {
     "name": "stdout",
     "output_type": "stream",
     "text": [
      "11\n",
      "12\n",
      "13\n"
     ]
    },
    {
     "name": "stderr",
     "output_type": "stream",
     "text": [
      "/var/folders/dj/fb2zmgq93sv7xnbfzqj2n3pm0000gn/T/ipykernel_5032/1015476428.py:8: RuntimeWarning: invalid value encountered in double_scalars\n",
      "  swtich = np.sum(np.abs(dx_dt(in_cluster)))/total_in\n",
      "/var/folders/dj/fb2zmgq93sv7xnbfzqj2n3pm0000gn/T/ipykernel_5032/1015476428.py:8: RuntimeWarning: invalid value encountered in double_scalars\n",
      "  swtich = np.sum(np.abs(dx_dt(in_cluster)))/total_in\n"
     ]
    },
    {
     "name": "stdout",
     "output_type": "stream",
     "text": [
      "14\n",
      "15\n",
      "16\n",
      "17\n",
      "18\n"
     ]
    },
    {
     "name": "stderr",
     "output_type": "stream",
     "text": [
      "/var/folders/dj/fb2zmgq93sv7xnbfzqj2n3pm0000gn/T/ipykernel_5032/1015476428.py:8: RuntimeWarning: invalid value encountered in double_scalars\n",
      "  swtich = np.sum(np.abs(dx_dt(in_cluster)))/total_in\n"
     ]
    },
    {
     "name": "stdout",
     "output_type": "stream",
     "text": [
      "19\n",
      "20\n",
      "21\n",
      "22\n",
      "23\n",
      "24\n",
      "25\n",
      "26\n",
      "27\n",
      "28\n",
      "29\n"
     ]
    },
    {
     "name": "stderr",
     "output_type": "stream",
     "text": [
      "/var/folders/dj/fb2zmgq93sv7xnbfzqj2n3pm0000gn/T/ipykernel_5032/1015476428.py:8: RuntimeWarning: invalid value encountered in double_scalars\n",
      "  swtich = np.sum(np.abs(dx_dt(in_cluster)))/total_in\n"
     ]
    },
    {
     "name": "stdout",
     "output_type": "stream",
     "text": [
      "30\n",
      "31\n",
      "32\n",
      "33\n"
     ]
    },
    {
     "name": "stderr",
     "output_type": "stream",
     "text": [
      "/var/folders/dj/fb2zmgq93sv7xnbfzqj2n3pm0000gn/T/ipykernel_5032/1015476428.py:8: RuntimeWarning: invalid value encountered in double_scalars\n",
      "  swtich = np.sum(np.abs(dx_dt(in_cluster)))/total_in\n",
      "/var/folders/dj/fb2zmgq93sv7xnbfzqj2n3pm0000gn/T/ipykernel_5032/1015476428.py:8: RuntimeWarning: invalid value encountered in double_scalars\n",
      "  swtich = np.sum(np.abs(dx_dt(in_cluster)))/total_in\n"
     ]
    },
    {
     "name": "stdout",
     "output_type": "stream",
     "text": [
      "34\n",
      "35\n",
      "36\n",
      "37\n",
      "38\n",
      "39\n"
     ]
    },
    {
     "name": "stderr",
     "output_type": "stream",
     "text": [
      "/var/folders/dj/fb2zmgq93sv7xnbfzqj2n3pm0000gn/T/ipykernel_5032/1015476428.py:8: RuntimeWarning: invalid value encountered in double_scalars\n",
      "  swtich = np.sum(np.abs(dx_dt(in_cluster)))/total_in\n"
     ]
    },
    {
     "name": "stdout",
     "output_type": "stream",
     "text": [
      "40\n",
      "41\n",
      "42\n"
     ]
    },
    {
     "name": "stderr",
     "output_type": "stream",
     "text": [
      "/var/folders/dj/fb2zmgq93sv7xnbfzqj2n3pm0000gn/T/ipykernel_5032/1015476428.py:8: RuntimeWarning: invalid value encountered in double_scalars\n",
      "  swtich = np.sum(np.abs(dx_dt(in_cluster)))/total_in\n",
      "/var/folders/dj/fb2zmgq93sv7xnbfzqj2n3pm0000gn/T/ipykernel_5032/1015476428.py:8: RuntimeWarning: invalid value encountered in double_scalars\n",
      "  swtich = np.sum(np.abs(dx_dt(in_cluster)))/total_in\n"
     ]
    },
    {
     "name": "stdout",
     "output_type": "stream",
     "text": [
      "43\n",
      "44\n",
      "45\n",
      "46\n",
      "47\n"
     ]
    },
    {
     "name": "stderr",
     "output_type": "stream",
     "text": [
      "/var/folders/dj/fb2zmgq93sv7xnbfzqj2n3pm0000gn/T/ipykernel_5032/1015476428.py:8: RuntimeWarning: invalid value encountered in double_scalars\n",
      "  swtich = np.sum(np.abs(dx_dt(in_cluster)))/total_in\n",
      "/var/folders/dj/fb2zmgq93sv7xnbfzqj2n3pm0000gn/T/ipykernel_5032/1015476428.py:8: RuntimeWarning: invalid value encountered in double_scalars\n",
      "  swtich = np.sum(np.abs(dx_dt(in_cluster)))/total_in\n"
     ]
    },
    {
     "name": "stdout",
     "output_type": "stream",
     "text": [
      "48\n",
      "49\n",
      "50\n",
      "51\n",
      "52\n",
      "53\n",
      "54\n",
      "55\n",
      "56\n",
      "57\n",
      "58\n",
      "59\n",
      "60\n",
      "61\n",
      "62\n",
      "63\n"
     ]
    },
    {
     "name": "stderr",
     "output_type": "stream",
     "text": [
      "/var/folders/dj/fb2zmgq93sv7xnbfzqj2n3pm0000gn/T/ipykernel_5032/1015476428.py:8: RuntimeWarning: invalid value encountered in double_scalars\n",
      "  swtich = np.sum(np.abs(dx_dt(in_cluster)))/total_in\n"
     ]
    },
    {
     "name": "stdout",
     "output_type": "stream",
     "text": [
      "64\n",
      "65\n",
      "66\n"
     ]
    },
    {
     "name": "stderr",
     "output_type": "stream",
     "text": [
      "/var/folders/dj/fb2zmgq93sv7xnbfzqj2n3pm0000gn/T/ipykernel_5032/1015476428.py:8: RuntimeWarning: invalid value encountered in double_scalars\n",
      "  swtich = np.sum(np.abs(dx_dt(in_cluster)))/total_in\n",
      "/var/folders/dj/fb2zmgq93sv7xnbfzqj2n3pm0000gn/T/ipykernel_5032/1015476428.py:8: RuntimeWarning: invalid value encountered in double_scalars\n",
      "  swtich = np.sum(np.abs(dx_dt(in_cluster)))/total_in\n"
     ]
    },
    {
     "name": "stdout",
     "output_type": "stream",
     "text": [
      "67\n",
      "68\n",
      "69\n",
      "70\n",
      "71\n",
      "72\n",
      "73\n",
      "74\n",
      "75\n",
      "76\n"
     ]
    },
    {
     "name": "stderr",
     "output_type": "stream",
     "text": [
      "/var/folders/dj/fb2zmgq93sv7xnbfzqj2n3pm0000gn/T/ipykernel_5032/1015476428.py:8: RuntimeWarning: invalid value encountered in double_scalars\n",
      "  swtich = np.sum(np.abs(dx_dt(in_cluster)))/total_in\n"
     ]
    },
    {
     "name": "stdout",
     "output_type": "stream",
     "text": [
      "77\n",
      "78\n",
      "79\n",
      "80\n",
      "81\n",
      "82\n"
     ]
    },
    {
     "name": "stderr",
     "output_type": "stream",
     "text": [
      "/var/folders/dj/fb2zmgq93sv7xnbfzqj2n3pm0000gn/T/ipykernel_5032/1015476428.py:8: RuntimeWarning: invalid value encountered in double_scalars\n",
      "  swtich = np.sum(np.abs(dx_dt(in_cluster)))/total_in\n",
      "/var/folders/dj/fb2zmgq93sv7xnbfzqj2n3pm0000gn/T/ipykernel_5032/1015476428.py:8: RuntimeWarning: invalid value encountered in double_scalars\n",
      "  swtich = np.sum(np.abs(dx_dt(in_cluster)))/total_in\n"
     ]
    },
    {
     "name": "stdout",
     "output_type": "stream",
     "text": [
      "83\n",
      "84\n",
      "85\n",
      "86\n",
      "87\n"
     ]
    },
    {
     "name": "stderr",
     "output_type": "stream",
     "text": [
      "/var/folders/dj/fb2zmgq93sv7xnbfzqj2n3pm0000gn/T/ipykernel_5032/1015476428.py:8: RuntimeWarning: invalid value encountered in double_scalars\n",
      "  swtich = np.sum(np.abs(dx_dt(in_cluster)))/total_in\n"
     ]
    },
    {
     "name": "stdout",
     "output_type": "stream",
     "text": [
      "88\n",
      "89\n",
      "90\n",
      "91\n",
      "92\n",
      "93\n",
      "94\n",
      "95\n",
      "96\n",
      "97\n",
      "98\n"
     ]
    },
    {
     "name": "stderr",
     "output_type": "stream",
     "text": [
      "/var/folders/dj/fb2zmgq93sv7xnbfzqj2n3pm0000gn/T/ipykernel_5032/1015476428.py:8: RuntimeWarning: invalid value encountered in double_scalars\n",
      "  swtich = np.sum(np.abs(dx_dt(in_cluster)))/total_in\n",
      "/var/folders/dj/fb2zmgq93sv7xnbfzqj2n3pm0000gn/T/ipykernel_5032/1015476428.py:8: RuntimeWarning: invalid value encountered in double_scalars\n",
      "  swtich = np.sum(np.abs(dx_dt(in_cluster)))/total_in\n",
      "/var/folders/dj/fb2zmgq93sv7xnbfzqj2n3pm0000gn/T/ipykernel_5032/1015476428.py:8: RuntimeWarning: invalid value encountered in double_scalars\n",
      "  swtich = np.sum(np.abs(dx_dt(in_cluster)))/total_in\n",
      "/var/folders/dj/fb2zmgq93sv7xnbfzqj2n3pm0000gn/T/ipykernel_5032/1015476428.py:8: RuntimeWarning: invalid value encountered in double_scalars\n",
      "  swtich = np.sum(np.abs(dx_dt(in_cluster)))/total_in\n"
     ]
    },
    {
     "name": "stdout",
     "output_type": "stream",
     "text": [
      "99\n",
      "100\n",
      "101\n",
      "102\n",
      "103\n",
      "104\n"
     ]
    },
    {
     "name": "stderr",
     "output_type": "stream",
     "text": [
      "/var/folders/dj/fb2zmgq93sv7xnbfzqj2n3pm0000gn/T/ipykernel_5032/1015476428.py:8: RuntimeWarning: invalid value encountered in double_scalars\n",
      "  swtich = np.sum(np.abs(dx_dt(in_cluster)))/total_in\n",
      "/var/folders/dj/fb2zmgq93sv7xnbfzqj2n3pm0000gn/T/ipykernel_5032/1015476428.py:8: RuntimeWarning: invalid value encountered in double_scalars\n",
      "  swtich = np.sum(np.abs(dx_dt(in_cluster)))/total_in\n",
      "/var/folders/dj/fb2zmgq93sv7xnbfzqj2n3pm0000gn/T/ipykernel_5032/1015476428.py:8: RuntimeWarning: invalid value encountered in double_scalars\n",
      "  swtich = np.sum(np.abs(dx_dt(in_cluster)))/total_in\n"
     ]
    },
    {
     "name": "stdout",
     "output_type": "stream",
     "text": [
      "105\n",
      "106\n",
      "107\n",
      "108\n",
      "109\n",
      "110\n"
     ]
    },
    {
     "name": "stderr",
     "output_type": "stream",
     "text": [
      "/var/folders/dj/fb2zmgq93sv7xnbfzqj2n3pm0000gn/T/ipykernel_5032/1015476428.py:8: RuntimeWarning: invalid value encountered in double_scalars\n",
      "  swtich = np.sum(np.abs(dx_dt(in_cluster)))/total_in\n"
     ]
    },
    {
     "name": "stdout",
     "output_type": "stream",
     "text": [
      "111\n",
      "112\n",
      "113\n",
      "114\n",
      "115\n",
      "116\n",
      "117\n",
      "118\n",
      "119\n",
      "120\n",
      "121\n",
      "122\n"
     ]
    },
    {
     "name": "stderr",
     "output_type": "stream",
     "text": [
      "/var/folders/dj/fb2zmgq93sv7xnbfzqj2n3pm0000gn/T/ipykernel_5032/1015476428.py:8: RuntimeWarning: invalid value encountered in double_scalars\n",
      "  swtich = np.sum(np.abs(dx_dt(in_cluster)))/total_in\n"
     ]
    },
    {
     "name": "stdout",
     "output_type": "stream",
     "text": [
      "123\n",
      "124\n",
      "125\n"
     ]
    },
    {
     "name": "stderr",
     "output_type": "stream",
     "text": [
      "/var/folders/dj/fb2zmgq93sv7xnbfzqj2n3pm0000gn/T/ipykernel_5032/1015476428.py:8: RuntimeWarning: invalid value encountered in double_scalars\n",
      "  swtich = np.sum(np.abs(dx_dt(in_cluster)))/total_in\n"
     ]
    },
    {
     "name": "stdout",
     "output_type": "stream",
     "text": [
      "126\n",
      "127\n",
      "128\n",
      "129\n",
      "130\n"
     ]
    },
    {
     "name": "stderr",
     "output_type": "stream",
     "text": [
      "/var/folders/dj/fb2zmgq93sv7xnbfzqj2n3pm0000gn/T/ipykernel_5032/1015476428.py:8: RuntimeWarning: invalid value encountered in double_scalars\n",
      "  swtich = np.sum(np.abs(dx_dt(in_cluster)))/total_in\n",
      "/var/folders/dj/fb2zmgq93sv7xnbfzqj2n3pm0000gn/T/ipykernel_5032/1015476428.py:8: RuntimeWarning: invalid value encountered in double_scalars\n",
      "  swtich = np.sum(np.abs(dx_dt(in_cluster)))/total_in\n",
      "/var/folders/dj/fb2zmgq93sv7xnbfzqj2n3pm0000gn/T/ipykernel_5032/1015476428.py:8: RuntimeWarning: invalid value encountered in double_scalars\n",
      "  swtich = np.sum(np.abs(dx_dt(in_cluster)))/total_in\n",
      "/var/folders/dj/fb2zmgq93sv7xnbfzqj2n3pm0000gn/T/ipykernel_5032/1015476428.py:8: RuntimeWarning: invalid value encountered in double_scalars\n",
      "  swtich = np.sum(np.abs(dx_dt(in_cluster)))/total_in\n"
     ]
    },
    {
     "name": "stdout",
     "output_type": "stream",
     "text": [
      "131\n",
      "132\n",
      "133\n",
      "134\n",
      "135\n"
     ]
    },
    {
     "name": "stderr",
     "output_type": "stream",
     "text": [
      "/var/folders/dj/fb2zmgq93sv7xnbfzqj2n3pm0000gn/T/ipykernel_5032/1015476428.py:8: RuntimeWarning: invalid value encountered in double_scalars\n",
      "  swtich = np.sum(np.abs(dx_dt(in_cluster)))/total_in\n"
     ]
    },
    {
     "name": "stdout",
     "output_type": "stream",
     "text": [
      "136\n",
      "137\n",
      "138\n",
      "139\n",
      "140\n",
      "141\n",
      "142\n",
      "143\n"
     ]
    },
    {
     "name": "stderr",
     "output_type": "stream",
     "text": [
      "/var/folders/dj/fb2zmgq93sv7xnbfzqj2n3pm0000gn/T/ipykernel_5032/1015476428.py:8: RuntimeWarning: invalid value encountered in double_scalars\n",
      "  swtich = np.sum(np.abs(dx_dt(in_cluster)))/total_in\n",
      "/var/folders/dj/fb2zmgq93sv7xnbfzqj2n3pm0000gn/T/ipykernel_5032/1015476428.py:8: RuntimeWarning: invalid value encountered in double_scalars\n",
      "  swtich = np.sum(np.abs(dx_dt(in_cluster)))/total_in\n"
     ]
    },
    {
     "name": "stdout",
     "output_type": "stream",
     "text": [
      "144\n",
      "145\n",
      "146\n"
     ]
    },
    {
     "name": "stderr",
     "output_type": "stream",
     "text": [
      "/var/folders/dj/fb2zmgq93sv7xnbfzqj2n3pm0000gn/T/ipykernel_5032/1015476428.py:8: RuntimeWarning: invalid value encountered in double_scalars\n",
      "  swtich = np.sum(np.abs(dx_dt(in_cluster)))/total_in\n"
     ]
    },
    {
     "name": "stdout",
     "output_type": "stream",
     "text": [
      "147\n",
      "148\n",
      "149\n",
      "150\n"
     ]
    },
    {
     "name": "stderr",
     "output_type": "stream",
     "text": [
      "/var/folders/dj/fb2zmgq93sv7xnbfzqj2n3pm0000gn/T/ipykernel_5032/1015476428.py:8: RuntimeWarning: invalid value encountered in double_scalars\n",
      "  swtich = np.sum(np.abs(dx_dt(in_cluster)))/total_in\n",
      "/var/folders/dj/fb2zmgq93sv7xnbfzqj2n3pm0000gn/T/ipykernel_5032/1015476428.py:8: RuntimeWarning: invalid value encountered in double_scalars\n",
      "  swtich = np.sum(np.abs(dx_dt(in_cluster)))/total_in\n",
      "/var/folders/dj/fb2zmgq93sv7xnbfzqj2n3pm0000gn/T/ipykernel_5032/1015476428.py:8: RuntimeWarning: invalid value encountered in double_scalars\n",
      "  swtich = np.sum(np.abs(dx_dt(in_cluster)))/total_in\n"
     ]
    },
    {
     "name": "stdout",
     "output_type": "stream",
     "text": [
      "151\n",
      "152\n",
      "153\n",
      "154\n",
      "155\n"
     ]
    },
    {
     "name": "stderr",
     "output_type": "stream",
     "text": [
      "/var/folders/dj/fb2zmgq93sv7xnbfzqj2n3pm0000gn/T/ipykernel_5032/1015476428.py:8: RuntimeWarning: invalid value encountered in double_scalars\n",
      "  swtich = np.sum(np.abs(dx_dt(in_cluster)))/total_in\n",
      "/var/folders/dj/fb2zmgq93sv7xnbfzqj2n3pm0000gn/T/ipykernel_5032/1015476428.py:8: RuntimeWarning: invalid value encountered in double_scalars\n",
      "  swtich = np.sum(np.abs(dx_dt(in_cluster)))/total_in\n",
      "/var/folders/dj/fb2zmgq93sv7xnbfzqj2n3pm0000gn/T/ipykernel_5032/1015476428.py:8: RuntimeWarning: invalid value encountered in double_scalars\n",
      "  swtich = np.sum(np.abs(dx_dt(in_cluster)))/total_in\n"
     ]
    },
    {
     "name": "stdout",
     "output_type": "stream",
     "text": [
      "156\n",
      "157\n",
      "158\n",
      "159\n",
      "160\n",
      "161\n",
      "162\n",
      "163\n",
      "164\n",
      "165\n",
      "166\n",
      "167\n"
     ]
    },
    {
     "name": "stderr",
     "output_type": "stream",
     "text": [
      "/var/folders/dj/fb2zmgq93sv7xnbfzqj2n3pm0000gn/T/ipykernel_5032/1015476428.py:8: RuntimeWarning: invalid value encountered in double_scalars\n",
      "  swtich = np.sum(np.abs(dx_dt(in_cluster)))/total_in\n",
      "/var/folders/dj/fb2zmgq93sv7xnbfzqj2n3pm0000gn/T/ipykernel_5032/1015476428.py:8: RuntimeWarning: invalid value encountered in double_scalars\n",
      "  swtich = np.sum(np.abs(dx_dt(in_cluster)))/total_in\n",
      "/var/folders/dj/fb2zmgq93sv7xnbfzqj2n3pm0000gn/T/ipykernel_5032/1015476428.py:8: RuntimeWarning: invalid value encountered in double_scalars\n",
      "  swtich = np.sum(np.abs(dx_dt(in_cluster)))/total_in\n"
     ]
    },
    {
     "name": "stdout",
     "output_type": "stream",
     "text": [
      "168\n",
      "169\n",
      "170\n"
     ]
    },
    {
     "name": "stderr",
     "output_type": "stream",
     "text": [
      "/var/folders/dj/fb2zmgq93sv7xnbfzqj2n3pm0000gn/T/ipykernel_5032/1015476428.py:8: RuntimeWarning: invalid value encountered in double_scalars\n",
      "  swtich = np.sum(np.abs(dx_dt(in_cluster)))/total_in\n"
     ]
    },
    {
     "name": "stdout",
     "output_type": "stream",
     "text": [
      "171\n",
      "172\n",
      "173\n",
      "174\n",
      "175\n"
     ]
    },
    {
     "name": "stderr",
     "output_type": "stream",
     "text": [
      "/var/folders/dj/fb2zmgq93sv7xnbfzqj2n3pm0000gn/T/ipykernel_5032/1015476428.py:8: RuntimeWarning: invalid value encountered in double_scalars\n",
      "  swtich = np.sum(np.abs(dx_dt(in_cluster)))/total_in\n"
     ]
    },
    {
     "name": "stdout",
     "output_type": "stream",
     "text": [
      "176\n",
      "177\n",
      "178\n",
      "179\n",
      "180\n",
      "181\n",
      "182\n",
      "183\n",
      "184\n",
      "185\n",
      "186\n",
      "187\n"
     ]
    },
    {
     "name": "stderr",
     "output_type": "stream",
     "text": [
      "/var/folders/dj/fb2zmgq93sv7xnbfzqj2n3pm0000gn/T/ipykernel_5032/1015476428.py:8: RuntimeWarning: invalid value encountered in double_scalars\n",
      "  swtich = np.sum(np.abs(dx_dt(in_cluster)))/total_in\n",
      "/var/folders/dj/fb2zmgq93sv7xnbfzqj2n3pm0000gn/T/ipykernel_5032/1015476428.py:8: RuntimeWarning: invalid value encountered in double_scalars\n",
      "  swtich = np.sum(np.abs(dx_dt(in_cluster)))/total_in\n",
      "/var/folders/dj/fb2zmgq93sv7xnbfzqj2n3pm0000gn/T/ipykernel_5032/1015476428.py:8: RuntimeWarning: invalid value encountered in double_scalars\n",
      "  swtich = np.sum(np.abs(dx_dt(in_cluster)))/total_in\n"
     ]
    },
    {
     "name": "stdout",
     "output_type": "stream",
     "text": [
      "188\n",
      "189\n",
      "190\n",
      "191\n",
      "192\n",
      "193\n",
      "194\n",
      "195\n",
      "196\n",
      "197\n",
      "198\n",
      "199\n"
     ]
    },
    {
     "name": "stderr",
     "output_type": "stream",
     "text": [
      "/var/folders/dj/fb2zmgq93sv7xnbfzqj2n3pm0000gn/T/ipykernel_5032/1015476428.py:8: RuntimeWarning: invalid value encountered in double_scalars\n",
      "  swtich = np.sum(np.abs(dx_dt(in_cluster)))/total_in\n",
      "/var/folders/dj/fb2zmgq93sv7xnbfzqj2n3pm0000gn/T/ipykernel_5032/1015476428.py:8: RuntimeWarning: invalid value encountered in double_scalars\n",
      "  swtich = np.sum(np.abs(dx_dt(in_cluster)))/total_in\n",
      "/var/folders/dj/fb2zmgq93sv7xnbfzqj2n3pm0000gn/T/ipykernel_5032/1015476428.py:8: RuntimeWarning: invalid value encountered in double_scalars\n",
      "  swtich = np.sum(np.abs(dx_dt(in_cluster)))/total_in\n"
     ]
    },
    {
     "name": "stdout",
     "output_type": "stream",
     "text": [
      "200\n",
      "201\n",
      "202\n",
      "203\n",
      "204\n",
      "205\n",
      "206\n",
      "207\n",
      "208\n"
     ]
    },
    {
     "name": "stderr",
     "output_type": "stream",
     "text": [
      "/var/folders/dj/fb2zmgq93sv7xnbfzqj2n3pm0000gn/T/ipykernel_5032/1015476428.py:8: RuntimeWarning: invalid value encountered in double_scalars\n",
      "  swtich = np.sum(np.abs(dx_dt(in_cluster)))/total_in\n",
      "/var/folders/dj/fb2zmgq93sv7xnbfzqj2n3pm0000gn/T/ipykernel_5032/1015476428.py:8: RuntimeWarning: invalid value encountered in double_scalars\n",
      "  swtich = np.sum(np.abs(dx_dt(in_cluster)))/total_in\n",
      "/var/folders/dj/fb2zmgq93sv7xnbfzqj2n3pm0000gn/T/ipykernel_5032/1015476428.py:8: RuntimeWarning: invalid value encountered in double_scalars\n",
      "  swtich = np.sum(np.abs(dx_dt(in_cluster)))/total_in\n"
     ]
    },
    {
     "name": "stdout",
     "output_type": "stream",
     "text": [
      "209\n",
      "210\n",
      "211\n",
      "212\n",
      "213\n",
      "214\n"
     ]
    },
    {
     "name": "stderr",
     "output_type": "stream",
     "text": [
      "/var/folders/dj/fb2zmgq93sv7xnbfzqj2n3pm0000gn/T/ipykernel_5032/1015476428.py:8: RuntimeWarning: invalid value encountered in double_scalars\n",
      "  swtich = np.sum(np.abs(dx_dt(in_cluster)))/total_in\n"
     ]
    },
    {
     "name": "stdout",
     "output_type": "stream",
     "text": [
      "215\n",
      "216\n",
      "217\n",
      "218\n",
      "219\n",
      "220\n",
      "221\n",
      "222\n",
      "223\n",
      "224\n",
      "225\n",
      "226\n",
      "227\n",
      "228\n",
      "229\n",
      "230\n",
      "231\n",
      "232\n",
      "233\n",
      "234\n",
      "235\n",
      "236\n",
      "237\n"
     ]
    },
    {
     "name": "stderr",
     "output_type": "stream",
     "text": [
      "/var/folders/dj/fb2zmgq93sv7xnbfzqj2n3pm0000gn/T/ipykernel_5032/1015476428.py:8: RuntimeWarning: invalid value encountered in double_scalars\n",
      "  swtich = np.sum(np.abs(dx_dt(in_cluster)))/total_in\n",
      "/var/folders/dj/fb2zmgq93sv7xnbfzqj2n3pm0000gn/T/ipykernel_5032/1015476428.py:8: RuntimeWarning: invalid value encountered in double_scalars\n",
      "  swtich = np.sum(np.abs(dx_dt(in_cluster)))/total_in\n",
      "/var/folders/dj/fb2zmgq93sv7xnbfzqj2n3pm0000gn/T/ipykernel_5032/1015476428.py:8: RuntimeWarning: invalid value encountered in double_scalars\n",
      "  swtich = np.sum(np.abs(dx_dt(in_cluster)))/total_in\n"
     ]
    },
    {
     "name": "stdout",
     "output_type": "stream",
     "text": [
      "238\n",
      "239\n",
      "240\n",
      "241\n",
      "242\n",
      "243\n",
      "244\n",
      "245\n",
      "246\n",
      "247\n",
      "248\n"
     ]
    },
    {
     "name": "stderr",
     "output_type": "stream",
     "text": [
      "/var/folders/dj/fb2zmgq93sv7xnbfzqj2n3pm0000gn/T/ipykernel_5032/1015476428.py:8: RuntimeWarning: invalid value encountered in double_scalars\n",
      "  swtich = np.sum(np.abs(dx_dt(in_cluster)))/total_in\n",
      "/var/folders/dj/fb2zmgq93sv7xnbfzqj2n3pm0000gn/T/ipykernel_5032/1015476428.py:8: RuntimeWarning: invalid value encountered in double_scalars\n",
      "  swtich = np.sum(np.abs(dx_dt(in_cluster)))/total_in\n",
      "/var/folders/dj/fb2zmgq93sv7xnbfzqj2n3pm0000gn/T/ipykernel_5032/1015476428.py:8: RuntimeWarning: invalid value encountered in double_scalars\n",
      "  swtich = np.sum(np.abs(dx_dt(in_cluster)))/total_in\n"
     ]
    },
    {
     "name": "stdout",
     "output_type": "stream",
     "text": [
      "249\n",
      "250\n",
      "251\n",
      "252\n",
      "253\n",
      "254\n",
      "255\n",
      "256\n",
      "257\n",
      "258\n"
     ]
    },
    {
     "name": "stderr",
     "output_type": "stream",
     "text": [
      "/var/folders/dj/fb2zmgq93sv7xnbfzqj2n3pm0000gn/T/ipykernel_5032/1015476428.py:8: RuntimeWarning: invalid value encountered in double_scalars\n",
      "  swtich = np.sum(np.abs(dx_dt(in_cluster)))/total_in\n",
      "/var/folders/dj/fb2zmgq93sv7xnbfzqj2n3pm0000gn/T/ipykernel_5032/1015476428.py:8: RuntimeWarning: invalid value encountered in double_scalars\n",
      "  swtich = np.sum(np.abs(dx_dt(in_cluster)))/total_in\n"
     ]
    },
    {
     "name": "stdout",
     "output_type": "stream",
     "text": [
      "259\n",
      "260\n",
      "261\n",
      "262\n",
      "263\n",
      "264\n",
      "265\n",
      "266\n",
      "267\n",
      "268\n"
     ]
    },
    {
     "name": "stderr",
     "output_type": "stream",
     "text": [
      "/var/folders/dj/fb2zmgq93sv7xnbfzqj2n3pm0000gn/T/ipykernel_5032/1015476428.py:8: RuntimeWarning: invalid value encountered in double_scalars\n",
      "  swtich = np.sum(np.abs(dx_dt(in_cluster)))/total_in\n",
      "/var/folders/dj/fb2zmgq93sv7xnbfzqj2n3pm0000gn/T/ipykernel_5032/1015476428.py:8: RuntimeWarning: invalid value encountered in double_scalars\n",
      "  swtich = np.sum(np.abs(dx_dt(in_cluster)))/total_in\n",
      "/var/folders/dj/fb2zmgq93sv7xnbfzqj2n3pm0000gn/T/ipykernel_5032/1015476428.py:8: RuntimeWarning: invalid value encountered in double_scalars\n",
      "  swtich = np.sum(np.abs(dx_dt(in_cluster)))/total_in\n"
     ]
    },
    {
     "name": "stdout",
     "output_type": "stream",
     "text": [
      "269\n",
      "270\n",
      "271\n",
      "272\n",
      "273\n",
      "274\n",
      "275\n",
      "276\n",
      "277\n",
      "278\n",
      "279\n",
      "280\n",
      "281\n",
      "282\n",
      "283\n",
      "284\n",
      "285\n"
     ]
    },
    {
     "name": "stderr",
     "output_type": "stream",
     "text": [
      "/var/folders/dj/fb2zmgq93sv7xnbfzqj2n3pm0000gn/T/ipykernel_5032/1015476428.py:8: RuntimeWarning: invalid value encountered in double_scalars\n",
      "  swtich = np.sum(np.abs(dx_dt(in_cluster)))/total_in\n"
     ]
    },
    {
     "name": "stdout",
     "output_type": "stream",
     "text": [
      "286\n",
      "287\n",
      "288\n",
      "289\n",
      "290\n",
      "291\n",
      "292\n",
      "293\n",
      "294\n",
      "295\n",
      "296\n",
      "297\n",
      "298\n",
      "299\n",
      "300\n",
      "301\n",
      "302\n"
     ]
    },
    {
     "name": "stderr",
     "output_type": "stream",
     "text": [
      "/var/folders/dj/fb2zmgq93sv7xnbfzqj2n3pm0000gn/T/ipykernel_5032/1015476428.py:8: RuntimeWarning: invalid value encountered in double_scalars\n",
      "  swtich = np.sum(np.abs(dx_dt(in_cluster)))/total_in\n"
     ]
    },
    {
     "name": "stdout",
     "output_type": "stream",
     "text": [
      "303\n",
      "304\n",
      "305\n",
      "306\n",
      "307\n",
      "308\n",
      "309\n",
      "310\n"
     ]
    },
    {
     "name": "stderr",
     "output_type": "stream",
     "text": [
      "/var/folders/dj/fb2zmgq93sv7xnbfzqj2n3pm0000gn/T/ipykernel_5032/1015476428.py:8: RuntimeWarning: invalid value encountered in double_scalars\n",
      "  swtich = np.sum(np.abs(dx_dt(in_cluster)))/total_in\n"
     ]
    },
    {
     "name": "stdout",
     "output_type": "stream",
     "text": [
      "311\n",
      "312\n",
      "313\n",
      "314\n",
      "315\n",
      "316\n",
      "317\n",
      "318\n",
      "319\n",
      "320\n",
      "321\n"
     ]
    },
    {
     "name": "stderr",
     "output_type": "stream",
     "text": [
      "/var/folders/dj/fb2zmgq93sv7xnbfzqj2n3pm0000gn/T/ipykernel_5032/1015476428.py:8: RuntimeWarning: invalid value encountered in double_scalars\n",
      "  swtich = np.sum(np.abs(dx_dt(in_cluster)))/total_in\n"
     ]
    },
    {
     "name": "stdout",
     "output_type": "stream",
     "text": [
      "322\n",
      "323\n",
      "324\n",
      "325\n",
      "326\n",
      "327\n"
     ]
    },
    {
     "name": "stderr",
     "output_type": "stream",
     "text": [
      "/var/folders/dj/fb2zmgq93sv7xnbfzqj2n3pm0000gn/T/ipykernel_5032/1015476428.py:8: RuntimeWarning: invalid value encountered in double_scalars\n",
      "  swtich = np.sum(np.abs(dx_dt(in_cluster)))/total_in\n",
      "/var/folders/dj/fb2zmgq93sv7xnbfzqj2n3pm0000gn/T/ipykernel_5032/1015476428.py:8: RuntimeWarning: invalid value encountered in double_scalars\n",
      "  swtich = np.sum(np.abs(dx_dt(in_cluster)))/total_in\n"
     ]
    }
   ],
   "source": [
    "dataset_location = \"/Volumes/EVAN_DISK/MASC/shot_processed_dataset/\"\n",
    "dataset = SegmentDataset_SelfTape111(dataset_location)\n",
    "for shot_id in range(0, len(dataset.video_metadata)):\n",
    "    print(shot_id)\n",
    "    [sr, audio_onscreen, audio_offscreen], [fps, gaze, head, blinks], [file_name, shot_range] = dataset.get_video(shot_id)\n",
    "    # Get fixation \n",
    "    ts = np.arange(0, gaze.shape[0]) / fps\n",
    "    fixations, fixations_intervals = dispersion_filtering(ts, gaze, dispersion_threshold=6, duraiton_threshold=0.2)\n",
    "    # get get a time series of fixations (i.e. filtered fixations)\n",
    "    fixation_t = np.zeros(gaze.shape)\n",
    "    for i in range(0, len(fixations_intervals)):\n",
    "        for k in range(fixations_intervals[i][0], fixations_intervals[i][1]+1):\n",
    "            fixation_t[k] = fixations[i, :2]\n",
    "        if i == 0:\n",
    "            for k in range(0, fixations_intervals[i][1]):\n",
    "                fixation_t[k] = fixations[i, :2]\n",
    "        else:\n",
    "            for k in range(fixations_intervals[i-1][1], fixations_intervals[0][0]):\n",
    "                fixation_t[k] = fixations[i, :2]\n",
    "        if i == (len(fixations_intervals) - 1):\n",
    "            for k in range(fixations_intervals[i][1], len(fixations_intervals)):\n",
    "                fixation_t[k] = fixations[i, :2]\n",
    "    # cluster them by the method\n",
    "    gaze_clustering = find_gaze_target(fixations, fixation_t[:, :2], 2.5)\n",
    "    # get storage path\n",
    "    aversion_label_location = os.path.join(*[dataset_location, \"aversion_label\", file_name+\".pkl\"])\n",
    "    pkl.dump(gaze_clustering, open(aversion_label_location,  \"wb\"))\n",
    "    \n"
   ]
  },
  {
   "attachments": {},
   "cell_type": "markdown",
   "metadata": {},
   "source": [
    "# Learn statistics from this Dataset (Correlation Coefficient Velicty vs Intensity Change)"
   ]
  },
  {
   "attachments": {},
   "cell_type": "markdown",
   "metadata": {},
   "source": [
    "## Relevant Fucntions"
   ]
  },
  {
   "cell_type": "code",
   "execution_count": 11,
   "metadata": {},
   "outputs": [],
   "source": [
    "def correlation_coefficient(X, Y):\n",
    "    r = np.cov(X, Y)[0, 1] / np.std(X) / np.std(Y)\n",
    "    return r\n",
    "def get_time_series_coefficient(audio, gaze, fps):\n",
    "    intensity = intensity_from_signal(audio, int(sr/fps))\n",
    "    gaze_velocity = np.linalg.norm(dx_dt(gaze), axis=1)\n",
    "    intensity_change = dx_dt(intensity)\n",
    "    common_length = np.minimum(intensity_change.shape[0], gaze_velocity.shape[0])\n",
    "    gaze_velocity = gaze_velocity[:common_length]\n",
    "    intensity_change = intensity_change[:common_length]\n",
    "    cor = correlation_coefficient(gaze_velocity, intensity_change)\n",
    "    return cor\n",
    "def corelation_based_score(c, matching_model, mismatching_model):\n",
    "    score = np.log(matching_model.pdf(c)/mismatching_model.pdf(c))\n",
    "    return score"
   ]
  },
  {
   "attachments": {},
   "cell_type": "markdown",
   "metadata": {},
   "source": [
    "## Obtain Dataset Statistics for correlation"
   ]
  },
  {
   "cell_type": "code",
   "execution_count": 12,
   "metadata": {},
   "outputs": [
    {
     "name": "stderr",
     "output_type": "stream",
     "text": [
      "/var/folders/dj/fb2zmgq93sv7xnbfzqj2n3pm0000gn/T/ipykernel_44827/537234705.py:2: RuntimeWarning: invalid value encountered in double_scalars\n",
      "  r = np.cov(X, Y)[0, 1] / np.std(X) / np.std(Y)\n"
     ]
    }
   ],
   "source": [
    "from Signal_processing_utils import intensity_from_signal\n",
    "dataset = SegmentDataset_SelfTape111(dataset_location)\n",
    "matching_cov_values = []\n",
    "for shot_id in range(0, len(dataset)):\n",
    "    [sr, audio_onscreen, audio_offscreen], [fps, gaze, head, blinks] = dataset[shot_id]\n",
    "    cor = get_time_series_coefficient(audio_onscreen, gaze, fps)\n",
    "    matching_cov_values.append(cor)\n",
    "\n",
    "mis_matched_cov_values = []\n",
    "for shot_id in range(0, len(dataset)):\n",
    "    [sr, audio_onscreen, audio_offscreen], [fps, gaze, head, blinks] = dataset[shot_id]\n",
    "    random_id = np.random.randint(0, len(dataset))\n",
    "    while (random_id == shot_id):\n",
    "        random_id = np.random.randint(0, len(dataset))\n",
    "    [sr2, audio_onscreen2, audio_offscreen2], [fps2, gaze2, head2, blinks2] = dataset[random_id]\n",
    "    cor = get_time_series_coefficient(audio_onscreen, gaze2, fps)\n",
    "    mis_matched_cov_values.append(cor)\n",
    "\n",
    "matching_cov_values = np.array([matching_cov_values]).T\n",
    "mis_matched_cov_values = np.array([mis_matched_cov_values]).T\n",
    "\n",
    "cleaned_matching_cov_values = matching_cov_values[~np.isnan(matching_cov_values)]\n",
    "cleaned_mis_matching_cov_values = mis_matched_cov_values[~np.isnan(mis_matched_cov_values)]\n",
    "\n",
    "mean = cleaned_matching_cov_values.mean()\n",
    "std = cleaned_matching_cov_values.std()\n",
    "matching_model = ss.norm(mean, std)\n",
    "mean = cleaned_mis_matching_cov_values.mean()\n",
    "std = cleaned_mis_matching_cov_values.std()\n",
    "mismatching_model = ss.norm(mean, std)"
   ]
  },
  {
   "cell_type": "code",
   "execution_count": 18,
   "metadata": {},
   "outputs": [
    {
     "data": {
      "text/plain": [
       "<matplotlib.legend.Legend at 0x7fa4fdf42ce0>"
      ]
     },
     "execution_count": 18,
     "metadata": {},
     "output_type": "execute_result"
    },
    {
     "data": {
      "image/png": "[encoded data removed]",
      "text/plain": [
       "<Figure size 640x480 with 1 Axes>"
      ]
     },
     "metadata": {},
     "output_type": "display_data"
    }
   ],
   "source": [
    "plt.hist(cleaned_matching_cov_values, 50, label = \"original\")\n",
    "plt.hist(cleaned_mis_matching_cov_values, 50,label = \"exchanged\")\n",
    "plt.legend()"
   ]
  },
  {
   "attachments": {},
   "cell_type": "markdown",
   "metadata": {},
   "source": [
    "## Test out the score of animation from the dataset"
   ]
  },
  {
   "cell_type": "code",
   "execution_count": 13,
   "metadata": {},
   "outputs": [
    {
     "name": "stderr",
     "output_type": "stream",
     "text": [
      "/var/folders/dj/fb2zmgq93sv7xnbfzqj2n3pm0000gn/T/ipykernel_44827/537234705.py:2: RuntimeWarning: invalid value encountered in double_scalars\n",
      "  r = np.cov(X, Y)[0, 1] / np.std(X) / np.std(Y)\n"
     ]
    }
   ],
   "source": [
    "score_in_dataset = []\n",
    "for i in range(0, dataset.total_shot_count()):\n",
    "    [sr, audio_onscreen, audio_offscreen], [fps, gaze, head, blinks], [file_name, shot_range] = dataset.get_video(i)\n",
    "    score = corelation_based_score(get_time_series_coefficient(audio_onscreen, gaze, fps), matching_model, mismatching_model)\n",
    "    score_in_dataset.append(score)"
   ]
  },
  {
   "cell_type": "code",
   "execution_count": 14,
   "metadata": {},
   "outputs": [
    {
     "data": {
      "image/png": "[encoded data removed]",
      "text/plain": [
       "<Figure size 640x480 with 1 Axes>"
      ]
     },
     "metadata": {},
     "output_type": "display_data"
    }
   ],
   "source": [
    "plt.cla()\n",
    "plt.hist(score_in_dataset, bins=20)\n",
    "plt.show()"
   ]
  },
  {
   "attachments": {},
   "cell_type": "markdown",
   "metadata": {},
   "source": [
    "## Load Baseline Models"
   ]
  },
  {
   "cell_type": "code",
   "execution_count": 154,
   "metadata": {},
   "outputs": [],
   "source": [
    "# inputs\n",
    "input_folder = \"/Volumes/EVAN_DISK/MASC/Ribhav_processed_dataset/\"\n",
    "# input_folder = \"F:/MASC/Ribhav_processed_dataset/\"\n",
    "# input_file = \"Stranger Things’ Dacre Montgomery’s Insane _Billy_ Audition Tape ｜ GQ\"\n",
    "input_file = \"Madelaine Petsch audition for The Prom\"\n",
    "\n",
    "input_scene_data_path = \"/Users/evanpan/Documents/GitHub/Gaze_project/data/look_at_points/simplest_scene.json\"\n",
    "speaker_id = 1\n",
    "shot_id = 1\n",
    "turn_taking_threshold = 2\n",
    "evaluation_fps = 24\n",
    "np.random.seed(speaker_id + shot_id)\n"
   ]
  },
  {
   "cell_type": "code",
   "execution_count": 155,
   "metadata": {},
   "outputs": [],
   "source": [
    "input_file_no_space = \"_\".join(input_file.split(\" \"))\n",
    "# input_file_no_space = \"'\" + input_file_no_space + \"'\"\n",
    "shot_file_name = os.path.join(os.path.join(os.path.join(input_folder, \"shots\"), input_file), \"shot_cuts.json\")\n",
    "video_path = os.path.join(*[input_folder, \"video\", input_file+\".mp4\"])\n",
    "audio_1_path = os.path.join(os.path.join(os.path.join(input_folder, \"JaliTranscript\"), input_file_no_space), \"shot_{}_{}.wav\".format(shot_id, 1))\n",
    "audio_2_path = os.path.join(os.path.join(os.path.join(input_folder, \"JaliTranscript\"), input_file_no_space), \"shot_{}_{}.wav\".format(shot_id, 2))\n",
    "script_1_path = os.path.join(os.path.join(os.path.join(input_folder, \"JaliTranscript\"), input_file_no_space), \"shot_{}_{}.txt\".format(shot_id, 1))\n",
    "script_2_path = os.path.join(os.path.join(os.path.join(input_folder, \"JaliTranscript\"), input_file_no_space), \"shot_{}_{}.txt\".format(shot_id, 2))\n",
    "praatoutput_1_path = os.path.join(os.path.join(os.path.join(input_folder, \"JaliTranscript\"), input_file_no_space), \"shot_{}_{}_PraatOutput.txt\".format(shot_id, 1))\n",
    "praatoutput_2_path = os.path.join(os.path.join(os.path.join(input_folder, \"JaliTranscript\"), input_file_no_space), \"shot_{}_{}_PraatOutput.txt\".format(shot_id, 2))\n",
    "head_direction_json_path = os.path.join(*[input_folder, \"pose\", input_file+\".pkl\"])\n",
    "gaze_direction_json_path = os.path.join(*[input_folder, \"L2CSNet\", input_file+\".json\"])\n",
    "landmarks_mediapipe_json_path = os.path.join(*[input_folder, \"faces\", input_file+\" faces.pkl\"])\n",
    "python_out_location = os.path.join(*[input_folder, \"outputs\", input_file_no_space+\".pkl\"])\n",
    "scene_file_out_location = os.path.join(*[input_folder, \"annotated_scene\", input_file+\".json\"])\n",
    "animation_file_path = os.path.join(*[input_folder, \"outputs\", input_file+\".pkl\"])\n",
    "animation_file_gaze_deploy_path = os.path.join(*[input_folder, \"outputs\", input_file+\"_gaze_deploy.pkl\"])\n",
    "animation_file_static_salience_path = os.path.join(*[input_folder, \"outputs\", input_file+\"_static_salience_map.pkl\"])\n",
    "animation_file_stare_location = os.path.join(*[input_folder, \"outputs\", input_file+\"_stare.pkl\"])\n",
    "\n",
    "\n",
    "scene_data_path = os.path.join(*[input_folder, \"annotated_scene\", input_file+\".json\"])\n",
    "\n",
    "# out_location = \"/Users/evanpan/Documents/GitHub/Gaze_project/data/look_at_points/prototype2p2.pkl\"\n",
    "# out_location = \"C:/Users/evansamaa/Documents/GitHub/Gaze_project/data/look_at_points/prototype2p2.pkl\"\n",
    "\n",
    "sementic_script_1 = Sentence_word_phone_parser(praatoutput_1_path, script_1_path)\n",
    "# sementic_script_1.get_turns(turn_taking_threshold)\n",
    "sementic_script_2 = Sentence_word_phone_parser(praatoutput_2_path, script_2_path)\n",
    "# sementic_script_2.get_turns(turn_taking_threshold)\n",
    "audio_1, sr= librosa.load(audio_1_path, sr=44100)\n",
    "audio_2, sr= librosa.load(audio_2_path, sr=44100)\n",
    "agentScene1 = AgentInfo(scene_data_path)\n",
    "agentScene2 = AgentInfo(scene_data_path)"
   ]
  },
  {
   "cell_type": "code",
   "execution_count": 156,
   "metadata": {},
   "outputs": [],
   "source": [
    "def load_animation(filepath):\n",
    "    output_json = pkl.load(open(filepath, \"rb\"))\n",
    "    predicted_eye_positions = output_json[\"eye_frames\"] # ek is in local space\n",
    "    predicted_head_angles = output_json[\"head_frames\"] # hk are just angles\n",
    "    ms = output_json[\"micro_saccade\"]\n",
    "    neck = output_json[\"other_neck\"]\n",
    "    envelope = output_json[\"envelope\"]\n",
    "    return predicted_eye_positions, predicted_head_angles, ms, neck, envelope\n",
    "# load file\n",
    "ek, hk, ms, neck, envelope = load_animation(animation_file_path)\n",
    "gp_ek, gp_hk, gp_ms, gp_neck, gp_envelope = load_animation(animation_file_gaze_deploy_path)\n",
    "ss_ek, ss_hk, ss_ms, ss_neck, ss_envelope = load_animation(animation_file_static_salience_path)\n",
    "st_ek, st_hk, st_ms, st_neck, st_envelope = load_animation(animation_file_stare_location)\n",
    "ek = np.array(ek)[0]\n",
    "ts = ek[:, 0]\n",
    "ek_interp = interp1d(ts, rotation_angles_frome_positions(ek[:, 1:]), axis=0, bounds_error=False)\n",
    "\n",
    "gp_ek = np.array(gp_ek)[0]\n",
    "gp_ts = gp_ek[:, 0]\n",
    "gp_ek_interp = interp1d(gp_ts, rotation_angles_frome_positions(gp_ek[:, 1:]), axis=0, bounds_error=False)\n",
    "\n",
    "ss_ek = np.array(ss_ek)[0]\n",
    "ss_ts = ss_ek[:, 0]\n",
    "ss_ek_interp = interp1d(ss_ts, rotation_angles_frome_positions(ss_ek[:, 1:]), axis=0, bounds_error=False)\n",
    "\n",
    "st_ek = np.array(st_ek)[0]\n",
    "st_ts = st_ek[:, 0]\n",
    "st_ek_interp = interp1d(st_ts, rotation_angles_frome_positions(st_ek[:, 1:]), axis=0, bounds_error=False)\n",
    "\n",
    "audio, sr = librosa.load(audio_1_path)"
   ]
  },
  {
   "cell_type": "code",
   "execution_count": 157,
   "metadata": {},
   "outputs": [
    {
     "name": "stdout",
     "output_type": "stream",
     "text": [
      "-0.16725672710765596 is the score of my model\n",
      "-0.11638723873224366 is the score of the gd model\n",
      "-0.12847557421093622 is the score of the static saliency model\n",
      "-0.5125287944352804 is the score of stare model\n"
     ]
    }
   ],
   "source": [
    "start = int(np.round(ss_ts[0] * evaluation_fps))\n",
    "end = int(np.round((ss_ts[-1] - 5) * evaluation_fps))\n",
    "times = np.arange(start, end) /evaluation_fps\n",
    "\n",
    "# get aligned look-at-point positions\n",
    "method_mine = ek_interp(times)\n",
    "method_gd = gp_ek_interp(times)\n",
    "method_ss = ss_ek_interp(times)\n",
    "method_st = st_ek_interp(times)\n",
    "score_mine = get_time_series_coefficient(audio, method_mine, evaluation_fps)\n",
    "score_mine = corelation_based_score(score_mine, matching_model, mismatching_model)\n",
    "score_gd = get_time_series_coefficient(audio, method_gd, evaluation_fps)\n",
    "score_gd = corelation_based_score(score_gd, matching_model, mismatching_model)\n",
    "score_ss = get_time_series_coefficient(audio, method_ss, evaluation_fps)\n",
    "score_ss = corelation_based_score(score_ss, matching_model, mismatching_model)\n",
    "score_st = get_time_series_coefficient(audio, method_st, evaluation_fps)\n",
    "score_st = corelation_based_score(score_ss, matching_model, mismatching_model)\n",
    "\n",
    "print(\"{} is the score of my model\".format(score_mine))\n",
    "print(\"{} is the score of the gd model\".format(score_gd))\n",
    "print(\"{} is the score of the static saliency model\".format(score_ss))\n",
    "print(\"{} is the score of stare model\".format(score_st))\n"
   ]
  },
  {
   "cell_type": "code",
   "execution_count": null,
   "metadata": {},
   "outputs": [],
   "source": []
  },
  {
   "attachments": {},
   "cell_type": "markdown",
   "metadata": {},
   "source": [
    "# Learn statistics from this Dataset (Distribution of gaze shifts with respect to beats)"
   ]
  },
  {
   "attachments": {},
   "cell_type": "markdown",
   "metadata": {},
   "source": [
    "## Relevant Functions"
   ]
  },
  {
   "cell_type": "code",
   "execution_count": 160,
   "metadata": {},
   "outputs": [],
   "source": [
    "# iterative find audio onset between 0.2 and 0.6 seconds to identify beats\n",
    "def get_beats(ts, audio_energy):\n",
    "    beats = [[int(0), False]] # start with a pseudo beat\n",
    "    daudio_dt = dx_dt(audio_energy, dt=ts[2] - ts[1])\n",
    "    Dm = 0.2\n",
    "    DM = 0.6\n",
    "    DM_frame = math.floor(DM / (ts[1] - ts[0]))\n",
    "    for i in range(0, daudio_dt.shape[0]):\n",
    "        if daudio_dt[i] > 200:\n",
    "            current_beat_t = ts[i]\n",
    "            if current_beat_t - ts[beats[-1][0]] <= Dm:\n",
    "                continue\n",
    "            if current_beat_t - ts[beats[-1][0]] >= DM:\n",
    "                # these are stored as integer indexes\n",
    "                start = beats[-1][0]\n",
    "                end = i\n",
    "                counter = start + DM_frame\n",
    "                while counter < end:\n",
    "                    beats.append([counter, False])\n",
    "                    counter = counter + DM_frame\n",
    "            beats.append([i, True])\n",
    "    output_beats = []\n",
    "    output_beats_index = []\n",
    "    for i in range(0, len(beats)):\n",
    "        if beats[i][1]:\n",
    "            output_beats.append(ts[beats[i][0]])\n",
    "            output_beats_index.append(beats[i][0])\n",
    "    return output_beats, output_beats_index\n",
    "\n",
    "def get_aversion_intervals(ts, aversion_data):\n",
    "    output_intervals = []\n",
    "    output_intervals_t = []\n",
    "    interval = []\n",
    "    interval_t = []\n",
    "    for i in range(1, aversion_data.shape[0]):\n",
    "        if aversion_data[i - 1] == 1 and aversion_data[i] == 0 and len(interval) >= 1:\n",
    "            interval.append(i)\n",
    "            interval_t.append(ts[i])\n",
    "            output_intervals.append(interval)\n",
    "            output_intervals_t.append(interval_t)\n",
    "            interval = []\n",
    "            interval_t = []\n",
    "        elif aversion_data[i - 1] == 0 and aversion_data[i] == 1:\n",
    "            interval.append(i)\n",
    "            interval_t.append(ts[i])\n",
    "    return output_intervals, output_intervals_t  \n",
    "\n",
    "dataset = SegmentDataset_SelfTape111(dataset_location, aversion=True)\n",
    "[sr, audio_onscreen, audio_offscreen], [fps, gaze, head, blinks, aversion], [file_name, shot_range] = dataset.get_video(0)\n",
    "intensity = intensity_from_signal(audio_onscreen, int(sr/100))\n",
    "ts = np.arange(0, intensity.shape[0])/100\n",
    "beats_t, beats_index = get_beats(ts, intensity)\n",
    "aversion_intervals, aversion_interval_time = get_aversion_intervals(ts, aversion)"
   ]
  },
  {
   "attachments": {},
   "cell_type": "markdown",
   "metadata": {},
   "source": [
    "## Obtain Dataset Statistics"
   ]
  },
  {
   "cell_type": "code",
   "execution_count": 161,
   "metadata": {},
   "outputs": [],
   "source": [
    "dataset = SegmentDataset_SelfTape111(dataset_location, aversion=True)\n",
    "time_to_start_of_aversion = []\n",
    "time_to_end_of_aversion = []\n",
    "for shot_id in range(0, dataset.total_shot_count()):\n",
    "    [sr, audio_onscreen, audio_offscreen], [fps, gaze, head, blinks, aversion], [file_name, shot_range] = dataset.get_video(shot_id)\n",
    "    intensity = intensity_from_signal(audio_onscreen, int(sr/fps))\n",
    "    ts = np.arange(0, intensity.shape[0])/fps\n",
    "    # get beats\n",
    "    beats_t, beats_index = get_beats(ts, intensity)\n",
    "    # get intervals of aversion\n",
    "    aversion_intervals, aversion_interval_time = get_aversion_intervals(ts, aversion)\n",
    "    # get the closes beats\n",
    "    for i in range(0, len(aversion_interval_time)):\n",
    "        start = aversion_interval_time[i][0]\n",
    "        end = aversion_interval_time[i][1]\n",
    "        closest_j_start = 0\n",
    "        if len(beats_t) > 0:\n",
    "            closest_length_start = abs(beats_t[0] - start)\n",
    "            for j in range(1, len(beats_t)):\n",
    "                dist = abs(start - beats_t[j])\n",
    "                if dist <= closest_length_start:\n",
    "                    closest_j_start = j\n",
    "                    closest_length_start = dist\n",
    "            time_to_start_of_aversion.append(beats_t[closest_j_start] - start)\n",
    "\n",
    "        closest_j_end = 0\n",
    "        if len(beats_t) > 0:\n",
    "            closest_length_end = abs(beats_t[0] - end)\n",
    "            for j in range(1, len(beats_t)):\n",
    "                dist = abs(end - beats_t[j])\n",
    "                if dist <= closest_length_end:\n",
    "                    closest_j_end = j\n",
    "                    closest_length_end = dist\n",
    "            time_to_end_of_aversion.append(beats_t[closest_j_end] - end)"
   ]
  },
  {
   "cell_type": "code",
   "execution_count": 139,
   "metadata": {},
   "outputs": [],
   "source": [
    "time_to_end_of_aversion = np.array(time_to_end_of_aversion)\n",
    "time_to_start_of_aversion = np.array(time_to_start_of_aversion)\n",
    "\n",
    "mean = time_to_end_of_aversion.mean()\n",
    "std = time_to_end_of_aversion.std()\n",
    "ending_model = ss.norm(mean, std)\n",
    "mean = time_to_start_of_aversion.mean()\n",
    "std = time_to_start_of_aversion.std()\n",
    "starting_model = ss.norm(mean, std)\n",
    "\n",
    "def get_beat(audio, aversion, fps):\n",
    "    time_to_start_of_aversion_local = []\n",
    "    time_to_end_of_aversion_local = []\n",
    "    # get beats     \n",
    "    intensity = intensity_from_signal(audio, int(sr/fps))\n",
    "    beats_t, beats_index = get_beats(ts, intensity)\n",
    "    # get intervals of aversion\n",
    "    aversion_intervals, aversion_interval_time = get_aversion_intervals(ts, aversion)   \n",
    "    for i in range(0, len(aversion_interval_time)):\n",
    "        start = aversion_interval_time[i][0]\n",
    "        end = aversion_interval_time[i][1]\n",
    "        closest_j_start = 0\n",
    "        if len(beats_t) > 0:\n",
    "            closest_length_start = abs(beats_t[0] - start)\n",
    "            for j in range(1, len(beats_t)):\n",
    "                dist = abs(start - beats_t[j])\n",
    "                if dist <= closest_length_start:\n",
    "                    closest_j_start = j\n",
    "                    closest_length_start = dist\n",
    "            time_to_start_of_aversion_local.append(beats_t[closest_j_start] - start)\n",
    "    \n",
    "        closest_j_end = 0\n",
    "        if len(beats_t) > 0:\n",
    "            closest_length_end = abs(beats_t[0] - end)\n",
    "            for j in range(1, len(beats_t)):\n",
    "                dist = abs(end - beats_t[j])\n",
    "                if dist <= closest_length_end:\n",
    "                    closest_j_end = j\n",
    "                    closest_length_end = dist\n",
    "            time_to_end_of_aversion_local.append(beats_t[closest_j_end] - end)\n",
    "    \n",
    "    return cor\n",
    "def corelation_based_score(c, matching_model, mismatching_model):\n",
    "    score = np.log(matching_model.pdf(c)/mismatching_model.pdf(c))\n",
    "    return score\n",
    "\n"
   ]
  },
  {
   "cell_type": "code",
   "execution_count": 13,
   "metadata": {},
   "outputs": [],
   "source": [
    "# dataset = SegmentDataset_SelfTape111(dataset_location)\n",
    "# matching_cov_values = []\n",
    "# for shot_id in range(0, dataset):\n",
    "#     [sr, audio_onscreen, audio_offscreen], [fps, gaze, head, blinks, aversion] = dataset[shot_id]\n",
    "#     cor = get_time_series_coefficient(audio_onscreen, gaze, fps)\n",
    "#     matching_cov_values.append(cor)"
   ]
  },
  {
   "attachments": {},
   "cell_type": "markdown",
   "metadata": {},
   "source": [
    "# Whisper Testing"
   ]
  },
  {
   "cell_type": "code",
   "execution_count": 164,
   "metadata": {},
   "outputs": [
    {
     "name": "stderr",
     "output_type": "stream",
     "text": [
      "/Users/evanpan/opt/anaconda3/envs/mediapipe/lib/python3.10/site-packages/whisper/transcribe.py:114: UserWarning: FP16 is not supported on CPU; using FP32 instead\n",
      "  warnings.warn(\"FP16 is not supported on CPU; using FP32 instead\")\n"
     ]
    }
   ],
   "source": [
    "import whisper\n",
    "\n",
    "model = whisper.load_model(\"tiny.en\")\n",
    "[sr, audio_onscreen, audio_offscreen], [fps, gaze, head, blinks, aversion], [file_name, shot_range] = dataset.get_video(0)\n",
    "file_path = os.path.join(*[dataset_location, \"audio\", file_name+\"_0.wav\"])\n",
    "result = model.transcribe(file_path, without_timestamps=False)"
   ]
  },
  {
   "cell_type": "code",
   "execution_count": 19,
   "metadata": {},
   "outputs": [
    {
     "name": "stderr",
     "output_type": "stream",
     "text": [
      "100%|██████████| 6143/6143 [00:06<00:00, 899.91frames/s]\n"
     ]
    }
   ],
   "source": [
    "import whisper_timestamped\n",
    "dataset = SegmentDataset_SelfTape111(dataset_location, aversion=True)\n",
    "model_word = whisper_timestamped.load_model(\"tiny.en\")\n",
    "[sr, audio_oEnscreen, audio_offscreen], [fps, gaze, head, blinks, aversion], [file_name, shot_range] = dataset.get_video(29)\n",
    "file_path = os.path.join(*[dataset_location, \"audio\", file_name+\"_0.wav\"])\n",
    "result_word = whisper_timestamped.transcribe(model_word, file_path, beam_size=5, best_of=5, temperature=(0.0, 0.2, 0.4, 0.6, 0.8, 1.0), vad=True)"
   ]
  },
  {
   "cell_type": "code",
   "execution_count": 20,
   "metadata": {},
   "outputs": [
    {
     "name": "stdout",
     "output_type": "stream",
     "text": [
      "{'text': 'I', 'start': 0.45, 'end': 0.86, 'confidence': 0.519}\n",
      "{'text': 'got', 'start': 8.83, 'end': 9.07, 'confidence': 0.924}\n",
      "{'text': 'bored', 'start': 9.07, 'end': 9.31, 'confidence': 0.994}\n",
      "{'text': 'one', 'start': 9.31, 'end': 9.55, 'confidence': 0.972}\n",
      "{'text': 'day', 'start': 9.55, 'end': 10.27, 'confidence': 0.997}\n",
      "{'text': 'like', 'start': 10.27, 'end': 10.81, 'confidence': 0.081}\n",
      "{'text': 'really', 'start': 10.81, 'end': 12.21, 'confidence': 0.95}\n",
      "{'text': 'really', 'start': 12.21, 'end': 12.81, 'confidence': 0.713}\n",
      "{'text': 'bored', 'start': 12.81, 'end': 13.21, 'confidence': 0.941}\n",
      "{'text': 'and', 'start': 13.21, 'end': 15.07, 'confidence': 0.659}\n",
      "{'text': 'put', 'start': 15.07, 'end': 15.41, 'confidence': 0.851}\n",
      "{'text': 'everything', 'start': 15.41, 'end': 16.11, 'confidence': 0.976}\n",
      "{'text': 'on', 'start': 16.11, 'end': 17.65, 'confidence': 0.759}\n",
      "{'text': 'a', 'start': 17.65, 'end': 17.83, 'confidence': 0.3}\n",
      "{'text': 'bagel', 'start': 17.83, 'end': 18.35, 'confidence': 0.528}\n",
      "{'text': 'my', 'start': 20.64, 'end': 21.11, 'confidence': 0.292}\n",
      "{'text': 'hopes', 'start': 21.11, 'end': 21.79, 'confidence': 0.393}\n",
      "{'text': 'and', 'start': 21.87, 'end': 22.01, 'confidence': 0.099}\n",
      "{'text': 'dreams', 'start': 22.01, 'end': 23.11, 'confidence': 0.921}\n",
      "{'text': 'my', 'start': 23.11, 'end': 24.19, 'confidence': 0.008}\n",
      "{'text': 'old', 'start': 24.19, 'end': 24.45, 'confidence': 0.979}\n",
      "{'text': 'report', 'start': 24.45, 'end': 24.95, 'confidence': 0.977}\n",
      "{'text': 'cards', 'start': 24.95, 'end': 25.67, 'confidence': 0.988}\n",
      "{'text': 'every', 'start': 25.67, 'end': 26.17, 'confidence': 0.595}\n",
      "{'text': 'breed', 'start': 27.73, 'end': 28.03, 'confidence': 0.943}\n",
      "{'text': 'of', 'start': 28.03, 'end': 28.23, 'confidence': 0.941}\n",
      "{'text': 'dog', 'start': 28.23, 'end': 28.57, 'confidence': 0.933}\n",
      "{'text': 'every', 'start': 28.57, 'end': 28.75, 'confidence': 0.799}\n",
      "{'text': 'last', 'start': 28.75, 'end': 28.99, 'confidence': 0.912}\n",
      "{'text': 'personal', 'start': 28.99, 'end': 29.39, 'confidence': 0.554}\n",
      "{'text': 'out', 'start': 29.39, 'end': 29.69, 'confidence': 0.448}\n",
      "{'text': 'on', 'start': 29.69, 'end': 29.85, 'confidence': 0.837}\n",
      "{'text': 'Craigslist', 'start': 29.85, 'end': 30.49, 'confidence': 0.036}\n",
      "{'text': 'sesame', 'start': 30.49, 'end': 31.03, 'confidence': 0.504}\n",
      "{'text': 'poppy', 'start': 31.03, 'end': 31.47, 'confidence': 0.678}\n",
      "{'text': 'suit', 'start': 31.47, 'end': 31.79, 'confidence': 0.726}\n",
      "{'text': 'salt', 'start': 31.79, 'end': 32.51, 'confidence': 0.955}\n",
      "{'text': 'and', 'start': 32.51, 'end': 32.93, 'confidence': 0.359}\n",
      "{'text': 'it', 'start': 36.01, 'end': 36.13, 'confidence': 0.786}\n",
      "{'text': 'collapsed', 'start': 36.13, 'end': 36.43, 'confidence': 0.911}\n",
      "{'text': 'in', 'start': 36.43, 'end': 36.67, 'confidence': 0.981}\n",
      "{'text': 'on', 'start': 36.67, 'end': 36.83, 'confidence': 0.961}\n",
      "{'text': 'itself', 'start': 36.83, 'end': 37.33, 'confidence': 0.964}\n",
      "{'text': 'because', 'start': 37.33, 'end': 37.66, 'confidence': 0.371}\n",
      "{'text': 'you', 'start': 40.37, 'end': 40.63, 'confidence': 0.963}\n",
      "{'text': 'see', 'start': 40.63, 'end': 41.17, 'confidence': 0.949}\n",
      "{'text': 'when', 'start': 41.43, 'end': 41.63, 'confidence': 0.284}\n",
      "{'text': 'you', 'start': 47.26, 'end': 47.46, 'confidence': 0.995}\n",
      "{'text': 'really', 'start': 47.46, 'end': 47.86, 'confidence': 0.982}\n",
      "{'text': 'put', 'start': 47.86, 'end': 48.06, 'confidence': 0.995}\n",
      "{'text': 'everything', 'start': 48.06, 'end': 48.68, 'confidence': 0.99}\n",
      "{'text': 'on', 'start': 48.68, 'end': 49.05, 'confidence': 0.917}\n",
      "{'text': 'a', 'start': 50.93, 'end': 51.17, 'confidence': 0.983}\n",
      "{'text': 'bagel', 'start': 51.17, 'end': 51.75, 'confidence': 0.969}\n",
      "{'text': 'it', 'start': 51.75, 'end': 52.13, 'confidence': 0.432}\n",
      "{'text': 'becomes', 'start': 55.67, 'end': 55.99, 'confidence': 0.995}\n",
      "{'text': 'the', 'start': 55.99, 'end': 56.25, 'confidence': 0.985}\n",
      "{'text': 'truth', 'start': 56.25, 'end': 57.02, 'confidence': 0.872}\n",
      "{'text': 'feels', 'start': 79.97, 'end': 80.25, 'confidence': 0.084}\n",
      "{'text': 'kind', 'start': 80.25, 'end': 80.51, 'confidence': 0.653}\n",
      "{'text': 'of', 'start': 80.51, 'end': 80.65, 'confidence': 0.997}\n",
      "{'text': 'nice', 'start': 80.65, 'end': 80.87, 'confidence': 0.985}\n",
      "{'text': \"doesn't\", 'start': 80.87, 'end': 81.21, 'confidence': 0.809}\n",
      "{'text': 'it', 'start': 81.21, 'end': 81.65, 'confidence': 0.988}\n",
      "{'text': 'if', 'start': 82.79, 'end': 83.07, 'confidence': 0.087}\n",
      "{'text': 'nothing', 'start': 83.07, 'end': 83.59, 'confidence': 0.965}\n",
      "{'text': 'matters', 'start': 83.59, 'end': 84.33, 'confidence': 0.981}\n",
      "{'text': 'then', 'start': 84.33, 'end': 84.8, 'confidence': 0.75}\n",
      "{'text': 'all', 'start': 87.21, 'end': 87.33, 'confidence': 0.935}\n",
      "{'text': 'the', 'start': 87.33, 'end': 87.63, 'confidence': 0.969}\n",
      "{'text': 'pain', 'start': 87.63, 'end': 87.97, 'confidence': 0.966}\n",
      "{'text': 'and', 'start': 87.97, 'end': 88.23, 'confidence': 0.81}\n",
      "{'text': 'guilt', 'start': 88.23, 'end': 88.43, 'confidence': 0.951}\n",
      "{'text': 'you', 'start': 88.55, 'end': 88.75, 'confidence': 0.054}\n",
      "{'text': 'feel', 'start': 88.75, 'end': 89.79, 'confidence': 0.969}\n",
      "{'text': 'for', 'start': 89.79, 'end': 90.51, 'confidence': 0.54}\n",
      "{'text': 'having', 'start': 90.51, 'end': 91.03, 'confidence': 0.995}\n",
      "{'text': 'failed', 'start': 91.03, 'end': 91.45, 'confidence': 0.978}\n",
      "{'text': 'me', 'start': 91.45, 'end': 91.99, 'confidence': 0.993}\n",
      "{'text': 'goes', 'start': 95.97, 'end': 96.22, 'confidence': 0.15}\n",
      "{'text': 'away', 'start': 96.22, 'end': 96.44, 'confidence': 0.881}\n",
      "{'text': 'to', 'start': 96.44, 'end': 96.96, 'confidence': 0.536}\n",
      "{'text': 'sucked', 'start': 100.31, 'end': 100.85, 'confidence': 0.577}\n",
      "{'text': 'into', 'start': 100.85, 'end': 101.51, 'confidence': 0.919}\n",
      "{'text': 'sucked', 'start': 108.96, 'end': 110.33, 'confidence': 0.001}\n",
      "{'text': 'into', 'start': 112.7, 'end': 114.36, 'confidence': 0.815}\n",
      "{'text': 'the', 'start': 114.36, 'end': 114.75, 'confidence': 0.968}\n",
      "{'text': 'bagel', 'start': 116.15, 'end': 117.44, 'confidence': 0.898}\n",
      "{'text': 'sucked', 'start': 119.66, 'end': 120.12, 'confidence': 0.112}\n",
      "{'text': 'into', 'start': 120.12, 'end': 120.14, 'confidence': 0.899}\n",
      "{'text': 'the', 'start': 120.14, 'end': 120.16, 'confidence': 0.965}\n",
      "{'text': 'bagel', 'start': 120.16, 'end': 120.18, 'confidence': 0.995}\n",
      "{'text': 'sucked', 'start': 120.18, 'end': 120.3, 'confidence': 0.199}\n",
      "{'text': 'into', 'start': 120.3, 'end': 121.05, 'confidence': 0.905}\n",
      "{'text': 'the', 'start': 122.5, 'end': 123.8, 'confidence': 0.97}\n",
      "{'text': 'bagel', 'start': 123.8, 'end': 124.77, 'confidence': 0.976}\n"
     ]
    }
   ],
   "source": [
    "word_alignment = []\n",
    "for i in range(0,len(result_word[\"segments\"])):\n",
    "    word_alignment = word_alignment + result_word[\"segments\"][i][\"words\"]\n",
    "for i in word_alignment:\n",
    "    print(i)"
   ]
  },
  {
   "attachments": {},
   "cell_type": "markdown",
   "metadata": {},
   "source": [
    "## Visualizing Whisper"
   ]
  },
  {
   "cell_type": "code",
   "execution_count": 21,
   "metadata": {},
   "outputs": [
    {
     "data": {
      "text/plain": [
       "'/Volumes/EVAN_DISK/MASC/Ribhav_processed_dataset/video/Ronen Rubinstein Self Tape.mp4'"
      ]
     },
     "execution_count": 21,
     "metadata": {},
     "output_type": "execute_result"
    }
   ],
   "source": [
    "video_path"
   ]
  },
  {
   "cell_type": "code",
   "execution_count": 22,
   "metadata": {},
   "outputs": [],
   "source": [
    "video_path = os.path.join(*[base_dataset_location, \"video\", file_name[:-2]+\".mp4\"])\n",
    "whisper_video_path = \"/Users/evanpan/Desktop/whisper_test2.mp4\"\n",
    "\n",
    "# Load video\n",
    "cap = cv.VideoCapture(video_path)\n",
    "\n",
    "# Get video properties\n",
    "fps = int(cap.get(cv.CAP_PROP_FPS))\n",
    "frame_width = int(cap.get(cv.CAP_PROP_FRAME_WIDTH))\n",
    "frame_height = int(cap.get(cv.CAP_PROP_FRAME_HEIGHT))\n",
    "\n",
    "# Define font for annotation\n",
    "font = cv.FONT_HERSHEY_SIMPLEX\n",
    "font_scale = 1\n",
    "font_color = (0, 255, 0)\n",
    "line_type = 2\n",
    "\n",
    "# Define array of gaze clustering labels\n",
    "# Define output video file\n",
    "fourcc = cv.VideoWriter_fourcc(*\"mp4v\")\n",
    "out = cv.VideoWriter(whisper_video_path, fourcc, fps, (frame_width, frame_height))\n",
    "\n",
    "# Loop through video frames\n",
    "frame_count = 0\n",
    "while cap.isOpened():\n",
    "    ret, frame = cap.read()\n",
    "\n",
    "    # Check if end of video\n",
    "    if not ret:\n",
    "        break\n",
    "    # Read frame from video\n",
    "    if frame_count >= shot_range[0] and frame_count < shot_range[1]:\n",
    "        # Add annotation to frame\n",
    "        t = (frame_count-shot_range[0]) / fps\n",
    "        label = \"\"\n",
    "        for i in range(0, len(word_alignment)):\n",
    "            if word_alignment[i][\"start\"] <= t and word_alignment[i][\"end\"] >= t:\n",
    "                label = word_alignment[i][\"text\"]\n",
    "        # print(label)\n",
    "        font_color = (0, 255, 0)\n",
    "        cv.putText(frame, label, (10, 30), font, font_scale, font_color, line_type)\n",
    "\n",
    "        # Write out frame with annotation to output video file\n",
    "        out.write(frame)\n",
    "\n",
    "    # Increment frame count\n",
    "    frame_count += 1\n",
    "\n",
    "# Release video capture and close output file\n",
    "cap.release()\n",
    "out.release()\n",
    "cv.destroyAllWindows()\n"
   ]
  },
  {
   "cell_type": "code",
   "execution_count": 23,
   "metadata": {},
   "outputs": [
    {
     "data": {
      "text/plain": [
       "'/Volumes/EVAN_DISK/MASC/Ribhav_processed_dataset/video/Stephanie Hsu ‘Everything Everywhere All At Once’ Audition.mp4'"
      ]
     },
     "execution_count": 23,
     "metadata": {},
     "output_type": "execute_result"
    }
   ],
   "source": [
    "video_path"
   ]
  },
  {
   "cell_type": "code",
   "execution_count": null,
   "metadata": {},
   "outputs": [],
   "source": []
  },
  {
   "cell_type": "code",
   "execution_count": null,
   "metadata": {},
   "outputs": [],
   "source": []
  }
 ],
 "metadata": {
  "kernelspec": {
   "display_name": "mediapipe",
   "language": "python",
   "name": "python3"
  },
  "language_info": {
   "codemirror_mode": {
    "name": "ipython",
    "version": 3
   },
   "file_extension": ".py",
   "mimetype": "text/x-python",
   "name": "python",
   "nbconvert_exporter": "python",
   "pygments_lexer": "ipython3",
   "version": "3.10.9"
  },
  "orig_nbformat": 4
 },
 "nbformat": 4,
 "nbformat_minor": 2
}
