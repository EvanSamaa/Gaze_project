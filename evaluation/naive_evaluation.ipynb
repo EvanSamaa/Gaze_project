{
 "cells": [
  {
   "cell_type": "code",
   "execution_count": 1,
   "metadata": {},
   "outputs": [],
   "source": [
    "import json\n",
    "import cv2 as cv\n",
    "import pickle as pkl\n",
    "from typing import Dict, List\n",
    "import numpy as np\n",
    "from matplotlib import pyplot as plt\n",
    "import os, sys\n",
    "import librosa\n",
    "\n",
    "from scipy import stats, spatial, ndimage\n",
    "sys.path.insert(0, '/Users/evanpan/Documents/GitHub/EvansToolBox/Utils')\n",
    "sys.path.insert(0, '/Users/evanpan/Documents/GitHub/Gaze_project')\n",
    "sys.path.insert(0, \"C:/Users/evansamaa/Documents/GitHub/EvansToolBox/Utils\")\n",
    "sys.path.insert(0, \"C:/Users/evansamaa/Documents/GitHub/Gaze_project\")\n",
    "from Signal_processing_utils import intensity_from_signal, pitch_from_signal, sparse_key_smoothing, laplacian_smoothing\n",
    "from Speech_Data_util import Sentence_word_phone_parser\n",
    "from prototypes.InputDataStructures import Dietic_Conversation_Gaze_Scene_Info\n",
    "from prototypes.MVP.MVP_static_saliency_list import ObjectBasedFixSaliency\n",
    "from prototypes.MVP.MVP_Aversion_saliency_list import AversionSignalDrivenSaliency, CTSAversionSignalDrivenSaliency\n",
    "from prototypes.MVP.MVP_look_at_point_planner import HabituationBasedPlanner, RandomPlanner, PartnerHabituationPlanner\n",
    "from prototypes.MVP.MVP_eye_head_driver import HeuristicGazeMotionGenerator\n",
    "from prototypes.MVP.MVP_Aversion_saliency_list import Base_Static_Saliency_List\n",
    "from prototypes.EyeCatch.Saccade_model_with_internal_model import *\n",
    "from prototypes.Gaze_aversion_prior.Heuristic_model import *\n",
    "from prototypes.Boccignone2020.Gaze_target_planner import Scavenger_based_planner\n",
    "from prototypes.Boccignone2020.Improved_gaze_target_planner import Scavenger_planner_with_nest, Scavenger_planner_simple \n",
    "from prototypes.JaliNeck.JaliNeck import NeckCurve\n",
    "from prototypes.Gaze_aversion_prior.Ribhav_model import predict_aversion\n",
    "from prototypes.InputDataStructures import AgentInfo, TurnTakingData\n",
    "from prototypes.MVP.MVP_gaze_path_planner import Responsive_planner_simple\n",
    "from multimatch import compute as get_multimatch\n",
    "import pickle\n",
    "import math\n",
    "from datetime import datetime, timezone\n",
    "import scipy.stats as ss\n",
    "from Signal_processing_utils import interpolate1D, runEuro\n",
    "import numpy as np\n",
    "from scipy.interpolate import interp1d"
   ]
  },
  {
   "cell_type": "code",
   "execution_count": 2,
   "metadata": {},
   "outputs": [],
   "source": [
    "%load_ext autoreload\n",
    "%autoreload 1\n",
    "%aimport prototypes.InputDataStructures\n",
    "%aimport Signal_processing_utils\n",
    "%aimport Speech_Data_util\n",
    "%aimport prototypes.MVP.MVP_static_saliency_list\n",
    "%aimport prototypes.EyeCatch.Saccade_model_with_internal_model\n",
    "%aimport prototypes.InputDataStructures\n",
    "%aimport prototypes.Jin2019.EyeHeadDecomposition\n",
    "%aimport prototypes.Optimization_based_head_eye_seperator.Baseline_optimization\n",
    "%aimport prototypes.Boccignone2020.Improved_gaze_target_planner\n",
    "%aimport prototypes.MVP.MVP_gaze_path_planner\n",
    "%aimport prototypes.JaliNeck.JaliNeck\n",
    "%aimport multimatch\n",
    "\n"
   ]
  },
  {
   "cell_type": "code",
   "execution_count": 5,
   "metadata": {},
   "outputs": [],
   "source": [
    "# inputs\n",
    "input_folder = \"/Volumes/EVAN_DISK/MASC/Ribhav_processed_dataset/\"\n",
    "input_folder = \"F:/MASC/Ribhav_processed_dataset/\"\n",
    "# input_file = \"Stranger Things’ Dacre Montgomery’s Insane _Billy_ Audition Tape ｜ GQ\"\n",
    "input_file = \"Madelaine Petsch audition for The Prom\"\n",
    "\n",
    "input_scene_data_path = \"/Users/evanpan/Documents/GitHub/Gaze_project/data/look_at_points/simplest_scene.json\"\n",
    "speaker_id = 1\n",
    "shot_id = 1\n",
    "turn_taking_threshold = 2\n",
    "fps = 24\n",
    "np.random.seed(speaker_id + shot_id)\n"
   ]
  },
  {
   "cell_type": "markdown",
   "metadata": {},
   "source": [
    "### Gather The transcript and Audio From Jali (because it's more reliable)"
   ]
  },
  {
   "cell_type": "code",
   "execution_count": 4,
   "metadata": {},
   "outputs": [
    {
     "ename": "NameError",
     "evalue": "name 'scene_data_path' is not defined",
     "output_type": "error",
     "traceback": [
      "\u001b[0;31m---------------------------------------------------------------------------\u001b[0m",
      "\u001b[0;31mNameError\u001b[0m                                 Traceback (most recent call last)",
      "Cell \u001b[0;32mIn[4], line 26\u001b[0m\n\u001b[1;32m     24\u001b[0m audio_1, sr\u001b[39m=\u001b[39m librosa\u001b[39m.\u001b[39mload(audio_1_path, sr\u001b[39m=\u001b[39m\u001b[39m44100\u001b[39m)\n\u001b[1;32m     25\u001b[0m audio_2, sr\u001b[39m=\u001b[39m librosa\u001b[39m.\u001b[39mload(audio_2_path, sr\u001b[39m=\u001b[39m\u001b[39m44100\u001b[39m)\n\u001b[0;32m---> 26\u001b[0m agentScene1 \u001b[39m=\u001b[39m AgentInfo(scene_data_path)\n\u001b[1;32m     27\u001b[0m agentScene2 \u001b[39m=\u001b[39m AgentInfo(scene_data_path)\n",
      "\u001b[0;31mNameError\u001b[0m: name 'scene_data_path' is not defined"
     ]
    }
   ],
   "source": [
    "\n",
    "input_file_no_space = \"_\".join(input_file.split(\" \"))\n",
    "# input_file_no_space = \"'\" + input_file_no_space + \"'\"\n",
    "shot_file_name = os.path.join(os.path.join(os.path.join(input_folder, \"shots\"), input_file), \"shot_cuts.json\")\n",
    "video_path = os.path.join(*[input_folder, \"video\", input_file+\".mp4\"])\n",
    "audio_1_path = os.path.join(os.path.join(os.path.join(input_folder, \"JaliTranscript\"), input_file_no_space), \"shot_{}_{}.wav\".format(shot_id, 1))\n",
    "audio_2_path = os.path.join(os.path.join(os.path.join(input_folder, \"JaliTranscript\"), input_file_no_space), \"shot_{}_{}.wav\".format(shot_id, 2))\n",
    "script_1_path = os.path.join(os.path.join(os.path.join(input_folder, \"JaliTranscript\"), input_file_no_space), \"shot_{}_{}.txt\".format(shot_id, 1))\n",
    "script_2_path = os.path.join(os.path.join(os.path.join(input_folder, \"JaliTranscript\"), input_file_no_space), \"shot_{}_{}.txt\".format(shot_id, 2))\n",
    "praatoutput_1_path = os.path.join(os.path.join(os.path.join(input_folder, \"JaliTranscript\"), input_file_no_space), \"shot_{}_{}_PraatOutput.txt\".format(shot_id, 1))\n",
    "praatoutput_2_path = os.path.join(os.path.join(os.path.join(input_folder, \"JaliTranscript\"), input_file_no_space), \"shot_{}_{}_PraatOutput.txt\".format(shot_id, 2))\n",
    "head_direction_json_path = os.path.join(*[input_folder, \"pose\", input_file+\".pkl\"])\n",
    "gaze_direction_json_path = os.path.join(*[input_folder, \"L2CSNet\", input_file+\".json\"])\n",
    "landmarks_mediapipe_json_path = os.path.join(*[input_folder, \"faces\", input_file+\" faces.pkl\"])\n",
    "scene_file_out_location = os.path.join(*[input_folder, \"annotated_scene\", input_file+\".json\"])\n",
    "animation_file_path = os.path.join(*[input_folder, \"outputs\", input_file+\".pkl\"])\n",
    "animation_file_gaze_deploy_path = os.path.join(*[input_folder, \"outputs\", input_file+\"_gaze_deploy.pkl\"])\n",
    "animation_file_static_salience_path = os.path.join(*[input_folder, \"outputs\", input_file+\"_static_salience_map.pkl\"])\n",
    "animation_file_stare_location = os.path.join(*[input_folder, \"outputs\", input_file+\"_stare.pkl\"])\n",
    "\n",
    "# out_location = \"/Users/evanpan/Documents/GitHub/Gaze_project/data/look_at_points/prototype2p2.pkl\"\n",
    "# out_location = \"C:/Users/evansamaa/Documents/GitHub/Gaze_project/data/look_at_points/prototype2p2.pkl\"\n",
    "\n",
    "sementic_script_1 = Sentence_word_phone_parser(praatoutput_1_path, script_1_path)\n",
    "# sementic_script_1.get_turns(turn_taking_threshold)\n",
    "sementic_script_2 = Sentence_word_phone_parser(praatoutput_2_path, script_2_path)\n",
    "# sementic_script_2.get_turns(turn_taking_threshold)\n",
    "audio_1, sr= librosa.load(audio_1_path, sr=44100)\n",
    "audio_2, sr= librosa.load(audio_2_path, sr=44100)\n",
    "agentScene1 = AgentInfo(scene_file_out_location, wonder=False)\n",
    "agentScene2 = AgentInfo(scene_file_out_location, wonder=False)"
   ]
  },
  {
   "cell_type": "markdown",
   "metadata": {},
   "source": [
    "# Load video info (From annotation)"
   ]
  },
  {
   "cell_type": "code",
   "execution_count": 7,
   "metadata": {},
   "outputs": [],
   "source": [
    "# load head angle data\n",
    "all_head_data = pkl.load(open(head_direction_json_path, \"rb\"))\n",
    "head_angle_data = all_head_data[\"HEAD\"]\n",
    "head_rotmat_per_frame = head_angle_data[\"ROTMAT\"]\n",
    "head_bbox_per_frame = all_head_data[\"BBOX\"] # this is largely useless \n",
    "head_angle_per_frame = []\n",
    "neutral_position = np.array([0, 0, 100])\n",
    "for i in range(0, head_rotmat_per_frame.shape[0]):\n",
    "    pos = head_rotmat_per_frame[i] @ neutral_position\n",
    "    head_angle_per_frame.append(rotation_angles_frome_positions(pos[:]))\n",
    "head_angle_per_frame = np.array(head_angle_per_frame)\n",
    "# getting rotation angle in z direction\n",
    "neutral_position2 = np.array([0, 100, 0])\n",
    "head_angle_z_per_frame = []\n",
    "for i in range(0, head_rotmat_per_frame.shape[0]):\n",
    "    pos = head_rotmat_per_frame[i] @ neutral_position2\n",
    "    pos = np.array([pos[1], pos[2], pos[0]])\n",
    "    head_angle_z_per_frame.append(rotation_angles_frome_positions(pos)[1])\n",
    "head_angle_xy_per_frame = np.array(head_angle_per_frame)\n",
    "head_angle_z_per_frame = np.expand_dims(np.array(head_angle_z_per_frame), axis=1)\n",
    "head_angle_per_frame = np.concatenate([head_angle_xy_per_frame, head_angle_z_per_frame], axis=1)\n",
    "\n",
    "# load gaze data (L2CS)\n",
    "all_gaze_data = pkl.load(open(gaze_direction_json_path, \"rb\"))\n",
    "gaze_angle_data = all_gaze_data[\"RAW_GAZE\"]\n",
    "gaze_angle_per_frame = gaze_angle_data[\"EULER\"]\n",
    "gaze_rotmat_per_frame = gaze_angle_data[\"ROTMAT\"]\n",
    "blinks = all_head_data[\"BLINKS\"]\n",
    "gaze_vec = np.array([0, 0, 100])\n",
    "eye_angle_per_frame = []\n",
    "for i in range(0, gaze_rotmat_per_frame.shape[0]):\n",
    "    eye_line = gaze_rotmat_per_frame[i] @ gaze_vec\n",
    "    eye_line = eye_line / eye_line[2] * 100\n",
    "    eye_angle_per_frame.append(eye_line)\n",
    "eye_angle_per_frame = np.array(eye_angle_per_frame)\n",
    "eye_angle_per_frame = rotation_angles_frome_positions(eye_angle_per_frame[:])\n",
    "\n",
    "# time vector\n",
    "video_ts = np.arange(0, eye_angle_per_frame.shape[0])/fps\n",
    "gt_interp = interp1d(video_ts, eye_angle_per_frame, axis=0)"
   ]
  },
  {
   "attachments": {},
   "cell_type": "markdown",
   "metadata": {},
   "source": [
    "# Load generated motion"
   ]
  },
  {
   "cell_type": "code",
   "execution_count": 8,
   "metadata": {},
   "outputs": [],
   "source": [
    "def load_animation(filepath):\n",
    "    output_json = pkl.load(open(filepath, \"rb\"))\n",
    "    predicted_eye_positions = output_json[\"eye_frames\"] # ek is in local space\n",
    "    predicted_head_angles = output_json[\"head_frames\"] # hk are just angles\n",
    "    ms = output_json[\"micro_saccade\"]\n",
    "    neck = output_json[\"other_neck\"]\n",
    "    envelope = output_json[\"envelope\"]\n",
    "    return predicted_eye_positions, predicted_head_angles, ms, neck, envelope\n",
    "# load file\n",
    "ek, hk, ms, neck, envelope = load_animation(animation_file_path)\n",
    "gp_ek, gp_hk, gp_ms, gp_neck, gp_envelope = load_animation(animation_file_gaze_deploy_path)\n",
    "ss_ek, ss_hk, ss_ms, ss_neck, ss_envelope = load_animation(animation_file_static_salience_path)\n",
    "st_ek, st_hk, st_ms, st_neck, st_envelope = load_animation(animation_file_stare_location)\n",
    "ek = np.array(ek)[0]\n",
    "ts = ek[:, 0]\n",
    "ek_interp = interp1d(ts, rotation_angles_frome_positions(ek[:, 1:]), axis=0, bounds_error=False)\n",
    "\n",
    "gp_ek = np.array(gp_ek)[0]\n",
    "gp_ts = gp_ek[:, 0]\n",
    "gp_ek_interp = interp1d(gp_ts, rotation_angles_frome_positions(gp_ek[:, 1:]), axis=0, bounds_error=False)\n",
    "\n",
    "ss_ek = np.array(ss_ek)[0]\n",
    "ss_ts = ss_ek[:, 0]\n",
    "ss_ek_interp = interp1d(ss_ts, rotation_angles_frome_positions(ss_ek[:, 1:]), axis=0, bounds_error=False)\n",
    "\n",
    "st_ek = np.array(st_ek)[0]\n",
    "st_ts = st_ek[:, 0]\n",
    "st_ek_interp = interp1d(st_ts, rotation_angles_frome_positions(st_ek[:, 1:]), axis=0, bounds_error=False)"
   ]
  },
  {
   "attachments": {},
   "cell_type": "markdown",
   "metadata": {},
   "source": [
    "# MSE evaluation"
   ]
  },
  {
   "cell_type": "code",
   "execution_count": 10,
   "metadata": {},
   "outputs": [
    {
     "name": "stdout",
     "output_type": "stream",
     "text": [
      "MSE error of the just staring at conversation partner is:  0.2831221240527889\n",
      "MSE error of the gaze-deploy system with a static saliency map is:  0.3375582080131861\n",
      "MSE error of the gaze-deploy system with the turn taking salience map is :  0.4874721740238694\n",
      "MSE error of the proposed system is:  0.3750286288089286\n"
     ]
    }
   ],
   "source": [
    "evaluation_fps = 24\n",
    "start = int(np.round(ss_ts[0] * evaluation_fps))\n",
    "end = int(np.round((ss_ts[-1] - 5) * evaluation_fps))\n",
    "times = np.arange(start, end) /evaluation_fps\n",
    "\n",
    "# get aligned look-at-point positions\n",
    "gt = gt_interp(times)\n",
    "method_mine = ek_interp(times)\n",
    "method_gd = gp_ek_interp(times)\n",
    "method_ss = ss_ek_interp(times)\n",
    "method_st = st_ek_interp(times)\n",
    "# get the MSE errors\n",
    "mse_mine = np.linalg.norm(gt - method_mine) / gt.shape[0]\n",
    "mse_gd = np.linalg.norm(gt - method_gd) / gt.shape[0]\n",
    "mse_static = np.linalg.norm(gt - method_ss) / gt.shape[0]\n",
    "mse_stare = np.linalg.norm(gt - method_st)/ gt.shape[0]\n",
    "\n",
    "print(\"MSE error of the just staring at conversation partner is: \", mse_stare)\n",
    "print(\"MSE error of the gaze-deploy system with a static saliency map is: \", mse_static)\n",
    "print(\"MSE error of the gaze-deploy system with the turn taking salience map is : \", mse_gd)\n",
    "print(\"MSE error of the proposed system is: \", mse_mine)"
   ]
  },
  {
   "attachments": {},
   "cell_type": "markdown",
   "metadata": {},
   "source": [
    "# Gaze target Accuracy"
   ]
  },
  {
   "cell_type": "code",
   "execution_count": 11,
   "metadata": {},
   "outputs": [
    {
     "name": "stdout",
     "output_type": "stream",
     "text": [
      "Cluster Accuracy of the just staring at conversation partner is:  0.773821299043851\n",
      "Cluster Accuracy of the gaze-deploy system with a static saliency map is:  0.699967029343884\n",
      "Cluster Accuracy of the gaze-deploy system with the turn taking salience map is :  0.37619518628420706\n",
      "Cluster Accuracy of the proposed system is:  0.5654467523903726\n"
     ]
    }
   ],
   "source": [
    "# get aligned look-at-point positions\n",
    "gt = gt_interp(times)\n",
    "method_mine = ek_interp(times)\n",
    "method_gd = gp_ek_interp(times)\n",
    "method_ss = ss_ek_interp(times)\n",
    "method_st = st_ek_interp(times)\n",
    "\n",
    "# get the cluster centers\n",
    "centers = agentScene1.get_all_positions(coordinate_space=\"local\")\n",
    "centers = rotation_angles_frome_positions(centers)\n",
    "\n",
    "# given raw datas, cluster them to the cluster centers as per distance\n",
    "def get_gaze_targets(raw_data, centers):\n",
    "    out = []\n",
    "    for i in range(0, raw_data.shape[0]):\n",
    "        pt = raw_data[i:i+1]\n",
    "        dist = np.linalg.norm(pt - centers, axis=1)\n",
    "        out.append(np.argmin(dist))\n",
    "    return np.array(out)\n",
    "\n",
    "# get the clustering\n",
    "gt_cluster = get_gaze_targets(gt, centers)\n",
    "mine_cluster = get_gaze_targets(method_mine, centers)\n",
    "gd_cluster = get_gaze_targets(method_gd, centers)\n",
    "ss_cluster = get_gaze_targets(method_ss, centers)\n",
    "st_cluster = get_gaze_targets(method_st, centers)\n",
    "\n",
    "\n",
    "# compute accuracy\n",
    "mine_accuracy = np.sum(np.where(gt_cluster == mine_cluster, 1, 0) / gt_cluster.shape[0])\n",
    "gd_accuracy = np.sum(np.where(gt_cluster == gd_cluster, 1, 0) / gt_cluster.shape[0])\n",
    "ss_accuracy = np.sum(np.where(gt_cluster == ss_cluster, 1, 0) / gt_cluster.shape[0])\n",
    "st_accuracy = np.sum(np.where(gt_cluster == st_cluster, 1, 0) / gt_cluster.shape[0])\n",
    "\n",
    "print(\"Cluster Accuracy of the just staring at conversation partner is: \", st_accuracy)\n",
    "print(\"Cluster Accuracy of the gaze-deploy system with a static saliency map is: \", ss_accuracy)\n",
    "print(\"Cluster Accuracy of the gaze-deploy system with the turn taking salience map is : \", gd_accuracy)\n",
    "print(\"Cluster Accuracy of the proposed system is: \", mine_accuracy)"
   ]
  },
  {
   "cell_type": "code",
   "execution_count": 16,
   "metadata": {},
   "outputs": [
    {
     "data": {
      "image/png": "[encoded data removed]",
      "text/plain": [
       "<Figure size 640x480 with 1 Axes>"
      ]
     },
     "metadata": {},
     "output_type": "display_data"
    }
   ],
   "source": [
    "from matplotlib import pyplot as plt\n",
    "plt.title(\"my result clustering result\")\n",
    "plt.scatter(method_mine[:, 0], method_mine[:, 1], c=mine_cluster, s=40, cmap='viridis');  \n",
    "plt.scatter(centers[:, 0], centers[:, 1], marker=\"*\", c=\"r\")\n",
    "plt.show()"
   ]
  },
  {
   "attachments": {},
   "cell_type": "markdown",
   "metadata": {},
   "source": [
    "# Aversion Prediction Accuracy"
   ]
  },
  {
   "cell_type": "code",
   "execution_count": 112,
   "metadata": {},
   "outputs": [
    {
     "name": "stdout",
     "output_type": "stream",
     "text": [
      "Cluster Accuracy of the just staring at conversation partner is:  0.773821299043851\n",
      "Cluster Accuracy of the gaze-deploy system with a static saliency map is:  0.7500824266402901\n",
      "Cluster Accuracy of the gaze-deploy system with the turn taking salience map is :  0.49686778766897455\n",
      "Cluster Accuracy of the proposed system is:  0.663369601055061\n"
     ]
    }
   ],
   "source": [
    "# get aligned look-at-point positions\n",
    "gt = gt_interp(times)\n",
    "method_mine = ek_interp(times)\n",
    "method_gd = gp_ek_interp(times)\n",
    "method_ss = ss_ek_interp(times)\n",
    "method_st = st_ek_interp(times)\n",
    "\n",
    "# get the cluster centers\n",
    "centers = agentScene1.get_all_positions(coordinate_space=\"local\")\n",
    "centers = rotation_angles_frome_positions(centers)\n",
    "\n",
    "# given raw datas, cluster them to the cluster centers as per distance\n",
    "def get_gaze_targets(raw_data, centers):\n",
    "    out = []\n",
    "    for i in range(0, raw_data.shape[0]):\n",
    "        pt = raw_data[i:i+1]\n",
    "        dist = np.linalg.norm(pt - centers, axis=1)\n",
    "        out.append(np.argmin(dist))\n",
    "    return np.array(out)\n",
    "\n",
    "# get the clustering\n",
    "gt_cluster = get_gaze_targets(gt, centers)\n",
    "mine_cluster = get_gaze_targets(method_mine, centers)\n",
    "gd_cluster = get_gaze_targets(method_gd, centers)\n",
    "ss_cluster = get_gaze_targets(method_ss, centers)\n",
    "st_cluster = get_gaze_targets(method_st, centers)\n",
    "\n",
    "\n",
    "# binary clustering\n",
    "conversation_partner_id = len(agentScene1.object_interest)\n",
    "gt_binary_cluster = np.where(conversation_partner_id == gt_cluster, 1, 0)\n",
    "mine_binary_cluster = np.where(conversation_partner_id == mine_cluster, 1, 0)\n",
    "gd_binary_cluster = np.where(conversation_partner_id == gd_cluster, 1, 0) \n",
    "ss_binary_cluster = np.where(conversation_partner_id == ss_cluster, 1, 0) \n",
    "st_binary_cluster = np.where(conversation_partner_id == st_cluster, 1, 0)\n",
    "\n",
    "# compute accuracy\n",
    "mine_accuracy = np.sum(np.where(gt_binary_cluster == mine_binary_cluster, 1, 0) / gt_cluster.shape[0])\n",
    "gd_accuracy = np.sum(np.where(gt_binary_cluster == gd_binary_cluster, 1, 0) / gt_cluster.shape[0])\n",
    "ss_accuracy = np.sum(np.where(gt_binary_cluster == ss_binary_cluster, 1, 0) / gt_cluster.shape[0])\n",
    "st_accuracy = np.sum(np.where(gt_binary_cluster == st_binary_cluster, 1, 0) / gt_cluster.shape[0])\n",
    "\n",
    "print(\"Cluster Accuracy of the just staring at conversation partner is: \", st_accuracy)\n",
    "print(\"Cluster Accuracy of the gaze-deploy system with a static saliency map is: \", ss_accuracy)\n",
    "print(\"Cluster Accuracy of the gaze-deploy system with the turn taking salience map is : \", gd_accuracy)\n",
    "print(\"Cluster Accuracy of the proposed system is: \", mine_accuracy)"
   ]
  },
  {
   "attachments": {},
   "cell_type": "markdown",
   "metadata": {},
   "source": [
    "# Multi-match Similarity Measures"
   ]
  },
  {
   "cell_type": "code",
   "execution_count": 139,
   "metadata": {},
   "outputs": [
    {
     "name": "stdout",
     "output_type": "stream",
     "text": [
      "===== The multimatch score for just stare: \n",
      "Vector similarity = 0.9961455948028479\n",
      "Direction similarity = 0.551662782794586\n",
      "Length similarity = 0.9922911896056958\n",
      "Position similarity = 0.9847487363814672\n",
      "Duration similarity = 0.4185285053929122\n",
      "===== The multimatch score for random: \n",
      "Vector similarity = 0.9921724300587407\n",
      "Direction similarity = 0.5023332026725033\n",
      "Length similarity = 0.9932877986952642\n",
      "Position similarity = 0.9794020346967356\n",
      "Duration similarity = 0.9972401103955841\n",
      "===== The multimatch score for gaze deploy: \n",
      "Vector similarity = 0.9851563820303436\n",
      "Direction similarity = 0.6407205406184648\n",
      "Length similarity = 0.9767577755587973\n",
      "Position similarity = 0.8788491630317503\n",
      "Duration similarity = 0.9949874559212993\n",
      "===== The multimatch score for mine: \n",
      "Vector similarity = 0.9942761850528068\n",
      "Direction similarity = 0.6038210003810346\n",
      "Length similarity = 0.9914969865590534\n",
      "Position similarity = 0.9355220998949743\n",
      "Duration similarity = 0.9916380296418756\n"
     ]
    }
   ],
   "source": [
    "# get scan path\n",
    "gt = gt_interp(times)\n",
    "method_mine = ek_interp(times)\n",
    "method_gd = gp_ek_interp(times)\n",
    "method_ss = ss_ek_interp(times)\n",
    "method_st = st_ek_interp(times)\n",
    "\n",
    "def dispersion_filtering(x, y, dispersion_threshold = 6, duraiton_threshold=0.2):\n",
    "    start = 0\n",
    "    window = []\n",
    "    fps = int(np.round(1/(x[1] - x[0])))\n",
    "    duration_threshold_frames = np.ceil(duraiton_threshold * fps)\n",
    "\n",
    "    def dispersion(arr):\n",
    "        # input is a 2d array\n",
    "        disp = np.max(arr[:, 0]) - np.min(arr[:, 0]) + np.max(arr[:, 1]) - np.min(arr[:, 1])\n",
    "        return disp\n",
    "\n",
    "    fixations = []\n",
    "    # while there are still points\n",
    "    while int(start+duration_threshold_frames) < y.shape[0]:\n",
    "        # initialize a window:\n",
    "        window = list(range(int(start), int(start+duration_threshold_frames)))\n",
    "        start = start + duration_threshold_frames\n",
    "        disp = dispersion(y[window])\n",
    "        while disp <= dispersion_threshold:\n",
    "            disp = dispersion(y[window])\n",
    "            if window[-1]+1 < y.shape[0]:\n",
    "                window.append(window[-1]+1)\n",
    "            start = start + 1\n",
    "            if start >= y.shape[0]:\n",
    "                break\n",
    "            \n",
    "        # if the current set of points never fit the duration criteria\n",
    "        if len(window) <= duration_threshold_frames:\n",
    "            start = start + 1\n",
    "        # otherwise note it as fixations\n",
    "        else:\n",
    "            centroid = np.mean(y[window], axis=0)\n",
    "            duration = (window[-1] - window[0]) / fps\n",
    "            fixations.append([centroid[0], centroid[1], duration])\n",
    "    fixations = np.array(fixations)\n",
    "    return fixations\n",
    "gt_fixation = dispersion_filtering(times, gt)\n",
    "mine_fixation = dispersion_filtering(times, method_mine)\n",
    "gd_fixation = dispersion_filtering(times, method_gd)\n",
    "ss_fixation = dispersion_filtering(times, method_ss)\n",
    "st_fixation = dispersion_filtering(times, method_st)\n",
    "st_fixation = np.concatenate([st_fixation, st_fixation + np.array([[0, 0 ,0]]), st_fixation + np.array([[0, 0 ,0]])], axis=0)\n",
    "\n",
    "doprint = True\n",
    "print(\"===== The multimatch score for just stare: \")\n",
    "out_st = get_multimatch(gt_fixation, st_fixation, doprint=doprint)\n",
    "print(\"===== The multimatch score for random: \")\n",
    "out_ss = get_multimatch(gt_fixation, ss_fixation, doprint=doprint)\n",
    "print(\"===== The multimatch score for gaze deploy: \")\n",
    "out_gd = get_multimatch(gt_fixation, gd_fixation, doprint=doprint)\n",
    "print(\"===== The multimatch score for mine: \")\n",
    "out_proposed = get_multimatch(gt_fixation, mine_fixation, doprint=doprint)\n",
    "\n"
   ]
  },
  {
   "attachments": {},
   "cell_type": "markdown",
   "metadata": {},
   "source": [
    "# Scan-match Similarity Measures"
   ]
  },
  {
   "cell_type": "code",
   "execution_count": 144,
   "metadata": {},
   "outputs": [
    {
     "ename": "ModuleNotFoundError",
     "evalue": "No module named 'ScanMatchPy'",
     "output_type": "error",
     "traceback": [
      "\u001b[1;31m---------------------------------------------------------------------------\u001b[0m",
      "\u001b[1;31mModuleNotFoundError\u001b[0m                       Traceback (most recent call last)",
      "\u001b[1;32mc:\\Users\\evansamaa\\Documents\\GitHub\\Gaze_project\\evaluation\\naive_evaluation.ipynb Cell 19\u001b[0m in \u001b[0;36m<cell line: 1>\u001b[1;34m()\u001b[0m\n\u001b[1;32m----> <a href='vscode-notebook-cell:/c%3A/Users/evansamaa/Documents/GitHub/Gaze_project/evaluation/naive_evaluation.ipynb#X26sZmlsZQ%3D%3D?line=0'>1</a>\u001b[0m \u001b[39mimport\u001b[39;00m \u001b[39mScanMatchPy\u001b[39;00m\n\u001b[0;32m      <a href='vscode-notebook-cell:/c%3A/Users/evansamaa/Documents/GitHub/Gaze_project/evaluation/naive_evaluation.ipynb#X26sZmlsZQ%3D%3D?line=1'>2</a>\u001b[0m \u001b[39m# get aligned look-at-point positions\u001b[39;00m\n\u001b[0;32m      <a href='vscode-notebook-cell:/c%3A/Users/evansamaa/Documents/GitHub/Gaze_project/evaluation/naive_evaluation.ipynb#X26sZmlsZQ%3D%3D?line=2'>3</a>\u001b[0m gt \u001b[39m=\u001b[39m gt_interp(times)\n",
      "\u001b[1;31mModuleNotFoundError\u001b[0m: No module named 'ScanMatchPy'"
     ]
    }
   ],
   "source": [
    "import ScanMatchPy\n",
    "# get aligned look-at-point positions\n",
    "gt = gt_interp(times)\n",
    "method_mine = ek_interp(times)\n",
    "method_gd = gp_ek_interp(times)\n",
    "method_ss = ss_ek_interp(times)\n",
    "method_st = st_ek_interp(times)\n",
    "\n",
    "# get the cluster centers\n",
    "centers = agentScene1.get_all_positions(coordinate_space=\"local\")\n",
    "centers = rotation_angles_frome_positions(centers)\n",
    "\n",
    "# given raw datas, cluster them to the cluster centers as per distance\n",
    "def get_gaze_targets(raw_data, centers):\n",
    "    out = []\n",
    "    for i in range(0, raw_data.shape[0]):\n",
    "        pt = raw_data[i:i+1]\n",
    "        dist = np.linalg.norm(pt - centers, axis=1)\n",
    "        out.append(np.argmin(dist))\n",
    "    return np.array(out)\n",
    "\n",
    "# get the clustering\n",
    "gt_cluster = get_gaze_targets(gt, centers)\n",
    "mine_cluster = get_gaze_targets(method_mine, centers)\n",
    "gd_cluster = get_gaze_targets(method_gd, centers)\n",
    "ss_cluster = get_gaze_targets(method_ss, centers)\n",
    "st_cluster = get_gaze_targets(method_st, centers)\n",
    "\n",
    "print(st_cluster.shape)"
   ]
  }
 ],
 "metadata": {
  "kernelspec": {
   "display_name": "Python 3 (ipykernel)",
   "language": "python",
   "name": "python3"
  },
  "language_info": {
   "codemirror_mode": {
    "name": "ipython",
    "version": 3
   },
   "file_extension": ".py",
   "mimetype": "text/x-python",
   "name": "python",
   "nbconvert_exporter": "python",
   "pygments_lexer": "ipython3",
   "version": "3.10.9"
  }
 },
 "nbformat": 4,
 "nbformat_minor": 2
}
