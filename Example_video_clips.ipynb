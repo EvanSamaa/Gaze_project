{
 "cells": [
  {
   "cell_type": "code",
   "execution_count": 1,
   "metadata": {},
   "outputs": [
    {
     "name": "stdout",
     "output_type": "stream",
     "text": [
      "c:\\Users\\evansamaa\\anaconda3\\envs\\JaliGaze\\lib\\site-packages\\tqdm\\auto.py:21: TqdmWarning: IProgress not found. Please update jupyter and ipywidgets. See https://ipywidgets.readthedocs.io/en/stable/user_install.html\n",
      "  from .autonotebook import tqdm as notebook_tqdm\n"
     ]
    },
    {
     "name": "stdout",
     "output_type": "stream",
     "text": [
      "Importing the dtw module. When using in academic works please cite:\n",
      "  T. Giorgino. Computing and Visualizing Dynamic Time Warping Alignments in R: The dtw Package.\n",
      "  J. Stat. Soft., doi:10.18637/jss.v031.i07.\n",
      "\n"
     ]
    }
   ],
   "source": [
    "import numpy as np\n",
    "import pickle as pkl\n",
    "import json\n",
    "import torch\n",
    "import librosa\n",
    "import os\n",
    "import sys\n",
    "import cv2\n",
    "import shutil\n",
    "from matplotlib import pyplot as plt\n",
    "import csv\n",
    "import shutil\n",
    "import cv2 as cv\n",
    "from datetime import datetime\n",
    "import soundfile as sf\n",
    "# import whisper_timestamped\n",
    "from sklearn.mixture import GaussianMixture\n",
    "# import utility functions\n",
    "from torch.utils.data import Dataset\n",
    "from scipy.interpolate import interp1d\n",
    "import python_speech_features as psf\n",
    "from transformers import BertTokenizer, BertModel\n",
    "sys.path.insert(0, '/Users/evanpan/Documents/GitHub/EvansToolBox/Utils')\n",
    "sys.path.insert(0, '/Users/evanpan/Documents/GitHub/Gaze_project')\n",
    "sys.path.insert(0, '/scratch/ondemand27/evanpan/EvansToolBox/Utils/')\n",
    "sys.path.insert(0, '/scratch/ondemand27/evanpan/Gaze_project/')\n",
    "sys.path.insert(0, \"C:/Users/evansamaa/Documents/GitHub/EvansToolBox/Utils/\")\n",
    "from prototypes.Gaze_aversion_prior.Evan_model import Aversion111Prior\n",
    "from Dataset_Util.dataloader import SegmentDataset_SelfTape111"
   ]
  },
  {
   "cell_type": "code",
   "execution_count": 2,
   "metadata": {},
   "outputs": [],
   "source": [
    "def dispersion_filtering(x, y, dispersion_threshold = 6, duraiton_threshold=0.3):\n",
    "    start = 0\n",
    "    window = []\n",
    "    if len(x) == 0:\n",
    "        return [], []\n",
    "    fps = int(np.round(1/(x[1] - x[0])))\n",
    "    duration_threshold_frames = np.ceil(duraiton_threshold * fps)\n",
    "    \n",
    "    def dispersion(arr):\n",
    "        # input is a 2d array\n",
    "        disp = np.max(arr[:, 0]) - np.min(arr[:, 0]) + np.max(arr[:, 1]) - np.min(arr[:, 1])\n",
    "        return disp\n",
    "\n",
    "    fixations = []\n",
    "    fixations_intervals = []\n",
    "    \n",
    "    # while there are still points\n",
    "    while int(start+duration_threshold_frames) < y.shape[0]:\n",
    "        # initialize a window:\n",
    "        window = list(range(int(start), int(start+duration_threshold_frames)))\n",
    "        start = start + duration_threshold_frames\n",
    "        disp = dispersion(y[window])\n",
    "        while disp <= dispersion_threshold:\n",
    "            disp = dispersion(y[window])\n",
    "            if window[-1]+1 < y.shape[0]:\n",
    "                window.append(window[-1]+1)\n",
    "            start = start + 1\n",
    "            if start >= y.shape[0]:\n",
    "                break\n",
    "        # if the current set of points never fit the duration criteria\n",
    "        if len(window) <= duration_threshold_frames:\n",
    "            start = start + 1\n",
    "        # otherwise note it as fixations\n",
    "        else:\n",
    "            centroid = np.mean(y[window], axis=0)\n",
    "            duration = (window[-1] - window[0]) / fps\n",
    "            fixations.append([centroid[0], centroid[1], duration])\n",
    "            fixations_intervals.append([window[0], window[-1]])\n",
    "    fixations = np.array(fixations)\n",
    "    return fixations, fixations_intervals\n",
    "def switch_rate_distance(points, center, radius):\n",
    "    dist = np.linalg.norm(points - center, axis=1)\n",
    "    in_cluster = np.where(dist < radius, 1, 0)\n",
    "    # intracluster distance\n",
    "    total_in = np.sum(in_cluster)\n",
    "    # switch rate (we want to maximize the number of gaze shifts between in cluster and out of cluster)\n",
    "    # the rationale behind this is that gaze shifting outside the cluster \n",
    "    swtich = np.sum(np.abs(dx_dt(in_cluster)))/total_in\n",
    "    rtv = -swtich\n",
    "    return rtv, total_in\n",
    "def intra_cluster_distance(points, center, radius):\n",
    "    dist = np.linalg.norm(points - center, axis=1)\n",
    "    in_cluster = np.where(dist < radius, 1, 0)\n",
    "    # intracluster distance\n",
    "    rtv = np.sum(dist * in_cluster)\n",
    "    total_in = np.sum(in_cluster)\n",
    "    rtv = rtv / total_in\n",
    "    return rtv, total_in\n",
    "def radius_line_search(points, center, min_member, max_iter=7):\n",
    "    center = np.expand_dims(center, axis=0)\n",
    "    radius_max = 20\n",
    "    radius_min = 1\n",
    "    for i in range(0, max_iter):\n",
    "        clustering_goodness_max_r, total_in= switch_rate_distance(points, center, radius_max)\n",
    "        clustering_goodness_min_r, total_in= switch_rate_distance(points, center, radius_min)\n",
    "        if clustering_goodness_max_r <= clustering_goodness_min_r and total_in >= min_member:\n",
    "            radius_max = (radius_max + radius_min)/2\n",
    "        else:\n",
    "            radius_min = (radius_max + radius_min)/2\n",
    "        \n",
    "    return radius_min   \n",
    "def find_gaze_target(fixations, gaze_points, vertical_sensitivity=1):\n",
    "\n",
    "    fixations[:, 1] = fixations[:, 1] * vertical_sensitivity\n",
    "    gaze_points[:, 1] = gaze_points[:, 1] * vertical_sensitivity\n",
    "    if fixations.shape[0] <= 2:\n",
    "        return np.ones((fixations.shape[0], ))\n",
    "\n",
    "    mixture = GaussianMixture(int(np.minimum(8, fixations.shape[0]))).fit(fixations[:, :2], )\n",
    "    mix = mixture.predict_proba(fixations[:, :2])\n",
    "    # get cluster heads\n",
    "    mixture_centers = mixture.means_\n",
    "    # find the index of the most likely target\n",
    "    most_likely_target = np.argmax(np.sum(mix, axis=0))\n",
    "    most_likely_cluster_member_count = np.where(np.argmax(mix, axis=1) == most_likely_target, 1, 0).sum()\n",
    "    # find the most likely look at point\n",
    "    gaze_target = mixture_centers[most_likely_target]\n",
    "    distance_to_target = np.linalg.norm(gaze_points[:, :2] - np.expand_dims(gaze_target, axis=0), axis=1)\n",
    "    # use line search to find an appropriete radious of what to include\n",
    "    radius = radius_line_search(fixations[:, :2], gaze_target, most_likely_cluster_member_count, 7)\n",
    "    looked_at = np.where(distance_to_target < radius, 1, 0)\n",
    "    return looked_at\n",
    "def dx_dt(x: np.array, dt: float = 1, method=1):\n",
    "    \"\"\"\n",
    "    This functio compute first derivative for the input function x using either central or forward differences\n",
    "\n",
    "    :param x: input array to compute derivative, should be of shape [num of timestamp, num of attributes]\n",
    "    :param dt: time stamp size\n",
    "    :param method: method of computing derivative. 1 is forward difference, 2 is central differences\n",
    "    :return: dx/dt, would be the same size as x. The first and last element are zero.\n",
    "    \"\"\"\n",
    "    out_dx_dt = np.zeros(x.shape)\n",
    "    if len(x.shape) == 2:\n",
    "        for j in range(0, x.shape[1]):\n",
    "            if method == 1:\n",
    "                for i in range(0, x.shape[0] - 1):\n",
    "                    out_dx_dt[i, j] = (x[i + 1, j] - x[i, j])/dt\n",
    "                out_dx_dt[-1, j] = out_dx_dt[-2, j]\n",
    "            if method == 2:\n",
    "                for i in range(1, x.shape[0] - 1):\n",
    "                    out_dx_dt[i, j] = (x[i + 1, j] - x[i - 1, j]) / 2 / dt\n",
    "                out_dx_dt[-1, j] = out_dx_dt[-2, j]\n",
    "                out_dx_dt[0, j] = out_dx_dt[1, j]\n",
    "    elif len(x.shape) == 1:\n",
    "        if method == 1:\n",
    "            for i in range(0, x.shape[0] - 1):\n",
    "                out_dx_dt[i] = (x[i + 1] - x[i]) / dt\n",
    "            out_dx_dt[-1] = 0\n",
    "        if method == 2:\n",
    "            for i in range(1, x.shape[0] - 1):\n",
    "                out_dx_dt[i] = (x[i + 1] - x[i - 1]) / 2 / dt\n",
    "            out_dx_dt[-1] = 0\n",
    "            out_dx_dt[0] = 0\n",
    "    return out_dx_dt\n",
    "\n",
    "def rotation_angles_frome_positions(arr):\n",
    "    \"\"\"\n",
    "    converts an array of positions to an array of rotation angles (azimuth, elevation)\n",
    "    centered at the origin, where:\n",
    "        azimuth: +right,-left\n",
    "        elevation: +up,-down\n",
    "    here we assume that the input vectors are in world coordinates\n",
    "    :param arr: array with shape (N, 3)\n",
    "    :return: array with shape (N, 2)\n",
    "    \"\"\"\n",
    "    # F: arr (N, 3) -> arr (N, 2) or arr (3, ) -> (2, )\n",
    "    # in the output is in the convention of (azimuth, elevation)\n",
    "    if len(arr.shape) == 2:\n",
    "        mag = np.sqrt(np.sum(arr * arr, axis=1, keepdims=True))\n",
    "        out = arr / mag\n",
    "        out[:, 0] = np.arcsin(out[:, 0])\n",
    "        out[:, 1] = np.arcsin(out[:, 1])\n",
    "        return out[:, 0:2] * 180 / np.pi\n",
    "    else:\n",
    "        mag = np.sqrt(np.sum(arr * arr))\n",
    "        out = arr / mag\n",
    "        out[0] = np.arcsin(out[0])\n",
    "        out[1] = np.arcsin(out[1])\n",
    "        return out[0:2] * 180 / np.pi\n",
    "def get_valid_shots(shots, fps, shot_length_mininmum=5):\n",
    "    t0 = datetime.strptime(\"00:00:00.0\", '%H:%M:%S.%f').timestamp()\n",
    "    for shot in shots:\n",
    "        start = shot[0]\n",
    "        end = shot[1]\n",
    "    # load the input shots range\n",
    "    valid_shots_time, valid_shots_frames = [], []\n",
    "    t0 = datetime.strptime(\"00:00:00.0\", '%H:%M:%S.%f').timestamp()\n",
    "    for i in range(len(shots)):\n",
    "        start = datetime.strptime(shots[i][0], '%H:%M:%S.%f').timestamp()\n",
    "        end = datetime.strptime(shots[i][1], '%H:%M:%S.%f').timestamp()\n",
    "        if (end-start) >= shot_length_mininmum:\n",
    "            start_t = start-t0\n",
    "            end_t = end - t0\n",
    "            valid_shots_time.append([start-t0, end-t0])\n",
    "            valid_shots_frames.append([int(np.round(start_t*fps)), int(np.round(end_t*fps))])\n",
    "\n",
    "    return valid_shots_time, valid_shots_frames\n",
    "def load_head_and_gaze_angles(all_gaze_data, all_head_data):\n",
    "\n",
    "    # head data\n",
    "    head_angle_data = all_head_data[\"HEAD\"]\n",
    "    head_rotmat_per_frame = head_angle_data[\"ROTMAT\"]\n",
    "    head_bbox_per_frame = all_head_data[\"BBOX\"] # we are not using but having it here is nice\n",
    "    head_angle_per_frame = []\n",
    "    neutral_position = np.array([0, 0, 100])\n",
    "    for i in range(0, head_rotmat_per_frame.shape[0]):\n",
    "        pos = head_rotmat_per_frame[i] @ neutral_position\n",
    "        head_angle_per_frame.append(rotation_angles_frome_positions(pos[:]))\n",
    "    head_angle_per_frame = np.array(head_angle_per_frame)\n",
    "    # getting rotation angle in z direction\n",
    "    neutral_position2 = np.array([0, 100, 0])\n",
    "    head_angle_z_per_frame = []\n",
    "    for i in range(0, head_rotmat_per_frame.shape[0]):\n",
    "        pos = head_rotmat_per_frame[i] @ neutral_position2\n",
    "        pos = np.array([pos[1], pos[2], pos[0]])\n",
    "        head_angle_z_per_frame.append(rotation_angles_frome_positions(pos)[1])\n",
    "    head_angle_xy_per_frame = np.array(head_angle_per_frame)\n",
    "    head_angle_z_per_frame = np.expand_dims(np.array(head_angle_z_per_frame), axis=1)\n",
    "    head_angle_per_frame = np.concatenate([head_angle_xy_per_frame, head_angle_z_per_frame], axis=1)\n",
    "\n",
    "    # getting gaze data\n",
    "    gaze_angle_data = all_gaze_data[\"RAW_GAZE\"]\n",
    "    gaze_angle_per_frame = gaze_angle_data[\"EULER\"]\n",
    "    gaze_rotmat_per_frame = gaze_angle_data[\"ROTMAT\"]\n",
    "    blinks = all_head_data[\"BLINKS\"]\n",
    "    gaze_vec = np.array([0, 0, 100])\n",
    "    eye_angle_per_frame = []\n",
    "    for i in range(0, gaze_rotmat_per_frame.shape[0]):\n",
    "        eye_line = gaze_rotmat_per_frame[i] @ gaze_vec\n",
    "        eye_line = eye_line / eye_line[2] * 100\n",
    "        eye_angle_per_frame.append(eye_line)\n",
    "    eye_angle_per_frame = np.array(eye_angle_per_frame)\n",
    "    eye_angle_per_frame = rotation_angles_frome_positions(eye_angle_per_frame[:])\n",
    "    return eye_angle_per_frame, head_angle_per_frame"
   ]
  },
  {
   "attachments": {},
   "cell_type": "markdown",
   "metadata": {},
   "source": [
    "# Input Block"
   ]
  },
  {
   "cell_type": "code",
   "execution_count": 3,
   "metadata": {},
   "outputs": [],
   "source": [
    "input_folder = \"/Volumes/EVAN_DISK/MASC/shot_processed_dataset/\"\n",
    "output_folder = \"/Volumes/EVAN_DISK/MASC/shot_processed_dataset/\"\n",
    "input_folder = \"/scratch/ondemand27/evanpan/data/Ribshabh_processed_dataset/\"\n",
    "output_folder = \"/scratch/ondemand27/evanpan/data/deep_learning_processed_dataset/\"\n",
    "input_folder = \"F:/MASC/shot_processed_dataset/\"\n",
    "output_folder = \"F:/MASC/shot_processed_dataset/\"\n",
    "video_path_root = \"F:/MASC/Ribhav_processed_dataset\"\n",
    "redo = False\n",
    "target_fps = 25\n",
    "window_length = 10 # this is in seconds\n",
    "stride_length = 5  # this is also in seconds (we get some overlapps)"
   ]
  },
  {
   "cell_type": "code",
   "execution_count": 4,
   "metadata": {},
   "outputs": [],
   "source": [
    "output_json_path = os.path.join(input_folder, \"metadata.json\")"
   ]
  },
  {
   "cell_type": "code",
   "execution_count": 5,
   "metadata": {},
   "outputs": [],
   "source": [
    "shot_data = SegmentDataset_SelfTape111(input_folder)\n",
    "model_location = \"C:/Users/evansamaa/Documents/GitHub/Gaze_project/prototypes/Gaze_aversion_prior/sentence_word_audio_velocity_model\"\n",
    "whisper_location = \"C:/Users/evansamaa/Documents/GitHub/Gaze_project/models\"\n",
    "model = Aversion111Prior(model_location, whisper_location)"
   ]
  },
  {
   "cell_type": "code",
   "execution_count": 18,
   "metadata": {},
   "outputs": [],
   "source": [
    "idx = 8\n",
    "temp_folder = \"F:/MASC/JALI_gaze/sig_paper_1/dataset_examples/f1\"\n",
    "input_file_name = \"name\""
   ]
  },
  {
   "cell_type": "code",
   "execution_count": 20,
   "metadata": {},
   "outputs": [
    {
     "name": "stdout",
     "output_type": "stream",
     "text": [
      "Harrison Green self tape reel 2021_0\n"
     ]
    }
   ],
   "source": [
    "import soundfile as sf \n",
    "file_name = shot_data.video_metadata[idx][\"name\"]\n",
    "[sr, audio_onscreen, audio_offscreen], [fps, gaze, head, blinks], [file_name, shot_range] = shot_data.get_video(idx)\n",
    "print(file_name)\n",
    "sf.write(os.path.join(*[temp_folder, input_file_name+\"_0.wav\"]), audio_onscreen, sr)\n",
    "sf.write(os.path.join(*[temp_folder, input_file_name+\"_1.wav\"]), audio_offscreen, sr)"
   ]
  },
  {
   "attachments": {},
   "cell_type": "markdown",
   "metadata": {},
   "source": [
    "# predict gaze aversion"
   ]
  },
  {
   "cell_type": "code",
   "execution_count": 21,
   "metadata": {},
   "outputs": [
    {
     "name": "stderr",
     "output_type": "stream",
     "text": [
      "100%|██████████| 3255/3255 [00:29<00:00, 109.01frames/s]\n",
      "100%|██████████| 4144/4144 [00:30<00:00, 134.74frames/s]\n"
     ]
    }
   ],
   "source": [
    "aversion_pred = model.predict(temp_folder, temp_folder, input_file_name, speaker=0, in_dataset = False)[0]\n",
    "aversion_pred = np.argmax(aversion_pred, axis=1)"
   ]
  },
  {
   "attachments": {},
   "cell_type": "markdown",
   "metadata": {},
   "source": [
    "# generate gaze aversion label"
   ]
  },
  {
   "cell_type": "code",
   "execution_count": 22,
   "metadata": {},
   "outputs": [],
   "source": [
    "\n",
    "ts = np.arange(0, gaze.shape[0]) / fps\n",
    "fixations, fixations_intervals = dispersion_filtering(ts, gaze, dispersion_threshold=6, duraiton_threshold=0.2)\n",
    "fixation_t = np.zeros(gaze.shape)\n",
    "for i in range(0, len(fixations_intervals)):\n",
    "    for k in range(fixations_intervals[i][0], fixations_intervals[i][1]+1):\n",
    "        fixation_t[k] = fixations[i, :2]\n",
    "    if i == 0:\n",
    "        for k in range(0, fixations_intervals[i][1]):\n",
    "            fixation_t[k] = fixations[i, :2]\n",
    "    else:\n",
    "        for k in range(fixations_intervals[i-1][1], fixations_intervals[0][0]):\n",
    "            fixation_t[k] = fixations[i, :2]\n",
    "    if i == (len(fixations_intervals) - 1):\n",
    "        for k in range(fixations_intervals[i][1], len(fixations_intervals)):\n",
    "            fixation_t[k] = fixations[i, :2]\n",
    "# cluster them by the method\n",
    "gaze_clustering = find_gaze_target(fixations, fixation_t[:, :2], 2.5)\n",
    "if fixations.shape[0] <= 2:\n",
    "    gaze_clustering = np.ones([fixation_t.shape[0], ])"
   ]
  },
  {
   "cell_type": "code",
   "execution_count": 23,
   "metadata": {},
   "outputs": [
    {
     "name": "stdout",
     "output_type": "stream",
     "text": [
      "F:/MASC/Ribhav_processed_dataset\\video\\Harrison Green self tape reel 2021.mp4\n"
     ]
    },
    {
     "data": {
      "text/plain": [
       "False"
      ]
     },
     "execution_count": 23,
     "metadata": {},
     "output_type": "execute_result"
    }
   ],
   "source": [
    "video_path = os.path.join(*[video_path_root, \"video\", file_name[:-2]+\".mp4\"])\n",
    "output_path = os.path.join(*[temp_folder, \"deep_learning_output.mp4\"])\n",
    "print(video_path)\n",
    "os.path.isfile(output_path)"
   ]
  },
  {
   "cell_type": "code",
   "execution_count": 24,
   "metadata": {},
   "outputs": [],
   "source": [
    "# Load video\n",
    "cap = cv.VideoCapture(video_path)\n",
    "\n",
    "# Get video properties\n",
    "fps = int(cap.get(cv.CAP_PROP_FPS))\n",
    "frame_width = int(cap.get(cv.CAP_PROP_FRAME_WIDTH))\n",
    "frame_height = int(cap.get(cv.CAP_PROP_FRAME_HEIGHT))\n",
    "\n",
    "# Define font for annotation\n",
    "font = cv.FONT_HERSHEY_SIMPLEX\n",
    "font_scale = 1\n",
    "font_color = (0, 255, 0)\n",
    "line_type = 2\n",
    "\n",
    "# Define array of gaze clustering labels\n",
    "# Define output video file\n",
    "fourcc = cv.VideoWriter_fourcc(*\"mp4v\")\n",
    "out = cv.VideoWriter(output_path, fourcc, fps, (frame_width, frame_height))\n",
    "\n",
    "# Loop through video frames\n",
    "frame_count = 0\n",
    "while cap.isOpened():\n",
    "    ret, frame = cap.read()\n",
    "\n",
    "    # Check if end of video\n",
    "    if not ret:\n",
    "        break\n",
    "    # Read frame from video\n",
    "    if frame_count >= shot_range[0] and frame_count < shot_range[1]:\n",
    "        # Add annotation to frame\n",
    "        label = \"label = direct gaze\"\n",
    "        prediction = \"prediction = direct gaze\"\n",
    "        if gaze_clustering[frame_count - shot_range[0]] == 0:\n",
    "            label = \"label = aversion\"\n",
    "        if aversion_pred[frame_count - shot_range[0]] == 0:\n",
    "            prediction = \"prediction = aversion\"\n",
    "        \n",
    "        cv.putText(frame, label, (10, 30), font, font_scale, (0, 255, 0), line_type)\n",
    "        cv.putText(frame, prediction, (10, 70), font, font_scale, (0, 0, 255), line_type)\n",
    "        \n",
    "        # Write out frame with annotation to output video file\n",
    "        out.write(frame)\n",
    "        \n",
    "    # Increment frame count\n",
    "    frame_count += 1\n",
    "    # if frame_count >= shot_range[0]:\n",
    "    #     break\n",
    "\n",
    "# Release video capture and close output file\n",
    "cap.release()\n",
    "out.release()\n",
    "cv.destroyAllWindows()\n"
   ]
  },
  {
   "cell_type": "code",
   "execution_count": 15,
   "metadata": {},
   "outputs": [
    {
     "name": "stdout",
     "output_type": "stream",
     "text": [
      "159\n"
     ]
    }
   ],
   "source": [
    "print(np.abs(aversion_pred[0:400] - gaze_clustering[0:400]).sum())\n",
    "np.save(os.path.join(temp_folder, \"gt.npy\"), gaze_clustering[0:400])\n",
    "np.save(os.path.join(temp_folder, \"pred.npy\"), aversion_pred[0:400])\n",
    "np.save(os.path.join(temp_folder, \"smooth_gaze.npy\"), fixation_t[0:400])"
   ]
  },
  {
   "cell_type": "code",
   "execution_count": 16,
   "metadata": {},
   "outputs": [
    {
     "name": "stdout",
     "output_type": "stream",
     "text": [
      "2619\n"
     ]
    }
   ],
   "source": [
    "print(shot_range[1] - shot_range[0])"
   ]
  },
  {
   "cell_type": "code",
   "execution_count": 17,
   "metadata": {},
   "outputs": [
    {
     "data": {
      "text/plain": [
       "False"
      ]
     },
     "execution_count": 17,
     "metadata": {},
     "output_type": "execute_result"
    }
   ],
   "source": [
    "video_path = os.path.join(*[input_folder, \"video\", \"file_name\"])\n",
    "os.path.isfile(video_path[:])"
   ]
  },
  {
   "cell_type": "code",
   "execution_count": 62,
   "metadata": {},
   "outputs": [
    {
     "data": {
      "text/plain": [
       "[<matplotlib.lines.Line2D at 0x1daa320a350>]"
      ]
     },
     "execution_count": 62,
     "metadata": {},
     "output_type": "execute_result"
    },
    {
     "data": {
      "image/png": "[encoded data removed]",
      "text/plain": [
       "<Figure size 640x480 with 1 Axes>"
      ]
     },
     "metadata": {},
     "output_type": "display_data"
    }
   ],
   "source": [
    "plt.plot(gaze[:, 1])\n",
    "plt.plot(fixation_t[:, 1])\n"
   ]
  }
 ],
 "metadata": {
  "kernelspec": {
   "display_name": "JaliGaze",
   "language": "python",
   "name": "python3"
  },
  "language_info": {
   "codemirror_mode": {
    "name": "ipython",
    "version": 3
   },
   "file_extension": ".py",
   "mimetype": "text/x-python",
   "name": "python",
   "nbconvert_exporter": "python",
   "pygments_lexer": "ipython3",
   "version": "3.10.10"
  },
  "orig_nbformat": 4
 },
 "nbformat": 4,
 "nbformat_minor": 2
}
