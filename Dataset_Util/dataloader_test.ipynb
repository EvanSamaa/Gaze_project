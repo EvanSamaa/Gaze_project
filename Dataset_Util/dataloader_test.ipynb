{
 "cells": [
  {
   "cell_type": "code",
   "execution_count": 2,
   "metadata": {},
   "outputs": [],
   "source": [
    "import numpy as np\n",
    "import pickle as pkl\n",
    "import json\n",
    "import torch\n",
    "from torch.utils.data import Dataset\n",
    "import librosa\n",
    "import os\n",
    "import sys\n",
    "import cv2\n",
    "import shutil\n",
    "from matplotlib import pyplot as plt\n",
    "import csv\n",
    "from datetime import datetime\n",
    "import soundfile as sf\n",
    "# import utility functions\n",
    "sys.path.insert(0, '/Users/evanpan/Documents/GitHub/EvansToolBox/Utils')\n",
    "sys.path.insert(0, '/Users/evanpan/Desktop/openpose/python/')\n",
    "# sys.path.insert(0, \"C:/Users/evansamaa/Documents/GitHub/EvansToolBox\")\n",
    "\n",
    "from Geometry_Util import rotation_angles_frome_positions"
   ]
  },
  {
   "cell_type": "code",
   "execution_count": 25,
   "metadata": {},
   "outputs": [],
   "source": [
    "processed_dataset = \"/Volumes/EVAN_DISK/MASC/shot_processed_dataset/\""
   ]
  },
  {
   "cell_type": "code",
   "execution_count": 26,
   "metadata": {},
   "outputs": [],
   "source": [
    "class ShotDataSet_Selftape111(Dataset):\n",
    "    def __init__(self, processed_data_path):\n",
    "        # save dataset root path\n",
    "        self.data_root_path = processed_data_path\n",
    "\n",
    "        # load video names\n",
    "        video_names_path = os.path.join(*[processed_data_path, \"metadata.json\"])\n",
    "        self.video_metadata = {}\n",
    "        with open(video_names_path, mode='r') as f:\n",
    "            self.video_metadata = json.load(f)[\"data\"]\n",
    "    def __len__(self):\n",
    "        return len(self.video_metadata)\n",
    "    def __getitem__(self, idx):\n",
    "        file_name = self.video_metadata[idx][\"name\"]\n",
    "        fps = self.video_metadata[idx][\"fps\"]\n",
    "        output_audio_onscreen_path = os.path.join(*[self.data_root_path, \"audio\", file_name+\"_{}.wav\".format(0)]) \n",
    "        output_audio_offscreen_path = os.path.join(*[self.data_root_path, \"audio\", file_name+\"_{}.wav\".format(1)]) \n",
    "        output_gaze_path = os.path.join(*[self.data_root_path, \"gaze\", file_name+\".pkl\"]) \n",
    "        output_head_path = os.path.join(*[self.data_root_path, \"head\", file_name+\".pkl\"]) \n",
    "        output_blinks_path = os.path.join(*[self.data_root_path, \"blinks\", file_name+\".pkl\"])\n",
    "\n",
    "        gaze = pkl.load(open(output_gaze_path, \"rb\"))\n",
    "        head = pkl.load(open(output_head_path, \"rb\"))\n",
    "        blinks = pkl.load(open(output_blinks_path, \"rb\"))\n",
    "\n",
    "        audio_onscreen, sr = librosa.load(output_audio_onscreen_path)\n",
    "        audio_offscreen, sr = librosa.load(output_audio_offscreen_path)\n",
    "        return [sr, audio_onscreen, audio_offscreen], [fps, gaze, head, blinks]  "
   ]
  },
  {
   "cell_type": "code",
   "execution_count": 86,
   "metadata": {},
   "outputs": [],
   "source": [
    "class SegmentDataset_SelfTape111(Dataset):\n",
    "    def __init__(self, processed_data_path, win_length=10, stride_length=5):\n",
    "        # save dataset root path\n",
    "        self.data_root_path = processed_data_path\n",
    "        self.count = 0\n",
    "        # load video names\n",
    "        video_names_path = os.path.join(*[processed_data_path, \"metadata.json\"])\n",
    "        self.video_metadata = {}\n",
    "        with open(video_names_path, mode='r') as f:\n",
    "            self.video_metadata = json.load(f)[\"data\"]\n",
    "        # each clip will be \n",
    "        clip_metadata = []\n",
    "        for i in range(0, len(self.video_metadata)):\n",
    "            metadata = self.video_metadata[i]\n",
    "            fps = metadata[\"fps\"] # this depends on the video\n",
    "            sr = metadata[\"sr\"] # they should all be 22500\n",
    "            video_length = metadata[\"annotation_length\"]\n",
    "            audio_length = metadata[\"audio_length\"]\n",
    "            # get the length of the window size, and stride length in frames (fps and sr respectively)\n",
    "            win_size_audio_per_segment = win_length * sr\n",
    "            win_size_video_per_segment = int(np.round(win_length * fps))\n",
    "            stride_length_audio_per_segment = stride_length * sr\n",
    "            stride_length_video_per_segment = int(np.round(stride_length * fps))\n",
    "            video_ranges = []\n",
    "            audio_ranges = []\n",
    "            # segment the annotation_files\n",
    "            window_count = np.floor((video_length - (win_size_video_per_segment - stride_length_video_per_segment)) / stride_length_video_per_segment)\n",
    "            for w in range(0, int(window_count)):\n",
    "                video_window_start = stride_length_video_per_segment * w\n",
    "                video_window_end = video_window_start + win_size_video_per_segment\n",
    "                audio_window_start = stride_length_audio_per_segment * w\n",
    "                audio_window_end = audio_window_start + win_size_audio_per_segment\n",
    "                video_ranges.append([video_window_start, video_window_end])\n",
    "                audio_ranges.append([audio_window_start, audio_window_end])\n",
    "                self.count = self.count + 1\n",
    "                clip_metadata.append({\"video_range\": [video_window_start, video_window_end],\n",
    "                                      \"audio_range\": [audio_window_start, audio_window_end],\n",
    "                                      \"fps\":fps,\n",
    "                                      \"sr\":sr,\n",
    "                                      \"file_name\": metadata[\"name\"]})\n",
    "                # clip_list.append([])\n",
    "            video_ranges.append([video_length-win_size_video_per_segment, video_length])\n",
    "            audio_ranges.append([audio_length-win_size_audio_per_segment, audio_length])\n",
    "            clip_metadata.append({\"video_range\": video_ranges[-1],\n",
    "                                  \"audio_range\": audio_ranges[-1],\n",
    "                                  \"fps\":fps,\n",
    "                                  \"sr\":sr, \n",
    "                                  \"file_name\": metadata[\"name\"]})\n",
    "            self.count = self.count + 1\n",
    "        self.clip_metadata = clip_metadata\n",
    "        # parse the data into \n",
    "    def __len__(self):\n",
    "        return self.count\n",
    "    def __getitem__(self, idx):\n",
    "        file_name = self.clip_metadata[idx][\"file_name\"]\n",
    "        fps = self.clip_metadata[idx][\"fps\"]\n",
    "        v_range = self.clip_metadata[idx][\"video_range\"]\n",
    "        a_range = self.clip_metadata[idx][\"audio_range\"]\n",
    "        output_audio_onscreen_path = os.path.join(*[self.data_root_path, \"audio\", file_name+\"_{}.wav\".format(0)]) \n",
    "        output_audio_offscreen_path = os.path.join(*[self.data_root_path, \"audio\", file_name+\"_{}.wav\".format(1)]) \n",
    "        output_gaze_path = os.path.join(*[self.data_root_path, \"gaze\", file_name+\".pkl\"]) \n",
    "        output_head_path = os.path.join(*[self.data_root_path, \"head\", file_name+\".pkl\"]) \n",
    "        output_blinks_path = os.path.join(*[self.data_root_path, \"blinks\", file_name+\".pkl\"])\n",
    "\n",
    "        gaze = pkl.load(open(output_gaze_path, \"rb\"))[v_range[0]:v_range[1]]\n",
    "        head = pkl.load(open(output_head_path, \"rb\"))[v_range[0]:v_range[1]]\n",
    "        blinks = pkl.load(open(output_blinks_path, \"rb\"))[v_range[0]:v_range[1]]\n",
    "\n",
    "        audio_onscreen, sr = librosa.load(output_audio_onscreen_path)\n",
    "        audio_offscreen, sr = librosa.load(output_audio_offscreen_path)\n",
    "        audio_onscreen = audio_onscreen[a_range[0]:a_range[1]]\n",
    "        audio_offscreen = audio_offscreen[a_range[0]:a_range[1]]\n",
    "        return [sr, audio_onscreen, audio_offscreen], [fps, gaze, head, blinks]  "
   ]
  },
  {
   "cell_type": "code",
   "execution_count": 92,
   "metadata": {},
   "outputs": [],
   "source": [
    "# usage\n",
    "k = SegmentDataset_SelfTape111(processed_dataset)\n",
    "[sr, audio_onscreen, audio_offscreen], [fps, gaze, head, blinks] = k[0]"
   ]
  },
  {
   "cell_type": "code",
   "execution_count": 91,
   "metadata": {},
   "outputs": [
    {
     "name": "stdout",
     "output_type": "stream",
     "text": [
      "4081\n"
     ]
    }
   ],
   "source": [
    "print(len(k))"
   ]
  },
  {
   "cell_type": "code",
   "execution_count": null,
   "metadata": {},
   "outputs": [],
   "source": []
  }
 ],
 "metadata": {
  "kernelspec": {
   "display_name": "mediapipe",
   "language": "python",
   "name": "python3"
  },
  "language_info": {
   "codemirror_mode": {
    "name": "ipython",
    "version": 3
   },
   "file_extension": ".py",
   "mimetype": "text/x-python",
   "name": "python",
   "nbconvert_exporter": "python",
   "pygments_lexer": "ipython3",
   "version": "3.10.9"
  },
  "orig_nbformat": 4
 },
 "nbformat": 4,
 "nbformat_minor": 2
}
