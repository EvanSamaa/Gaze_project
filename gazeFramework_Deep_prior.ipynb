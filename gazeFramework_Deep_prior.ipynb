{
 "cells": [
  {
   "cell_type": "code",
   "execution_count": 1,
   "metadata": {},
   "outputs": [
    {
     "name": "stdout",
     "output_type": "stream",
     "text": [
      "Importing the dtw module. When using in academic works please cite:\n",
      "  T. Giorgino. Computing and Visualizing Dynamic Time Warping Alignments in R: The dtw Package.\n",
      "  J. Stat. Soft., doi:10.18637/jss.v031.i07.\n",
      "\n"
     ]
    }
   ],
   "source": [
    "import json\n",
    "import cv2 as cv\n",
    "import pickle as pkl\n",
    "from typing import Dict, List\n",
    "import numpy as np\n",
    "from matplotlib import pyplot as plt\n",
    "import os, sys\n",
    "import librosa\n",
    "\n",
    "from scipy import stats, spatial, ndimage\n",
    "sys.path.insert(0, '/Users/evanpan/Documents/GitHub/EvansToolBox/Utils')\n",
    "sys.path.insert(0, '/Users/evanpan/Documents/GitHub/Gaze_project')\n",
    "sys.path.insert(0, \"C:/Users/evansamaa/Documents/GitHub/EvansToolBox/Utils\")\n",
    "sys.path.insert(0, \"C:/Users/evansamaa/Documents/GitHub/Gaze_project\")\n",
    "from Signal_processing_utils import intensity_from_signal, pitch_from_signal, sparse_key_smoothing, laplacian_smoothing\n",
    "from Speech_Data_util import Sentence_word_phone_parser\n",
    "from prototypes.InputDataStructures import Dietic_Conversation_Gaze_Scene_Info\n",
    "from prototypes.MVP.MVP_static_saliency_list import ObjectBasedFixSaliency\n",
    "from prototypes.MVP.MVP_Aversion_saliency_list import AversionSignalDrivenSaliency, CTSAversionSignalDrivenSaliency\n",
    "from prototypes.MVP.MVP_look_at_point_planner import HabituationBasedPlanner, RandomPlanner, PartnerHabituationPlanner\n",
    "from prototypes.MVP.MVP_eye_head_driver import HeuristicGazeMotionGenerator\n",
    "from prototypes.MVP.MVP_Aversion_saliency_list import Base_Static_Saliency_List\n",
    "from prototypes.EyeCatch.Saccade_model_with_internal_model import *\n",
    "from prototypes.Gaze_aversion_prior.Heuristic_model import *\n",
    "from prototypes.Boccignone2020.Gaze_target_planner import Scavenger_based_planner\n",
    "from prototypes.Boccignone2020.Improved_gaze_target_planner import Scavenger_planner_with_nest, Scavenger_planner_simple \n",
    "from prototypes.JaliNeck.JaliNeck import NeckCurve\n",
    "from prototypes.Gaze_aversion_prior.Ribhav_model import predict_aversion\n",
    "from prototypes.Gaze_aversion_prior.Evan_model import Aversion111Prior\n",
    "from prototypes.InputDataStructures import AgentInfo, TurnTakingData\n",
    "from prototypes.MVP.MVP_gaze_path_planner import Responsive_planner_simple, Responsive_planner_no_heuristics, Responsive_planner_no_Gaze_deploy\n",
    "import pickle\n",
    "import math\n",
    "import re\n",
    "\n",
    "from datetime import datetime, timezone\n",
    "import scipy.stats as ss\n",
    "from Signal_processing_utils import interpolate1D, runEuro\n",
    "from scipy.interpolate import interp1d\n",
    "from Geometry_Util import directions_from_rotation_angles\n"
   ]
  },
  {
   "cell_type": "code",
   "execution_count": 29,
   "metadata": {},
   "outputs": [],
   "source": [
    "# from Video_analysis_utils import get_wav_from_video\n",
    "# get_wav_from_video(\"heat_source_video.mp4\",\"F:/MASC/JALI_gaze/Animations/heat\")"
   ]
  },
  {
   "cell_type": "code",
   "execution_count": 30,
   "metadata": {},
   "outputs": [
    {
     "name": "stdout",
     "output_type": "stream",
     "text": [
      "The autoreload extension is already loaded. To reload it, use:\n",
      "  %reload_ext autoreload\n"
     ]
    }
   ],
   "source": [
    "%load_ext autoreload\n",
    "%autoreload 1\n",
    "\n",
    "%aimport prototypes.InputDataStructures\n",
    "%aimport Speech_Data_util\n",
    "%aimport Signal_processing_utils\n",
    "%aimport prototypes.MVP.MVP_static_saliency_list\n",
    "%aimport prototypes.EyeCatch.Saccade_model_with_internal_model\n",
    "%aimport prototypes.InputDataStructures\n",
    "%aimport prototypes.Jin2019.EyeHeadDecomposition\n",
    "%aimport prototypes.Optimization_based_head_eye_seperator.Baseline_optimization\n",
    "%aimport prototypes.Boccignone2020.Improved_gaze_target_planner\n",
    "%aimport prototypes.MVP.MVP_gaze_path_planner\n",
    "%aimport prototypes.JaliNeck.JaliNeck\n",
    "%aimport prototypes.Gaze_aversion_prior.Evan_model\n",
    "\n"
   ]
  },
  {
   "cell_type": "markdown",
   "metadata": {},
   "source": []
  },
  {
   "attachments": {},
   "cell_type": "markdown",
   "metadata": {},
   "source": [
    "# Input Block"
   ]
  },
  {
   "attachments": {},
   "cell_type": "markdown",
   "metadata": {},
   "source": [
    "### You need to make the temp folder yourself before running these"
   ]
  },
  {
   "cell_type": "code",
   "execution_count": 37,
   "metadata": {},
   "outputs": [],
   "source": [
    "# inputs\n",
    "# input_folder = \"/Volumes/EVAN_DISK/MASC/Ribhav_processed_dataset/\"\n",
    "input_folder = \"F:/MASC/shot_processed_dataset/\"\n",
    "input_file = \"heat_source_video\"\n",
    "outside_dataset = True\n",
    "model_location = \"C:/Users/evansamaa/Documents/GitHub/Gaze_project/prototypes/Gaze_aversion_prior/sentence_word_audio_velocity_model\"\n",
    "whisper_location = \"C:/Users/evansamaa/Documents/GitHub/Gaze_project/models\"\n",
    "temp_folder = \"F:/MASC/JALI_gaze/Animations/heat\" \n",
    "speaker_id = 0\n",
    "turn_taking_threshold = 2\n",
    "fps = 25\n",
    "np.random.seed(speaker_id)"
   ]
  },
  {
   "attachments": {},
   "cell_type": "markdown",
   "metadata": {},
   "source": [
    "## Get all the file paths"
   ]
  },
  {
   "cell_type": "code",
   "execution_count": 79,
   "metadata": {},
   "outputs": [
    {
     "name": "stdout",
     "output_type": "stream",
     "text": [
      "folder already exist\n",
      "folder already exist\n",
      "gaze data is here:\n",
      "F:/MASC/shot_processed_dataset/gaze\\heat_source_video.pkl\n",
      "please store the output at:\n",
      "F:/MASC/JALI_gaze/Animations/heat\\annotated_scene\\heat_source_video_points.json\n"
     ]
    }
   ],
   "source": [
    "\n",
    "input_file_no_space = input_file.replace(\" \", \"_\")\n",
    "gaze_animation_output_location = os.path.join(*[temp_folder, \"outputs\"])\n",
    "try:\n",
    "    os.mkdir(os.path.join(*[temp_folder, \"outputs\"]))   \n",
    "except:\n",
    "    print(\"folder already exist\")   \n",
    "try:\n",
    "    os.mkdir(os.path.join(*[temp_folder, \"annotated_scene\"]))   \n",
    "except:\n",
    "    print(\"folder already exist\")    \n",
    "# input_file_no_space = \"'\" + input_file_no_space + \"'\"\n",
    "praatoutput_1_path = os.path.join(temp_folder, input_file_no_space+\"_{}_PraatOutput.txt\".format(speaker_id))\n",
    "head_direction_json_path = os.path.join(*[input_folder, \"head\", input_file+\".pkl\"])\n",
    "gaze_direction_json_path = os.path.join(*[input_folder, \"gaze\", input_file+\".pkl\"])\n",
    "audio_path = os.path.join(*[temp_folder, input_file_no_space+\"_{}.wav\".format(speaker_id)])\n",
    "raw_audio_path = os.path.join(*[temp_folder, input_file_no_space+\".wav\".format(speaker_id)])\n",
    "text_file_path = os.path.join(*[temp_folder, input_file_no_space+\"_{}.txt\".format(speaker_id)])\n",
    "transcript_file_path = os.path.join(*[temp_folder, input_file+\"_transcript.json\".format(speaker_id)])\n",
    "tagged_text_file_path = os.path.join(*[temp_folder, input_file_no_space+\"_{}_tagged.txt\".format(speaker_id)])\n",
    "if outside_dataset:\n",
    "    audio_path = os.path.join(*[temp_folder, input_file_no_space+\"_{}.wav\".format(speaker_id)])    \n",
    "# output paths\n",
    "output_neural_location = os.path.join(*[temp_folder, \"outputs\", input_file+\"_neural.pkl\"])\n",
    "output_turn_taking_location = os.path.join(*[temp_folder, \"outputs\", input_file+\"_turn_taking.pkl\"])\n",
    "output_gaze_deploy_location = os.path.join(*[temp_folder, \"outputs\", input_file+\"_gaze_deploy.pkl\"])\n",
    "output_static_salience_location = os.path.join(*[temp_folder, \"outputs\", input_file+\"_static_salience_map.pkl\"])\n",
    "output_stare_location = os.path.join(*[temp_folder, \"outputs\", input_file+\"_stare.pkl\"])\n",
    "# other important input data (such as scene )\n",
    "annotation_data_path = os.path.join(*[temp_folder, \"annotated_scene\", input_file+\"_points.json\"])\n",
    "scene_data_path = os.path.join(*[temp_folder, \"annotated_scene\", input_file+\"_scene.json\"])\n",
    "basic_scene_data_path = \"./data/look_at_points/simplest_scene2_less_items.json\"\n",
    "print(\"gaze data is here:\\n\"+gaze_direction_json_path)\n",
    "print(\"please store the output at:\\n\"+annotation_data_path)"
   ]
  },
  {
   "attachments": {},
   "cell_type": "markdown",
   "metadata": {},
   "source": [
    "# Run cluster_picker.py to generate a scene, then run the following to generate a scene file"
   ]
  },
  {
   "cell_type": "code",
   "execution_count": 33,
   "metadata": {},
   "outputs": [
    {
     "name": "stdout",
     "output_type": "stream",
     "text": [
      "F:/MASC/JALI_gaze/Animations/heat\\annotated_scene\\heat_source_video_scene.json\n"
     ]
    }
   ],
   "source": [
    "annotation = pkl.load(open(annotation_data_path, \"rb\"))\n",
    "annotation = np.array(annotation)\n",
    "annotation_positions = directions_from_rotation_angles(annotation[:, :2], 200)\n",
    "scene_json = json.load(open(basic_scene_data_path))\n",
    "scene = AgentInfo(basic_scene_data_path)\n",
    "for i in range(0, annotation_positions.shape[0]):\n",
    "    annotation_positions[i] = scene.transform_local_to_world(annotation_positions[i])\n",
    "world_pos_center = np.array(scene_json[\"self_pos\"][\"calibration_dir_world\"])\n",
    "# generate names of these objects:\n",
    "object_names = []\n",
    "speaker_count = 0\n",
    "object_count = 0\n",
    "# also try to find out where the speaker is\n",
    "speaker_pos = None\n",
    "for i in range(0, annotation.shape[0]):\n",
    "    if annotation[i, 2] == -1:\n",
    "        object_names.append(\"object_{}\".format(object_count))\n",
    "        object_count = object_count + 1\n",
    "    elif annotation[i, 2] == 1:\n",
    "        object_names.append(\"partner_{}\".format(speaker_count))\n",
    "        speaker_count = speaker_count + 1\n",
    "        speaker_pos = annotation_positions[i]\n",
    "object_interestingness = {}\n",
    "object_type = {}\n",
    "object_pos = {}\n",
    "correction_vector = world_pos_center - speaker_pos\n",
    "# slightly modify the probability so they are not too low\n",
    "speaker_interestingness = 0\n",
    "for i in range(0, annotation.shape[0]):\n",
    "    if annotation[i, 2] == 1:\n",
    "        speaker_interestingness = annotation[i, 3]\n",
    "for i in range(0, annotation.shape[0]):\n",
    "    if annotation[i, 2] == -1:\n",
    "        object_interestingness[object_names[i]] = annotation[i, 3] / speaker_interestingness\n",
    "        object_type[object_names[i]] = 2\n",
    "    elif annotation[i, 2] == 1:\n",
    "        object_interestingness[object_names[i]] = 1.0\n",
    "        object_type[object_names[i]] = 5\n",
    "    object_pos[object_names[i]] = annotation_positions[i].tolist()\n",
    "output = {}\n",
    "output[\"object_interestingness\"] = object_interestingness\n",
    "output[\"object_pos\"] = object_pos\n",
    "output[\"object_type\"] = object_type\n",
    "output[\"self_pos\"] = scene_json[\"self_pos\"]\n",
    "json.dump(output, open(scene_data_path, \"w\"))\n",
    "print(scene_data_path)"
   ]
  },
  {
   "cell_type": "markdown",
   "metadata": {},
   "source": [
    "# Use the power of deep learning to generate all the transcripts and gaze aversion predictions!"
   ]
  },
  {
   "cell_type": "code",
   "execution_count": 106,
   "metadata": {},
   "outputs": [],
   "source": [
    "class Neural_input_Saliency(Base_Static_Saliency_List):\n",
    "    def __init__(self, scene_info: AgentInfo, ts, dt=1/24):\n",
    "        self.scene_info: AgentInfo = scene_info\n",
    "        self._number_of_objects = scene_info.get_all_positions().shape[0]\n",
    "        self._dt = dt # 100 hz\n",
    "        self._numb_of_frames = ts.shape[0] # total number of frames\n",
    "        self.evaluated = False\n",
    "        self.map = np.zeros((int(self._numb_of_frames), self._number_of_objects))\n",
    "        self.map_interp = None\n",
    "    def get_object_positions(self):\n",
    "        return self.scene_info.get_all_positions()\n",
    "    \n",
    "    def evaluate_all(self):\n",
    "        if self.evaluated:\n",
    "            return self.map\n",
    "        else:\n",
    "            self.compute_salience()\n",
    "            x = np.arange(0, self._numb_of_frames) * self._dt\n",
    "            self.map_interp = interp1d(x, self.map, axis=0, fill_value=\"extrapolate\")\n",
    "            self.evaluated = True\n",
    "            return self.map\n",
    "    def evaluate(self, t):\n",
    "        if self.evaluated:\n",
    "            return self.map_interp(t)\n",
    "        else:\n",
    "            self.compute_salience()\n",
    "            x = np.arange(0, self._numb_of_frames) * self._dt\n",
    "            self.map_interp = interp1d(x, self.map, axis=0, fill_value=\"extrapolate\")\n",
    "            self.evaluated = True\n",
    "            return self.map_interp(t)\n",
    "    def compute_salience(self, aversion_prob_time, aversion_prob_val, interval=True):\n",
    "        # continue setting salience for all objects\n",
    "        for j in range(0, self._numb_of_frames):\n",
    "            for i in range(0, self._number_of_objects):\n",
    "                if i < self.scene_info.get_object_positions(coordinate_space=\"global\").shape[0]:\n",
    "                    self.map[j, i] = self.scene_info.object_interest[i]\n",
    "                elif i == self.scene_info.get_object_positions(coordinate_space=\"global\").shape[0]:\n",
    "                    self.map[j, i] = 1 - interpolate1D(aversion_prob_time, aversion_prob_val, float(j) * self._dt)                \n",
    "                else:\n",
    "                    if interpolate1D(aversion_prob_time, aversion_prob_val, float(j) * self._dt) < 0.3:\n",
    "                        self.map[j, i] = 0\n",
    "                    else:\n",
    "                        self.map[j, i] = 0.1\n",
    "\n",
    "# aversion_saliency = TurnTakingDrivenSaliency(scene, audio, None, dt=0.02)\n",
    "# aversion_saliency.compute_salience(ts, turn_taking_salience_list)\n"
   ]
  },
  {
   "cell_type": "code",
   "execution_count": 107,
   "metadata": {},
   "outputs": [
    {
     "name": "stdout",
     "output_type": "stream",
     "text": [
      "(9426,)\n"
     ]
    },
    {
     "data": {
      "image/png": "[encoded data removed]",
      "text/plain": [
       "<Figure size 432x288 with 1 Axes>"
      ]
     },
     "metadata": {
      "needs_background": "light"
     },
     "output_type": "display_data"
    }
   ],
   "source": [
    "model = Aversion111Prior(model_location, whisper_location)\n",
    "aversion_probabilities = model.predict(temp_folder, input_folder, input_file, 0, in_dataset=False)\n",
    "ts = np.arange(0, aversion_probabilities.shape[0]) / fps\n",
    "# 1 is direct gaze, 0 is aversion, here I want aversion probability\n",
    "aversion_probability = runEuro(ts, aversion_probabilities)[:, 0]\n",
    "plt.plot(aversion_probability)\n",
    "# since the model doesn't give prediction until later in the audio. \n",
    "# I will omit the prediction until the mode is fairly certain\n",
    "print(aversion_probability.shape)\n",
    "for i in range(0, aversion_probability.shape[0]):\n",
    "    if np.abs(aversion_probability[i] - 0.5) <= 0.3:\n",
    "        aversion_probability[i] = 0\n",
    "    else:\n",
    "        break\n",
    "plt.plot(aversion_probability, label=\"\")\n",
    "aversion_probability = np.where(aversion_probability > 0.5, 1, 0)\n",
    "# plt.plot(aversion_probability)"
   ]
  },
  {
   "attachments": {},
   "cell_type": "markdown",
   "metadata": {},
   "source": [
    "# Obtain Tag timing"
   ]
  },
  {
   "cell_type": "code",
   "execution_count": 108,
   "metadata": {},
   "outputs": [],
   "source": [
    "import string\n",
    "# Load the transcript list from the JSON file\n",
    "with open(transcript_file_path, 'r') as f:\n",
    "    if speaker_id == 0:\n",
    "        transcript_list = json.load(f)[\"self\"]\n",
    "    else:\n",
    "        transcript_list = json.load(f)[\"other\"]\n",
    "\n",
    "# Load the transcript text file\n",
    "with open(tagged_text_file_path, 'r') as f:\n",
    "    transcript = f.read()\n",
    "\n",
    "word_list = [word[\"text\"] for word in transcript_list]\n",
    "translator = str.maketrans('', '', string.punctuation.replace('<', '').replace('>', '').replace('-', '').replace('_', '').replace(\"'\", ''))\n",
    "# Remove all punctuation except < and > from the input string using the translation table\n",
    "word_list = [word.translate(translator) for word in word_list]\n",
    "transcript = transcript.translate(translator)\n",
    "transcript = transcript.split(\" \")\n",
    "transcript = [s for s in transcript if s != \"\"]\n",
    "i = 0\n",
    "j = 0\n",
    "tag_durations = {}\n",
    "active_tag = None\n",
    "active_tag_interval = []\n",
    "while i < len(transcript):\n",
    "    if transcript[i] == word_list[j]:\n",
    "        i += 1\n",
    "        j += 1\n",
    "    else:\n",
    "        if active_tag is None:\n",
    "            active_tag = transcript[i][1:-1]\n",
    "            active_tag_interval = [j]\n",
    "        else:\n",
    "            active_tag = transcript[i][1:-1]\n",
    "            active_tag_interval.append(j+1)\n",
    "            active_tag_interval[0] = transcript_list[active_tag_interval[0]][\"start\"]\n",
    "            active_tag_interval[1] = transcript_list[active_tag_interval[1]][\"start\"]\n",
    "            try:\n",
    "                tag_durations[active_tag].append(active_tag_interval.copy())\n",
    "            except:\n",
    "                tag_durations[active_tag] = [active_tag_interval.copy()]\n",
    "            active_tag_interval = []\n",
    "            active_tag = None\n",
    "        i += 2\n",
    "        j += 1"
   ]
  },
  {
   "cell_type": "code",
   "execution_count": 109,
   "metadata": {},
   "outputs": [],
   "source": [
    "sementic_script_1 = Sentence_word_phone_parser(praatoutput_1_path, praatoutput_1_path)\n",
    "sementic_script_1.get_turns(turn_taking_threshold)\n",
    "# agentScene1 = AgentInfo(scene_data_path, wonder=False)\n",
    "agentScene1 = AgentInfo(scene_data_path, wonder=True)"
   ]
  },
  {
   "attachments": {},
   "cell_type": "markdown",
   "metadata": {},
   "source": [
    "## Apply the Stare Tag to the signal "
   ]
  },
  {
   "cell_type": "code",
   "execution_count": 110,
   "metadata": {},
   "outputs": [],
   "source": [
    "try:\n",
    "    stare_intervals = tag_durations[\"stare\"]\n",
    "    stare_intervals_index_sets = []\n",
    "    for i in range(0, len(stare_intervals)):\n",
    "        index_set = []\n",
    "        for t in range(ts.shape[0]):\n",
    "            if ts[t] >= stare_intervals[i][0] and len(index_set) == 0:\n",
    "                index_set.append(t)\n",
    "            if ts[t] >= stare_intervals[i][1]:\n",
    "                index_set.append(t)\n",
    "                break\n",
    "        stare_intervals_index_sets.append(index_set)\n",
    "\n",
    "    for i in range(len(stare_intervals_index_sets)):\n",
    "        aversion_probability[stare_intervals_index_sets[i][0]:stare_intervals_index_sets[i][1]] = 0\n",
    "except:\n",
    "    pass"
   ]
  },
  {
   "cell_type": "code",
   "execution_count": 111,
   "metadata": {},
   "outputs": [],
   "source": [
    "np.random.seed(0)\n",
    "aversion_saliency = Neural_input_Saliency(agentScene1, ts, 1.0/fps)\n",
    "aversion_saliency.compute_salience(ts, aversion_probability)"
   ]
  },
  {
   "attachments": {},
   "cell_type": "markdown",
   "metadata": {},
   "source": [
    "## Apply Directional Tag"
   ]
  },
  {
   "cell_type": "code",
   "execution_count": 112,
   "metadata": {},
   "outputs": [],
   "source": [
    "look_up_intervals = []\n",
    "try:\n",
    "    look_up_intervals = tag_durations[\"up\"]\n",
    "except:\n",
    "    pass\n",
    "look_up_intervals_index_sets = []\n",
    "for i in range(0, len(look_up_intervals)):\n",
    "    index_set = []\n",
    "    for t in range(ts.shape[0]):\n",
    "        if ts[t] >= look_up_intervals[i][0] and len(index_set) == 0:\n",
    "            index_set.append(t)\n",
    "        if ts[t] >= look_up_intervals[i][1]:\n",
    "            index_set.append(t)\n",
    "            break\n",
    "    look_up_intervals_index_sets.append(index_set)\n",
    "objects_positions = aversion_saliency.get_object_positions()\n",
    "above = np.where(objects_positions[:, 1] >= objects_positions[aversion_saliency.scene_info.get_object_positions().shape[0], 1]+5, 1, 0)\n",
    "above[aversion_saliency.scene_info.get_object_positions(coordinate_space=\"global\").shape[0]] = 1\n",
    "for i in range(len(look_up_intervals_index_sets)):\n",
    "    mask = np.tile(np.expand_dims(above, axis=0), [look_up_intervals_index_sets[i][1] - look_up_intervals_index_sets[i][0], 1])\n",
    "    aversion_saliency.map[look_up_intervals_index_sets[i][0]:look_up_intervals_index_sets[i][1]] *= mask"
   ]
  },
  {
   "attachments": {},
   "cell_type": "markdown",
   "metadata": {},
   "source": [
    "## Compute Gaze Targets"
   ]
  },
  {
   "cell_type": "code",
   "execution_count": 113,
   "metadata": {},
   "outputs": [],
   "source": [
    "def get_beats(audio, sr):\n",
    "    fps = 50\n",
    "    audio_energy = intensity_from_signal(audio, int(sr/fps))\n",
    "    beat_ts = np.arange(0, audio_energy.shape[0]) / fps\n",
    "    daudio_dt = dx_dt(audio_energy)\n",
    "    Dm = 0.2\n",
    "    DM = 0.7\n",
    "    DM_frame = math.floor(DM / (beat_ts[1] - beat_ts[0]))\n",
    "    energy_interp = interp1d(beat_ts, audio_energy, bounds_error=False)\n",
    "    # iterative find audio onset between 0.2 and 0.6 seconds to identify beats\n",
    "    beats = [[0, False]] # start with a pseudo beat\n",
    "    for i in range(0, audio_energy.shape[0]):\n",
    "        if daudio_dt[i] > 5:\n",
    "            current_beat_t = beat_ts[i]\n",
    "            if current_beat_t - beat_ts[beats[-1][0]] <= Dm:\n",
    "                continue\n",
    "            if current_beat_t - beat_ts[beats[-1][0]] >= DM:\n",
    "                # these are stored as integer indexes\n",
    "                start = beats[-1][0]\n",
    "                end = i\n",
    "                counter = start + DM_frame\n",
    "                while counter < end:\n",
    "                    beats.append([counter, False])\n",
    "                    counter = counter + DM_frame\n",
    "            beats.append([i, True])\n",
    "    beats_arr = []\n",
    "    for i in range(0, len(beats)):\n",
    "        if beats[i][1]:\n",
    "            beats_arr.append([beat_ts[beats[i][0]], audio_energy[beats[i][0]]])\n",
    "    beats_arr = np.array(beats_arr)\n",
    "    return beats_arr\n",
    "audioo, srr = librosa.load(raw_audio_path)\n",
    "if len(audioo.shape) == 2:\n",
    "    audioo = np.sum(audioo,axis=1)\n",
    "beats = get_beats(audioo, srr)[:, 0]\n"
   ]
  },
  {
   "cell_type": "code",
   "execution_count": 148,
   "metadata": {},
   "outputs": [],
   "source": [
    "planner = Responsive_planner_no_Gaze_deploy([aversion_saliency], agentScene1, aversion_probability, beats)\n",
    "output_times, output_targets = planner.compute()"
   ]
  },
  {
   "cell_type": "code",
   "execution_count": 149,
   "metadata": {},
   "outputs": [
    {
     "name": "stdout",
     "output_type": "stream",
     "text": [
      "239 (239, 2)\n",
      "77\n",
      "77\n",
      "F:/MASC/JALI_gaze/Animations/heat\\outputs\\heat_source_video_neural.pkl\n"
     ]
    }
   ],
   "source": [
    "# =============================================================================================\n",
    "# ========================== plan scan path based on the saliency maps ========================\n",
    "# =============================================================================================\n",
    "#get the output_targets_positions from the scene\n",
    "output_target_positions = []\n",
    "for i in output_targets:\n",
    "    output_target_positions.append(agentScene1.get_all_positions(coordinate_space=\"local\", index=i))\n",
    "internal_model = InternalModelCenterBias(agentScene1)\n",
    "# the good model\n",
    "generator = SacccadeGenerator(output_times, output_target_positions, output_targets, internal_model, dt=1/fps)\n",
    "# print(output_times, output_target_positions, output_targets)\n",
    "ek, hk, micro_saccade = generator.compute()\n",
    "conversational_neck = NeckCurve(audio_path)\n",
    "jali_neck_output = conversational_neck.compute_curve()\n",
    "\n",
    "blend_weight = []\n",
    "for i in range(1, len(hk[0])-1):\n",
    "    velocity = math.sqrt((hk[0][i][1]-hk[0][i-1][1])**2 + (hk[0][i-1][2]-hk[0][i][2])**2)\n",
    "    blend_weight.append([hk[0][i][0], 1 - min(1, velocity/0.75)])\n",
    "# motion_generator = HeuristicGazeMotionGenerator(scene, sementic_script)\n",
    "# ek, hk, micro_saccade = motion_generator.generate_neck_eye_curve(output_times, output_target_positions)\n",
    "# output_location = \"C:/Users/evan1/Documents/Gaze_project/data/look_at_points/prototype2p2.pkl\"\n",
    "# output_location = \"C:/Users/evansamaa/Documents/GitHub/Gaze_project/data/look_at_points/prototype2p2.pkl\"\n",
    "# output_location = \"/Users/evanpan/Documents/GitHub/Gaze_project/data/look_at_points/prototype2p2.pkl\"\n",
    "out = {\"eye_frames\": ek,\n",
    "        \"head_frames\": hk,\n",
    "        \"micro_saccade\": micro_saccade,\n",
    "        \"other_neck\": jali_neck_output,\n",
    "        \"envelope\":[]}\n",
    "        # \"output_times\": output_times, \n",
    "        # \"output_targets\": output_targets\n",
    "pickle.dump(out, open(output_neural_location, 'wb'), protocol=2)\n",
    "print(output_neural_location)"
   ]
  },
  {
   "cell_type": "markdown",
   "metadata": {},
   "source": []
  }
 ],
 "metadata": {
  "kernelspec": {
   "display_name": "Visemenet",
   "language": "python",
   "name": "python3"
  },
  "language_info": {
   "codemirror_mode": {
    "name": "ipython",
    "version": 3
   },
   "file_extension": ".py",
   "mimetype": "text/x-python",
   "name": "python",
   "nbconvert_exporter": "python",
   "pygments_lexer": "ipython3",
   "version": "3.8.11"
  },
  "orig_nbformat": 4
 },
 "nbformat": 4,
 "nbformat_minor": 2
}
