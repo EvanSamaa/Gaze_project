{
 "cells": [
  {
   "cell_type": "code",
   "execution_count": 176,
   "metadata": {},
   "outputs": [],
   "source": [
    "import json\n",
    "from typing import Dict, List\n",
    "import numpy as np\n",
    "from matplotlib import pyplot as plt\n",
    "import os, sys\n",
    "import librosa\n",
    "sys.path.insert(0, '/Users/evanpan/Documents/GitHub/EvansToolBox/Utils')\n",
    "sys.path.insert(0, '/Users/evanpan/Documents/GitHub/Gaze_project')\n",
    "from Signal_processing_utils import intensity_from_signal, pitch_from_signal, sparse_key_smoothing, laplacian_smoothing\n",
    "from Speech_Data_util import Sentence_word_phone_parser\n",
    "from prototypes.InputDataStructures import Dietic_Conversation_Gaze_Scene_Info\n",
    "from prototypes.MVP.MVP_static_saliency_list import ObjectBasedFixSaliency\n",
    "from prototypes.MVP.MVP_Aversion_saliency_list import AversionSignalDrivenSaliency, CTSAversionSignalDrivenSaliency\n",
    "from prototypes.MVP.MVP_look_at_point_planner import HabituationBasedPlanner, RandomPlanner, PartnerHabituationPlanner\n",
    "from prototypes.MVP.MVP_eye_head_driver import HeuristicGazeMotionGenerator\n",
    "\n",
    "from prototypes.EyeCatch.Saccade_model_with_internal_model import *\n",
    "from prototypes.Gaze_aversion_prior.Heuristic_model import *\n",
    "from prototypes.Boccignone2020.Gaze_target_planner import Scavenger_based_planner\n",
    "from prototypes.Boccignone2020.Improved_gaze_target_planner import Scavenger_planner_with_nest\n",
    "from prototypes.JaliNeck.JaliNeck import NeckCurve\n",
    "from prototypes.Gaze_aversion_prior.Ribhav_model import predict_aversion\n",
    "from prototypes.InputDataStructures import AgentInfo, TurnTakingData\n",
    "import pickle\n",
    "import math\n",
    "from datetime import datetime"
   ]
  },
  {
   "attachments": {},
   "cell_type": "markdown",
   "metadata": {},
   "source": [
    "# Input Block"
   ]
  },
  {
   "cell_type": "code",
   "execution_count": 179,
   "metadata": {},
   "outputs": [],
   "source": [
    "np.random.seed(0)\n",
    "# inputs\n",
    "input_folder = \"/Users/evanpan/Documents/Datasets/Ribhav_processed_dataset/\"\n",
    "input_file = \"Madelaine Petsch audition for The Prom\"\n",
    "scene_data_path = \"data/look_at_points/simplest_scene.json\"\n",
    "shot_used = 0"
   ]
  },
  {
   "attachments": {},
   "cell_type": "markdown",
   "metadata": {},
   "source": [
    "# Load Transcript"
   ]
  },
  {
   "cell_type": "code",
   "execution_count": 201,
   "metadata": {},
   "outputs": [],
   "source": [
    "# get path data\n",
    "transcript_file_name = os.path.join(os.path.join(input_folder, \"transcripts\"), input_file+\"_SpeechAlignment.json\")\n",
    "audio_file_name = os.path.join(os.path.join(input_folder, \"audio\"), input_file+\".wav\")\n",
    "vocie_activity_file_name = os.path.join(os.path.join(input_folder, \"transcripts\"), input_file+\"_SpeechActivity.json\")\n",
    "speaker_file_name = os.path.join(os.path.join(input_folder, \"transcripts\"), input_file+\"_Speakers.json\")\n",
    "shot_file_name = os.path.join(os.path.join(os.path.join(input_folder, \"shots\"), input_file), \"shot_cuts.json\")\n",
    "# get scene data\n",
    "scene = AgentInfo(scene_data_path)\n",
    "# get script data\n",
    "audio, sr = librosa.load(audio_file_name, sr=44100)\n",
    "transcript = json.load(open(transcript_file_name))[\"aligned\"]\n",
    "voice_activity = json.load(open(vocie_activity_file_name))[\"aligned\"]\n",
    "speaker_label = json.load(open(speaker_file_name))[\"aligned\"]"
   ]
  },
  {
   "cell_type": "code",
   "execution_count": 202,
   "metadata": {},
   "outputs": [],
   "source": [
    "# load the input shots\n",
    "shots = json.load(open(shot_file_name))[\"shots\"]\n",
    "valid_shots = []\n",
    "t0 = datetime.strptime(\"00:00:00.0\", '%H:%M:%S.%f').timestamp()\n",
    "for i in range(len(shots)):\n",
    "    start = datetime.strptime(shots[i][0], '%H:%M:%S.%f').timestamp()\n",
    "    end = datetime.strptime(shots[i][1], '%H:%M:%S.%f').timestamp()\n",
    "    if (end-start) >= 5:\n",
    "        valid_shots.append([start-t0, end-t0])\n",
    "shot_used_range = valid_shots[shot_used]"
   ]
  },
  {
   "cell_type": "code",
   "execution_count": 203,
   "metadata": {},
   "outputs": [],
   "source": [
    "speaker_labels = [speaker_label[\"SPEAKER_00\"], speaker_label[\"SPEAKER_01\"]]\n",
    "speech_turns = [[], []]\n",
    "k = 0\n",
    "t0 = datetime.strptime(\"00:00:00.0\", '%H:%M:%S.%f').timestamp()\n",
    "for k in range(0, 2):\n",
    "    speaker_k_labels = speaker_labels[k]\n",
    "    for i in range(0, len(speaker_k_labels)):\n",
    "        start = datetime.strptime(speaker_k_labels[i][\"start\"], '%H:%M:%S.%f').timestamp()-t0\n",
    "        end = datetime.strptime(speaker_k_labels[i][\"end\"], '%H:%M:%S.%f').timestamp()-t0\n",
    "        if start >= shot_used_range[0] and end <= shot_used_range[1]:\n",
    "            speech_turns[k].append([start, end])"
   ]
  },
  {
   "attachments": {},
   "cell_type": "markdown",
   "metadata": {},
   "source": [
    "### Just plotting"
   ]
  },
  {
   "cell_type": "code",
   "execution_count": 204,
   "metadata": {},
   "outputs": [
    {
     "data": {
      "image/png": "[encoded data removed]",
      "text/plain": [
       "<Figure size 640x480 with 1 Axes>"
      ]
     },
     "metadata": {},
     "output_type": "display_data"
    }
   ],
   "source": [
    "# Create an empty figure\n",
    "fig = plt.figure()\n",
    "\n",
    "# Loop through the list of tuples\n",
    "colors = [\"blue\", \"green\"]\n",
    "for k in range(0, 2):\n",
    "    for speech in speech_turns[k]:\n",
    "        start_time = speech[0]\n",
    "        end_time = speech[1]\n",
    "        # Plot a horizontal bar for each tuple\n",
    "        plt.broken_barh([(start_time, end_time - start_time)], (2*k, 2), facecolors=colors[k])\n",
    "# Add x and y-axis labels\n",
    "plt.xlabel('Time')\n",
    "plt.ylabel('Speaker')\n",
    "# Display the plot\n",
    "plt.show()"
   ]
  },
  {
   "cell_type": "code",
   "execution_count": 207,
   "metadata": {},
   "outputs": [
    {
     "name": "stdout",
     "output_type": "stream",
     "text": [
      "{'start': '00:00:00.000000', 'end': '00:00:05.880937', 'duration': 5.880937, 'label': 'silence', 'asr': ''}\n",
      "{'start': '00:00:05.880937', 'end': '00:00:07.045312', 'duration': 1.164374, 'label': 'sound', 'asr': 'ai'}\n",
      "{'start': '00:00:07.045312', 'end': '00:00:10.082812', 'duration': 3.0375, 'label': 'sound', 'asr': 'thanks for meeting me awsafraid you would'}\n",
      "{'start': '00:00:10.082812', 'end': '00:00:12.242812', 'duration': 2.16, 'label': 'silence', 'asr': ''}\n",
      "{'start': '00:00:12.242812', 'end': '00:00:12.614063', 'duration': 0.37125, 'label': 'sound', 'asr': 'wow'}\n",
      "{'start': '00:00:12.614063', 'end': '00:00:13.997813', 'duration': 1.38375, 'label': 'silence', 'asr': ''}\n",
      "{'start': '00:00:13.997813', 'end': '00:00:19.887187', 'duration': 5.8893759999999995, 'label': 'sound', 'asr': \"oki guss i want to say i'm sorry for what happened you guess\"}\n",
      "{'start': '00:00:19.887187', 'end': '00:00:21.321563', 'duration': 1.434376, 'label': 'silence', 'asr': ''}\n",
      "{'start': '00:00:21.321563', 'end': '00:00:21.760313', 'duration': 0.43875, 'label': 'sound', 'asr': 'i mean'}\n",
      "{'start': '00:00:21.760313', 'end': '00:00:22.857188', 'duration': 1.096875, 'label': 'silence', 'asr': ''}\n",
      "{'start': '00:00:22.857188', 'end': '00:00:23.447813', 'duration': 0.590625, 'label': 'sound', 'asr': 'im sorry'}\n",
      "{'start': '00:00:23.447813', 'end': '00:00:26.080313', 'duration': 2.6325, 'label': 'silence', 'asr': ''}\n",
      "{'start': '00:00:26.080313', 'end': '00:00:26.755313', 'duration': 0.675, 'label': 'sound', 'asr': 'were you en on it'}\n",
      "{'start': '00:00:26.755313', 'end': '00:00:28.493438', 'duration': 1.738125, 'label': 'silence', 'asr': ''}\n",
      "{'start': '00:00:28.493438', 'end': '00:00:36.880313', 'duration': 8.386875, 'label': 'sound', 'asr': 'oh my god how could you even think didnt even know about it untill i got there lso nobody told youwhat about your bffs'}\n",
      "{'start': '00:00:36.880313', 'end': '00:00:38.989688', 'duration': 2.109375, 'label': 'silence', 'asr': ''}\n",
      "{'start': '00:00:38.989688', 'end': '00:00:40.778438', 'duration': 1.78875, 'label': 'sound', 'asr': 'shell be in cailey'}\n",
      "{'start': '00:00:40.778438', 'end': '00:00:44.879063', 'duration': 4.100625, 'label': 'sound', 'asr': \"they didn't mention their big plan to youy're not my friendsok\"}\n",
      "{'start': '00:00:44.879063', 'end': '00:00:45.959063', 'duration': 1.08, 'label': 'silence', 'asr': ''}\n",
      "{'start': '00:00:45.959063', 'end': '00:00:48.051563', 'duration': 2.0925000000000002, 'label': 'sound', 'asr': 'so what about your mother'}\n",
      "{'start': '00:00:48.051563', 'end': '00:00:51.814688', 'duration': 3.763125, 'label': 'sound', 'asr': 'she was behind the liling you know me no now do i'}\n",
      "{'start': '00:00:51.814688', 'end': '00:00:52.844062', 'duration': 1.029374, 'label': 'silence', 'asr': ''}\n",
      "{'start': '00:00:52.844062', 'end': '00:00:56.691563', 'duration': 3.8474999999999997, 'label': 'sound', 'asr': 'what is this what are we you know what we are'}\n",
      "{'start': '00:00:56.691563', 'end': '00:00:58.362188', 'duration': 1.670625, 'label': 'sound', 'asr': \"no i don't\"}\n",
      "{'start': '00:00:58.362188', 'end': '00:01:00.285938', 'duration': 1.92375, 'label': 'silence', 'asr': ''}\n",
      "{'start': '00:01:00.285938', 'end': '00:01:10.073437', 'duration': 9.7875, 'label': 'sound', 'asr': \"mayb i'sort of experimentyou're tryingto piss off your mother stop it do you know what it was like standing there in that stupid dress alone in the gym\"}\n",
      "{'start': '00:01:10.073437', 'end': '00:01:11.389688', 'duration': 1.316251, 'label': 'silence', 'asr': ''}\n",
      "{'start': '00:01:11.389688', 'end': '00:01:16.485938', 'duration': 5.09625, 'label': 'sound', 'asr': 'knowing that all those people got together and planned the best way to hurt me'}\n",
      "{'start': '00:01:16.485938', 'end': '00:01:17.599688', 'duration': 1.11375, 'label': 'silence', 'asr': ''}\n",
      "{'start': '00:01:17.599688', 'end': '00:01:18.460313', 'duration': 0.860625, 'label': 'sound', 'asr': 'humiliate me'}\n",
      "{'start': '00:01:18.460313', 'end': '00:01:21.430312', 'duration': 2.969999, 'label': 'silence', 'asr': ''}\n",
      "{'start': '00:01:21.430312', 'end': '00:01:24.214688', 'duration': 2.784375, 'label': 'sound', 'asr': 'the only wayt couldhave enmorced us if they dumped a bucket of pigs blood on my head'}\n",
      "{'start': '00:01:24.214688', 'end': '00:01:26.779688', 'duration': 2.565, 'label': 'silence', 'asr': ''}\n",
      "{'start': '00:01:26.779688', 'end': '00:01:27.606563', 'duration': 0.826875, 'label': 'sound', 'asr': 'mast mean awful'}\n",
      "{'start': '00:01:27.606563', 'end': '00:01:30.070312', 'duration': 2.463749, 'label': 'silence', 'asr': ''}\n",
      "{'start': '00:01:30.070312', 'end': '00:01:30.627188', 'duration': 0.556875, 'label': 'sound', 'asr': 'it was'}\n",
      "{'start': '00:01:30.627188', 'end': '00:01:33.782813', 'duration': 3.155625, 'label': 'silence', 'asr': ''}\n",
      "{'start': '00:01:33.782813', 'end': '00:01:34.795313', 'duration': 1.0125, 'label': 'sound', 'asr': \"dy ou wan't to know the worst part\"}\n",
      "{'start': '00:01:34.795313', 'end': '00:01:37.545938', 'duration': 2.750625, 'label': 'silence', 'asr': ''}\n",
      "{'start': '00:01:37.545938', 'end': '00:01:39.621563', 'duration': 2.075625, 'label': 'sound', 'asr': \"the worst part was that you didn't come\"}\n",
      "{'start': '00:01:39.621563', 'end': '00:01:42.085313', 'duration': 2.46375, 'label': 'silence', 'asr': ''}\n",
      "{'start': '00:01:42.085313', 'end': '00:01:44.464688', 'duration': 2.379375, 'label': 'sound', 'asr': \"even though you knew what happened you didn't come\"}\n",
      "{'start': '00:01:44.464688', 'end': '00:01:45.494063', 'duration': 1.029375, 'label': 'silence', 'asr': ''}\n",
      "{'start': '00:01:45.494063', 'end': '00:01:45.915938', 'duration': 0.421875, 'label': 'sound', 'asr': 'neno'}\n",
      "{'start': '00:01:45.915938', 'end': '00:01:47.940938', 'duration': 2.025, 'label': 'silence', 'asr': ''}\n",
      "{'start': '00:01:47.940938', 'end': '00:01:48.615938', 'duration': 0.675, 'label': 'sound', 'asr': 'hold my hair'}\n",
      "{'start': '00:01:48.615938', 'end': '00:01:50.269688', 'duration': 1.65375, 'label': 'silence', 'asr': ''}\n",
      "{'start': '00:01:50.269688', 'end': '00:01:51.147188', 'duration': 0.8775, 'label': 'sound', 'asr': 'take me another'}\n",
      "{'start': '00:01:51.147188', 'end': '00:01:53.492813', 'duration': 2.345625, 'label': 'silence', 'asr': ''}\n",
      "{'start': '00:01:53.492813', 'end': '00:01:53.982188', 'duration': 0.489375, 'label': 'sound', 'asr': 'i couldnt'}\n",
      "{'start': '00:01:53.982188', 'end': '00:01:58.960313', 'duration': 4.978125, 'label': 'silence', 'asr': ''}\n",
      "{'start': '00:01:58.960313', 'end': '00:01:59.584688', 'duration': 0.624375, 'label': 'sound', 'asr': 'you should have'}\n",
      "{'start': '00:01:59.584688', 'end': '00:02:05.069063', 'duration': 5.484375, 'label': 'silence', 'asr': ''}\n",
      "{'start': '00:02:05.069063', 'end': '00:02:12.848437', 'duration': 7.779374, 'label': 'sound', 'asr': \"hi can we comin imma and i wanted to be the ones to tell you thanks to pressure from the state's attorney's office\"}\n",
      "{'start': '00:02:12.848437', 'end': '00:02:15.902812', 'duration': 3.054374, 'label': 'sound', 'asr': \"promised back onwe' did it\"}\n",
      "{'start': '00:02:15.902812', 'end': '00:02:18.096563', 'duration': 2.19375, 'label': 'sound', 'asr': \"to be clear it wasn't because of you\"}\n",
      "{'start': '00:02:18.096563', 'end': '00:02:32.997187', 'duration': 14.900625, 'label': 'sound', 'asr': \"wellmaybe it was everyone started freaking out when youges got here the lawyer may have had the legal power but yoareally scared themdon't sell yourself short kid you're the one who scared people\"}\n",
      "{'start': '00:02:32.997187', 'end': '00:02:41.130938', 'duration': 8.13375, 'label': 'sound', 'asr': \"well the important thing is it's a victory now you get a go to prom dislike everybody els my godit's like four days away ar youdon't wear\"}\n",
      "{'start': '00:02:41.130938', 'end': '00:02:42.379687', 'duration': 1.248749, 'label': 'silence', 'asr': ''}\n",
      "{'start': '00:02:42.379687', 'end': '00:02:45.248438', 'duration': 2.86875, 'label': 'sound', 'asr': 'i was thinking of vintage tolks and some hitops'}\n",
      "{'start': '00:02:45.248438', 'end': '00:02:47.560313', 'duration': 2.311875, 'label': 'silence', 'asr': ''}\n",
      "{'start': '00:02:47.560313', 'end': '00:03:12.366562', 'duration': 24.80625, 'label': 'sound', 'asr': \"sweetheart you don't know meand i don't know you but i am begging here let me dress you for pomcome onwe're going to sax there isno sax w'll check out the tammy wynet collection art little fasion showdo it tomorrow er going finotistidate it my place wont your parents have a problem with a middle-aged man hanging out in your bedroom anddressing you emma doesn't love their parents anymore\"}\n",
      "{'start': '00:03:12.366562', 'end': '00:03:13.986562', 'duration': 1.619999, 'label': 'sound', 'asr': \"he we don't really speak\"}\n",
      "{'start': '00:03:13.986562', 'end': '00:03:19.622813', 'duration': 5.636251, 'label': 'sound', 'asr': \"my god we are the same person i haven't spoken to my mother in thirty years\"}\n",
      "{'start': '00:03:19.622813', 'end': '00:03:24.465937', 'duration': 4.843125, 'label': 'sound', 'asr': 'i live with my grandmother now jes chool ghe likes the gaze'}\n",
      "{'start': '00:03:24.465937', 'end': '00:03:30.439687', 'duration': 5.973749, 'label': 'sound', 'asr': \"good and i like the oldscan you do me a favor and pointmn in thedirection of the camearti'll get ye read\"}\n",
      "{'start': '00:03:30.439687', 'end': '00:03:32.464688', 'duration': 2.025001, 'label': 'silence', 'asr': ''}\n",
      "{'start': '00:03:32.464688', 'end': '00:03:35.856562', 'duration': 3.391874, 'label': 'sound', 'asr': \"are you same because i'm lesbian i dreve a pickupwl\"}\n",
      "{'start': '00:03:35.856562', 'end': '00:03:37.594688', 'duration': 1.738126, 'label': 'silence', 'asr': ''}\n",
      "{'start': '00:03:37.594688', 'end': '00:03:38.084063', 'duration': 0.489375, 'label': 'sound', 'asr': 'shut up'}\n"
     ]
    }
   ],
   "source": [
    "t0 = datetime.strptime(\"00:00:00.0\", '%H:%M:%S.%f').timestamp()\n",
    "for i in range(0, len(voice_activity)):\n",
    "    print(voice_activity[i])\n",
    "    "
   ]
  },
  {
   "cell_type": "code",
   "execution_count": null,
   "metadata": {},
   "outputs": [],
   "source": []
  },
  {
   "cell_type": "code",
   "execution_count": null,
   "metadata": {},
   "outputs": [],
   "source": []
  }
 ],
 "metadata": {
  "kernelspec": {
   "display_name": "mediapipe",
   "language": "python",
   "name": "python3"
  },
  "language_info": {
   "codemirror_mode": {
    "name": "ipython",
    "version": 3
   },
   "file_extension": ".py",
   "mimetype": "text/x-python",
   "name": "python",
   "nbconvert_exporter": "python",
   "pygments_lexer": "ipython3",
   "version": "3.10.9"
  },
  "orig_nbformat": 4,
  "vscode": {
   "interpreter": {
    "hash": "6c825ee8c7adf458ddb689359fb2cc8b735fd259db0a312e0606cdffae34d9da"
   }
  }
 },
 "nbformat": 4,
 "nbformat_minor": 2
}
