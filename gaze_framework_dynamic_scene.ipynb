{
 "cells": [
  {
   "cell_type": "code",
   "execution_count": 2,
   "metadata": {},
   "outputs": [
    {
     "name": "stdout",
     "output_type": "stream",
     "text": [
      "The autoreload extension is already loaded. To reload it, use:\n",
      "  %reload_ext autoreload\n"
     ]
    }
   ],
   "source": [
    "import json\n",
    "import cv2 as cv\n",
    "import pickle as pkl\n",
    "from typing import Dict, List\n",
    "import numpy as np\n",
    "from matplotlib import pyplot as plt\n",
    "import os, sys\n",
    "import librosa\n",
    "import shutil \n",
    "import csv\n",
    "\n",
    "from scipy import stats, spatial, ndimage\n",
    "sys.path.insert(0, '/Users/evanpan/Documents/GitHub/EvansToolBox/Utils')\n",
    "sys.path.insert(0, '/Users/evanpan/Documents/GitHub/Gaze_project')\n",
    "sys.path.insert(0, \"C:/Users/evansamaa/Documents/GitHub/EvansToolBox/Utils\")\n",
    "sys.path.insert(0, \"C:/Users/evansamaa/Documents/GitHub/Gaze_project\")\n",
    "sys.path.insert(0, \"C:/Users/evan1/Documents/GitHub/EvansToolBox/Utils\")\n",
    "sys.path.insert(0, \"C:/Users/evan1/Documents/GitHub/Gaze_project\")\n",
    "from Signal_processing_utils import intensity_from_signal, pitch_from_signal, sparse_key_smoothing, laplacian_smoothing\n",
    "from Speech_Data_util import Sentence_word_phone_parser\n",
    "from prototypes.InputDataStructures import Dietic_Conversation_Gaze_Scene_Info, AgentInfo_time_varying, AgentInfo_final\n",
    "from prototypes.MVP.MVP_static_saliency_list import ObjectBasedFixSaliency\n",
    "from prototypes.MVP.MVP_Aversion_saliency_list import AversionSignalDrivenSaliency, CTSAversionSignalDrivenSaliency\n",
    "from prototypes.MVP.MVP_look_at_point_planner import HabituationBasedPlanner, RandomPlanner, PartnerHabituationPlanner\n",
    "from prototypes.MVP.MVP_eye_head_driver import HeuristicGazeMotionGenerator\n",
    "from prototypes.MVP.MVP_Aversion_saliency_list import Base_Static_Saliency_List\n",
    "from prototypes.EyeCatch.Saccade_model_with_internal_model import *\n",
    "from prototypes.Gaze_aversion_prior.Heuristic_model import *\n",
    "from prototypes.Boccignone2020.Gaze_target_planner import Scavenger_based_planner\n",
    "from prototypes.Boccignone2020.Improved_gaze_target_planner import Scavenger_planner_with_nest, Scavenger_planner_simple \n",
    "from prototypes.JaliNeck.JaliNeck import NeckCurve\n",
    "from prototypes.Gaze_aversion_prior.Ribhav_model import predict_aversion\n",
    "from prototypes.Gaze_aversion_prior.Evan_model import Aversion111Prior\n",
    "from prototypes.InputDataStructures import AgentInfo, TurnTakingData\n",
    "from prototypes.MVP.MVP_gaze_path_planner import Responsive_planner_Differnet_Targets, Responsive_planner_simple, Responsive_planner_no_heuristics, Responsive_planner_no_Gaze_deploy, Responsive_planner_React_to_gaze_no_Gaze_deploy\n",
    "import pickle\n",
    "import math\n",
    "import re\n",
    "import string\n",
    "from datetime import datetime, timezone\n",
    "import scipy.stats as ss\n",
    "from Signal_processing_utils import interpolate1D, runEuro, pad_arrays\n",
    "from scipy.interpolate import interp1d\n",
    "from Geometry_Util import directions_from_rotation_angles\n",
    "\n",
    "%load_ext autoreload\n",
    "%autoreload 1\n",
    "\n",
    "%aimport prototypes.InputDataStructures\n",
    "%aimport Speech_Data_util\n",
    "%aimport Signal_processing_utils\n",
    "%aimport Geometry_Util\n",
    "%aimport prototypes.MVP.MVP_static_saliency_list\n",
    "%aimport prototypes.EyeCatch.Saccade_model_with_internal_model\n",
    "%aimport prototypes.InputDataStructures\n",
    "%aimport prototypes.Jin2019.EyeHeadDecomposition\n",
    "%aimport prototypes.Optimization_based_head_eye_seperator.Baseline_optimization\n",
    "%aimport prototypes.Boccignone2020.Improved_gaze_target_planner\n",
    "%aimport prototypes.MVP.MVP_gaze_path_planner\n",
    "%aimport prototypes.JaliNeck.JaliNeck\n",
    "%aimport prototypes.Gaze_aversion_prior.Evan_model"
   ]
  },
  {
   "attachments": {},
   "cell_type": "markdown",
   "metadata": {},
   "source": [
    "# Input Block"
   ]
  },
  {
   "cell_type": "code",
   "execution_count": 3,
   "metadata": {},
   "outputs": [
    {
     "name": "stdout",
     "output_type": "stream",
     "text": [
      "MoviePy - Writing audio in F:/MASC/JALI_gaze/Animations/will_smith\\interview.wav\n"
     ]
    },
    {
     "name": "stderr",
     "output_type": "stream",
     "text": [
      "                                                                      "
     ]
    },
    {
     "name": "stdout",
     "output_type": "stream",
     "text": [
      "MoviePy - Done.\n"
     ]
    },
    {
     "name": "stderr",
     "output_type": "stream",
     "text": [
      "\r"
     ]
    },
    {
     "data": {
      "text/plain": [
       "'F:/MASC/JALI_gaze/Animations/will_smith\\\\interview.wav'"
      ]
     },
     "execution_count": 3,
     "metadata": {},
     "output_type": "execute_result"
    }
   ],
   "source": [
    "from Video_analysis_utils import get_wav_from_video \n",
    "get_wav_from_video(\"interview.mp4\", \"F:/MASC/JALI_gaze/Animations/will_smith\")\n"
   ]
  },
  {
   "attachments": {},
   "cell_type": "markdown",
   "metadata": {},
   "source": [
    "### You need to make the temp folder yourself before running these"
   ]
  },
  {
   "cell_type": "code",
   "execution_count": 4,
   "metadata": {},
   "outputs": [],
   "source": [
    "speaker_id = 0\n",
    "turn_taking_threshold = 2\n",
    "fps = 25\n",
    "np.random.seed(speaker_id)"
   ]
  },
  {
   "cell_type": "code",
   "execution_count": 5,
   "metadata": {},
   "outputs": [],
   "source": [
    "# inputs (for jali laptop)\n",
    "# input_folder = \"/Volumes/EVAN_DISK/MASC/Ribhav_processed_dataset/\"\n",
    "input_folder = \"D:/MASC/shot_processed_dataset/\"\n",
    "input_file = \"heat_source_video\"\n",
    "outside_dataset = True\n",
    "model_location = \"C:/Users/evan1/Documents/GitHub/Gaze_project/prototypes/Gaze_aversion_prior/sentence_word_audio_velocity_model\"\n",
    "whisper_location = \"C:/Users/evan1/Documents/GitHub/Gaze_project/models\"\n",
    "temp_folder = \"D:/MASC/JALI_gaze/Animations/heat\" "
   ]
  },
  {
   "cell_type": "code",
   "execution_count": 6,
   "metadata": {},
   "outputs": [],
   "source": [
    "# inputs (for desk top at home)\n",
    "# input_folder = \"/Volumes/EVAN_DISK/MASC/Ribhav_processed_dataset/\"\n",
    "input_folder = \"/Volumes/EVAN_DISK/MASC/shot_processed_dataset/\"\n",
    "input_file = \"raw_clip\"\n",
    "outside_dataset = True\n",
    "model_location = \"/Users/evanpan/Documents/GitHub/Gaze_project/prototypes/Gaze_aversion_prior/sentence_word_audio_velocity_model\"\n",
    "whisper_location = \"/Users/evanpan/Documents/GitHub/Gaze_project/models\"\n",
    "\n",
    "temp_folder = \"/Volumes/EVAN_DISK/MASC/JALI_gaze/Animations/green_book_letter\" "
   ]
  },
  {
   "cell_type": "code",
   "execution_count": 7,
   "metadata": {},
   "outputs": [],
   "source": [
    "# inputs (for desk top at home)\n",
    "# input_folder = \"/Volumes/EVAN_DISK/MASC/Ribhav_processed_dataset/\"\n",
    "input_folder = \"F:/MASC/shot_processed_dataset/\"\n",
    "input_file = \"heat_source_video\"\n",
    "outside_dataset = True\n",
    "model_location = \"C:/Users/evansamaa/Documents/GitHub/Gaze_project/prototypes/Gaze_aversion_prior/sentence_word_audio_velocity_model\"\n",
    "whisper_location = \"C:/Users/evansamaa/Documents/GitHub/Gaze_project/models\"\n",
    "temp_folder = \"F:/MASC/JALI_gaze/Animations/heat\" "
   ]
  },
  {
   "attachments": {},
   "cell_type": "markdown",
   "metadata": {},
   "source": [
    "## Get all the file paths"
   ]
  },
  {
   "cell_type": "code",
   "execution_count": 8,
   "metadata": {},
   "outputs": [
    {
     "name": "stdout",
     "output_type": "stream",
     "text": [
      "folder already exist\n",
      "folder already exist\n"
     ]
    }
   ],
   "source": [
    "\n",
    "input_file_no_space = input_file.replace(\" \", \"_\")\n",
    "gaze_animation_output_location = os.path.join(*[temp_folder, \"outputs\"])\n",
    "try:\n",
    "    os.mkdir(os.path.join(*[temp_folder, \"outputs\"]))   \n",
    "except:\n",
    "    print(\"folder already exist\")   \n",
    "try:\n",
    "    os.mkdir(os.path.join(*[temp_folder, \"annotated_scene\"]))   \n",
    "except:\n",
    "    print(\"folder already exist\")    \n",
    "# input_file_no_space = \"'\" + input_file_no_space + \"'\"\n",
    "# for both speakers\n",
    "raw_audio_path = os.path.join(*[temp_folder, input_file_no_space+\".wav\"]).replace(os.sep, \"/\")\n",
    "basic_scene_data_path = \"./data/look_at_points/simplest_scene2_less_items.json\"\n",
    "transcription_json_path = os.path.join(*[temp_folder, input_file+\"_transcript.json\"])\n",
    "# for the first speaker\n",
    "speaker_id = 0\n",
    "praatoutput_path_0 = os.path.join(temp_folder, input_file_no_space+\"_{}_PraatOutput.txt\".format(speaker_id)).replace(os.sep, \"/\")\n",
    "audio_path_0 = os.path.join(*[temp_folder, input_file_no_space+\"_{}.wav\".format(speaker_id)]).replace(os.sep, \"/\")\n",
    "text_file_path_0 = os.path.join(*[temp_folder, input_file_no_space+\"_{}.txt\".format(speaker_id)]).replace(os.sep, \"/\")\n",
    "transcript_file_path_0 = os.path.join(*[temp_folder, input_file+\"_transcript.json\".format(speaker_id)]).replace(os.sep, \"/\")\n",
    "tagged_text_file_path_0 = os.path.join(*[temp_folder, input_file_no_space+\"_{}_tagged.txt\".format(speaker_id)]).replace(os.sep, \"/\")\n",
    "tagged_dialog_file_path_0 = os.path.join(*[temp_folder, input_file+\"_dialog_transcript_tagging_0.txt\"])\n",
    "if outside_dataset:\n",
    "    audio_path_0 = os.path.join(*[temp_folder, input_file_no_space+\"_{}.wav\".format(speaker_id)]).replace(os.sep, \"/\")    \n",
    "# output paths\n",
    "output_neural_location_0 = os.path.join(*[temp_folder, \"outputs\", input_file+\"_neural_{}.pkl\".format(speaker_id)]).replace(os.sep, \"/\")\n",
    "# other important input data (such as scene )\n",
    "annotation_data_path_0= os.path.join(*[temp_folder, \"annotated_scene\", input_file+\"_points_{}.json\".format(speaker_id)]).replace(os.sep, \"/\")\n",
    "scene_data_path_0 = os.path.join(*[temp_folder, \"annotated_scene\", input_file+\"_scene_{}.json\".format(speaker_id)]).replace(os.sep, \"/\")\n",
    "\n",
    "# for the first speaker\n",
    "speaker_id = 1\n",
    "praatoutput_path_1 = os.path.join(temp_folder, input_file_no_space+\"_{}_PraatOutput.txt\".format(speaker_id)).replace(os.sep, \"/\")\n",
    "audio_path_1 = os.path.join(*[temp_folder, input_file_no_space+\"_{}.wav\".format(speaker_id)]).replace(os.sep, \"/\")\n",
    "text_file_path_1 = os.path.join(*[temp_folder, input_file_no_space+\"_{}.txt\".format(speaker_id)]).replace(os.sep, \"/\")\n",
    "transcript_file_path_1 = os.path.join(*[temp_folder, input_file+\"_transcript.json\".format(speaker_id)]).replace(os.sep, \"/\")\n",
    "tagged_text_file_path_1 = os.path.join(*[temp_folder, input_file_no_space+\"_{}_tagged.txt\".format(speaker_id)]).replace(os.sep, \"/\")\n",
    "tagged_dialog_file_path_1 = os.path.join(*[temp_folder, input_file+\"_dialog_transcript_tagging_1.txt\"])\n",
    "if outside_dataset:\n",
    "    audio_path_1 = os.path.join(*[temp_folder, input_file_no_space+\"_{}.wav\".format(speaker_id)]).replace(os.sep, \"/\")    \n",
    "# output paths\n",
    "output_neural_location_1 = os.path.join(*[temp_folder, \"outputs\", input_file+\"_neural_{}.pkl\".format(speaker_id)]).replace(os.sep, \"/\")\n",
    "# other important input data (such as scene )\n",
    "annotation_data_path_1 = os.path.join(*[temp_folder, \"annotated_scene\", input_file+\"_points_{}.json\".format(speaker_id)]).replace(os.sep, \"/\")\n",
    "scene_data_path_1 = os.path.join(*[temp_folder, \"annotated_scene\", input_file+\"_scene_{}.json\".format(speaker_id)]).replace(os.sep, \"/\")\n"
   ]
  },
  {
   "attachments": {},
   "cell_type": "markdown",
   "metadata": {},
   "source": [
    "## Use deep learning to get aversion probability"
   ]
  },
  {
   "cell_type": "code",
   "execution_count": 9,
   "metadata": {},
   "outputs": [
    {
     "data": {
      "image/png": "[encoded data removed]",
      "text/plain": [
       "<Figure size 432x288 with 1 Axes>"
      ]
     },
     "metadata": {
      "needs_background": "light"
     },
     "output_type": "display_data"
    }
   ],
   "source": [
    "model = Aversion111Prior(model_location, whisper_location)\n",
    "# for speaker 0 \n",
    "aversion_probabilities_0, X_0 = model.predict(temp_folder, input_folder, input_file, 0, in_dataset=False)\n",
    "ts = np.arange(0, aversion_probabilities_0.shape[0]) / fps\n",
    "# 1 is direct gaze, 0 is aversion, here I want aversion probability\n",
    "aversion_probability_0 = runEuro(ts, aversion_probabilities_0)[:, 0]\n",
    "# since the model doesn't give prediction until later in the audio. \n",
    "# I will omit the prediction until the mode is fairly certain\n",
    "for i in range(0, aversion_probability_0.shape[0]):\n",
    "    if np.abs(aversion_probability_0[i] - 0.5) <= 0.3:\n",
    "        aversion_probability_0[i] = 0\n",
    "    else:\n",
    "        break\n",
    "aversion_probability_0 = np.where(aversion_probability_0 > 0.5, 1, 0)\n",
    "\n",
    "aversion_probabilities_1, X_1 = model.predict(temp_folder, input_folder, input_file, 1, in_dataset=False)\n",
    "ts = np.arange(0, aversion_probabilities_0.shape[0]) / fps\n",
    "# 1 is direct gaze, 0 is aversion, here I want aversion probability\n",
    "plt.plot(aversion_probabilities_1[:, 0])\n",
    "plt.plot(aversion_probabilities_0[:, 0])\n",
    "\n",
    "aversion_probability_1 = runEuro(ts, aversion_probabilities_1)[:, 0]\n",
    "# since the model doesn't give prediction until later in the audio. \n",
    "# I will omit the prediction until the mode is fairly certain\n",
    "for i in range(0, aversion_probability_1.shape[0]):\n",
    "    if np.abs(aversion_probability_1[i] - 0.5) <= 0.3:\n",
    "        aversion_probability_1[i] = 0\n",
    "    else:\n",
    "        break\n",
    "aversion_probability_1 = np.where(aversion_probability_1 > 0.5, 1, 0)"
   ]
  },
  {
   "attachments": {},
   "cell_type": "markdown",
   "metadata": {},
   "source": [
    "## Get Voice activity interval"
   ]
  },
  {
   "cell_type": "code",
   "execution_count": 10,
   "metadata": {},
   "outputs": [],
   "source": [
    "audio_0, sr = librosa.load(audio_path_0)\n",
    "audio_1, sr = librosa.load(audio_path_1)\n",
    "audio_0, audio_1 = pad_arrays(audio_0, audio_1)\n",
    "intensity_0 = intensity_from_signal(audio_0, int(sr/25))\n",
    "intensity_1 = intensity_from_signal(audio_1, int(sr/25))\n",
    "acitivity = np.where(intensity_0 > intensity_1, -1, 1)"
   ]
  },
  {
   "attachments": {},
   "cell_type": "markdown",
   "metadata": {},
   "source": [
    "## Compute Neck Motion (with JaLI)"
   ]
  },
  {
   "cell_type": "code",
   "execution_count": 11,
   "metadata": {},
   "outputs": [
    {
     "name": "stdout",
     "output_type": "stream",
     "text": [
      "90\n",
      "90\n",
      "73\n",
      "73\n"
     ]
    }
   ],
   "source": [
    "conversational_neck_0 = NeckCurve(audio_path_0)\n",
    "jali_neck_output_0 = conversational_neck_0.compute_curve()\n",
    "\n",
    "conversational_neck_1 = NeckCurve(audio_path_1)\n",
    "jali_neck_output_1 = conversational_neck_1.compute_curve()"
   ]
  },
  {
   "attachments": {},
   "cell_type": "markdown",
   "metadata": {},
   "source": [
    "## Compute Neck Motion (from CSV)"
   ]
  },
  {
   "cell_type": "code",
   "execution_count": 12,
   "metadata": {},
   "outputs": [
    {
     "data": {
      "image/png": "[encoded data removed]",
      "text/plain": [
       "<Figure size 432x288 with 1 Axes>"
      ]
     },
     "metadata": {
      "needs_background": "light"
     },
     "output_type": "display_data"
    }
   ],
   "source": [
    "try:\n",
    "    csv_file_path_0 = os.path.join(*[temp_folder, input_file+\"_0_neck.csv\"])\n",
    "    csv_file_path_1 = os.path.join(*[temp_folder, input_file+\"_1_neck.csv\"])\n",
    "    ambient_neck_factor = 0.2\n",
    "    # load the CSV file into a NumPy array\n",
    "    data_0 = np.loadtxt(csv_file_path_0, delimiter=',') * ambient_neck_factor\n",
    "    data_1 = np.loadtxt(csv_file_path_0, delimiter=',') * ambient_neck_factor\n",
    "    # get neck timing\n",
    "    neck_ts = np.arange(0, data_0.shape[0]) / 20 # 20 fps\n",
    "    plt.plot(data_0[:, 0])\n",
    "    for i in range(3):\n",
    "        data_0[:, i] = laplacian_smoothing(data_0[:, i], 1)\n",
    "        data_1[:, i] = laplacian_smoothing(data_1[:, i], 1)\n",
    "    plt.plot(data_0[:, 0])\n",
    "    neck_ts = neck_ts.flatten().tolist()\n",
    "    # get output\n",
    "    ambient_neck_output_0 = [neck_ts, data_0[:, 0].flatten().tolist(), \n",
    "                             neck_ts, data_0[:, 1].flatten().tolist(), \n",
    "                             neck_ts, data_0[:, 2].flatten().tolist()]\n",
    "    ambient_neck_output_1 = [neck_ts, data_1[:, 0].flatten().tolist(), \n",
    "                             neck_ts, data_1[:, 1].flatten().tolist(), \n",
    "                             neck_ts, data_1[:, 2].flatten().tolist()]\n",
    "except:\n",
    "    ambient_neck_output_0 = [[], [], [], [], [], []]\n",
    "    ambient_neck_output_1 = [[], [], [], [], [], []]"
   ]
  },
  {
   "attachments": {},
   "cell_type": "markdown",
   "metadata": {},
   "source": [
    "## The following script generate two scene files. Edit and save them in MAYA"
   ]
  },
  {
   "cell_type": "code",
   "execution_count": 36,
   "metadata": {},
   "outputs": [
    {
     "name": "stdout",
     "output_type": "stream",
     "text": [
      "scene file 0 already exist\n",
      "F:/MASC/JALI_gaze/Animations/heat/annotated_scene/heat_source_video_scene_0.json\n",
      "scene file 1 already exist\n",
      "F:/MASC/JALI_gaze/Animations/heat/annotated_scene/heat_source_video_scene_1.json\n"
     ]
    }
   ],
   "source": [
    "if os.path.isfile(scene_data_path_0):\n",
    "    print(\"scene file 0 already exist\")\n",
    "else:\n",
    "    shutil.copy(basic_scene_data_path, scene_data_path_0)\n",
    "print(scene_data_path_0)\n",
    "if os.path.isfile(scene_data_path_1):\n",
    "    print(\"scene file 1 already exist\")\n",
    "else:\n",
    "    shutil.copy(basic_scene_data_path, scene_data_path_1)\n",
    "print(scene_data_path_1)\n"
   ]
  },
  {
   "attachments": {},
   "cell_type": "markdown",
   "metadata": {},
   "source": [
    "# Use deep learning to generate saliency map for the characters when they are speaking"
   ]
  },
  {
   "attachments": {},
   "cell_type": "markdown",
   "metadata": {},
   "source": [
    "## Obtain the Scene"
   ]
  },
  {
   "cell_type": "code",
   "execution_count": 13,
   "metadata": {},
   "outputs": [],
   "source": [
    "agentScene0 = AgentInfo_final(scene_data_path_0, wonder=True)\n",
    "agentScene1 = AgentInfo_final(scene_data_path_1, wonder=True)"
   ]
  },
  {
   "attachments": {},
   "cell_type": "markdown",
   "metadata": {},
   "source": [
    "## Salinecy Map Object"
   ]
  },
  {
   "cell_type": "code",
   "execution_count": 14,
   "metadata": {},
   "outputs": [],
   "source": [
    "class Neural_input_Saliency_dynamic_scene(Base_Static_Saliency_List):\n",
    "    def __init__(self, scene_info: AgentInfo_final, ts, tag_duration, dt=1/24):\n",
    "        self.scene_info: AgentInfo_final = scene_info\n",
    "        self._number_of_objects = scene_info.get_all_positions().shape[0]\n",
    "        self._dt = dt # 100 hz\n",
    "        self._numb_of_frames = ts.shape[0] # total number of frames\n",
    "        self.evaluated = False\n",
    "        self.map = np.zeros((int(self._numb_of_frames), self._number_of_objects))\n",
    "        self.map_interp = None\n",
    "        # determine the gaze target over time. \n",
    "        self.gaze_target_over_time = []\n",
    "        self.tag_duration = tag_duration\n",
    "        self.get_active_object_from_tags()\n",
    "    def get_index(self, target_name):\n",
    "        for i in range(0, len(self.scene_info.object_id)):\n",
    "            if self.scene_info.object_id[i] == target_name:\n",
    "                return i\n",
    "        print(\"Cannot find tagged object in the scene, check the tags in the dialog file.\")\n",
    "        return -1\n",
    "    def get_active_object_from_tags(self):\n",
    "        try:\n",
    "            targets = self.tag_duration[\"target\"]\n",
    "        except:\n",
    "            targets = []\n",
    "        if len(targets) == 0:\n",
    "            self.gaze_target_over_time = [[0, self.scene_info.other_speaker_id]]\n",
    "        else:\n",
    "            self.gaze_target_over_time = [[0, self.scene_info.other_speaker_id]]\n",
    "            starting_idx = 0\n",
    "            if targets[0][1] == 0:\n",
    "                idx = self.get_index(targets[0][0])\n",
    "                self.gaze_target_over_time = [[0, idx]]\n",
    "                self.gaze_target_over_time.append([targets[0][2], self.scene_info.other_speaker_id])\n",
    "                # if the first element is not the other speaker then we initialize the gaze_target_over_time array differently, so we\n",
    "                # skip the index by one \n",
    "                starting_idx = 1\n",
    "            for i in range(starting_idx, len(targets)):\n",
    "                idx = self.get_index(targets[i][0])\n",
    "                self.gaze_target_over_time.append([targets[i][1], idx])\n",
    "                self.gaze_target_over_time.append([targets[i][2], self.scene_info.other_speaker_id])       \n",
    "    def get_object_positions(self):\n",
    "        return self.scene_info.get_all_positions()\n",
    "    def evaluate_all(self):\n",
    "        if self.evaluated:\n",
    "            return self.map\n",
    "        else:\n",
    "            self.compute_salience()\n",
    "            x = np.arange(0, self._numb_of_frames) * self._dt\n",
    "            self.map_interp = interp1d(x, self.map, axis=0, fill_value=\"extrapolate\", bounds_error=False)\n",
    "            self.evaluated = True\n",
    "            return self.map\n",
    "    def evaluate(self, t):\n",
    "        if self.evaluated:\n",
    "            return self.map_interp(t)\n",
    "        else:\n",
    "            self.compute_salience()\n",
    "            x = np.arange(0, self._numb_of_frames) * self._dt\n",
    "            self.map_interp = interp1d(x, self.map, axis=0, fill_value=\"extrapolate\")\n",
    "            self.evaluated = True\n",
    "            return self.map_interp(t)\n",
    "    def compute_salience(self, aversion_prob_time, aversion_prob_val, interval=True):\n",
    "        # continue setting salience for all objects\n",
    "        inteppp = interp1d(aversion_prob_time, aversion_prob_val, bounds_error=False, fill_value=\"extrapolate\")\n",
    "        for j in range(0, self._numb_of_frames):\n",
    "            for i in range(0, self._number_of_objects):\n",
    "                if i < self.scene_info.get_object_positions(coordinate_space=\"global\").shape[0]:\n",
    "                    self.map[j, i] = self.scene_info.get_interest(i, j * self._dt)\n",
    "                else:\n",
    "                    if inteppp(float(j) * self._dt) < 0.3:\n",
    "                        self.map[j, i] = 0\n",
    "                    else:\n",
    "                        self.map[j, i] = 0.1"
   ]
  },
  {
   "attachments": {},
   "cell_type": "markdown",
   "metadata": {},
   "source": [
    "## Obtain Tagging timing"
   ]
  },
  {
   "cell_type": "code",
   "execution_count": 19,
   "metadata": {},
   "outputs": [
    {
     "ename": "IndentationError",
     "evalue": "expected an indented block (Temp/ipykernel_19172/2908375577.py, line 191)",
     "output_type": "error",
     "traceback": [
      "\u001b[1;36m  File \u001b[1;32m\"C:\\Users\\EVANSA~1\\AppData\\Local\\Temp/ipykernel_19172/2908375577.py\"\u001b[1;36m, line \u001b[1;32m191\u001b[0m\n\u001b[1;33m    i = 0\u001b[0m\n\u001b[1;37m    ^\u001b[0m\n\u001b[1;31mIndentationError\u001b[0m\u001b[1;31m:\u001b[0m expected an indented block\n"
     ]
    }
   ],
   "source": [
    "\n",
    "# Load the transcript list from the JSON file\n",
    "def get_value_from_time_value_pairs(in_list, t):\n",
    "    if t > in_list[-1][0]:\n",
    "        return in_list[-1][1]\n",
    "    if t <= in_list[0][0]:\n",
    "        return in_list[0][1]\n",
    "    for i in range (0, len(in_list)):\n",
    "        if t > in_list[i][0]:\n",
    "            return in_list[i][1]\n",
    "    return -1\n",
    "def get_beats(audio, sr):\n",
    "    fps = 50\n",
    "    audio_energy = intensity_from_signal(audio, int(sr/fps))\n",
    "    beat_ts = np.arange(0, audio_energy.shape[0]) / fps\n",
    "    daudio_dt = dx_dt(audio_energy)\n",
    "    Dm = 0.2\n",
    "    DM = 0.7\n",
    "    DM_frame = math.floor(DM / (beat_ts[1] - beat_ts[0]))\n",
    "    energy_interp = interp1d(beat_ts, audio_energy, bounds_error=False)\n",
    "    # iterative find audio onset between 0.2 and 0.6 seconds to identify beats\n",
    "    beats = [[0, False]] # start with a pseudo beat\n",
    "    for i in range(0, audio_energy.shape[0]):\n",
    "        if daudio_dt[i] > 5:\n",
    "            current_beat_t = beat_ts[i]\n",
    "            if current_beat_t - beat_ts[beats[-1][0]] <= Dm:\n",
    "                continue\n",
    "            if current_beat_t - beat_ts[beats[-1][0]] >= DM:\n",
    "                # these are stored as integer indexes\n",
    "                start = beats[-1][0]\n",
    "                end = i\n",
    "                counter = start + DM_frame\n",
    "                while counter < end:\n",
    "                    beats.append([counter, False])\n",
    "                    counter = counter + DM_frame\n",
    "            beats.append([i, True])\n",
    "    beats_arr = []\n",
    "    for i in range(0, len(beats)):\n",
    "        if beats[i][1]:\n",
    "            beats_arr.append([beat_ts[beats[i][0]], audio_energy[beats[i][0]]])\n",
    "    beats_arr = np.array(beats_arr)\n",
    "    return beats_arr\n",
    "def get_tags(transcript_file_path, tagged_text_file_path, speaker_id):\n",
    "    with open(transcript_file_path, 'r') as f:\n",
    "        if speaker_id == 0:\n",
    "            transcript_list = json.load(f)[\"self\"]\n",
    "        else:\n",
    "            transcript_list = json.load(f)[\"other\"]\n",
    "\n",
    "    # Load the transcript text file\n",
    "    with open(tagged_text_file_path, 'r') as f:\n",
    "        transcript = f.read()\n",
    "    transcript_list.append({\"text\":\"EOH\", \"start\":transcript_list[-1][\"end\"]})\n",
    "    word_list = [word[\"text\"] for word in transcript_list]\n",
    "    translator = str.maketrans('', '', string.punctuation.replace('<', '').replace('>', '').replace('-', '').replace('_', '').replace(\"'\", '').replace(\"/\", '').replace(\"@\", ''))\n",
    "    # Remove all punctuation except < and > from the input string using the translation table\n",
    "    word_list = [word.translate(translator) for word in word_list]\n",
    "    transcript = transcript.translate(translator)\n",
    "    transcript = transcript.split(\" \")\n",
    "    transcript = [s for s in transcript if s != \"\"]\n",
    "    transcript.append(\"EOT\")\n",
    "    i = 0\n",
    "    j = 0\n",
    "    tag_durations = {}\n",
    "    while i < len(transcript):\n",
    "        if transcript[i] == word_list[j]:\n",
    "            i += 1\n",
    "            j += 1\n",
    "        else:\n",
    "            # if this is a starting tag\n",
    "            if transcript[i][-2:] != \"/>\":\n",
    "                active_tag = transcript[i][1:-1]\n",
    "                active_tag_interval = [j]\n",
    "                # iterate through the list to find the matching tag\n",
    "                ii = i + 1\n",
    "                jj = j\n",
    "                while ii < len(transcript):\n",
    "                    if jj < len(word_list) and transcript[ii] == word_list[jj]:\n",
    "                        ii += 1\n",
    "                        jj += 1\n",
    "                    else:\n",
    "                        # if we have foudn the end tag\n",
    "                        if transcript[ii][-2:] == \"/>\" and transcript[ii][1:-2] == active_tag:\n",
    "                            active_tag_interval.append(jj)\n",
    "                            active_tag_interval[0] = transcript_list[active_tag_interval[0]][\"start\"]\n",
    "                            active_tag_interval[1] = transcript_list[active_tag_interval[1]][\"start\"]\n",
    "                            print(active_tag)\n",
    "                            if active_tag[0:2] != \"at\":\n",
    "                                try:\n",
    "                                    tag_durations[active_tag].append(active_tag_interval.copy())\n",
    "                                except:\n",
    "                                    tag_durations[active_tag] = [active_tag_interval.copy()]\n",
    "                            else:\n",
    "                                try:\n",
    "                                    tag_durations[\"target\"].append([active_tag[2:], active_tag_interval[0], active_tag_interval[1]])\n",
    "                                except:\n",
    "                                    tag_durations[\"target\"] = [[active_tag[2:], active_tag_interval[0], active_tag_interval[1]]]          \n",
    "                            break\n",
    "                        else:\n",
    "                            ii+=2\n",
    "                            jj+=1\n",
    "            i += 2\n",
    "            j += 1\n",
    "    return tag_durations\n",
    "def apply_stare_tags(tag_durations, ts, aversion_probability):\n",
    "    try:\n",
    "        stare_intervals = tag_durations[\"stare\"]\n",
    "        stare_intervals_index_sets = []\n",
    "        for i in range(0, len(stare_intervals)):\n",
    "            index_set = []\n",
    "            for t in range(ts.shape[0]):\n",
    "                if ts[t] >= stare_intervals[i][0] and len(index_set) == 0:\n",
    "                    index_set.append(t)\n",
    "                if ts[t] >= stare_intervals[i][1]:\n",
    "                    index_set.append(t)\n",
    "                    break\n",
    "            stare_intervals_index_sets.append(index_set)\n",
    "        for i in range(len(stare_intervals_index_sets)):\n",
    "            aversion_probability[stare_intervals_index_sets[i][0]:stare_intervals_index_sets[i][1]] = 0\n",
    "    except:\n",
    "        pass\n",
    "    return aversion_probability\n",
    "def apply_directional_tag(tag_durations, aversion_saliency):\n",
    "    tag_directions = [\"up\", \"down\", \"left\", \"right\"]\n",
    "    for dire in tag_directions:\n",
    "        look_up_intervals = []\n",
    "        try:\n",
    "            look_up_intervals = tag_durations[dire]\n",
    "        except:\n",
    "            continue\n",
    "        look_up_intervals_index_sets = []\n",
    "        for i in range(0, len(look_up_intervals)):\n",
    "            index_set = []\n",
    "            for t in range(ts.shape[0]):\n",
    "                if ts[t] >= look_up_intervals[i][0] and len(index_set) == 0:\n",
    "                    index_set.append(t)\n",
    "                if ts[t] >= look_up_intervals[i][1]:\n",
    "                    index_set.append(t)\n",
    "                    break\n",
    "            look_up_intervals_index_sets.append(index_set)\n",
    "        objects_positions = aversion_saliency.get_object_positions()\n",
    "        active_object_overtime = aversion_saliency.gaze_target_over_time\n",
    "        for i in range(len(look_up_intervals_index_sets)):\n",
    "            for j in range(look_up_intervals_index_sets[i][0], look_up_intervals_index_sets[i][1]):\n",
    "                t = j * aversion_saliency._dt\n",
    "                aversion_saliency.scene_info.active_object_id = get_value_from_time_value_pairs(active_object_overtime, t)\n",
    "                if dire == \"up\":\n",
    "                    above = np.where(objects_positions[:, 1] >= objects_positions[aversion_saliency.scene_info.active_object_id, 1], 1, 0)\n",
    "                    above[aversion_saliency.scene_info.active_object_id] = 1\n",
    "                elif dire == \"down\":\n",
    "                    above = np.where(objects_positions[:, 1] <= objects_positions[aversion_saliency.scene_info.active_object_id, 1], 1, 0)\n",
    "                    above[aversion_saliency.scene_info.active_object_id] = 1\n",
    "                elif dire == \"left\":\n",
    "                    above = np.where(objects_positions[:, 0] <= objects_positions[aversion_saliency.scene_info.active_object_id, 0], 1, 0)\n",
    "                    above[aversion_saliency.scene_info.active_object_id] = 1\n",
    "                elif dire == \"right\":\n",
    "                    above = np.where(objects_positions[:, 0] >= objects_positions[aversion_saliency.scene_info.active_object_id, 0], 1, 0)\n",
    "                    above[aversion_saliency.scene_info.active_object_id] = 1\n",
    "                    \n",
    "                # mask = np.tile(np.expand_dims(above, axis=0), [look_up_intervals_index_sets[i][1] - look_up_intervals_index_sets[i][0], 1])\n",
    "                mask = above\n",
    "                aversion_saliency.map[j] *= mask\n",
    "    return aversion_saliency\n",
    "def get_tags_dialog_format(transcript_file_path, tagged_dialogue_file_path, speaker_id):\n",
    "    with open(transcript_file_path, 'r') as f:\n",
    "        if speaker_id == 0:\n",
    "            transcript_list = json.load(f)[\"self\"]\n",
    "        else:\n",
    "            transcript_list = json.load(f)[\"other\"]\n",
    "\n",
    "    # Load the transcript text file\n",
    "    with open(tagged_dialogue_file_path, 'r') as f:\n",
    "        transcript = f.read()\n",
    "    transcript_lines = transcript.split(\"\\n\")\n",
    "    # keep only the speech of matching speaker_id\n",
    "    speaker_script = []\n",
    "    for l in range(0, len(transcript_lines)):\n",
    "        speaker, text = transcript_lines[l].split(\":\")\n",
    "        if speaker_id == int(speaker[-1]):\n",
    "            speaker_script.append(text.strip())\n",
    "    transcript = \" \".join(speaker_script)\n",
    "    transcript_list.append({\"text\":\"EOH\", \"start\":transcript_list[-1][\"end\"]})\n",
    "    word_list = [word[\"text\"] for word in transcript_list]\n",
    "    translator = str.maketrans('', '', string.punctuation.replace('<', '').replace('>', '').replace('-', '').replace('_', '').replace(\"'\", '').replace(\"/\", '').replace(\"@\", ''))\n",
    "    # Remove all punctuation except < and > from the input string using the translation table\n",
    "    word_list = [word.translate(translator) for word in word_list]\n",
    "    transcript = transcript.translate(translator)\n",
    "    transcript = transcript.split(\" \")\n",
    "    transcript = [s for s in transcript if s != \"\"]\n",
    "    transcript.append(\"EOT\")\n",
    "    i = 0\n",
    "    j = 0\n",
    "    tag_durations = {}\n",
    "    while i < len(transcript):\n",
    "        if transcript[i] == word_list[j]:\n",
    "            i += 1\n",
    "            j += 1\n",
    "        else:\n",
    "            # if this is a starting tag\n",
    "            if transcript[i][-2:] != \"/>\":\n",
    "                active_tag = transcript[i][1:-1]\n",
    "                active_tag_interval = [j]\n",
    "                # iterate through the list to find the matching tag\n",
    "                ii = i + 1\n",
    "                jj = j\n",
    "                while ii < len(transcript):\n",
    "                    if jj < len(word_list) and transcript[ii] == word_list[jj]:\n",
    "                        ii += 1\n",
    "                        jj += 1\n",
    "                    else:\n",
    "                        # if we have foudn the end tag\n",
    "                        if transcript[ii][-2:] == \"/>\" and transcript[ii][1:-2] == active_tag:\n",
    "                            active_tag_interval.append(jj)\n",
    "                            active_tag_interval[0] = transcript_list[active_tag_interval[0]][\"start\"]\n",
    "                            active_tag_interval[1] = transcript_list[active_tag_interval[1]][\"start\"]\n",
    "                            if active_tag[0] != \"@\":\n",
    "                                try:\n",
    "                                    tag_durations[active_tag].append(active_tag_interval.copy())\n",
    "                                except:\n",
    "                                    tag_durations[active_tag] = [active_tag_interval.copy()]\n",
    "                            else:\n",
    "                                try:\n",
    "                                    tag_durations[\"target\"].append([active_tag[1:], active_tag_interval[0], active_tag_interval[1]])\n",
    "                                except:\n",
    "                                    tag_durations[\"target\"] = [[active_tag[1:], active_tag_interval[0], active_tag_interval[1]]]          \n",
    "                            break\n",
    "                        else:\n",
    "                            ii+=2\n",
    "                            jj+=1\n",
    "            i += 2\n",
    "            j += 1\n",
    "    return tag_durations\n",
    "# tag_durations_0 = get_tags(transcript_file_path_0, tagged_text_file_path_0, 0)\n",
    "# tag_durations_1 = get_tags(transcript_file_path_1, tagged_text_file_path_1, 1)\n",
    "tag_durations_0 = get_tags_dialog_format(transcript_file_path_1, tagged_dialog_file_path_0, 0)\n",
    "tag_durations_1 = get_tags_dialog_format(transcript_file_path_1, tagged_dialog_file_path_0, 1)\n",
    "aversion_probability_0 = apply_stare_tags(tag_durations_0, ts, aversion_probability_0)\n",
    "aversion_probability_1 = apply_stare_tags(tag_durations_1, ts, aversion_probability_1)\n",
    "sementic_script_0 = Sentence_word_phone_parser(praatoutput_path_0, praatoutput_path_0)\n",
    "sementic_script_0.get_turns(turn_taking_threshold)\n",
    "sementic_script_1 = Sentence_word_phone_parser(praatoutput_path_1, praatoutput_path_1)\n",
    "sementic_script_1.get_turns(turn_taking_threshold)\n",
    "\n",
    "aversion_saliency_0 = Neural_input_Saliency_dynamic_scene(agentScene0, ts, tag_durations_0, 1.0/fps)\n",
    "aversion_saliency_0.compute_salience(ts, aversion_probability_0)\n",
    "aversion_saliency_0 = apply_directional_tag(tag_durations_0, aversion_saliency_0)\n",
    "aversion_saliency_1 = Neural_input_Saliency_dynamic_scene(agentScene1, ts, tag_durations_1, 1.0/fps)\n",
    "aversion_saliency_1.compute_salience(ts, aversion_probability_1)\n",
    "aversion_saliency_1 = apply_directional_tag(tag_durations_1, aversion_saliency_1)\n",
    "\n",
    "beats_0 = get_beats(audio_0, sr)[:, 0]\n",
    "beats_1 = get_beats(audio_1, sr)[:, 0]\n",
    "print(tag_durations_0)\n",
    "print(tag_durations_1)"
   ]
  },
  {
   "attachments": {},
   "cell_type": "markdown",
   "metadata": {},
   "source": [
    "# Compute Gaze Targets"
   ]
  },
  {
   "cell_type": "code",
   "execution_count": 77,
   "metadata": {},
   "outputs": [
    {
     "name": "stdout",
     "output_type": "stream",
     "text": [
      "[[0.04, 1], [5.2, 0], [6.08, 1], [6.28, 0], [6.5200000000000005, 1], [7.5200000000000005, 0], [10.84, 1], [12.0, 0], [12.32, 1], [12.56, 0], [12.72, 1], [17.92, 0], [17.96, 1], [18.080000000000002, 0], [18.12, 1], [18.64, 0], [18.68, 1], [19.84, 0], [20.080000000000002, 1], [20.48, 0], [20.92, 1], [21.080000000000002, 0], [21.400000000000002, 1], [21.88, 0], [22.16, 1], [22.96, 0], [23.36, 1], [24.32, 0], [24.48, 1], [25.36, 0], [31.2, 1], [31.52, 0], [33.480000000000004, 1], [34.12, 0], [34.24, 1], [34.84, 0], [35.72, 1], [35.84, 0], [36.28, 1], [36.52, 0], [36.800000000000004, 1], [36.88, 0], [40.88, 1], [41.44, 0], [41.480000000000004, 1], [41.76, 0], [42.12, 1], [44.52, 0], [48.6, 1], [49.2, 0], [51.800000000000004, 1], [51.96, 0], [59.4, 1], [59.72, 0], [60.36, 1], [60.52, 0], [62.4, 1], [63.120000000000005, 0], [69.16, 1], [69.52, 0], [69.76, 1], [69.88, 0], [70.2, 1], [71.8, 0], [72.16, 1], [73.16, 0], [75.88, 1], [77.16, 0], [77.76, 1], [78.2, 0], [78.64, 1], [80.48, 0], [81.60000000000001, 1], [81.88, 0], [82.0, 1], [82.52, 0], [82.64, 1], [83.28, 0], [83.92, 1], [84.16, 0], [86.84, 1], [87.12, 0], [89.88, 1], [91.04, 0], [91.2, 1], [92.04, 0], [93.24, 1], [93.92, 0], [94.68, 1], [98.4, 0], [102.12, 1], [102.4, 0], [127.96000000000001, 1], [128.24, 0], [128.84, 1], [129.16, 0], [130.28, 1], [130.44, 0], [131.8, 1], [132.16, 0], [132.76, 1], [132.88, 0], [133.04, 1], [133.68, 0], [137.76, 1], [138.16, 0], [143.04, 1], [143.52, 0], [143.88, 1], [144.04, 0], [144.4, 1], [144.56, 0], [145.36, 1], [146.0, 0], [146.44, 1], [148.0, 0], [148.16, 1], [148.48, 0], [148.88, 1], [149.36, 0], [150.24, 1], [150.52, 0], [153.12, 1], [153.52, 0], [154.24, 1], [154.48, 0], [156.72, 1], [156.96, 0], [158.04, 1], [158.16, 0], [160.96, 1], [161.28, 0], [162.72, 1], [163.0, 0], [170.36, 1], [170.68, 0], [183.04, 1], [183.32, 0], [185.08, 1], [185.36, 0], [185.84, 1], [186.04, 0], [186.84, 1], [186.96, 0], [187.20000000000002, 1], [187.4, 0], [187.96, 1], [188.72, 0], [189.20000000000002, 1], [190.36, 0], [191.12, 1], [191.64000000000001, 0], [194.08, 1], [194.48000000000002, 0], [200.44, 1], [200.84, 0], [202.72, 1], [203.0, 0], [203.88, 1], [204.4, 0], [212.96, 1], [213.28, 0], [216.4, 1], [216.56, 0], [220.36, 1], [220.72, 0], [222.56, 1], [222.76, 0], [228.56, 1], [228.8, 0], [229.0, 1], [229.20000000000002, 0], [232.4, 1], [232.8, 0], [233.64000000000001, 1], [233.92000000000002, 0], [235.28, 1], [236.04, 0], [236.24, 1], [237.0, 0], [238.28, 1], [238.48000000000002, 0], [238.72, 1], [241.4, 0], [254.88, 1], [255.44, 0], [256.16, 1], [256.4, 0], [256.8, 1], [257.28000000000003, 0], [264.04, 1], [264.24, 0], [266.92, 1], [267.28000000000003, 0], [268.28000000000003, 1], [268.92, 0], [269.84000000000003, 1], [270.0, 0], [272.4, 1], [272.88, 0], [276.92, 1], [277.36, 0], [277.56, 1], [277.96, 0], [278.32, 1], [279.2, 0], [280.64, 1], [282.68, 0], [283.44, 1], [283.76, 0], [284.32, 1], [284.48, 0], [285.72, 1], [286.16, 0], [286.28000000000003, 1], [286.32, 0], [287.56, 1], [289.52, 0], [292.04, 1], [292.24, 0], [296.08, 1], [296.76, 0], [352.68, 1], [352.84000000000003, 0], [354.6, 1], [354.88, 0], [355.52, 1], [356.92, 0], [357.24, 1], [357.40000000000003, 0], [357.76, 1], [358.12, 0]]\n",
      "[[15.52, 1], [16.48, 0], [17.16, 1], [17.96, 0], [19.400000000000002, 1], [19.8, 0], [26.48, 1], [27.16, 0], [30.96, 1], [31.12, 0], [40.92, 1], [41.32, 0], [44.800000000000004, 1], [45.0, 0], [46.88, 1], [47.32, 0], [52.04, 1], [52.32, 0], [53.52, 1], [53.56, 0], [53.72, 1], [54.72, 0], [54.92, 1], [55.44, 0], [56.44, 1], [56.56, 0], [64.6, 1], [65.32000000000001, 0], [67.72, 1], [67.88, 0], [68.4, 1], [68.56, 0], [73.8, 1], [74.04, 0], [102.64, 1], [106.04, 0], [110.72, 1], [112.48, 0], [113.68, 1], [114.04, 0], [114.28, 1], [116.2, 0], [123.28, 1], [123.4, 0], [135.64000000000001, 1], [136.68, 0], [139.32, 1], [139.6, 0], [139.84, 1], [140.68, 0], [141.16, 1], [141.32, 0], [141.52, 1], [142.24, 0], [174.48, 1], [174.6, 0], [179.72, 1], [179.76, 0], [230.64000000000001, 1], [231.0, 0], [246.68, 1], [246.96, 0], [248.88, 1], [249.52, 0], [250.28, 1], [250.52, 0], [251.56, 1], [251.76000000000002, 0], [257.44, 1], [257.88, 0], [265.68, 1], [266.0, 0], [266.2, 1], [266.44, 0], [270.12, 1], [270.64, 0], [271.32, 1], [271.6, 0], [313.56, 1], [313.8, 0], [314.16, 1], [314.36, 0], [316.6, 1], [325.92, 0], [326.40000000000003, 1], [326.96, 0], [336.8, 1], [339.2, 0], [345.8, 1], [346.32, 0], [348.08, 1], [348.40000000000003, 0], [348.68, 1], [348.88, 0], [349.48, 1], [350.28000000000003, 0], [358.44, 1], [358.8, 0], [360.44, 1], [360.56, 0], [360.76, 1], [361.76, 0], [367.08, 1], [367.36, 0], [369.36, 1], [369.8, 0], [370.56, 1], [370.68, 0], [373.56, 1], [373.88, 0], [374.64, 1], [376.28000000000003, 0], [376.56, 1], [376.76, 0], [376.84000000000003, 1]]\n"
     ]
    }
   ],
   "source": [
    "planner0 = Responsive_planner_Differnet_Targets([aversion_saliency_0], agentScene0, aversion_probability_0, aversion_probability_1, acitivity, beats_0, min_saccade_time_consecutive=0)\n",
    "planner1 = Responsive_planner_Differnet_Targets([aversion_saliency_1], agentScene1, aversion_probability_1, aversion_probability_0, -acitivity, beats_1, min_saccade_time_consecutive=0)\n",
    "output_times_0, output_targets_0 = planner0.compute()\n",
    "output_times_1, output_targets_1 = planner1.compute()"
   ]
  },
  {
   "cell_type": "code",
   "execution_count": 78,
   "metadata": {},
   "outputs": [],
   "source": [
    "output_target_positions_0 = []\n",
    "for i in output_targets_0:\n",
    "    output_target_positions_0.append(agentScene0.get_all_positions(coordinate_space=\"local\")[i])\n",
    "output_target_positions_0 = np.array(output_target_positions_0)\n",
    "output_times_0_arr = np.array(output_times_0)\n",
    "output_times_0_arr = np.expand_dims(output_times_0_arr, axis=1)\n",
    "save_arr = np.concatenate([output_times_0_arr, output_target_positions_0], axis=1)\n",
    "np.save(\"F:/MASC/JALI_gaze/for_non_conversational/debugging/test_look_at_points.npy\", save_arr)"
   ]
  },
  {
   "attachments": {},
   "cell_type": "markdown",
   "metadata": {},
   "source": [
    "## Output Gaze motion"
   ]
  },
  {
   "cell_type": "code",
   "execution_count": 79,
   "metadata": {},
   "outputs": [
    {
     "name": "stdout",
     "output_type": "stream",
     "text": [
      "F:/MASC/JALI_gaze/Animations/heat/outputs/heat_source_video_neural_0.pkl\n",
      "F:/MASC/JALI_gaze/Animations/heat/outputs/heat_source_video_neural_1.pkl\n"
     ]
    }
   ],
   "source": [
    "#get the output_targets_positions from the scene\n",
    "def output_files(agentScene, output_targets, output_times, jali_neck_output, output_neural_location, gaze_target_over_time, ambient_neck_output):\n",
    "    output_target_positions = []\n",
    "    posssss = agentScene.get_all_positions(coordinate_space=\"local\")\n",
    "    for i in output_targets:\n",
    "        output_target_positions.append(posssss[i])\n",
    "    internal_model = InternalModelCenterBias_dynamic_scene(agentScene)\n",
    "    # the good model\n",
    "    generator = SacccadeGenerator_dynamic_scene(output_times, output_target_positions, output_targets, internal_model, gaze_target_over_time, dt=1/fps)\n",
    "    ek, hk, micro_saccade = generator.compute()\n",
    "    # display_targetss(generator.head_positions)\n",
    "    # display_targetss(generator.target_positions_head, label=\"head_look_at\")\n",
    "    # plt.show()\n",
    "    # display_targetss(generator.gaze_positions)\n",
    "    # display_targetss(generator.target_gaze_intervals_pos, label=\"head_look_at\")\n",
    "    # plt.show()\n",
    "    blend_weight = []\n",
    "    for i in range(1, len(hk[0])-1):\n",
    "        velocity = math.sqrt((hk[0][i][1]-hk[0][i-1][1])**2 + (hk[0][i-1][2]-hk[0][i][2])**2)\n",
    "        blend_weight.append([hk[0][i][0], 1 - min(1, velocity/0.75)])\n",
    "    out = {\"eye_frames\": ek,\n",
    "            \"head_frames\": hk,\n",
    "            \"micro_saccade\": micro_saccade,\n",
    "            \"other_neck\": jali_neck_output,\n",
    "            \"envelope\":[], \n",
    "            \"ambient_neck\":ambient_neck_output}\n",
    "            # \"output_times\": output_times, \n",
    "            # \"output_targets\": output_targets\n",
    "    with open(output_neural_location, 'wb') as f:\n",
    "        pickle.dump(out, f, protocol=2)\n",
    "print(output_neural_location_0)\n",
    "print(output_neural_location_1)\n",
    "output_files(agentScene0, output_targets_0, output_times_0, jali_neck_output_0, output_neural_location_0, aversion_saliency_0.gaze_target_over_time, ambient_neck_output_0)\n",
    "output_files(agentScene1, output_targets_1, output_times_1, jali_neck_output_1, output_neural_location_1, aversion_saliency_1.gaze_target_over_time, ambient_neck_output_1)\n"
   ]
  },
  {
   "cell_type": "code",
   "execution_count": null,
   "metadata": {},
   "outputs": [],
   "source": []
  },
  {
   "cell_type": "code",
   "execution_count": null,
   "metadata": {},
   "outputs": [],
   "source": [
    "\n"
   ]
  },
  {
   "cell_type": "code",
   "execution_count": null,
   "metadata": {},
   "outputs": [],
   "source": []
  },
  {
   "cell_type": "code",
   "execution_count": null,
   "metadata": {},
   "outputs": [],
   "source": []
  }
 ],
 "metadata": {
  "kernelspec": {
   "display_name": "Visemenet",
   "language": "python",
   "name": "python3"
  },
  "language_info": {
   "codemirror_mode": {
    "name": "ipython",
    "version": 3
   },
   "file_extension": ".py",
   "mimetype": "text/x-python",
   "name": "python",
   "nbconvert_exporter": "python",
   "pygments_lexer": "ipython3",
   "version": "3.8.11"
  },
  "orig_nbformat": 4
 },
 "nbformat": 4,
 "nbformat_minor": 2
}
