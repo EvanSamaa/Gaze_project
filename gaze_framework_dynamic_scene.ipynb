{
 "cells": [
  {
   "cell_type": "code",
   "execution_count": 1,
   "metadata": {},
   "outputs": [
    {
     "name": "stderr",
     "output_type": "stream",
     "text": [
      "c:\\Users\\evansamaa\\anaconda3\\envs\\JaliGaze\\lib\\site-packages\\tqdm\\auto.py:21: TqdmWarning: IProgress not found. Please update jupyter and ipywidgets. See https://ipywidgets.readthedocs.io/en/stable/user_install.html\n",
      "  from .autonotebook import tqdm as notebook_tqdm\n"
     ]
    },
    {
     "name": "stdout",
     "output_type": "stream",
     "text": [
      "Importing the dtw module. When using in academic works please cite:\n",
      "  T. Giorgino. Computing and Visualizing Dynamic Time Warping Alignments in R: The dtw Package.\n",
      "  J. Stat. Soft., doi:10.18637/jss.v031.i07.\n",
      "\n"
     ]
    }
   ],
   "source": [
    "import json\n",
    "import cv2 as cv\n",
    "import pickle as pkl\n",
    "from typing import Dict, List\n",
    "import numpy as np\n",
    "import torch\n",
    "from matplotlib import pyplot as plt\n",
    "import os, sys\n",
    "import librosa\n",
    "import shutil \n",
    "import csv\n",
    "\n",
    "from scipy import stats, spatial, ndimage\n",
    "sys.path.insert(0, '/Users/evanpan/Documents/GitHub/EvansToolBox/Utils')\n",
    "sys.path.insert(0, '/Users/evanpan/Documents/GitHub/Gaze_project')\n",
    "sys.path.insert(0, \"C:/Users/evansamaa/Documents/GitHub/EvansToolBox/Utils\")\n",
    "sys.path.insert(0, \"C:/Users/evansamaa/Documents/GitHub/Gaze_project\")\n",
    "sys.path.insert(0, \"C:/Users/evan1/Documents/GitHub/EvansToolBox/Utils\")\n",
    "sys.path.insert(0, \"C:/Users/evan1/Documents/GitHub/Gaze_project\")\n",
    "from Signal_processing_utils import intensity_from_signal, pitch_from_signal, sparse_key_smoothing, laplacian_smoothing\n",
    "from Speech_Data_util import Sentence_word_phone_parser\n",
    "from prototypes.InputDataStructures import Dietic_Conversation_Gaze_Scene_Info, AgentInfo_time_varying, AgentInfo_final\n",
    "from prototypes.MVP.MVP_static_saliency_list import ObjectBasedFixSaliency\n",
    "from prototypes.MVP.MVP_Aversion_saliency_list import AversionSignalDrivenSaliency, CTSAversionSignalDrivenSaliency\n",
    "from prototypes.MVP.MVP_look_at_point_planner import HabituationBasedPlanner, RandomPlanner, PartnerHabituationPlanner\n",
    "from prototypes.MVP.MVP_eye_head_driver import HeuristicGazeMotionGenerator\n",
    "from prototypes.MVP.MVP_Aversion_saliency_list import Base_Static_Saliency_List\n",
    "from prototypes.EyeCatch.Saccade_model_with_internal_model import *\n",
    "from prototypes.Gaze_aversion_prior.Heuristic_model import *\n",
    "from prototypes.Boccignone2020.Gaze_target_planner import Scavenger_based_planner\n",
    "from prototypes.Boccignone2020.Improved_gaze_target_planner import Scavenger_planner_with_nest, Scavenger_planner_simple \n",
    "from prototypes.JaliNeck.JaliNeck import NeckCurve\n",
    "from prototypes.Gaze_aversion_prior.Ribhav_model import predict_aversion\n",
    "from prototypes.Gaze_aversion_prior.Evan_model import Aversion111Prior\n",
    "from prototypes.InputDataStructures import AgentInfo, TurnTakingData\n",
    "from prototypes.MVP.MVP_gaze_path_planner import Responsive_planner_Differnet_Targets, Responsive_planner_ThreeParty, Responsive_planner_simple, Responsive_planner_no_heuristics, Responsive_planner_no_Gaze_deploy, Responsive_planner_React_to_gaze_no_Gaze_deploy\n",
    "import pickle\n",
    "import math\n",
    "import re\n",
    "import string\n",
    "from datetime import datetime, timezone\n",
    "import scipy.stats as ss\n",
    "from Signal_processing_utils import interpolate1D, runEuro, pad_arrays\n",
    "from scipy.interpolate import interp1d\n",
    "from Geometry_Util import directions_from_rotation_angles\n",
    "from Video_analysis_utils import get_wav_from_video\n",
    "\n",
    "%load_ext autoreload\n",
    "%autoreload 1\n",
    "\n",
    "%aimport prototypes.InputDataStructures\n",
    "%aimport Speech_Data_util\n",
    "%aimport Signal_processing_utils\n",
    "%aimport Geometry_Util\n",
    "%aimport prototypes.MVP.MVP_static_saliency_list\n",
    "%aimport prototypes.EyeCatch.Saccade_model_with_internal_model\n",
    "%aimport prototypes.InputDataStructures\n",
    "%aimport prototypes.Jin2019.EyeHeadDecomposition\n",
    "%aimport prototypes.Optimization_based_head_eye_seperator.Baseline_optimization\n",
    "%aimport prototypes.Boccignone2020.Improved_gaze_target_planner\n",
    "%aimport prototypes.MVP.MVP_gaze_path_planner\n",
    "%aimport prototypes.JaliNeck.JaliNeck\n",
    "%aimport prototypes.Gaze_aversion_prior.Evan_model\n",
    "\n",
    "def get_beats(audio, sr):\n",
    "    fps = 50\n",
    "    audio_energy = intensity_from_signal(audio, int(sr/fps))\n",
    "    beat_ts = np.arange(0, audio_energy.shape[0]) / fps\n",
    "    daudio_dt = dx_dt(audio_energy)\n",
    "    Dm = 0.2\n",
    "    DM = 0.7\n",
    "    DM_frame = math.floor(DM / (beat_ts[1] - beat_ts[0]))\n",
    "    energy_interp = interp1d(beat_ts, audio_energy, bounds_error=False)\n",
    "    # iterative find audio onset between 0.2 and 0.6 seconds to identify beats\n",
    "    beats = [[0, False]] # start with a pseudo beat\n",
    "    for i in range(0, audio_energy.shape[0]):\n",
    "        if daudio_dt[i] > 5:\n",
    "            current_beat_t = beat_ts[i]\n",
    "            if current_beat_t - beat_ts[beats[-1][0]] <= Dm:\n",
    "                continue\n",
    "            if current_beat_t - beat_ts[beats[-1][0]] >= DM:\n",
    "                # these are stored as integer indexes\n",
    "                start = beats[-1][0]\n",
    "                end = i\n",
    "                counter = start + DM_frame\n",
    "                while counter < end:\n",
    "                    beats.append([counter, False])\n",
    "                    counter = counter + DM_frame\n",
    "            beats.append([i, True])\n",
    "    beats_arr = []\n",
    "    for i in range(0, len(beats)):\n",
    "        if beats[i][1]:\n",
    "            beats_arr.append([beat_ts[beats[i][0]], audio_energy[beats[i][0]]])\n",
    "    beats_arr = np.array(beats_arr)\n",
    "    return beats_arr\n"
   ]
  },
  {
   "attachments": {},
   "cell_type": "markdown",
   "metadata": {},
   "source": [
    "### You need to make the temp folder yourself before running these"
   ]
  },
  {
   "cell_type": "code",
   "execution_count": 3,
   "metadata": {},
   "outputs": [],
   "source": [
    "speaker_id = 0\n",
    "turn_taking_threshold = 2\n",
    "fps = 25\n",
    "np.random.seed(speaker_id)"
   ]
  },
  {
   "cell_type": "code",
   "execution_count": 4,
   "metadata": {},
   "outputs": [],
   "source": [
    "# inputs (for jali laptop)\n",
    "# input_folder = \"/Volumes/EVAN_DISK/MASC/Ribhav_processed_dataset/\"\n",
    "input_folder = \"D:/MASC/shot_processed_dataset/\"\n",
    "input_file = \"heat_source_video\"\n",
    "outside_dataset = True\n",
    "model_location = \"C:/Users/evan1/Documents/GitHub/Gaze_project/prototypes/Gaze_aversion_prior/sentence_word_audio_velocity_model\"\n",
    "whisper_location = \"C:/Users/evan1/Documents/GitHub/Gaze_project/models\"\n",
    "temp_folder = \"D:/MASC/JALI_gaze/Animations/heat\" "
   ]
  },
  {
   "cell_type": "code",
   "execution_count": 5,
   "metadata": {},
   "outputs": [],
   "source": [
    "# inputs (for macbook at home)\n",
    "# input_folder = \"/Volumes/EVAN_DISK/MASC/Ribhav_processed_dataset/\"\n",
    "input_folder = \"/Volumes/EVAN_DISK/MASC/shot_processed_dataset/\"\n",
    "input_file = \"raw_clip\"\n",
    "outside_dataset = True\n",
    "model_location = \"/Users/evanpan/Documents/GitHub/Gaze_project/prototypes/Gaze_aversion_prior/sentence_word_audio_velocity_model\"\n",
    "whisper_location = \"/Users/evanpan/Documents/GitHub/Gaze_project/models\"\n",
    "\n",
    "temp_folder = \"/Volumes/EVAN_DISK/MASC/JALI_gaze/Animations/green_book_letter\" "
   ]
  },
  {
   "cell_type": "code",
   "execution_count": 6,
   "metadata": {},
   "outputs": [],
   "source": [
    "# inputs (for desk top at home)\n",
    "# input_folder = \"/Volumes/EVAN_DISK/MASC/Ribhav_processed_dataset/\"\n",
    "input_folder = \"F:/MASC/JALI_gaze/Animations/trueman_show\"\n",
    "input_file = \"movie\"\n",
    "outside_dataset = True\n",
    "model_location = \"C:/Users/evansamaa/Documents/GitHub/Gaze_project/prototypes/Gaze_aversion_prior/sentence_word_audio_velocity_model\"\n",
    "whisper_location = \"C:/Users/evansamaa/Documents/GitHub/Gaze_project/models\"\n",
    "temp_folder = \"F:/MASC/JALI_gaze/Animations/trueman_show\" "
   ]
  },
  {
   "cell_type": "code",
   "execution_count": 7,
   "metadata": {},
   "outputs": [
    {
     "name": "stdout",
     "output_type": "stream",
     "text": [
      "MoviePy - Writing audio in F:/MASC/JALI_gaze/Animations/trueman_show\\movie.wav\n"
     ]
    },
    {
     "name": "stderr",
     "output_type": "stream",
     "text": [
      "                                                                     "
     ]
    },
    {
     "name": "stdout",
     "output_type": "stream",
     "text": [
      "MoviePy - Done.\n"
     ]
    },
    {
     "name": "stderr",
     "output_type": "stream",
     "text": [
      "\r"
     ]
    },
    {
     "data": {
      "text/plain": [
       "'F:/MASC/JALI_gaze/Animations/trueman_show\\\\movie.wav'"
      ]
     },
     "execution_count": 7,
     "metadata": {},
     "output_type": "execute_result"
    }
   ],
   "source": [
    "# from Video_analysis_utils import get_wav_from_video \n",
    "# get_wav_from_video(\"movie.mov\", \"F:/MASC/JALI_gaze/Animations/trueman_show\")"
   ]
  },
  {
   "cell_type": "code",
   "execution_count": 8,
   "metadata": {},
   "outputs": [],
   "source": [
    "ambient_neck_factor_0 = 0.5\n",
    "jali_neck_factor_0 = 0.3\n",
    "ambient_neck_factor_1 = 0.4\n",
    "jali_neck_factor_1 = 0.2\n",
    "jali_neck_y_factor = 0.0 "
   ]
  },
  {
   "attachments": {},
   "cell_type": "markdown",
   "metadata": {},
   "source": [
    "## Get all the file paths"
   ]
  },
  {
   "cell_type": "code",
   "execution_count": 9,
   "metadata": {},
   "outputs": [],
   "source": [
    "\n",
    "input_file_no_space = input_file.replace(\" \", \"_\")\n",
    "gaze_animation_output_location = os.path.join(*[temp_folder, \"outputs\"])\n",
    "try:\n",
    "    os.mkdir(os.path.join(*[temp_folder, \"outputs\"]))   \n",
    "except:\n",
    "    print(\"folder already exist\")   \n",
    "try:\n",
    "    os.mkdir(os.path.join(*[temp_folder, \"annotated_scene\"]))   \n",
    "except:\n",
    "    print(\"folder already exist\")    \n",
    "# input_file_no_space = \"'\" + input_file_no_space + \"'\"\n",
    "# for both speakers\n",
    "raw_audio_path = os.path.join(*[temp_folder, input_file_no_space+\".wav\"]).replace(os.sep, \"/\")\n",
    "basic_scene_data_path = \"./data/look_at_points/simplest_scene2_less_items.json\"\n",
    "transcription_json_path = os.path.join(*[temp_folder, input_file+\"_transcript.json\"])\n",
    "# for the first speaker\n",
    "speaker_id = 0\n",
    "praatoutput_path_0 = os.path.join(temp_folder, input_file_no_space+\"_{}_PraatOutput.txt\".format(speaker_id)).replace(os.sep, \"/\")\n",
    "audio_path_0 = os.path.join(*[temp_folder, input_file_no_space+\"_{}.wav\".format(speaker_id)]).replace(os.sep, \"/\")\n",
    "text_file_path_0 = os.path.join(*[temp_folder, input_file_no_space+\"_{}.txt\".format(speaker_id)]).replace(os.sep, \"/\")\n",
    "transcript_file_path_0 = os.path.join(*[temp_folder, input_file+\"_transcript.json\".format(speaker_id)]).replace(os.sep, \"/\")\n",
    "tagged_text_file_path_0 = os.path.join(*[temp_folder, input_file_no_space+\"_{}_tagged.txt\".format(speaker_id)]).replace(os.sep, \"/\")\n",
    "tagged_dialog_file_path_0 = os.path.join(*[temp_folder, input_file+\"_dialog_transcript_tagging_0.txt\"])\n",
    "if outside_dataset:\n",
    "    audio_path_0 = os.path.join(*[temp_folder, input_file_no_space+\"_{}.wav\".format(speaker_id)]).replace(os.sep, \"/\")    \n",
    "# output paths\n",
    "output_neural_location_0 = os.path.join(*[temp_folder, \"outputs\", input_file+\"_neural_{}.pkl\".format(speaker_id)]).replace(os.sep, \"/\")\n",
    "# other important input data (such as scene )\n",
    "annotation_data_path_0= os.path.join(*[temp_folder, \"annotated_scene\", input_file+\"_points_{}.json\".format(speaker_id)]).replace(os.sep, \"/\")\n",
    "scene_data_path_0 = os.path.join(*[temp_folder, \"annotated_scene\", input_file+\"_scene_{}.json\".format(speaker_id)]).replace(os.sep, \"/\")\n",
    "\n",
    "# for the first speaker\n",
    "speaker_id = 1\n",
    "praatoutput_path_1 = os.path.join(temp_folder, input_file_no_space+\"_{}_PraatOutput.txt\".format(speaker_id)).replace(os.sep, \"/\")\n",
    "audio_path_1 = os.path.join(*[temp_folder, input_file_no_space+\"_{}.wav\".format(speaker_id)]).replace(os.sep, \"/\")\n",
    "text_file_path_1 = os.path.join(*[temp_folder, input_file_no_space+\"_{}.txt\".format(speaker_id)]).replace(os.sep, \"/\")\n",
    "transcript_file_path_1 = os.path.join(*[temp_folder, input_file+\"_transcript.json\".format(speaker_id)]).replace(os.sep, \"/\")\n",
    "tagged_text_file_path_1 = os.path.join(*[temp_folder, input_file_no_space+\"_{}_tagged.txt\".format(speaker_id)]).replace(os.sep, \"/\")\n",
    "tagged_dialog_file_path_1 = os.path.join(*[temp_folder, input_file+\"_dialog_transcript_tagging_1.txt\"])\n",
    "if outside_dataset:\n",
    "    audio_path_1 = os.path.join(*[temp_folder, input_file_no_space+\"_{}.wav\".format(speaker_id)]).replace(os.sep, \"/\")    \n",
    "# output paths\n",
    "output_neural_location_1 = os.path.join(*[temp_folder, \"outputs\", input_file+\"_neural_{}.pkl\".format(speaker_id)]).replace(os.sep, \"/\")\n",
    "# other important input data (such as scene )\n",
    "annotation_data_path_1 = os.path.join(*[temp_folder, \"annotated_scene\", input_file+\"_points_{}.json\".format(speaker_id)]).replace(os.sep, \"/\")\n",
    "scene_data_path_1 = os.path.join(*[temp_folder, \"annotated_scene\", input_file+\"_scene_{}.json\".format(speaker_id)]).replace(os.sep, \"/\")\n"
   ]
  },
  {
   "attachments": {},
   "cell_type": "markdown",
   "metadata": {},
   "source": [
    "## Use deep learning to get aversion probability"
   ]
  },
  {
   "cell_type": "code",
   "execution_count": 10,
   "metadata": {},
   "outputs": [
    {
     "name": "stderr",
     "output_type": "stream",
     "text": [
      "100%|██████████| 4081/4081 [00:29<00:00, 139.86frames/s]\n",
      "100%|██████████| 1014/1014 [00:08<00:00, 126.25frames/s]\n"
     ]
    },
    {
     "data": {
      "image/png": "[encoded data removed]",
      "text/plain": [
       "<Figure size 640x480 with 1 Axes>"
      ]
     },
     "metadata": {},
     "output_type": "display_data"
    }
   ],
   "source": [
    "torch.manual_seed(0)\n",
    "np.random.seed(0)\n",
    "\n",
    "model = Aversion111Prior(model_location, whisper_location)\n",
    "# for speaker 0 \n",
    "aversion_probabilities_0, X_0 = model.predict(temp_folder, input_folder, input_file, 0, in_dataset=False)\n",
    "ts = np.arange(0, aversion_probabilities_0.shape[0]) / fps\n",
    "# 1 is direct gaze, 0 is aversion, here I want aversion probability\n",
    "aversion_probability_0 = runEuro(ts, aversion_probabilities_0)[:, 0]\n",
    "# since the model doesn't give prediction until later in the audio. \n",
    "# I will omit the prediction until the mode is fairly certain\n",
    "for i in range(0, aversion_probability_0.shape[0]):\n",
    "    if np.abs(aversion_probability_0[i] - 0.5) <= 0.3:\n",
    "        aversion_probability_0[i] = 0\n",
    "    else:\n",
    "        break\n",
    "aversion_probability_0 = np.where(aversion_probability_0 > 0.5, 1, 0)\n",
    "\n",
    "aversion_probabilities_1, X_1 = model.predict(temp_folder, input_folder, input_file, 1, in_dataset=False)\n",
    "ts = np.arange(0, aversion_probabilities_0.shape[0]) / fps\n",
    "# 1 is direct gaze, 0 is aversion, here I want aversion probability\n",
    "plt.plot(aversion_probabilities_1[:, 0])\n",
    "plt.plot(aversion_probabilities_0[:, 0])\n",
    "\n",
    "aversion_probability_1 = runEuro(ts, aversion_probabilities_1)[:, 0]\n",
    "# since the model doesn't give prediction until later in the audio. \n",
    "# I will omit the prediction until the mode is fairly certain\n",
    "for i in range(0, aversion_probability_1.shape[0]):\n",
    "    if np.abs(aversion_probability_1[i] - 0.5) <= 0.3:\n",
    "        aversion_probability_1[i] = 0\n",
    "    else:\n",
    "        break\n",
    "aversion_probability_1 = np.where(aversion_probability_1 > 0.5, 1, 0)"
   ]
  },
  {
   "attachments": {},
   "cell_type": "markdown",
   "metadata": {},
   "source": [
    "## Get Voice activity interval"
   ]
  },
  {
   "cell_type": "code",
   "execution_count": 11,
   "metadata": {},
   "outputs": [],
   "source": [
    "audio_0, sr = librosa.load(audio_path_0)\n",
    "audio_1, sr = librosa.load(audio_path_1)\n",
    "audio_0, audio_1 = pad_arrays(audio_0, audio_1)\n",
    "intensity_0 = intensity_from_signal(audio_0, int(sr/25))\n",
    "intensity_1 = intensity_from_signal(audio_1, int(sr/25))\n",
    "acitivity = np.where(intensity_0 > intensity_1, -1, 1)"
   ]
  },
  {
   "attachments": {},
   "cell_type": "markdown",
   "metadata": {},
   "source": [
    "## Compute Neck Motion (with JaLI)"
   ]
  },
  {
   "cell_type": "code",
   "execution_count": 12,
   "metadata": {},
   "outputs": [
    {
     "name": "stdout",
     "output_type": "stream",
     "text": [
      "22\n",
      "22\n",
      "8\n",
      "8\n"
     ]
    }
   ],
   "source": [
    "conversational_neck_0 = NeckCurve(audio_path_0)\n",
    "jali_neck_output_0 = conversational_neck_0.compute_curve()\n",
    "\n",
    "conversational_neck_1 = NeckCurve(audio_path_1)\n",
    "jali_neck_output_1 = conversational_neck_1.compute_curve()\n",
    "\n",
    "for i in [1,3,5]:\n",
    "    for j in range(0, len(jali_neck_output_0[i])):\n",
    "        jali_neck_output_0[i][j] = jali_neck_output_0[i][j] * jali_neck_factor_0\n",
    "\n",
    "for i in [1,3,5]:\n",
    "    for j in range(0, len(jali_neck_output_1[i])):\n",
    "        jali_neck_output_1[i][j] = jali_neck_output_1[i][j] * jali_neck_factor_1\n",
    "        \n",
    "        "
   ]
  },
  {
   "attachments": {},
   "cell_type": "markdown",
   "metadata": {},
   "source": [
    "## Compute Neck Motion (from CSV)"
   ]
  },
  {
   "cell_type": "code",
   "execution_count": 14,
   "metadata": {},
   "outputs": [
    {
     "name": "stdout",
     "output_type": "stream",
     "text": [
      "F:/MASC/JALI_gaze/Animations/trueman_show\\movie_0_neck.csv\n"
     ]
    }
   ],
   "source": [
    "try:\n",
    "    csv_file_path_0 = os.path.join(*[temp_folder, input_file+\"_0_neck.csv\"])\n",
    "    print(csv_file_path_0)\n",
    "    csv_file_path_1 = os.path.join(*[temp_folder, input_file+\"_1_neck.csv\"])\n",
    "    # load the CSV file into a NumPy array\n",
    "    data_0 = np.loadtxt(csv_file_path_0, delimiter=',') * ambient_neck_factor_0\n",
    "    data_1 = np.loadtxt(csv_file_path_1, delimiter=',') * ambient_neck_factor_1\n",
    "    # get neck timing\n",
    "    neck_ts = np.arange(0, data_0.shape[0]) / 20 # 20 fps\n",
    "    plt.plot(data_0[:, 0])\n",
    "    plt.plot(data_1[:, 0])\n",
    "    for i in range(3):\n",
    "        data_0[:, i] = laplacian_smoothing(data_0[:, i], 1)\n",
    "        data_1[:, i] = laplacian_smoothing(data_1[:, i], 1)\n",
    "    neck_ts = neck_ts.flatten().tolist()\n",
    "    # get output\n",
    "    ambient_neck_output_0 = [neck_ts, data_0[:, 0].flatten().tolist(), \n",
    "                             neck_ts, data_0[:, 1].flatten().tolist(), \n",
    "                             neck_ts, data_0[:, 2].flatten().tolist()]\n",
    "    ambient_neck_output_1 = [neck_ts, data_1[:, 0].flatten().tolist(), \n",
    "                             neck_ts, data_1[:, 1].flatten().tolist(), \n",
    "                             neck_ts, data_1[:, 2].flatten().tolist()]\n",
    "except:\n",
    "    ambient_neck_output_0 = [[], [], [], [], [], []]\n",
    "    ambient_neck_output_1 = [[], [], [], [], [], []]"
   ]
  },
  {
   "attachments": {},
   "cell_type": "markdown",
   "metadata": {},
   "source": [
    "## The following script generate two scene files. Edit and save them in MAYA"
   ]
  },
  {
   "cell_type": "code",
   "execution_count": 16,
   "metadata": {},
   "outputs": [
    {
     "name": "stdout",
     "output_type": "stream",
     "text": [
      "scene file 0 already exist\n",
      "F:/MASC/JALI_gaze/Animations/trueman_show/annotated_scene/movie_scene_0.json\n",
      "scene file 1 already exist\n",
      "F:/MASC/JALI_gaze/Animations/trueman_show/annotated_scene/movie_scene_1.json\n"
     ]
    }
   ],
   "source": [
    "if os.path.isfile(scene_data_path_0):\n",
    "    print(\"scene file 0 already exist\")\n",
    "else:\n",
    "    shutil.copy(basic_scene_data_path, scene_data_path_0)\n",
    "print(scene_data_path_0)\n",
    "if os.path.isfile(scene_data_path_1):\n",
    "    print(\"scene file 1 already exist\")\n",
    "else:\n",
    "    shutil.copy(basic_scene_data_path, scene_data_path_1)\n",
    "print(scene_data_path_1)\n"
   ]
  },
  {
   "attachments": {},
   "cell_type": "markdown",
   "metadata": {},
   "source": [
    "# Use deep learning to generate saliency map for the characters when they are speaking"
   ]
  },
  {
   "attachments": {},
   "cell_type": "markdown",
   "metadata": {},
   "source": [
    "## Obtain the Scene"
   ]
  },
  {
   "cell_type": "code",
   "execution_count": 17,
   "metadata": {},
   "outputs": [
    {
     "name": "stdout",
     "output_type": "stream",
     "text": [
      "[[ 23.72736395  -2.34421334  79.76056894]\n",
      " [-13.46988624 -28.97777015  84.55072557]\n",
      " [ 21.99316703 -29.16178347  69.34643548]] [1.   0.1  0.25]\n",
      "[[-19.07981635  -2.28593411  79.44648545]\n",
      " [-13.83394091 -18.59134819  28.4118096 ]] [1.  0.1]\n",
      "[[-25.38912301 -19.62554223  35.71561183]\n",
      " [-45.1327957   -3.27819903  23.41700991]\n",
      " [ 13.33351598  -1.91598554  56.68653279]\n",
      " [ -2.86270827 -10.79736243  20.58228795]\n",
      " [-35.30131574 -17.72657316  22.77465683]\n",
      " [ 51.66222115  -1.07103739  99.44846375]] [0.2 1.  0.  0.  0.2 0. ]\n",
      "[[-17.7317045  -19.86949831  27.42671476]\n",
      " [-33.95300766  -8.58100426  22.65786841]\n",
      " [ 20.24369978 -18.91681575  40.09621264]\n",
      " [  9.17970394 -12.69970489  21.14286075]\n",
      " [-32.98096334 -18.03588431  22.2289003 ]\n",
      " [ 14.14559689 -16.34074962  57.81909776]] [0.2        1.         0.00631814 0.         0.2        0.        ]\n",
      "[[ -5.56528547   8.37981045  77.00532075]\n",
      " [ 24.0578905  -13.50934088  37.78674533]\n",
      " [ -1.23432112 -17.99154553  33.70583248]\n",
      " [  0.15239841  -2.49900317  32.61846718]] [0.69999999 0.5        0.05       0.5       ]\n",
      "[[47.91803768 -7.60995102 36.18081824]\n",
      " [-1.93512267  3.22900821 56.33585773]\n",
      " [48.27409391 -7.99863347 -4.52012179]\n",
      " [25.89807494 -8.22303637 62.72290491]] [0.1        0.         0.30000001 0.2       ]\n"
     ]
    }
   ],
   "source": [
    "locssss = [\"gaga_redo\", \"bond\", \"green_book_letter\", \"heat\", \"Jimmy_deceives\", \"royal_with_cheese\"]\n",
    "file_namessss = [\"gaga_cut_first\", \"bond\", \"raw_clip\", \"heat_source_video\", \"money_laundering\", \"royal_with_cheese\"]\n",
    "for i in range(0, len(locssss)):\n",
    "    fff_path = \"F:/MASC/JALI_gaze/Animations/{}/annotated_scene/{}_scene_0.json\".format(locssss[i], file_namessss[i])\n",
    "    output_pos_path = \"F:/MASC/JALI_gaze/for_non_conversational/rishabh/pos_scene_{}.csv\".format(locssss[i])\n",
    "    output_sal_path = \"F:/MASC/JALI_gaze/for_non_conversational/rishabh/sal_scene_{}.csv\".format(locssss[i])\n",
    "    sceee = AgentInfo_final(fff_path, wonder=False)\n",
    "    sceee.get_all_positions()\n",
    "    salience = []\n",
    "    for k in range(0 ,sceee.get_all_positions().shape[0]):\n",
    "        salience.append(sceee.get_interest(k, 0))\n",
    "    salience = np.array(salience)\n",
    "    print(sceee.get_all_positions(), salience)\n",
    "    np.savetxt(output_pos_path, sceee.get_all_positions(), delimiter=\",\")\n",
    "    np.savetxt(output_sal_path, salience, delimiter=\",\")\n"
   ]
  },
  {
   "cell_type": "code",
   "execution_count": 18,
   "metadata": {},
   "outputs": [],
   "source": [
    "agentScene0 = AgentInfo_final(scene_data_path_0, wonder=True)\n",
    "agentScene1 = AgentInfo_final(scene_data_path_1, wonder=False)\n",
    "sementic_script_0 = Sentence_word_phone_parser(praatoutput_path_0, praatoutput_path_0)\n",
    "sementic_script_0.get_turns(turn_taking_threshold)\n",
    "sementic_script_1 = Sentence_word_phone_parser(praatoutput_path_1, praatoutput_path_1)\n",
    "sementic_script_1.get_turns(turn_taking_threshold)\n",
    "beats_0 = get_beats(audio_0, sr)[:, 0]\n",
    "beats_1 = get_beats(audio_1, sr)[:, 0]\n",
    "\n"
   ]
  },
  {
   "attachments": {},
   "cell_type": "markdown",
   "metadata": {},
   "source": [
    "## Salinecy Map Object"
   ]
  },
  {
   "cell_type": "code",
   "execution_count": 19,
   "metadata": {},
   "outputs": [],
   "source": [
    "class Neural_input_Saliency_dynamic_scene(Base_Static_Saliency_List):\n",
    "    def __init__(self, scene_info: AgentInfo_final, ts, tag_duration, dt=1/24):\n",
    "        self.scene_info: AgentInfo_final = scene_info\n",
    "        self._number_of_objects = scene_info.get_all_positions().shape[0]\n",
    "        self._dt = dt # 100 hz\n",
    "        self._numb_of_frames = ts.shape[0] # total number of frames\n",
    "        self.evaluated = False\n",
    "        self.map = np.zeros((int(self._numb_of_frames), self._number_of_objects))\n",
    "        self.map_interp = None\n",
    "        # determine the gaze target over time. \n",
    "        self.gaze_target_over_time = []\n",
    "        self.tag_duration = tag_duration\n",
    "        self.get_active_object_from_tags()\n",
    "    def get_index(self, target_name):\n",
    "        for i in range(0, len(self.scene_info.object_id)):\n",
    "            if self.scene_info.object_id[i] == target_name:\n",
    "                return i\n",
    "        print(\"Cannot find tagged object in the scene, check the tags in the dialog file.\")\n",
    "        return -1\n",
    "    def get_active_object_from_tags(self):\n",
    "        try:\n",
    "            targets = self.tag_duration[\"target\"]\n",
    "        except:\n",
    "            targets = []\n",
    "        if len(targets) == 0:\n",
    "            self.gaze_target_over_time = [[0, self.scene_info.other_speaker_id]]\n",
    "        else:\n",
    "            self.gaze_target_over_time = [[0, self.scene_info.other_speaker_id]]\n",
    "            starting_idx = 0\n",
    "            if targets[0][1] == 0:\n",
    "                idx = self.get_index(targets[0][0])\n",
    "                self.gaze_target_over_time = [[0, idx]]\n",
    "                self.gaze_target_over_time.append([targets[0][2], self.scene_info.other_speaker_id])\n",
    "                # if the first element is not the other speaker then we initialize the gaze_target_over_time array differently, so we\n",
    "                # skip the index by one \n",
    "                starting_idx = 1\n",
    "            for i in range(starting_idx, len(targets)):\n",
    "                idx = self.get_index(targets[i][0])\n",
    "                self.gaze_target_over_time.append([targets[i][1], idx])\n",
    "                self.gaze_target_over_time.append([targets[i][2], self.scene_info.other_speaker_id])       \n",
    "    def get_object_positions(self):\n",
    "        return self.scene_info.get_all_positions()\n",
    "    def evaluate_all(self):\n",
    "        if self.evaluated:\n",
    "            return self.map\n",
    "        else:\n",
    "            self.compute_salience()\n",
    "            x = np.arange(0, self._numb_of_frames) * self._dt\n",
    "            self.map_interp = interp1d(x, self.map, axis=0, fill_value=\"extrapolate\", bounds_error=False)\n",
    "            self.evaluated = True\n",
    "            return self.map\n",
    "    def evaluate(self, t):\n",
    "        if self.evaluated:\n",
    "            return self.map_interp(t)\n",
    "        else:\n",
    "            self.compute_salience()\n",
    "            x = np.arange(0, self._numb_of_frames) * self._dt\n",
    "            self.map_interp = interp1d(x, self.map, axis=0, fill_value=\"extrapolate\")\n",
    "            self.evaluated = True\n",
    "            return self.map_interp(t)\n",
    "    def compute_salience(self, aversion_prob_time, aversion_prob_val, interval=True):\n",
    "        # continue setting salience for all objects\n",
    "        inteppp = interp1d(aversion_prob_time, aversion_prob_val, bounds_error=False, fill_value=\"extrapolate\")\n",
    "        for j in range(0, self._numb_of_frames):\n",
    "            for i in range(0, self._number_of_objects):\n",
    "                if i < self.scene_info.get_object_positions(coordinate_space=\"global\").shape[0]:\n",
    "                    self.map[j, i] = self.scene_info.get_interest(i, j * self._dt)\n",
    "                else:\n",
    "                    if inteppp(float(j) * self._dt) < 0.3:\n",
    "                        self.map[j, i] = 0\n",
    "                    else:\n",
    "                        self.map[j, i] = 0.15"
   ]
  },
  {
   "attachments": {},
   "cell_type": "markdown",
   "metadata": {},
   "source": [
    "## Obtain Tagging timing"
   ]
  },
  {
   "cell_type": "code",
   "execution_count": 20,
   "metadata": {},
   "outputs": [
    {
     "data": {
      "text/plain": [
       "{}"
      ]
     },
     "execution_count": 20,
     "metadata": {},
     "output_type": "execute_result"
    }
   ],
   "source": [
    "# Load the transcript list from the JSON file\n",
    "def get_tags_dialog_format_improved(transcript_file_path, tagged_dialogue_file_path, speaker_id):\n",
    "    def get_start_time(data):\n",
    "        return data.get(\"start\")\n",
    "    with open(transcript_file_path, 'r') as f:\n",
    "        scripts = json.load(f)\n",
    "        if speaker_id == 0:\n",
    "            transcript_list = scripts[\"self\"]\n",
    "        else:\n",
    "            transcript_list = scripts[\"other\"]\n",
    "        all_transcript_list = [scripts[\"self\"], scripts[\"other\"]]\n",
    "        # Merge the two lists\n",
    "    merged_list = scripts[\"self\"] + scripts[\"other\"]\n",
    "    transcript_list = sorted(merged_list, key=get_start_time)\n",
    "\n",
    "    # Load the transcript text file\n",
    "    with open(tagged_dialogue_file_path, 'r') as f:\n",
    "        transcript = f.read()\n",
    "    transcript_lines = transcript.split(\"\\n\")\n",
    "    # keep only the speech of matching speaker_id\n",
    "    speaker_script = []\n",
    "    for l in range(0, len(transcript_lines)):\n",
    "        speaker, text = transcript_lines[l].split(\":\")\n",
    "        # if speaker_id == int(speaker[-1]):\n",
    "        speaker_script.append(text.strip())\n",
    "    transcript = \" \".join(speaker_script)\n",
    "    transcript_list.append({\"text\":\"EOH\", \"start\":transcript_list[-1][\"end\"]})\n",
    "    word_list = [word[\"text\"] for word in transcript_list]\n",
    "    translator = str.maketrans('', '', string.punctuation.replace('<', '').replace('>', '').replace('-', '').replace('_', '').replace(\"'\", '').replace(\"/\", '').replace(\"@\", ''))\n",
    "    # Remove all punctuation except < and > from the input string using the translation table\n",
    "    word_list = [word.translate(translator) for word in word_list]\n",
    "    transcript = transcript.translate(translator)\n",
    "    transcript = transcript.split(\" \")\n",
    "    transcript = [s for s in transcript if s != \"\"]\n",
    "    transcript.append(\"EOT\")\n",
    "    i = 0\n",
    "    j = 0\n",
    "    tag_durations = {}\n",
    "    while i < len(transcript):\n",
    "        if transcript[i] == word_list[j]:\n",
    "            i += 1\n",
    "            j += 1\n",
    "        else:\n",
    "            # if this is a starting tag\n",
    "            if transcript[i][-2:] != \"/>\":\n",
    "                active_tag = transcript[i][1:-1]\n",
    "                active_tag_interval = [j]\n",
    "                # iterate through the list to find the matching tag\n",
    "                ii = i + 1\n",
    "                jj = j\n",
    "                while ii < len(transcript):\n",
    "                    if jj < len(word_list) and transcript[ii] == word_list[jj]:\n",
    "                        ii += 1\n",
    "                        jj += 1\n",
    "                    else:\n",
    "                        # if we have foudn the end tag\n",
    "                        if transcript[ii][-2:] == \"/>\" and transcript[ii][1:-2] == active_tag:\n",
    "                            active_tag_interval.append(jj)\n",
    "                            active_tag_interval[0] = transcript_list[active_tag_interval[0]][\"start\"]\n",
    "                            active_tag_interval[1] = transcript_list[active_tag_interval[1]][\"start\"]\n",
    "                            if active_tag[0] != \"@\":\n",
    "                                try:\n",
    "                                    tag_durations[active_tag].append(active_tag_interval.copy())\n",
    "                                except:\n",
    "                                    tag_durations[active_tag] = [active_tag_interval.copy()]\n",
    "                            else:\n",
    "                                try:\n",
    "                                    tag_durations[\"target\"].append([active_tag[1:], active_tag_interval[0], active_tag_interval[1]])\n",
    "                                except:\n",
    "                                    tag_durations[\"target\"] = [[active_tag[1:], active_tag_interval[0], active_tag_interval[1]]]          \n",
    "                            break\n",
    "                        else:\n",
    "                            ii+=2\n",
    "                            jj+=1\n",
    "            i += 2\n",
    "            j += 1\n",
    "    return tag_durations\n",
    "def get_value_from_time_value_pairs(in_list, t):\n",
    "    if t > in_list[-1][0]:\n",
    "        return in_list[-1][1]\n",
    "    if t <= in_list[0][0]:\n",
    "        return in_list[0][1]\n",
    "    for i in range (0, len(in_list)):\n",
    "        if t > in_list[i][0]:\n",
    "            return in_list[i][1]\n",
    "    return -1\n",
    "def get_tags(transcript_file_path, tagged_text_file_path, speaker_id):\n",
    "    with open(transcript_file_path, 'r') as f:\n",
    "        if speaker_id == 0:\n",
    "            transcript_list = json.load(f)[\"self\"]\n",
    "        else:\n",
    "            transcript_list = json.load(f)[\"other\"]\n",
    "\n",
    "    # Load the transcript text file\n",
    "    with open(tagged_text_file_path, 'r') as f:\n",
    "        transcript = f.read()\n",
    "    transcript_list.append({\"text\":\"EOH\", \"start\":transcript_list[-1][\"end\"]})\n",
    "    word_list = [word[\"text\"] for word in transcript_list]\n",
    "    translator = str.maketrans('', '', string.punctuation.replace('<', '').replace('>', '').replace('-', '').replace('_', '').replace(\"'\", '').replace(\"/\", '').replace(\"@\", ''))\n",
    "    # Remove all punctuation except < and > from the input string using the translation table\n",
    "    word_list = [word.translate(translator) for word in word_list]\n",
    "    transcript = transcript.translate(translator)\n",
    "    transcript = transcript.split(\" \")\n",
    "    transcript = [s for s in transcript if s != \"\"]\n",
    "    transcript.append(\"EOT\")\n",
    "    i = 0\n",
    "    j = 0\n",
    "    tag_durations = {}\n",
    "    while i < len(transcript):\n",
    "        if transcript[i] == word_list[j]:\n",
    "            i += 1\n",
    "            j += 1\n",
    "        else:\n",
    "            # if this is a starting tag\n",
    "            if transcript[i][-2:] != \"/>\":\n",
    "                active_tag = transcript[i][1:-1]\n",
    "                active_tag_interval = [j]\n",
    "                # iterate through the list to find the matching tag\n",
    "                ii = i + 1\n",
    "                jj = j\n",
    "                while ii < len(transcript):\n",
    "                    if jj < len(word_list) and transcript[ii] == word_list[jj]:\n",
    "                        ii += 1\n",
    "                        jj += 1\n",
    "                    else:\n",
    "                        # if we have foudn the end tag\n",
    "                        if transcript[ii][-2:] == \"/>\" and transcript[ii][1:-2] == active_tag:\n",
    "                            active_tag_interval.append(jj)\n",
    "                            active_tag_interval[0] = transcript_list[active_tag_interval[0]][\"start\"]\n",
    "                            active_tag_interval[1] = transcript_list[active_tag_interval[1]][\"start\"]\n",
    "                            print(active_tag)\n",
    "                            if active_tag[0:2] != \"at\":\n",
    "                                try:\n",
    "                                    tag_durations[active_tag].append(active_tag_interval.copy())\n",
    "                                except:\n",
    "                                    tag_durations[active_tag] = [active_tag_interval.copy()]\n",
    "                            else:\n",
    "                                try:\n",
    "                                    tag_durations[\"target\"].append([active_tag[2:], active_tag_interval[0], active_tag_interval[1]])\n",
    "                                except:\n",
    "                                    tag_durations[\"target\"] = [[active_tag[2:], active_tag_interval[0], active_tag_interval[1]]]          \n",
    "                            break\n",
    "                        else:\n",
    "                            ii+=2\n",
    "                            jj+=1\n",
    "            i += 2\n",
    "            j += 1\n",
    "    return tag_durations\n",
    "def apply_stare_tags(tag_durations, ts, aversion_probability):\n",
    "    try:\n",
    "    # if True:\n",
    "        stare_intervals = tag_durations[\"stare\"]\n",
    "        stare_intervals_index_sets = []\n",
    "        for i in range(0, len(stare_intervals)):\n",
    "            index_set = []\n",
    "            for t in range(ts.shape[0]):\n",
    "                if ts[t] >= stare_intervals[i][0] and len(index_set) == 0:\n",
    "                    index_set.append(t)\n",
    "                if ts[t] >= stare_intervals[i][1]:\n",
    "                    index_set.append(t)\n",
    "                    break\n",
    "            stare_intervals_index_sets.append(index_set)\n",
    "        for i in range(len(stare_intervals_index_sets)):\n",
    "            aversion_probability[stare_intervals_index_sets[i][0]:stare_intervals_index_sets[i][1]] = 0\n",
    "    except:\n",
    "        pass\n",
    "    return aversion_probability\n",
    "def apply_directional_tag(tag_durations, aversion_saliency):\n",
    "    tag_directions = [\"up\", \"down\", \"left\", \"right\"]\n",
    "    for dire in tag_directions:\n",
    "        look_up_intervals = []\n",
    "        try:\n",
    "            look_up_intervals = tag_durations[dire]\n",
    "        except:\n",
    "            continue\n",
    "        look_up_intervals_index_sets = []\n",
    "        for i in range(0, len(look_up_intervals)):\n",
    "            index_set = []\n",
    "            for t in range(ts.shape[0]):\n",
    "                if ts[t] >= look_up_intervals[i][0] and len(index_set) == 0:\n",
    "                    index_set.append(t)\n",
    "                if ts[t] >= look_up_intervals[i][1]:\n",
    "                    index_set.append(t)\n",
    "                    break\n",
    "            if len(index_set) == 1:\n",
    "                index_set.append(ts.shape[0] - 1)\n",
    "            look_up_intervals_index_sets.append(index_set)\n",
    "        objects_positions = aversion_saliency.get_object_positions()\n",
    "        active_object_overtime = aversion_saliency.gaze_target_over_time\n",
    "        # print(look_up_intervals_index_sets)\n",
    "        for i in range(len(look_up_intervals_index_sets)):\n",
    "            for j in range(look_up_intervals_index_sets[i][0], look_up_intervals_index_sets[i][1]):\n",
    "                t = j * aversion_saliency._dt\n",
    "                aversion_saliency.scene_info.active_object_id = get_value_from_time_value_pairs(active_object_overtime, t)\n",
    "                if dire == \"up\":\n",
    "                    above = np.where(objects_positions[:, 1] > objects_positions[aversion_saliency.scene_info.active_object_id, 1], 1, 0)\n",
    "                    above[aversion_saliency.scene_info.active_object_id] = 1\n",
    "                elif dire == \"down\":\n",
    "                    above = np.where(objects_positions[:, 1] < objects_positions[aversion_saliency.scene_info.active_object_id, 1], 1, 0)\n",
    "                    above[aversion_saliency.scene_info.active_object_id] = 1\n",
    "                elif dire == \"left\":\n",
    "                    above = np.where(objects_positions[:, 0] < objects_positions[aversion_saliency.scene_info.active_object_id, 0], 1, 0)\n",
    "                    above[aversion_saliency.scene_info.active_object_id] = 1\n",
    "                elif dire == \"right\":\n",
    "                    above = np.where(objects_positions[:, 0] > objects_positions[aversion_saliency.scene_info.active_object_id, 0], 1, 0)\n",
    "                    above[aversion_saliency.scene_info.active_object_id] = 1\n",
    "                    \n",
    "                # mask = np.tile(np.expand_dims(above, axis=0), [look_up_intervals_index_sets[i][1] - look_up_intervals_index_sets[i][0], 1])\n",
    "                mask = above\n",
    "                aversion_saliency.map[j] *= mask\n",
    "    return aversion_saliency\n",
    "def get_tags_dialog_format(transcript_file_path, tagged_dialogue_file_path, speaker_id):\n",
    "    with open(transcript_file_path, 'r') as f:\n",
    "        if speaker_id == 0:\n",
    "            transcript_list = json.load(f)[\"self\"]\n",
    "        else:\n",
    "            transcript_list = json.load(f)[\"other\"]\n",
    "\n",
    "    # Load the transcript text file\n",
    "    with open(tagged_dialogue_file_path, 'r') as f:\n",
    "        transcript = f.read()\n",
    "    transcript_lines = transcript.split(\"\\n\")\n",
    "    # keep only the speech of matching speaker_id\n",
    "    speaker_script = []\n",
    "    for l in range(0, len(transcript_lines)):\n",
    "        speaker, text = transcript_lines[l].split(\":\")\n",
    "        if speaker_id == int(speaker[-1]):\n",
    "            speaker_script.append(text.strip())\n",
    "    transcript = \" \".join(speaker_script)\n",
    "    transcript_list.append({\"text\":\"EOH\", \"start\":transcript_list[-1][\"end\"]})\n",
    "    word_list = [word[\"text\"] for word in transcript_list]\n",
    "    translator = str.maketrans('', '', string.punctuation.replace('<', '').replace('>', '').replace('-', '').replace('_', '').replace(\"'\", '').replace(\"/\", '').replace(\"@\", ''))\n",
    "    # Remove all punctuation except < and > from the input string using the translation table\n",
    "    word_list = [word.translate(translator) for word in word_list]\n",
    "    transcript = transcript.translate(translator)\n",
    "    transcript = transcript.split(\" \")\n",
    "    transcript = [s for s in transcript if s != \"\"]\n",
    "    transcript.append(\"EOT\")\n",
    "    i = 0\n",
    "    j = 0\n",
    "    tag_durations = {}\n",
    "    while i < len(transcript):\n",
    "        if transcript[i] == word_list[j]:\n",
    "            i += 1\n",
    "            j += 1\n",
    "        else:\n",
    "            # if this is a starting tag\n",
    "            if transcript[i][-2:] != \"/>\":\n",
    "                active_tag = transcript[i][1:-1]\n",
    "                print(active_tag)\n",
    "                active_tag_interval = [j]\n",
    "                # iterate through the list to find the matching tag\n",
    "                ii = i + 1\n",
    "                jj = j\n",
    "                while ii < len(transcript):\n",
    "                    if jj < len(word_list) and transcript[ii] == word_list[jj]:\n",
    "                        ii += 1\n",
    "                        jj += 1\n",
    "                    else:\n",
    "                        # if we have foudn the end tag\n",
    "                        if transcript[ii][-2:] == \"/>\" and transcript[ii][1:-2] == active_tag:\n",
    "                            active_tag_interval.append(jj)\n",
    "                            active_tag_interval[0] = transcript_list[active_tag_interval[0]][\"start\"]\n",
    "                            active_tag_interval[1] = transcript_list[active_tag_interval[1]][\"start\"]\n",
    "                            if active_tag[0] != \"@\":\n",
    "                                try:\n",
    "                                    tag_durations[active_tag].append(active_tag_interval.copy())\n",
    "                                except:\n",
    "                                    tag_durations[active_tag] = [active_tag_interval.copy()]\n",
    "                            else:\n",
    "                                try:\n",
    "                                    tag_durations[\"target\"].append([active_tag[1:], active_tag_interval[0], active_tag_interval[1]])\n",
    "                                except:\n",
    "                                    tag_durations[\"target\"] = [[active_tag[1:], active_tag_interval[0], active_tag_interval[1]]]          \n",
    "                            break\n",
    "                        else:\n",
    "                            ii+=2\n",
    "                            jj+=1\n",
    "            i += 2\n",
    "            j += 1\n",
    "    return tag_durations\n",
    "# tag_durations_0 = get_tags(transcript_file_path_0, tagged_text_file_path_0, 0)\n",
    "# tag_durations_1 = get_tags(transcript_file_path_1, tagged_text_file_path_1, 1)\n",
    "tag_durations_0 = get_tags_dialog_format_improved(transcript_file_path_0, tagged_dialog_file_path_0, 0)\n",
    "tag_durations_1 = get_tags_dialog_format_improved(transcript_file_path_1, tagged_dialog_file_path_1, 1)\n",
    "aversion_probability_0_tagged = apply_stare_tags(tag_durations_0, ts, aversion_probability_0)\n",
    "aversion_probability_1_tagged = apply_stare_tags(tag_durations_1, ts, aversion_probability_1)\n",
    "aversion_saliency_0 = Neural_input_Saliency_dynamic_scene(agentScene0, ts, tag_durations_0, 1.0/fps)\n",
    "aversion_saliency_0.compute_salience(ts, aversion_probability_0_tagged)\n",
    "aversion_saliency_1 = Neural_input_Saliency_dynamic_scene(agentScene1, ts, tag_durations_1, 1.0/fps)\n",
    "aversion_saliency_1.compute_salience(ts, aversion_probability_1_tagged)\n",
    "aversion_saliency_0 = apply_directional_tag(tag_durations_0, aversion_saliency_0)\n",
    "aversion_saliency_1 = apply_directional_tag(tag_durations_1, aversion_saliency_1)\n",
    "tag_durations_1"
   ]
  },
  {
   "attachments": {},
   "cell_type": "markdown",
   "metadata": {},
   "source": [
    "# Compute Gaze Targets"
   ]
  },
  {
   "cell_type": "code",
   "execution_count": 21,
   "metadata": {},
   "outputs": [],
   "source": [
    "planner0 = Responsive_planner_Differnet_Targets([aversion_saliency_0], agentScene0, aversion_probability_0_tagged, aversion_probability_1_tagged, acitivity, beats_0, min_saccade_time_consecutive=4)\n",
    "planner1 = Responsive_planner_Differnet_Targets([aversion_saliency_1], agentScene1, aversion_probability_1_tagged, aversion_probability_0_tagged, -acitivity, beats_1, min_saccade_time_consecutive=2)\n",
    "output_times_0, output_targets_0 = planner0.compute()\n",
    "output_times_1, output_targets_1 = planner1.compute()"
   ]
  },
  {
   "cell_type": "code",
   "execution_count": 22,
   "metadata": {},
   "outputs": [
    {
     "name": "stdout",
     "output_type": "stream",
     "text": [
      "{}\n",
      "nurbsSphere2\n",
      "0 1\n",
      "1.800000000000001 0\n",
      "1.960000000000001 1\n",
      "46.119999999999195 4\n",
      "46.23999999999919 1\n",
      "47.63999999999916 4\n",
      "47.83999999999916 1\n",
      "48.399999999999146 2\n",
      "49.75999999999912 1\n",
      "50.319999999999105 0\n",
      "54.23999999999902 1\n",
      "54.43999999999902 4\n",
      "54.519999999999015 1\n",
      "54.559999999999015 0\n"
     ]
    }
   ],
   "source": [
    "print(tag_durations_1)\n",
    "print(agentScene1.object_id[1])\n",
    "for i in range(0, len(output_times_1)):\n",
    "    print(output_times_1[i], output_targets_1[i])\n",
    "    "
   ]
  },
  {
   "cell_type": "code",
   "execution_count": 23,
   "metadata": {},
   "outputs": [],
   "source": [
    "output_target_positions_0 = []\n",
    "for i in output_targets_0:\n",
    "    output_target_positions_0.append(agentScene0.get_all_positions(coordinate_space=\"local\")[i])\n",
    "output_target_positions_0 = np.array(output_target_positions_0)\n",
    "output_times_0_arr = np.array(output_times_0)\n",
    "output_times_0_arr = np.expand_dims(output_times_0_arr, axis=1)\n",
    "save_arr = np.concatenate([output_times_0_arr, output_target_positions_0], axis=1)\n",
    "np.save(\"F:/MASC/JALI_gaze/for_non_conversational/debugging/test_look_at_points.npy\", save_arr)"
   ]
  },
  {
   "attachments": {},
   "cell_type": "markdown",
   "metadata": {},
   "source": [
    "## Output Gaze motion"
   ]
  },
  {
   "cell_type": "code",
   "execution_count": 24,
   "metadata": {},
   "outputs": [
    {
     "name": "stdout",
     "output_type": "stream",
     "text": [
      "F:/MASC/JALI_gaze/Animations/trueman_show/outputs/movie_neural_0.pkl\n",
      "F:/MASC/JALI_gaze/Animations/trueman_show/outputs/movie_neural_1.pkl\n",
      "[[0.6, 6.440000000000005], [22.199999999999704, 23.679999999999673], [25.079999999999643, 35.03999999999943], [38.079999999999366, 40.83999999999931], [44.39999999999923, 45.8399999999992], [45.9999999999992, 48.11999999999915]]\n",
      "[[2.200000000000001, 45.07999999999922], [50.3999999999991, 53.23999999999904]]\n"
     ]
    }
   ],
   "source": [
    "#get the output_targets_positions from the scene\n",
    "def output_files(agentScene, output_targets, output_times, jali_neck_output, output_neural_location, gaze_target_over_time, ambient_neck_output):\n",
    "    output_target_positions = []\n",
    "    posssss = agentScene.get_all_positions(coordinate_space=\"local\")\n",
    "    for i in output_targets:\n",
    "        output_target_positions.append(posssss[i])\n",
    "    internal_model = InternalModelCenterBias_dynamic_scene(agentScene)\n",
    "    # the good model\n",
    "    generator = SacccadeGenerator_dynamic_scene(output_times, output_target_positions, output_targets, internal_model, gaze_target_over_time, dt=1/fps)\n",
    "    ek, hk, micro_saccade = generator.compute()\n",
    "    # display_targetss(generator.head_positions)\n",
    "    # display_targetss(generator.target_positions_head, label=\"head_look_at\")\n",
    "    # plt.show()\n",
    "    # display_targetss(generator.gaze_positions)\n",
    "    # display_targetss(generator.target_gaze_intervals_pos, label=\"head_look_at\")\n",
    "    # plt.show()\n",
    "    blend_weight = []\n",
    "    for i in range(1, len(hk[0])-1):\n",
    "        velocity = math.sqrt((hk[0][i][1]-hk[0][i-1][1])**2 + (hk[0][i-1][2]-hk[0][i][2])**2)\n",
    "        blend_weight.append([hk[0][i][0], 1 - min(1, velocity/0.75)])\n",
    "    out = {\"eye_frames\": ek,\n",
    "            \"head_frames\": hk,\n",
    "            \"micro_saccade\": micro_saccade,\n",
    "            \"other_neck\": jali_neck_output,\n",
    "            \"envelope\":[], \n",
    "            \"ambient_neck\":ambient_neck_output}\n",
    "            # \"output_times\": output_times, \n",
    "            # \"output_targets\": output_targets\n",
    "    with open(output_neural_location, 'wb') as f:\n",
    "        pickle.dump(out, f, protocol=2)\n",
    "print(output_neural_location_0)\n",
    "print(output_neural_location_1)\n",
    "output_files(agentScene0, output_targets_0, output_times_0, jali_neck_output_0, output_neural_location_0, aversion_saliency_0.gaze_target_over_time, ambient_neck_output_0)\n",
    "output_files(agentScene1, output_targets_1, output_times_1, jali_neck_output_1, output_neural_location_1, aversion_saliency_1.gaze_target_over_time, ambient_neck_output_1)\n"
   ]
  }
 ],
 "metadata": {
  "kernelspec": {
   "display_name": "Visemenet",
   "language": "python",
   "name": "python3"
  },
  "language_info": {
   "codemirror_mode": {
    "name": "ipython",
    "version": 3
   },
   "file_extension": ".py",
   "mimetype": "text/x-python",
   "name": "python",
   "nbconvert_exporter": "python",
   "pygments_lexer": "ipython3",
   "version": "3.10.9"
  },
  "orig_nbformat": 4
 },
 "nbformat": 4,
 "nbformat_minor": 2
}
