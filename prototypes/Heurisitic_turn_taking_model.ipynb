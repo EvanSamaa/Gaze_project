{
 "cells": [
  {
   "cell_type": "code",
   "execution_count": 1,
   "metadata": {},
   "outputs": [],
   "source": [
    "import numpy as np\n",
    "import pandas as pd\n",
    "from matplotlib import pyplot as plt\n",
    "import scipy.stats as ss"
   ]
  },
  {
   "attachments": {},
   "cell_type": "markdown",
   "metadata": {},
   "source": [
    "# Building statistical model for gaze duration from 20 questions dataset"
   ]
  },
  {
   "cell_type": "code",
   "execution_count": 11,
   "metadata": {},
   "outputs": [],
   "source": [
    "dataset_location = \"/Users/evanpan/Documents/Datasets/Audio_turn_taking_dataset/\"\n",
    "dataset_location = \"F:/MASC/JALI_neck/data/Audio_turn_taking_dataset/\"\n",
    "gaze_file_20q_name_template = \"gaze/{}_20q_game_direct.xls\"\n",
    "gaze_file_heads_up_name_template = \"gaze/{}_headsup_game_direct.xls\"\n",
    "talking_file_20q_name_template = \"talking/{}_20q_game_talking.xls\"\n",
    "talking_file_heads_up_name_template = \"talking/{}_headsup_game_talking.xls\"\n",
    "\n",
    "gaze_dfs = []\n",
    "talking_dfs = []\n",
    "# read the the 20q dataset\n",
    "for i in range(1, 41):\n",
    "    if i < 10:\n",
    "        str_i = \"0\" + str(i)\n",
    "    else:\n",
    "        str_i = str(i)\n",
    "    gaze_path_i = dataset_location + gaze_file_20q_name_template.format(str_i)\n",
    "    talking_path_i = dataset_location + talking_file_20q_name_template.format(str_i)\n",
    "    \n",
    "    gaze_df = pd.read_excel(gaze_path_i)\n",
    "    gaze_dfs.append(gaze_df)\n",
    "    talking_df = pd.read_excel(talking_path_i)\n",
    "    talking_dfs.append(talking_df)\n",
    "# process them into a time series\n",
    "gaze_series = []\n",
    "talking_series = []\n",
    "duration_of_gaze = []\n",
    "for i in range(0, 20):\n",
    "    df1 = gaze_dfs[2*i] \n",
    "    df2 = gaze_dfs[2*i+1]\n",
    "    diff = df1[\"stop\"][df1[\"stop\"].shape[0]-1] - df1[\"start\"][0]\n",
    "    end = max(df1[\"stop\"][df1[\"stop\"].shape[0]-1], df2[\"stop\"][df2[\"stop\"].shape[0]-1])\n",
    "    start = min(df1[\"start\"][0], df2[\"start\"][0])\n",
    "    series = start - end\n",
    "    for j in range(0, df1[\"start\"].shape[0]):\n",
    "        duration_of_gaze.append((df1[\"stop\"][j] - df1[\"start\"][j])/1000)\n",
    "    for j in range(0, df2[\"start\"].shape[0]):\n",
    "        duration_of_gaze.append((df2[\"stop\"][j] - df2[\"start\"][j])/1000)\n",
    "    "
   ]
  },
  {
   "cell_type": "code",
   "execution_count": 17,
   "metadata": {},
   "outputs": [
    {
     "data": {
      "text/plain": [
       "[<matplotlib.lines.Line2D at 0x21e88c16848>]"
      ]
     },
     "execution_count": 17,
     "metadata": {},
     "output_type": "execute_result"
    },
    {
     "data": {
      "image/png": "[encoded data removed]",
      "text/plain": [
       "<Figure size 432x288 with 1 Axes>"
      ]
     },
     "metadata": {
      "needs_background": "light"
     },
     "output_type": "display_data"
    }
   ],
   "source": [
    "weights = np.ones_like(np.array(duration_of_gaze))/float(len(duration_of_gaze))\n",
    "__ = plt.hist(duration_of_gaze, bins=300, weights=weights)\n",
    "P = ss.expon.fit(duration_of_gaze) # P = [0.0, 3.165292439372325]\n",
    "rX = np.linspace(0,50, 100)\n",
    "rP = ss.expon.pdf(rX, *P)\n",
    "#Yup, just unpack P with *P, instead of scale=XX and shape=XX, etc.\n",
    "plt.plot(rX, rP, \"ro\")"
   ]
  },
  {
   "attachments": {},
   "cell_type": "markdown",
   "metadata": {},
   "source": [
    "# Building statistical model from headsup dataset"
   ]
  },
  {
   "cell_type": "code",
   "execution_count": 19,
   "metadata": {},
   "outputs": [],
   "source": [
    "dataset_location = \"/Users/evanpan/Documents/Datasets/Audio_turn_taking_dataset/\"\n",
    "dataset_location = \"F:/MASC/JALI_neck/data/Audio_turn_taking_dataset/\"\n",
    "gaze_file_20q_name_template = \"gaze/{}_20q_game_direct.xls\"\n",
    "gaze_file_heads_up_name_template = \"gaze/{}_headsup_game_direct.xls\"\n",
    "talking_file_20q_name_template = \"talking/{}_20q_game_talking.xls\"\n",
    "talking_file_heads_up_name_template = \"talking/{}_headsup_game_talking.xls\"\n",
    "\n",
    "gaze_dfs = []\n",
    "talking_dfs = []\n",
    "# read the the 20q dataset\n",
    "for i in range(1, 41):\n",
    "    if i < 10:\n",
    "        str_i = \"0\" + str(i)\n",
    "    else:\n",
    "        str_i = str(i)\n",
    "    gaze_path_i = dataset_location + gaze_file_heads_up_name_template.format(str_i)\n",
    "    talking_path_i = dataset_location + talking_file_heads_up_name_template.format(str_i)\n",
    "    \n",
    "    gaze_df = pd.read_excel(gaze_path_i)\n",
    "    gaze_dfs.append(gaze_df)\n",
    "    talking_df = pd.read_excel(talking_path_i)\n",
    "    talking_dfs.append(talking_df)\n",
    "# process them into a time series\n",
    "gaze_series = []\n",
    "talking_series = []\n",
    "duration_of_gaze = []\n",
    "for i in range(0, 20):\n",
    "    df1 = gaze_dfs[2*i] \n",
    "    df2 = gaze_dfs[2*i+1]\n",
    "    diff = df1[\"stop\"][df1[\"stop\"].shape[0]-1] - df1[\"start\"][0]\n",
    "    end = max(df1[\"stop\"][df1[\"stop\"].shape[0]-1], df2[\"stop\"][df2[\"stop\"].shape[0]-1])\n",
    "    start = min(df1[\"start\"][0], df2[\"start\"][0])\n",
    "    series = start - end\n",
    "    for j in range(0, df1[\"start\"].shape[0]):\n",
    "        duration_of_gaze.append((df1[\"stop\"][j] - df1[\"start\"][j])/1000)\n",
    "    for j in range(0, df2[\"start\"].shape[0]):\n",
    "        duration_of_gaze.append((df2[\"stop\"][j] - df2[\"start\"][j])/1000)\n",
    "    "
   ]
  },
  {
   "cell_type": "code",
   "execution_count": 23,
   "metadata": {},
   "outputs": [
    {
     "name": "stdout",
     "output_type": "stream",
     "text": [
      "(0.0, 2.5441170323928946)\n"
     ]
    },
    {
     "data": {
      "text/plain": [
       "[<matplotlib.lines.Line2D at 0x21e8a351a08>]"
      ]
     },
     "execution_count": 23,
     "metadata": {},
     "output_type": "execute_result"
    },
    {
     "data": {
      "image/png": "[encoded data removed]",
      "text/plain": [
       "<Figure size 432x288 with 1 Axes>"
      ]
     },
     "metadata": {
      "needs_background": "light"
     },
     "output_type": "display_data"
    }
   ],
   "source": [
    "weights = np.ones_like(np.array(duration_of_gaze))/float(len(duration_of_gaze))\n",
    "__ = plt.hist(duration_of_gaze, bins=80, weights=weights)\n",
    "P = ss.expon.fit(duration_of_gaze) # P = (0.0, 2.5441170323928946)\n",
    "print(P)\n",
    "rX = np.linspace(0,25, 100)\n",
    "rP = ss.expon.pdf(rX, *P)\n",
    "#Yup, just unpack P with *P, instead of scale=XX and shape=XX, etc.\n",
    "plt.plot(rX, rP, \"ro\")"
   ]
  },
  {
   "attachments": {},
   "cell_type": "markdown",
   "metadata": {},
   "source": [
    "### Get Probability on Gaze Aversion before speech turn "
   ]
  },
  {
   "cell_type": "code",
   "execution_count": 52,
   "metadata": {},
   "outputs": [],
   "source": [
    "dataset_location = \"/Users/evanpan/Documents/Datasets/Audio_turn_taking_dataset/\"\n",
    "dataset_location = \"F:/MASC/JALI_neck/data/Audio_turn_taking_dataset/\"\n",
    "gaze_file_20q_name_template = \"gaze/{}_20q_game_direct.xls\"\n",
    "gaze_file_heads_up_name_template = \"gaze/{}_headsup_game_direct.xls\"\n",
    "talking_file_20q_name_template = \"talking/{}_20q_game_talking.xls\"\n",
    "talking_file_heads_up_name_template = \"talking/{}_headsup_game_talking.xls\"\n",
    "\n",
    "gaze_dfs = []\n",
    "talking_dfs = []\n",
    "# read the the 20q dataset\n",
    "for i in range(1, 41):\n",
    "    if i < 10:\n",
    "        str_i = \"0\" + str(i)\n",
    "    else:\n",
    "        str_i = str(i)\n",
    "    gaze_path_i = dataset_location + gaze_file_20q_name_template.format(str_i)\n",
    "    talking_path_i = dataset_location + talking_file_20q_name_template.format(str_i)\n",
    "    \n",
    "    gaze_df = pd.read_excel(gaze_path_i)\n",
    "    gaze_dfs.append(gaze_df)\n",
    "    talking_df = pd.read_excel(talking_path_i)\n",
    "    talking_dfs.append(talking_df)\n",
    "    \n",
    "# determine how much turn-ending overlapps with direct gaze\n",
    "threshold = 1\n",
    "probs = []\n",
    "for threshold in [1, 2, 3, 4, 5, 6, 7, 8, 9, 10, 11, 12, 13, 14,15]:\n",
    "    count_end_with_gaze = 0\n",
    "    count_total = 0\n",
    "    for i in range(0, 20):\n",
    "        df_gaze_1 = gaze_dfs[2*i]\n",
    "        df_gaze_2 = gaze_dfs[2*i+1]    \n",
    "        df_talk_1 = talking_dfs[2*i] \n",
    "        df_talk_2 = talking_dfs[2*i+1]\n",
    "        # compute it for speaker 1\n",
    "        for j in range(0, df_talk_1[\"start\"].shape[0]):\n",
    "            df_talk_1_start = df_talk_1[\"start\"][j]/1000\n",
    "            df_talk_1_end = df_talk_1[\"stop\"][j]/1000\n",
    "            # iterate through the gaze list to see if any overlap with the gaze\n",
    "            if df_talk_1_end - df_talk_1_start >= threshold:\n",
    "                count_total = count_total + 1\n",
    "                found = False\n",
    "                for m in range(0, df_gaze_1[\"start\"].shape[0]):\n",
    "                    df_gaze_1_start = df_gaze_1[\"start\"][m]/1000\n",
    "                    df_gaze_1_end = df_gaze_1[\"stop\"][m]/1000\n",
    "                    if df_talk_1_end <= df_gaze_1_end and df_talk_1_end >= df_gaze_1_start:\n",
    "                        found = True\n",
    "                        break\n",
    "                if found:\n",
    "                    count_end_with_gaze = count_end_with_gaze + 1\n",
    "        for j in range(0, df_talk_2[\"start\"].shape[0]):\n",
    "            df_talk_2_start = df_talk_2[\"start\"][j]/1000\n",
    "            df_talk_2_end = df_talk_2[\"stop\"][j]/1000\n",
    "            # iterate through the gaze list to see if any overlap with the gaze\n",
    "            if df_talk_2_end - df_talk_2_start >= threshold:\n",
    "                count_total = count_total + 1\n",
    "                found = False\n",
    "                for m in range(0, df_gaze_2[\"start\"].shape[0]):\n",
    "                    df_gaze_2_start = df_gaze_2[\"start\"][m]/1000\n",
    "                    df_gaze_2_end = df_gaze_2[\"stop\"][m]/1000\n",
    "                    if df_talk_2_end <= df_gaze_2_end and df_talk_2_end >= df_gaze_2_start:\n",
    "                        found = True\n",
    "                        break\n",
    "                if found:\n",
    "                    count_end_with_gaze = count_end_with_gaze + 1\n",
    "    probs.append(count_end_with_gaze / count_total)"
   ]
  },
  {
   "cell_type": "code",
   "execution_count": 53,
   "metadata": {},
   "outputs": [
    {
     "data": {
      "text/plain": [
       "[<matplotlib.lines.Line2D at 0x21e8a62a908>]"
      ]
     },
     "execution_count": 53,
     "metadata": {},
     "output_type": "execute_result"
    },
    {
     "data": {
      "image/png": "[encoded data removed]",
      "text/plain": [
       "<Figure size 432x288 with 1 Axes>"
      ]
     },
     "metadata": {
      "needs_background": "light"
     },
     "output_type": "display_data"
    }
   ],
   "source": [
    "plt.plot([1, 2, 3, 4, 5, 6, 7, 8, 9, 10, 11, 12, 13, 14, 15], probs)"
   ]
  },
  {
   "cell_type": "code",
   "execution_count": 54,
   "metadata": {},
   "outputs": [],
   "source": [
    "dataset_location = \"/Users/evanpan/Documents/Datasets/Audio_turn_taking_dataset/\"\n",
    "dataset_location = \"F:/MASC/JALI_neck/data/Audio_turn_taking_dataset/\"\n",
    "gaze_file_20q_name_template = \"gaze/{}_20q_game_direct.xls\"\n",
    "gaze_file_heads_up_name_template = \"gaze/{}_headsup_game_direct.xls\"\n",
    "talking_file_20q_name_template = \"talking/{}_20q_game_talking.xls\"\n",
    "talking_file_heads_up_name_template = \"talking/{}_headsup_game_talking.xls\"\n",
    "\n",
    "gaze_dfs = []\n",
    "talking_dfs = []\n",
    "# read the the 20q dataset\n",
    "for i in range(1, 41):\n",
    "    if i < 10:\n",
    "        str_i = \"0\" + str(i)\n",
    "    else:\n",
    "        str_i = str(i)\n",
    "    gaze_path_i = dataset_location + gaze_file_20q_name_template.format(str_i)\n",
    "    talking_path_i = dataset_location + talking_file_20q_name_template.format(str_i)\n",
    "    \n",
    "    gaze_df = pd.read_excel(gaze_path_i)\n",
    "    gaze_dfs.append(gaze_df)\n",
    "    talking_df = pd.read_excel(talking_path_i)\n",
    "    talking_dfs.append(talking_df)\n",
    "    \n",
    "# determine how much turn-ending overlapps with direct gaze\n",
    "threshold = 1\n",
    "delay_for_thresh = []\n",
    "for threshold in [1, 2, 3, 4, 5, 6, 7, 8, 9, 10, 11, 12, 13, 14,15]:\n",
    "    delays = []\n",
    "    for i in range(0, 20):\n",
    "        df_gaze_1 = gaze_dfs[2*i]\n",
    "        df_gaze_2 = gaze_dfs[2*i+1]    \n",
    "        df_talk_1 = talking_dfs[2*i] \n",
    "        df_talk_2 = talking_dfs[2*i+1]\n",
    "        # compute it for speaker 1\n",
    "        for j in range(0, df_talk_1[\"start\"].shape[0]):\n",
    "            df_talk_1_start = df_talk_1[\"start\"][j]/1000\n",
    "            df_talk_1_end = df_talk_1[\"stop\"][j]/1000\n",
    "            # iterate through the gaze list to see if any overlap with the gaze\n",
    "            if df_talk_1_end - df_talk_1_start >= threshold:\n",
    "                min_distance = 1000\n",
    "                min_delay = 0\n",
    "                for m in range(0, df_gaze_1[\"start\"].shape[0]):\n",
    "                    df_gaze_1_start = df_gaze_1[\"start\"][m]/1000\n",
    "                    if abs(df_gaze_1_start - df_talk_1_end) < min_distance:\n",
    "                        min_delay = df_gaze_1_start - df_talk_1_end\n",
    "                        min_distance = abs(min_delay) \n",
    "                delays.append(min_delay)\n",
    "        for j in range(0, df_talk_2[\"start\"].shape[0]):\n",
    "            df_talk_2_start = df_talk_2[\"start\"][j]/1000\n",
    "            df_talk_2_end = df_talk_2[\"stop\"][j]/1000\n",
    "            # iterate through the gaze list to see if any overlap with the gaze\n",
    "            if df_talk_2_end - df_talk_2_start >= threshold:\n",
    "                min_distance = 1000\n",
    "                min_delay = 0\n",
    "                for m in range(0, df_gaze_2[\"start\"].shape[0]):\n",
    "                    df_gaze_2_start = df_gaze_2[\"start\"][m]/1000\n",
    "                    if abs(df_gaze_2_start - df_talk_2_end) < min_distance:\n",
    "                        min_delay = df_gaze_2_start - df_talk_2_end\n",
    "                        min_distance = abs(min_delay) \n",
    "                delays.append(min_delay)\n",
    "    delay_for_thresh.append(delays)"
   ]
  },
  {
   "cell_type": "code",
   "execution_count": 58,
   "metadata": {},
   "outputs": [
    {
     "data": {
      "text/plain": [
       "(array([ 1.,  0.,  0.,  0.,  0.,  0.,  0.,  0.,  0.,  0.,  0.,  0.,  0.,\n",
       "         0.,  0.,  0.,  0.,  0.,  0.,  1.,  0.,  0.,  0.,  0.,  0.,  1.,\n",
       "         0.,  0.,  0.,  0.,  0.,  0.,  0.,  0.,  0.,  0.,  0.,  0.,  0.,\n",
       "         0.,  1.,  0.,  0.,  0.,  0.,  0.,  0.,  0.,  0.,  0.,  0.,  0.,\n",
       "         1.,  0.,  0.,  1.,  0.,  0.,  0.,  1.,  0.,  0.,  0.,  0.,  0.,\n",
       "         0.,  0.,  0.,  1.,  2.,  6., 18., 68.,  7.,  1.,  1.,  1.,  0.,\n",
       "         0.,  0.,  0.,  0.,  0.,  0.,  0.,  0.,  0.,  0.,  0.,  0.,  0.,\n",
       "         0.,  0.,  0.,  0.,  0.,  0.,  0.,  0.,  1.]),\n",
       " array([-279.36  , -275.5112, -271.6624, -267.8136, -263.9648, -260.116 ,\n",
       "        -256.2672, -252.4184, -248.5696, -244.7208, -240.872 , -237.0232,\n",
       "        -233.1744, -229.3256, -225.4768, -221.628 , -217.7792, -213.9304,\n",
       "        -210.0816, -206.2328, -202.384 , -198.5352, -194.6864, -190.8376,\n",
       "        -186.9888, -183.14  , -179.2912, -175.4424, -171.5936, -167.7448,\n",
       "        -163.896 , -160.0472, -156.1984, -152.3496, -148.5008, -144.652 ,\n",
       "        -140.8032, -136.9544, -133.1056, -129.2568, -125.408 , -121.5592,\n",
       "        -117.7104, -113.8616, -110.0128, -106.164 , -102.3152,  -98.4664,\n",
       "         -94.6176,  -90.7688,  -86.92  ,  -83.0712,  -79.2224,  -75.3736,\n",
       "         -71.5248,  -67.676 ,  -63.8272,  -59.9784,  -56.1296,  -52.2808,\n",
       "         -48.432 ,  -44.5832,  -40.7344,  -36.8856,  -33.0368,  -29.188 ,\n",
       "         -25.3392,  -21.4904,  -17.6416,  -13.7928,   -9.944 ,   -6.0952,\n",
       "          -2.2464,    1.6024,    5.4512,    9.3   ,   13.1488,   16.9976,\n",
       "          20.8464,   24.6952,   28.544 ,   32.3928,   36.2416,   40.0904,\n",
       "          43.9392,   47.788 ,   51.6368,   55.4856,   59.3344,   63.1832,\n",
       "          67.032 ,   70.8808,   74.7296,   78.5784,   82.4272,   86.276 ,\n",
       "          90.1248,   93.9736,   97.8224,  101.6712,  105.52  ]),\n",
       " <a list of 100 Patch objects>)"
      ]
     },
     "execution_count": 58,
     "metadata": {},
     "output_type": "execute_result"
    },
    {
     "data": {
      "image/png": "[encoded data removed]",
      "text/plain": [
       "<Figure size 432x288 with 1 Axes>"
      ]
     },
     "metadata": {
      "needs_background": "light"
     },
     "output_type": "display_data"
    }
   ],
   "source": [
    "plt.hist(delay_for_thresh[5], bins=100)"
   ]
  },
  {
   "cell_type": "code",
   "execution_count": null,
   "metadata": {},
   "outputs": [],
   "source": []
  }
 ],
 "metadata": {
  "kernelspec": {
   "display_name": "base",
   "language": "python",
   "name": "python3"
  },
  "language_info": {
   "codemirror_mode": {
    "name": "ipython",
    "version": 3
   },
   "file_extension": ".py",
   "mimetype": "text/x-python",
   "name": "python",
   "nbconvert_exporter": "python",
   "pygments_lexer": "ipython3",
   "version": "3.7.6"
  },
  "orig_nbformat": 4,
  "vscode": {
   "interpreter": {
    "hash": "f30880fba9d28c4af44e1c926634316e146c0f35d75b823612f37f0d0a3df597"
   }
  }
 },
 "nbformat": 4,
 "nbformat_minor": 2
}
