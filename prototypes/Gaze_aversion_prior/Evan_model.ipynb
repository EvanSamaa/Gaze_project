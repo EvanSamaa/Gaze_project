{
 "cells": [
  {
   "cell_type": "code",
   "execution_count": 20,
   "metadata": {},
   "outputs": [],
   "source": [
    "import numpy as np\n",
    "import whisper_timestamped\n",
    "import librosa\n",
    "import python_speech_features as psf\n",
    "import os\n",
    "import json"
   ]
  },
  {
   "cell_type": "code",
   "execution_count": 15,
   "metadata": {},
   "outputs": [],
   "source": [
    "# inputs\n",
    "input_folder = \"/scratch/ondemand27/evanpan/data/shot_processed_dataset\"\n",
    "input_file_name = \"_Emma_ Self Tape (2)_0\"\n",
    "temp_folder = \"/scratch/ondemand27/evanpan/data/temp\"\n",
    "whisper_root = \"/scratch/ondemand27/evanpan/data/deep_learning_processed_dataset\"\n",
    "speaker = 0"
   ]
  },
  {
   "cell_type": "code",
   "execution_count": 13,
   "metadata": {},
   "outputs": [],
   "source": [
    "target_fps = 25"
   ]
  },
  {
   "cell_type": "code",
   "execution_count": 26,
   "metadata": {},
   "outputs": [],
   "source": [
    "def find_index(lst, t):\n",
    "    for i in range(0, len(lst)):\n",
    "        if t >= lst[i][0] and t <= lst[i][1]:\n",
    "            return i, lst[i]\n",
    "        elif t <= lst[i][0]:\n",
    "            if i > 0:\n",
    "                return -1, [lst[i-1][1], lst[i][0]]\n",
    "            else:\n",
    "                return -1, [-1, lst[i][0]] # assume the silence started before the current frame\n",
    "        if i == len(lst) - 1:\n",
    "            return -1, [lst[i][1], lst[i][1]+1]  # assume the silence ends after the current frame\n",
    "def generate_word_structure_values(ts, word_list):\n",
    "    if len(word_list) == 0:\n",
    "        output_vector = np.zeros([ts.shape[0], 6])\n",
    "        return output_vector\n",
    "    # generate word embedding per word\n",
    "    sentence_words = []\n",
    "    word_intervals = []\n",
    "    for i in range(0, len(word_list)):\n",
    "        sentence_words.append(word_list[i][\"text\"])\n",
    "        word_intervals.append([word_list[i][\"start\"], word_list[i][\"end\"]])\n",
    "    output_vector = np.zeros([ts.shape[0], 6])\n",
    "    # features\n",
    "    # time since start of word (0 in silence, which means it will start at zero)\n",
    "    # time till end of word (0 in silence as well,)\n",
    "    # length of sentence \n",
    "    # time since start of silence (0 when speaking)\n",
    "    # time till end of silence (0 when speaking)\n",
    "    # length of silence\n",
    "    for i in range(0, ts.shape[0]):\n",
    "        t = ts[i]\n",
    "        index, [start, end] = find_index(word_intervals, t)\n",
    "        if index == -1:\n",
    "            output_vector[i, 3] = t - start\n",
    "            output_vector[i, 4] = t - end\n",
    "            output_vector[i, 5] = start - end\n",
    "        else:\n",
    "            output_vector[i, 0] = t - start\n",
    "            output_vector[i, 1] = t - end\n",
    "            output_vector[i, 2] = start - end\n",
    "    return output_vector\n",
    "def generate_sentence_structure_values_real(ts, sentence_interval):\n",
    "    if len(sentence_interval) == 0:\n",
    "        output_vector = np.zeros([ts.shape[0], 6])\n",
    "        return output_vector\n",
    "    output_vector = np.zeros([ts.shape[0], 6])\n",
    "    # features\n",
    "    # time since start of word (0 in silence, which means it will start at zero)\n",
    "    # time till end of word (0 in silence as well,)\n",
    "    # length of sentence \n",
    "    # time since start of silence (0 when speaking)\n",
    "    # time till end of silence (0 when speaking)\n",
    "    # length of silence\n",
    "    for i in range(0, ts.shape[0]):\n",
    "        t = ts[i]\n",
    "        index, [start, end] = find_index(sentence_interval, t)\n",
    "        if index == -1:\n",
    "            output_vector[i, 3] = t - start\n",
    "            output_vector[i, 4] = t - end\n",
    "            output_vector[i, 5] = start - end\n",
    "        else:\n",
    "            output_vector[i, 0] = t - start\n",
    "            output_vector[i, 1] = t - end\n",
    "            output_vector[i, 2] = start - end\n",
    "    return output_vector\n",
    "\n",
    "def parse_for_sentence_intervals(transcript, threshold=0.56):\n",
    "    if len(transcript) == 0:\n",
    "        return [], []\n",
    "    sentence_intervals = [] # this is used to only store [[start, end]]\n",
    "    sentence_words = [] # this is used to store [[all words of sentence]]\n",
    "    current_sentence = [transcript[0]]\n",
    "    for i in range(1, len(transcript)):\n",
    "        word = transcript[i][\"text\"]\n",
    "        start = transcript[i][\"start\"]\n",
    "        end = transcript[i][\"end\"]\n",
    "        if start - current_sentence[-1][\"end\"] >= threshold:\n",
    "            sentence_words.append(current_sentence)\n",
    "            sentence_intervals.append([current_sentence[0][\"start\"], current_sentence[-1][\"end\"]])\n",
    "            current_sentence = [transcript[i]]\n",
    "        else:\n",
    "            current_sentence.append(transcript[i])\n",
    "    return sentence_intervals, sentence_words\n",
    "\n"
   ]
  },
  {
   "cell_type": "code",
   "execution_count": 34,
   "metadata": {},
   "outputs": [
    {
     "name": "stderr",
     "output_type": "stream",
     "text": [
      "100%|██████████| 5324/5324 [00:04<00:00, 1296.96frames/s]\n",
      "100%|██████████| 9193/9193 [00:04<00:00, 2211.76frames/s]\n"
     ]
    }
   ],
   "source": [
    "# get input paths\n",
    "audio_path_self = os.path.join(*[input_folder, \"audio\", input_file_name+\"_{}.wav\".format(speaker)])\n",
    "audio_path_other = os.path.join(*[input_folder, \"audio\", input_file_name+\"_{}.wav\".format(1-speaker)])\n",
    "# output paths\n",
    "word_output_path = os.path.join(*[temp_folder, input_file_name+\"_transcript.json\"])\n",
    "processed_input_vector_self_path = os.path.join(*[temp_folder, input_file_name+\"_input_feature_self.npy\"])\n",
    "processed_input_vector_other_path = os.path.join(*[temp_folder, input_file_name+\"_input_feature_other.npy\"])\n",
    "\n",
    "# get the raw transcript prediction\n",
    "model_word = whisper_timestamped.load_model(\"base.en\", download_root=os.path.join(whisper_root, \"whisper\"))\n",
    "raw_word_predictions_self = whisper_timestamped.transcribe(model_word, audio_path_self, beam_size=5, best_of=5, temperature=(0.0, 0.2, 0.4, 0.6, 0.8, 1.0), vad=True)\n",
    "raw_word_predictions_other = whisper_timestamped.transcribe(model_word, audio_path_other, beam_size=5, best_of=5, temperature=(0.0, 0.2, 0.4, 0.6, 0.8, 1.0), vad=True)\n",
    "# generate the json file containing word timing\n",
    "word_alignment_self = []\n",
    "for s in range(0,len(raw_word_predictions_self[\"segments\"])):\n",
    "    word_alignment_self = word_alignment_self + raw_word_predictions_self[\"segments\"][s][\"words\"]\n",
    "word_alignment_other = []\n",
    "for s in range(0,len(raw_word_predictions_other[\"segments\"])):\n",
    "    word_alignment_other = word_alignment_self + raw_word_predictions_other[\"segments\"][s][\"words\"]\n",
    "\n",
    "trascript_json = {\"self\":word_alignment_self, \"other\":word_alignment_other}\n",
    "json.dump(trascript_json, open(word_output_path, \"w\")) "
   ]
  },
  {
   "cell_type": "code",
   "execution_count": 35,
   "metadata": {},
   "outputs": [],
   "source": [
    "# get audio information\n",
    "audio_self, sr = librosa.load(audio_path_self)\n",
    "audio_other, sr = librosa.load(audio_path_other)\n",
    "# padding these so we don't lose any frames (we are padding \n",
    "# half a window of the windowed functionss)\n",
    "audio_self = np.pad(audio_self, ((int(0.02 * sr), int(0.02 * sr))))\n",
    "audio_other = np.pad(audio_other, ((int(0.02 * sr), int(0.02 * sr))))\n",
    "# generate the audio features for speaker 2\n",
    "mfcc_a0 = psf.mfcc(audio_self, samplerate=sr, winlen=0.08, winstep=0.04, nfft=2048, numcep=13)\n",
    "logfbank_a0 = psf.logfbank(audio_self, samplerate=sr, winlen=0.08, winstep=0.04, nfft=2048, nfilt=26)\n",
    "ssc_feat_a0 = psf.logfbank(audio_self, samplerate=sr, winlen=0.08, winstep=0.04, nfft=2048, nfilt=26)\n",
    "full_feat_self = np.concatenate([mfcc_a0, logfbank_a0, ssc_feat_a0], axis=1)\n",
    "# generate the audio features for speaker 1\n",
    "mfcc_a1 = psf.mfcc(audio_other, samplerate=sr, winlen=0.08, winstep=0.04, nfft=2048, numcep=13)\n",
    "logfbank_a1 = psf.logfbank(audio_other, samplerate=sr, winlen=0.08, winstep=0.04, nfft=2048, nfilt=26)\n",
    "ssc_feat_a1 = psf.logfbank(audio_other, samplerate=sr, winlen=0.08, winstep=0.04, nfft=2048, nfilt=26)\n",
    "full_feat_other = np.concatenate([mfcc_a1, logfbank_a1, ssc_feat_a1], axis=1)"
   ]
  },
  {
   "cell_type": "code",
   "execution_count": 36,
   "metadata": {},
   "outputs": [],
   "source": [
    "words = json.load(open(word_output_path, \"r\"))\n",
    "self_text = words[\"self\"]\n",
    "other_text = words[\"other\"]\n",
    "\n",
    "ts_target = np.arange(0, full_feat_other.shape[0]) / target_fps\n",
    "# get word vector\n",
    "word_structure_feature_self = generate_word_structure_values(ts_target, self_text)\n",
    "word_structure_feature_other = generate_word_structure_values(ts_target, other_text)\n",
    "# get the sentence vector\n",
    "interval_of_sentences_self, ___ = parse_for_sentence_intervals(self_text, 0.56)\n",
    "interval_of_sentences_other, ___ = parse_for_sentence_intervals(other_text, 0.56)\n",
    "sentence_structure_feature_self = generate_sentence_structure_values_real(ts_target, interval_of_sentences_self)\n",
    "sentence_structure_feature_other = generate_sentence_structure_values_real(ts_target, interval_of_sentences_other)"
   ]
  },
  {
   "cell_type": "code",
   "execution_count": 38,
   "metadata": {},
   "outputs": [
    {
     "ename": "TypeError",
     "evalue": "expected str, bytes or os.PathLike object, not ndarray",
     "output_type": "error",
     "traceback": [
      "\u001b[0;31m---------------------------------------------------------------------------\u001b[0m",
      "\u001b[0;31mTypeError\u001b[0m                                 Traceback (most recent call last)",
      "Cell \u001b[0;32mIn[38], line 5\u001b[0m\n\u001b[1;32m      3\u001b[0m output_feature_self \u001b[39m=\u001b[39m np\u001b[39m.\u001b[39mconcatenate([output_feature_just_self, output_feature_just_self])\n\u001b[1;32m      4\u001b[0m output_feature_other \u001b[39m=\u001b[39m np\u001b[39m.\u001b[39mconcatenate([output_feature_just_self, output_feature_just_self])\n\u001b[0;32m----> 5\u001b[0m np\u001b[39m.\u001b[39;49msave(output_feature_self, processed_input_vector_self_path)\n\u001b[1;32m      6\u001b[0m np\u001b[39m.\u001b[39msave(output_feature_other, processed_input_vector_other_path)\n",
      "File \u001b[0;32m<__array_function__ internals>:180\u001b[0m, in \u001b[0;36msave\u001b[0;34m(*args, **kwargs)\u001b[0m\n",
      "File \u001b[0;32m/scratch/ondemand27/evanpan/conda_env/.conda/envs/jaligaze/lib/python3.10/site-packages/numpy/lib/npyio.py:515\u001b[0m, in \u001b[0;36msave\u001b[0;34m(file, arr, allow_pickle, fix_imports)\u001b[0m\n\u001b[1;32m    513\u001b[0m     file_ctx \u001b[39m=\u001b[39m contextlib\u001b[39m.\u001b[39mnullcontext(file)\n\u001b[1;32m    514\u001b[0m \u001b[39melse\u001b[39;00m:\n\u001b[0;32m--> 515\u001b[0m     file \u001b[39m=\u001b[39m os_fspath(file)\n\u001b[1;32m    516\u001b[0m     \u001b[39mif\u001b[39;00m \u001b[39mnot\u001b[39;00m file\u001b[39m.\u001b[39mendswith(\u001b[39m'\u001b[39m\u001b[39m.npy\u001b[39m\u001b[39m'\u001b[39m):\n\u001b[1;32m    517\u001b[0m         file \u001b[39m=\u001b[39m file \u001b[39m+\u001b[39m \u001b[39m'\u001b[39m\u001b[39m.npy\u001b[39m\u001b[39m'\u001b[39m\n",
      "\u001b[0;31mTypeError\u001b[0m: expected str, bytes or os.PathLike object, not ndarray"
     ]
    }
   ],
   "source": [
    "output_feature_just_self = np.concatenate([full_feat_self, word_structure_feature_self, sentence_structure_feature_self], axis=1)\n",
    "output_feature_just_other = np.concatenate([full_feat_other, word_structure_feature_other, sentence_structure_feature_other], axis=1)\n",
    "output_feature_self = np.concatenate([output_feature_just_self, output_feature_just_self])\n",
    "output_feature_other = np.concatenate([output_feature_just_self, output_feature_just_self])\n",
    "np.save(processed_input_vector_self_path, output_feature_self)\n",
    "np.save(processed_input_vector_other_path, output_feature_other)"
   ]
  },
  {
   "cell_type": "code",
   "execution_count": null,
   "metadata": {},
   "outputs": [],
   "source": []
  }
 ],
 "metadata": {
  "kernelspec": {
   "display_name": "jaligaze",
   "language": "python",
   "name": "python3"
  },
  "language_info": {
   "codemirror_mode": {
    "name": "ipython",
    "version": 3
   },
   "file_extension": ".py",
   "mimetype": "text/x-python",
   "name": "python",
   "nbconvert_exporter": "python",
   "pygments_lexer": "ipython3",
   "version": "3.10.10"
  },
  "orig_nbformat": 4
 },
 "nbformat": 4,
 "nbformat_minor": 2
}
